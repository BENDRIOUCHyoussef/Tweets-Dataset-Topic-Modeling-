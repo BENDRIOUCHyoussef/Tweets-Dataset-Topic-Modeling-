{
 "cells": [
  {
   "cell_type": "code",
   "execution_count": 2,
   "id": "8a9bc1e3",
   "metadata": {},
   "outputs": [],
   "source": [
    "import pandas as pd\n",
    "import numpy as np\n",
    "import matplotlib.pyplot as plt\n",
    "import seaborn as sns"
   ]
  },
  {
   "cell_type": "code",
   "execution_count": 3,
   "id": "5a23f0c6",
   "metadata": {},
   "outputs": [
    {
     "name": "stderr",
     "output_type": "stream",
     "text": [
      "C:\\Users\\rcuza\\anaconda3\\lib\\site-packages\\openpyxl\\worksheet\\_reader.py:312: UserWarning: Unknown extension is not supported and will be removed\n",
      "  warn(msg)\n"
     ]
    }
   ],
   "source": [
    "# Read Twitter Dataset \n",
    "df = pd.read_excel(\"TwitterDataset.xlsx\", header=0)"
   ]
  },
  {
   "cell_type": "code",
   "execution_count": 4,
   "id": "e4814aa3",
   "metadata": {},
   "outputs": [
    {
     "data": {
      "text/html": [
       "<div>\n",
       "<style scoped>\n",
       "    .dataframe tbody tr th:only-of-type {\n",
       "        vertical-align: middle;\n",
       "    }\n",
       "\n",
       "    .dataframe tbody tr th {\n",
       "        vertical-align: top;\n",
       "    }\n",
       "\n",
       "    .dataframe thead th {\n",
       "        text-align: right;\n",
       "    }\n",
       "</style>\n",
       "<table border=\"1\" class=\"dataframe\">\n",
       "  <thead>\n",
       "    <tr style=\"text-align: right;\">\n",
       "      <th></th>\n",
       "      <th>Tweet Id</th>\n",
       "      <th>Date</th>\n",
       "      <th>Hour</th>\n",
       "      <th>User Name</th>\n",
       "      <th>Nickname</th>\n",
       "      <th>Tweet content</th>\n",
       "      <th>Favs</th>\n",
       "      <th>RTs</th>\n",
       "      <th>Latitude</th>\n",
       "      <th>Longitude</th>\n",
       "      <th>Followers</th>\n",
       "    </tr>\n",
       "  </thead>\n",
       "  <tbody>\n",
       "    <tr>\n",
       "      <th>0</th>\n",
       "      <td>721318437075685382</td>\n",
       "      <td>2016-04-16</td>\n",
       "      <td>12:44</td>\n",
       "      <td>Bill Schulhoff</td>\n",
       "      <td>BillSchulhoff</td>\n",
       "      <td>Wind 3.2 mph NNE. Barometer 30.20 in, Rising s...</td>\n",
       "      <td>NaN</td>\n",
       "      <td>NaN</td>\n",
       "      <td>40.760278</td>\n",
       "      <td>-72.954722</td>\n",
       "      <td>386.0</td>\n",
       "    </tr>\n",
       "    <tr>\n",
       "      <th>1</th>\n",
       "      <td>721318436173979648</td>\n",
       "      <td>2016-04-16</td>\n",
       "      <td>12:44</td>\n",
       "      <td>Daniele Polis</td>\n",
       "      <td>danipolis</td>\n",
       "      <td>Pausa pro café antes de embarcar no próximo vô...</td>\n",
       "      <td>NaN</td>\n",
       "      <td>NaN</td>\n",
       "      <td>32.898349</td>\n",
       "      <td>-97.039196</td>\n",
       "      <td>812.0</td>\n",
       "    </tr>\n",
       "  </tbody>\n",
       "</table>\n",
       "</div>"
      ],
      "text/plain": [
       "             Tweet Id        Date   Hour       User Name       Nickname  \\\n",
       "0  721318437075685382  2016-04-16  12:44  Bill Schulhoff  BillSchulhoff   \n",
       "1  721318436173979648  2016-04-16  12:44   Daniele Polis      danipolis   \n",
       "\n",
       "                                       Tweet content  Favs  RTs   Latitude  \\\n",
       "0  Wind 3.2 mph NNE. Barometer 30.20 in, Rising s...   NaN  NaN  40.760278   \n",
       "1  Pausa pro café antes de embarcar no próximo vô...   NaN  NaN  32.898349   \n",
       "\n",
       "   Longitude  Followers  \n",
       "0 -72.954722      386.0  \n",
       "1 -97.039196      812.0  "
      ]
     },
     "execution_count": 4,
     "metadata": {},
     "output_type": "execute_result"
    }
   ],
   "source": [
    "df.head(2)"
   ]
  },
  {
   "cell_type": "code",
   "execution_count": 5,
   "id": "49e53593",
   "metadata": {},
   "outputs": [
    {
     "data": {
      "text/plain": [
       "Index(['Tweet Id', 'Date', 'Hour', 'User Name', 'Nickname', 'Tweet content',\n",
       "       'Favs', 'RTs', 'Latitude', 'Longitude', 'Followers'],\n",
       "      dtype='object')"
      ]
     },
     "execution_count": 5,
     "metadata": {},
     "output_type": "execute_result"
    }
   ],
   "source": [
    "df.columns"
   ]
  },
  {
   "cell_type": "code",
   "execution_count": 5,
   "id": "32c8e565",
   "metadata": {},
   "outputs": [
    {
     "data": {
      "text/html": [
       "<div>\n",
       "<style scoped>\n",
       "    .dataframe tbody tr th:only-of-type {\n",
       "        vertical-align: middle;\n",
       "    }\n",
       "\n",
       "    .dataframe tbody tr th {\n",
       "        vertical-align: top;\n",
       "    }\n",
       "\n",
       "    .dataframe thead th {\n",
       "        text-align: right;\n",
       "    }\n",
       "</style>\n",
       "<table border=\"1\" class=\"dataframe\">\n",
       "  <thead>\n",
       "    <tr style=\"text-align: right;\">\n",
       "      <th></th>\n",
       "      <th>Tweet Id</th>\n",
       "      <th>Favs</th>\n",
       "      <th>RTs</th>\n",
       "      <th>Latitude</th>\n",
       "      <th>Longitude</th>\n",
       "      <th>Followers</th>\n",
       "    </tr>\n",
       "  </thead>\n",
       "  <tbody>\n",
       "    <tr>\n",
       "      <th>count</th>\n",
       "      <td>2.048200e+05</td>\n",
       "      <td>9201.000000</td>\n",
       "      <td>5216.000000</td>\n",
       "      <td>204820.000000</td>\n",
       "      <td>204820.000000</td>\n",
       "      <td>2.047590e+05</td>\n",
       "    </tr>\n",
       "    <tr>\n",
       "      <th>mean</th>\n",
       "      <td>7.209641e+17</td>\n",
       "      <td>3.320291</td>\n",
       "      <td>2.374041</td>\n",
       "      <td>35.396519</td>\n",
       "      <td>-92.227365</td>\n",
       "      <td>2.802942e+03</td>\n",
       "    </tr>\n",
       "    <tr>\n",
       "      <th>std</th>\n",
       "      <td>2.072648e+14</td>\n",
       "      <td>44.456702</td>\n",
       "      <td>14.774452</td>\n",
       "      <td>6.607677</td>\n",
       "      <td>15.682689</td>\n",
       "      <td>4.621677e+04</td>\n",
       "    </tr>\n",
       "    <tr>\n",
       "      <th>min</th>\n",
       "      <td>7.205534e+17</td>\n",
       "      <td>1.000000</td>\n",
       "      <td>1.000000</td>\n",
       "      <td>19.108833</td>\n",
       "      <td>-123.068036</td>\n",
       "      <td>1.000000e+00</td>\n",
       "    </tr>\n",
       "    <tr>\n",
       "      <th>25%</th>\n",
       "      <td>7.207378e+17</td>\n",
       "      <td>1.000000</td>\n",
       "      <td>1.000000</td>\n",
       "      <td>32.713047</td>\n",
       "      <td>-100.380145</td>\n",
       "      <td>2.060000e+02</td>\n",
       "    </tr>\n",
       "    <tr>\n",
       "      <th>50%</th>\n",
       "      <td>7.210187e+17</td>\n",
       "      <td>1.000000</td>\n",
       "      <td>1.000000</td>\n",
       "      <td>36.389598</td>\n",
       "      <td>-87.684400</td>\n",
       "      <td>4.020000e+02</td>\n",
       "    </tr>\n",
       "    <tr>\n",
       "      <th>75%</th>\n",
       "      <td>7.211378e+17</td>\n",
       "      <td>1.000000</td>\n",
       "      <td>2.000000</td>\n",
       "      <td>40.707407</td>\n",
       "      <td>-79.777848</td>\n",
       "      <td>7.920000e+02</td>\n",
       "    </tr>\n",
       "    <tr>\n",
       "      <th>max</th>\n",
       "      <td>7.213184e+17</td>\n",
       "      <td>2089.000000</td>\n",
       "      <td>499.000000</td>\n",
       "      <td>54.637280</td>\n",
       "      <td>-69.003128</td>\n",
       "      <td>7.232508e+06</td>\n",
       "    </tr>\n",
       "  </tbody>\n",
       "</table>\n",
       "</div>"
      ],
      "text/plain": [
       "           Tweet Id         Favs          RTs       Latitude      Longitude  \\\n",
       "count  2.048200e+05  9201.000000  5216.000000  204820.000000  204820.000000   \n",
       "mean   7.209641e+17     3.320291     2.374041      35.396519     -92.227365   \n",
       "std    2.072648e+14    44.456702    14.774452       6.607677      15.682689   \n",
       "min    7.205534e+17     1.000000     1.000000      19.108833    -123.068036   \n",
       "25%    7.207378e+17     1.000000     1.000000      32.713047    -100.380145   \n",
       "50%    7.210187e+17     1.000000     1.000000      36.389598     -87.684400   \n",
       "75%    7.211378e+17     1.000000     2.000000      40.707407     -79.777848   \n",
       "max    7.213184e+17  2089.000000   499.000000      54.637280     -69.003128   \n",
       "\n",
       "          Followers  \n",
       "count  2.047590e+05  \n",
       "mean   2.802942e+03  \n",
       "std    4.621677e+04  \n",
       "min    1.000000e+00  \n",
       "25%    2.060000e+02  \n",
       "50%    4.020000e+02  \n",
       "75%    7.920000e+02  \n",
       "max    7.232508e+06  "
      ]
     },
     "execution_count": 5,
     "metadata": {},
     "output_type": "execute_result"
    }
   ],
   "source": [
    "df.describe()"
   ]
  },
  {
   "cell_type": "code",
   "execution_count": null,
   "id": "7fc0de7e",
   "metadata": {},
   "outputs": [],
   "source": []
  },
  {
   "cell_type": "code",
   "execution_count": null,
   "id": "9a5441e4",
   "metadata": {},
   "outputs": [],
   "source": []
  },
  {
   "cell_type": "markdown",
   "id": "e459e11c",
   "metadata": {
    "tags": []
   },
   "source": [
    "## T1: Statistic Analysis and Data Visualization:"
   ]
  },
  {
   "cell_type": "markdown",
   "id": "60980131",
   "metadata": {
    "jp-MarkdownHeadingCollapsed": true,
    "tags": []
   },
   "source": [
    "### T1-1: Find the top 10 tweets. Tweets should be ranked based on the sum of (1) number of users who like the tweet (Favs), and (2) number of users who re-tweet the tweet (RTs).\n"
   ]
  },
  {
   "cell_type": "code",
   "execution_count": 6,
   "id": "bfcecab9",
   "metadata": {},
   "outputs": [],
   "source": [
    "# create a subset\n",
    "df1 = df[[\"Tweet Id\",\"Favs\",\"RTs\"]]"
   ]
  },
  {
   "cell_type": "code",
   "execution_count": 15,
   "id": "f7f0d700",
   "metadata": {
    "scrolled": true
   },
   "outputs": [
    {
     "data": {
      "text/html": [
       "<div>\n",
       "<style scoped>\n",
       "    .dataframe tbody tr th:only-of-type {\n",
       "        vertical-align: middle;\n",
       "    }\n",
       "\n",
       "    .dataframe tbody tr th {\n",
       "        vertical-align: top;\n",
       "    }\n",
       "\n",
       "    .dataframe thead th {\n",
       "        text-align: right;\n",
       "    }\n",
       "</style>\n",
       "<table border=\"1\" class=\"dataframe\">\n",
       "  <thead>\n",
       "    <tr style=\"text-align: right;\">\n",
       "      <th></th>\n",
       "      <th>Tweet Id</th>\n",
       "      <th>Favs</th>\n",
       "      <th>RTs</th>\n",
       "    </tr>\n",
       "  </thead>\n",
       "  <tbody>\n",
       "    <tr>\n",
       "      <th>0</th>\n",
       "      <td>721318437075685382</td>\n",
       "      <td>NaN</td>\n",
       "      <td>NaN</td>\n",
       "    </tr>\n",
       "    <tr>\n",
       "      <th>1</th>\n",
       "      <td>721318436173979648</td>\n",
       "      <td>NaN</td>\n",
       "      <td>NaN</td>\n",
       "    </tr>\n",
       "  </tbody>\n",
       "</table>\n",
       "</div>"
      ],
      "text/plain": [
       "             Tweet Id  Favs  RTs\n",
       "0  721318437075685382   NaN  NaN\n",
       "1  721318436173979648   NaN  NaN"
      ]
     },
     "execution_count": 15,
     "metadata": {},
     "output_type": "execute_result"
    }
   ],
   "source": [
    "df1.head(2)"
   ]
  },
  {
   "cell_type": "code",
   "execution_count": 7,
   "id": "9b9549ef",
   "metadata": {},
   "outputs": [],
   "source": [
    "# Sort rows\n",
    "df1_sorted = df1.sort_values('Favs', ascending=False)"
   ]
  },
  {
   "cell_type": "code",
   "execution_count": 8,
   "id": "4dca65a8",
   "metadata": {},
   "outputs": [],
   "source": [
    "# take the top 10 tweets:\n",
    "df1_sorted = df1_sorted.head(10)"
   ]
  },
  {
   "cell_type": "code",
   "execution_count": 9,
   "id": "c2eb0b84",
   "metadata": {},
   "outputs": [
    {
     "data": {
      "text/html": [
       "<div>\n",
       "<style scoped>\n",
       "    .dataframe tbody tr th:only-of-type {\n",
       "        vertical-align: middle;\n",
       "    }\n",
       "\n",
       "    .dataframe tbody tr th {\n",
       "        vertical-align: top;\n",
       "    }\n",
       "\n",
       "    .dataframe thead th {\n",
       "        text-align: right;\n",
       "    }\n",
       "</style>\n",
       "<table border=\"1\" class=\"dataframe\">\n",
       "  <thead>\n",
       "    <tr style=\"text-align: right;\">\n",
       "      <th></th>\n",
       "      <th>Tweet Id</th>\n",
       "      <th>Favs</th>\n",
       "      <th>RTs</th>\n",
       "    </tr>\n",
       "  </thead>\n",
       "  <tbody>\n",
       "    <tr>\n",
       "      <th>27885</th>\n",
       "      <td>721167832923443200</td>\n",
       "      <td>2089.0</td>\n",
       "      <td>449.0</td>\n",
       "    </tr>\n",
       "    <tr>\n",
       "      <th>66398</th>\n",
       "      <td>721120295143239687</td>\n",
       "      <td>2006.0</td>\n",
       "      <td>425.0</td>\n",
       "    </tr>\n",
       "    <tr>\n",
       "      <th>157068</th>\n",
       "      <td>720732972433993728</td>\n",
       "      <td>1847.0</td>\n",
       "      <td>426.0</td>\n",
       "    </tr>\n",
       "    <tr>\n",
       "      <th>116629</th>\n",
       "      <td>721003913734918144</td>\n",
       "      <td>1576.0</td>\n",
       "      <td>373.0</td>\n",
       "    </tr>\n",
       "    <tr>\n",
       "      <th>121716</th>\n",
       "      <td>720981520425594882</td>\n",
       "      <td>1550.0</td>\n",
       "      <td>313.0</td>\n",
       "    </tr>\n",
       "    <tr>\n",
       "      <th>54940</th>\n",
       "      <td>721133353911488512</td>\n",
       "      <td>853.0</td>\n",
       "      <td>499.0</td>\n",
       "    </tr>\n",
       "    <tr>\n",
       "      <th>95185</th>\n",
       "      <td>721025968278609920</td>\n",
       "      <td>477.0</td>\n",
       "      <td>103.0</td>\n",
       "    </tr>\n",
       "    <tr>\n",
       "      <th>203566</th>\n",
       "      <td>720561387030867968</td>\n",
       "      <td>356.0</td>\n",
       "      <td>70.0</td>\n",
       "    </tr>\n",
       "    <tr>\n",
       "      <th>37377</th>\n",
       "      <td>721154718161051648</td>\n",
       "      <td>243.0</td>\n",
       "      <td>153.0</td>\n",
       "    </tr>\n",
       "    <tr>\n",
       "      <th>48524</th>\n",
       "      <td>721140633197350912</td>\n",
       "      <td>237.0</td>\n",
       "      <td>100.0</td>\n",
       "    </tr>\n",
       "  </tbody>\n",
       "</table>\n",
       "</div>"
      ],
      "text/plain": [
       "                  Tweet Id    Favs    RTs\n",
       "27885   721167832923443200  2089.0  449.0\n",
       "66398   721120295143239687  2006.0  425.0\n",
       "157068  720732972433993728  1847.0  426.0\n",
       "116629  721003913734918144  1576.0  373.0\n",
       "121716  720981520425594882  1550.0  313.0\n",
       "54940   721133353911488512   853.0  499.0\n",
       "95185   721025968278609920   477.0  103.0\n",
       "203566  720561387030867968   356.0   70.0\n",
       "37377   721154718161051648   243.0  153.0\n",
       "48524   721140633197350912   237.0  100.0"
      ]
     },
     "execution_count": 9,
     "metadata": {},
     "output_type": "execute_result"
    }
   ],
   "source": [
    "# Show the top 10 tweets:\n",
    "df1_sorted"
   ]
  },
  {
   "cell_type": "markdown",
   "id": "0f4a2a5a",
   "metadata": {
    "jp-MarkdownHeadingCollapsed": true,
    "tags": []
   },
   "source": [
    "##### Plot:"
   ]
  },
  {
   "cell_type": "code",
   "execution_count": 11,
   "id": "d475943c",
   "metadata": {},
   "outputs": [
    {
     "data": {
      "image/png": "[encoded data removed]",
      "text/plain": [
       "<Figure size 1080x432 with 1 Axes>"
      ]
     },
     "metadata": {
      "needs_background": "light"
     },
     "output_type": "display_data"
    }
   ],
   "source": [
    "# Visualize\n",
    "x = np.arange(len(df1_sorted['Tweet Id']))  # the label locations\n",
    "width = 0.35  # the width of the bars\n",
    "\n",
    "fig, ax = plt.subplots(figsize=(15,6))\n",
    "rects1 = ax.bar(x - width/2, df1_sorted.Favs, width, label='Favs', color = \"orange\")\n",
    "rects2 = ax.bar(x + width/2, df1_sorted.RTs, width, label='RTs', color = \"steelblue\")\n",
    "\n",
    "# Add some text for labels, title and custom x-axis tick labels, etc.\n",
    "ax.set_ylabel('Count')\n",
    "ax.set_title('Top 10 Tweets based on Favs and RTs', fontsize=25)\n",
    "ax.set_xticks(x, df1_sorted[\"Tweet Id\"])\n",
    "ax.legend()\n",
    "\n",
    "ax.bar_label(rects1, padding=3)\n",
    "ax.bar_label(rects2, padding=3)\n",
    "\n",
    "plt.xticks(rotation=45, ha = 'right')\n",
    "\n",
    "fig.tight_layout()\n",
    "\n",
    "plt.show()"
   ]
  },
  {
   "cell_type": "code",
   "execution_count": null,
   "id": "81f46149",
   "metadata": {},
   "outputs": [],
   "source": []
  },
  {
   "cell_type": "markdown",
   "id": "8a28a0c3",
   "metadata": {
    "jp-MarkdownHeadingCollapsed": true,
    "tags": []
   },
   "source": [
    "### T1-2: Find the top 10 users. Users should be ranked based on the number of followers that they have."
   ]
  },
  {
   "cell_type": "code",
   "execution_count": 12,
   "id": "46b1c2bb",
   "metadata": {},
   "outputs": [
    {
     "data": {
      "text/plain": [
       "Index(['Tweet Id', 'Date', 'Hour', 'User Name', 'Nickname', 'Tweet content',\n",
       "       'Favs', 'RTs', 'Latitude', 'Longitude', 'Followers'],\n",
       "      dtype='object')"
      ]
     },
     "execution_count": 12,
     "metadata": {},
     "output_type": "execute_result"
    }
   ],
   "source": [
    "df.columns"
   ]
  },
  {
   "cell_type": "code",
   "execution_count": 13,
   "id": "2e820452",
   "metadata": {},
   "outputs": [
    {
     "data": {
      "text/plain": [
       "85602"
      ]
     },
     "execution_count": 13,
     "metadata": {},
     "output_type": "execute_result"
    }
   ],
   "source": [
    "df[\"Nickname\"].nunique()"
   ]
  },
  {
   "cell_type": "code",
   "execution_count": 14,
   "id": "b0af7446",
   "metadata": {},
   "outputs": [
    {
     "data": {
      "text/plain": [
       "204820"
      ]
     },
     "execution_count": 14,
     "metadata": {},
     "output_type": "execute_result"
    }
   ],
   "source": [
    "df[\"Nickname\"].count()"
   ]
  },
  {
   "cell_type": "code",
   "execution_count": 15,
   "id": "78a56133",
   "metadata": {},
   "outputs": [],
   "source": [
    "# create a subset\n",
    "df2 = df[[\"Nickname\",\"Followers\"]]"
   ]
  },
  {
   "cell_type": "code",
   "execution_count": 16,
   "id": "afb327f5",
   "metadata": {},
   "outputs": [
    {
     "data": {
      "text/html": [
       "<div>\n",
       "<style scoped>\n",
       "    .dataframe tbody tr th:only-of-type {\n",
       "        vertical-align: middle;\n",
       "    }\n",
       "\n",
       "    .dataframe tbody tr th {\n",
       "        vertical-align: top;\n",
       "    }\n",
       "\n",
       "    .dataframe thead th {\n",
       "        text-align: right;\n",
       "    }\n",
       "</style>\n",
       "<table border=\"1\" class=\"dataframe\">\n",
       "  <thead>\n",
       "    <tr style=\"text-align: right;\">\n",
       "      <th></th>\n",
       "      <th>Nickname</th>\n",
       "      <th>Followers</th>\n",
       "    </tr>\n",
       "  </thead>\n",
       "  <tbody>\n",
       "    <tr>\n",
       "      <th>0</th>\n",
       "      <td>BillSchulhoff</td>\n",
       "      <td>386.0</td>\n",
       "    </tr>\n",
       "    <tr>\n",
       "      <th>1</th>\n",
       "      <td>danipolis</td>\n",
       "      <td>812.0</td>\n",
       "    </tr>\n",
       "    <tr>\n",
       "      <th>2</th>\n",
       "      <td>KJacobs27</td>\n",
       "      <td>179.0</td>\n",
       "    </tr>\n",
       "    <tr>\n",
       "      <th>3</th>\n",
       "      <td>stncurtis</td>\n",
       "      <td>1229.0</td>\n",
       "    </tr>\n",
       "    <tr>\n",
       "      <th>4</th>\n",
       "      <td>wi_borzo</td>\n",
       "      <td>129.0</td>\n",
       "    </tr>\n",
       "    <tr>\n",
       "      <th>5</th>\n",
       "      <td>KirstinMerrell</td>\n",
       "      <td>497.0</td>\n",
       "    </tr>\n",
       "    <tr>\n",
       "      <th>6</th>\n",
       "      <td>Jkosches86</td>\n",
       "      <td>37.0</td>\n",
       "    </tr>\n",
       "    <tr>\n",
       "      <th>7</th>\n",
       "      <td>tmj_pa_retail</td>\n",
       "      <td>480.0</td>\n",
       "    </tr>\n",
       "    <tr>\n",
       "      <th>8</th>\n",
       "      <td>Vonfandango</td>\n",
       "      <td>36.0</td>\n",
       "    </tr>\n",
       "    <tr>\n",
       "      <th>9</th>\n",
       "      <td>tmj_bal_jobs</td>\n",
       "      <td>635.0</td>\n",
       "    </tr>\n",
       "  </tbody>\n",
       "</table>\n",
       "</div>"
      ],
      "text/plain": [
       "         Nickname  Followers\n",
       "0   BillSchulhoff      386.0\n",
       "1       danipolis      812.0\n",
       "2       KJacobs27      179.0\n",
       "3       stncurtis     1229.0\n",
       "4        wi_borzo      129.0\n",
       "5  KirstinMerrell      497.0\n",
       "6      Jkosches86       37.0\n",
       "7   tmj_pa_retail      480.0\n",
       "8     Vonfandango       36.0\n",
       "9    tmj_bal_jobs      635.0"
      ]
     },
     "execution_count": 16,
     "metadata": {},
     "output_type": "execute_result"
    }
   ],
   "source": [
    "df2.head(10)"
   ]
  },
  {
   "cell_type": "code",
   "execution_count": 17,
   "id": "502567aa",
   "metadata": {},
   "outputs": [],
   "source": [
    "# Sort\n",
    "df2_sorted = df2.sort_values('Followers', ascending=False)"
   ]
  },
  {
   "cell_type": "code",
   "execution_count": 18,
   "id": "fbd64191",
   "metadata": {},
   "outputs": [],
   "source": [
    "# drop duplicates\n",
    "df2_sorted.drop_duplicates(subset=['Nickname'],inplace=True)"
   ]
  },
  {
   "cell_type": "code",
   "execution_count": 20,
   "id": "de5234c1",
   "metadata": {},
   "outputs": [],
   "source": [
    "# Take the Top 10 Users based on the number Followers\n",
    "df2_sorted = df2_sorted.head(10)"
   ]
  },
  {
   "cell_type": "code",
   "execution_count": 21,
   "id": "0cfaf310",
   "metadata": {},
   "outputs": [
    {
     "data": {
      "text/html": [
       "<div>\n",
       "<style scoped>\n",
       "    .dataframe tbody tr th:only-of-type {\n",
       "        vertical-align: middle;\n",
       "    }\n",
       "\n",
       "    .dataframe tbody tr th {\n",
       "        vertical-align: top;\n",
       "    }\n",
       "\n",
       "    .dataframe thead th {\n",
       "        text-align: right;\n",
       "    }\n",
       "</style>\n",
       "<table border=\"1\" class=\"dataframe\">\n",
       "  <thead>\n",
       "    <tr style=\"text-align: right;\">\n",
       "      <th></th>\n",
       "      <th>Nickname</th>\n",
       "      <th>Followers</th>\n",
       "    </tr>\n",
       "  </thead>\n",
       "  <tbody>\n",
       "    <tr>\n",
       "      <th>12161</th>\n",
       "      <td>werevertumorro</td>\n",
       "      <td>7232508.0</td>\n",
       "    </tr>\n",
       "    <tr>\n",
       "      <th>106965</th>\n",
       "      <td>joelmchale</td>\n",
       "      <td>3804447.0</td>\n",
       "    </tr>\n",
       "    <tr>\n",
       "      <th>168260</th>\n",
       "      <td>questlove</td>\n",
       "      <td>3627124.0</td>\n",
       "    </tr>\n",
       "    <tr>\n",
       "      <th>68071</th>\n",
       "      <td>itsgabrielleu</td>\n",
       "      <td>3043036.0</td>\n",
       "    </tr>\n",
       "    <tr>\n",
       "      <th>37377</th>\n",
       "      <td>AlfredoFlores</td>\n",
       "      <td>2742081.0</td>\n",
       "    </tr>\n",
       "    <tr>\n",
       "      <th>121716</th>\n",
       "      <td>maluma</td>\n",
       "      <td>2525716.0</td>\n",
       "    </tr>\n",
       "    <tr>\n",
       "      <th>69287</th>\n",
       "      <td>MatthewZiff</td>\n",
       "      <td>2139467.0</td>\n",
       "    </tr>\n",
       "    <tr>\n",
       "      <th>23535</th>\n",
       "      <td>PraFeBrum</td>\n",
       "      <td>2128396.0</td>\n",
       "    </tr>\n",
       "    <tr>\n",
       "      <th>133493</th>\n",
       "      <td>maxenemagalona</td>\n",
       "      <td>2031713.0</td>\n",
       "    </tr>\n",
       "    <tr>\n",
       "      <th>3498</th>\n",
       "      <td>iamdelafuente</td>\n",
       "      <td>1965579.0</td>\n",
       "    </tr>\n",
       "  </tbody>\n",
       "</table>\n",
       "</div>"
      ],
      "text/plain": [
       "              Nickname  Followers\n",
       "12161   werevertumorro  7232508.0\n",
       "106965      joelmchale  3804447.0\n",
       "168260       questlove  3627124.0\n",
       "68071    itsgabrielleu  3043036.0\n",
       "37377    AlfredoFlores  2742081.0\n",
       "121716          maluma  2525716.0\n",
       "69287      MatthewZiff  2139467.0\n",
       "23535        PraFeBrum  2128396.0\n",
       "133493  maxenemagalona  2031713.0\n",
       "3498     iamdelafuente  1965579.0"
      ]
     },
     "execution_count": 21,
     "metadata": {},
     "output_type": "execute_result"
    }
   ],
   "source": [
    "df2_sorted"
   ]
  },
  {
   "cell_type": "markdown",
   "id": "ca11ca15",
   "metadata": {
    "tags": []
   },
   "source": [
    "#### Plot:"
   ]
  },
  {
   "cell_type": "code",
   "execution_count": 22,
   "id": "d53ae6f7",
   "metadata": {},
   "outputs": [
    {
     "data": {
      "image/png": "[encoded data removed]",
      "text/plain": [
       "<Figure size 1008x720 with 1 Axes>"
      ]
     },
     "metadata": {
      "needs_background": "light"
     },
     "output_type": "display_data"
    }
   ],
   "source": [
    "# Visualize \n",
    "# Set the figure size\n",
    "plt.figure(figsize=(14, 10))\n",
    "\n",
    "# plot a bar chart\n",
    "ax = sns.barplot(\n",
    "    y= \"Nickname\", \n",
    "    x= \"Followers\", \n",
    "    data= df2_sorted, \n",
    "    estimator=sum, \n",
    "    ci=None, \n",
    "    color='orange');\n",
    "\n",
    "\n",
    "\n",
    "ax.set_title('Top 10 Users', fontsize=25)\n",
    "plt.ticklabel_format(style='plain', axis='x')\n",
    "\n",
    "# Add values next to the bars\n",
    "for index, value in enumerate(df2_sorted[\"Followers\"]):\n",
    "    plt.text(value, index,\n",
    "             str(value))\n",
    "\n"
   ]
  },
  {
   "cell_type": "code",
   "execution_count": null,
   "id": "7c58c6f4",
   "metadata": {},
   "outputs": [],
   "source": []
  },
  {
   "cell_type": "markdown",
   "id": "607de070",
   "metadata": {
    "jp-MarkdownHeadingCollapsed": true,
    "tags": []
   },
   "source": [
    "### T1-3: Draw a figure to show the number of tweets posted at different times of the day (i.e., 24 hours)."
   ]
  },
  {
   "cell_type": "code",
   "execution_count": 23,
   "id": "022805a8",
   "metadata": {},
   "outputs": [
    {
     "data": {
      "text/html": [
       "<div>\n",
       "<style scoped>\n",
       "    .dataframe tbody tr th:only-of-type {\n",
       "        vertical-align: middle;\n",
       "    }\n",
       "\n",
       "    .dataframe tbody tr th {\n",
       "        vertical-align: top;\n",
       "    }\n",
       "\n",
       "    .dataframe thead th {\n",
       "        text-align: right;\n",
       "    }\n",
       "</style>\n",
       "<table border=\"1\" class=\"dataframe\">\n",
       "  <thead>\n",
       "    <tr style=\"text-align: right;\">\n",
       "      <th></th>\n",
       "      <th>Tweet Id</th>\n",
       "      <th>Date</th>\n",
       "      <th>Hour</th>\n",
       "      <th>User Name</th>\n",
       "      <th>Nickname</th>\n",
       "      <th>Tweet content</th>\n",
       "      <th>Favs</th>\n",
       "      <th>RTs</th>\n",
       "      <th>Latitude</th>\n",
       "      <th>Longitude</th>\n",
       "      <th>Followers</th>\n",
       "    </tr>\n",
       "  </thead>\n",
       "  <tbody>\n",
       "    <tr>\n",
       "      <th>0</th>\n",
       "      <td>721318437075685382</td>\n",
       "      <td>2016-04-16</td>\n",
       "      <td>12:44</td>\n",
       "      <td>Bill Schulhoff</td>\n",
       "      <td>BillSchulhoff</td>\n",
       "      <td>Wind 3.2 mph NNE. Barometer 30.20 in, Rising s...</td>\n",
       "      <td>NaN</td>\n",
       "      <td>NaN</td>\n",
       "      <td>40.760278</td>\n",
       "      <td>-72.954722</td>\n",
       "      <td>386.0</td>\n",
       "    </tr>\n",
       "  </tbody>\n",
       "</table>\n",
       "</div>"
      ],
      "text/plain": [
       "             Tweet Id        Date   Hour       User Name       Nickname  \\\n",
       "0  721318437075685382  2016-04-16  12:44  Bill Schulhoff  BillSchulhoff   \n",
       "\n",
       "                                       Tweet content  Favs  RTs   Latitude  \\\n",
       "0  Wind 3.2 mph NNE. Barometer 30.20 in, Rising s...   NaN  NaN  40.760278   \n",
       "\n",
       "   Longitude  Followers  \n",
       "0 -72.954722      386.0  "
      ]
     },
     "execution_count": 23,
     "metadata": {},
     "output_type": "execute_result"
    }
   ],
   "source": [
    "df.head(1)"
   ]
  },
  {
   "cell_type": "code",
   "execution_count": 24,
   "id": "30e1f2da",
   "metadata": {},
   "outputs": [
    {
     "data": {
      "text/plain": [
       "1018"
      ]
     },
     "execution_count": 24,
     "metadata": {},
     "output_type": "execute_result"
    }
   ],
   "source": [
    "df[\"Hour\"].nunique()"
   ]
  },
  {
   "cell_type": "code",
   "execution_count": 25,
   "id": "047525dc",
   "metadata": {},
   "outputs": [],
   "source": [
    "# Create a subset\n",
    "df3 = df[[\"Tweet Id\",\"Hour\"]]"
   ]
  },
  {
   "cell_type": "code",
   "execution_count": 26,
   "id": "7f7fed96",
   "metadata": {},
   "outputs": [
    {
     "data": {
      "text/html": [
       "<div>\n",
       "<style scoped>\n",
       "    .dataframe tbody tr th:only-of-type {\n",
       "        vertical-align: middle;\n",
       "    }\n",
       "\n",
       "    .dataframe tbody tr th {\n",
       "        vertical-align: top;\n",
       "    }\n",
       "\n",
       "    .dataframe thead th {\n",
       "        text-align: right;\n",
       "    }\n",
       "</style>\n",
       "<table border=\"1\" class=\"dataframe\">\n",
       "  <thead>\n",
       "    <tr style=\"text-align: right;\">\n",
       "      <th></th>\n",
       "      <th>Tweet Id</th>\n",
       "      <th>Hour</th>\n",
       "    </tr>\n",
       "  </thead>\n",
       "  <tbody>\n",
       "    <tr>\n",
       "      <th>0</th>\n",
       "      <td>721318437075685382</td>\n",
       "      <td>12:44</td>\n",
       "    </tr>\n",
       "    <tr>\n",
       "      <th>1</th>\n",
       "      <td>721318436173979648</td>\n",
       "      <td>12:44</td>\n",
       "    </tr>\n",
       "    <tr>\n",
       "      <th>2</th>\n",
       "      <td>721318434169102336</td>\n",
       "      <td>12:44</td>\n",
       "    </tr>\n",
       "    <tr>\n",
       "      <th>3</th>\n",
       "      <td>721318429844582400</td>\n",
       "      <td>12:44</td>\n",
       "    </tr>\n",
       "    <tr>\n",
       "      <th>4</th>\n",
       "      <td>721318429081407488</td>\n",
       "      <td>12:44</td>\n",
       "    </tr>\n",
       "  </tbody>\n",
       "</table>\n",
       "</div>"
      ],
      "text/plain": [
       "             Tweet Id   Hour\n",
       "0  721318437075685382  12:44\n",
       "1  721318436173979648  12:44\n",
       "2  721318434169102336  12:44\n",
       "3  721318429844582400  12:44\n",
       "4  721318429081407488  12:44"
      ]
     },
     "execution_count": 26,
     "metadata": {},
     "output_type": "execute_result"
    }
   ],
   "source": [
    "df3.head()"
   ]
  },
  {
   "cell_type": "code",
   "execution_count": 27,
   "id": "ff7c6264",
   "metadata": {},
   "outputs": [
    {
     "data": {
      "text/plain": [
       "Tweet Id     int64\n",
       "Hour        object\n",
       "dtype: object"
      ]
     },
     "execution_count": 27,
     "metadata": {},
     "output_type": "execute_result"
    }
   ],
   "source": [
    "df3.dtypes"
   ]
  },
  {
   "cell_type": "code",
   "execution_count": 28,
   "id": "4b15be85",
   "metadata": {},
   "outputs": [
    {
     "name": "stdout",
     "output_type": "stream",
     "text": [
      "<class 'pandas.core.frame.DataFrame'>\n",
      "RangeIndex: 204820 entries, 0 to 204819\n",
      "Data columns (total 2 columns):\n",
      " #   Column    Non-Null Count   Dtype \n",
      "---  ------    --------------   ----- \n",
      " 0   Tweet Id  204820 non-null  int64 \n",
      " 1   Hour      204820 non-null  object\n",
      "dtypes: int64(1), object(1)\n",
      "memory usage: 3.1+ MB\n"
     ]
    }
   ],
   "source": [
    "df3.info()"
   ]
  },
  {
   "cell_type": "code",
   "execution_count": 29,
   "id": "e13e687f",
   "metadata": {
    "scrolled": true
   },
   "outputs": [
    {
     "data": {
      "text/plain": [
       "0    12:44\n",
       "1    12:44\n",
       "Name: Hour, dtype: object"
      ]
     },
     "execution_count": 29,
     "metadata": {},
     "output_type": "execute_result"
    }
   ],
   "source": [
    "df3[\"Hour\"][:2]"
   ]
  },
  {
   "cell_type": "code",
   "execution_count": 31,
   "id": "0a2c2add",
   "metadata": {},
   "outputs": [
    {
     "name": "stderr",
     "output_type": "stream",
     "text": [
      "C:\\Users\\rcuza\\AppData\\Local\\Temp\\ipykernel_28728\\2913973194.py:2: SettingWithCopyWarning: \n",
      "A value is trying to be set on a copy of a slice from a DataFrame.\n",
      "Try using .loc[row_indexer,col_indexer] = value instead\n",
      "\n",
      "See the caveats in the documentation: https://pandas.pydata.org/pandas-docs/stable/user_guide/indexing.html#returning-a-view-versus-a-copy\n",
      "  df3[['hours', 'minutes']] = df3['Hour'].str.split(':', expand=True)\n",
      "C:\\Users\\rcuza\\AppData\\Local\\Temp\\ipykernel_28728\\2913973194.py:2: SettingWithCopyWarning: \n",
      "A value is trying to be set on a copy of a slice from a DataFrame.\n",
      "Try using .loc[row_indexer,col_indexer] = value instead\n",
      "\n",
      "See the caveats in the documentation: https://pandas.pydata.org/pandas-docs/stable/user_guide/indexing.html#returning-a-view-versus-a-copy\n",
      "  df3[['hours', 'minutes']] = df3['Hour'].str.split(':', expand=True)\n"
     ]
    }
   ],
   "source": [
    "# Split the minutess and Hours:\n",
    "df3[['hours', 'minutes']] = df3['Hour'].str.split(':', expand=True)"
   ]
  },
  {
   "cell_type": "code",
   "execution_count": 33,
   "id": "0c2d47be-3edb-4f52-a403-a1057e4400ec",
   "metadata": {},
   "outputs": [
    {
     "data": {
      "text/html": [
       "<div>\n",
       "<style scoped>\n",
       "    .dataframe tbody tr th:only-of-type {\n",
       "        vertical-align: middle;\n",
       "    }\n",
       "\n",
       "    .dataframe tbody tr th {\n",
       "        vertical-align: top;\n",
       "    }\n",
       "\n",
       "    .dataframe thead th {\n",
       "        text-align: right;\n",
       "    }\n",
       "</style>\n",
       "<table border=\"1\" class=\"dataframe\">\n",
       "  <thead>\n",
       "    <tr style=\"text-align: right;\">\n",
       "      <th></th>\n",
       "      <th>Tweet Id</th>\n",
       "      <th>Hour</th>\n",
       "      <th>hours</th>\n",
       "      <th>minutes</th>\n",
       "    </tr>\n",
       "  </thead>\n",
       "  <tbody>\n",
       "    <tr>\n",
       "      <th>0</th>\n",
       "      <td>721318437075685382</td>\n",
       "      <td>12:44</td>\n",
       "      <td>12</td>\n",
       "      <td>44</td>\n",
       "    </tr>\n",
       "    <tr>\n",
       "      <th>1</th>\n",
       "      <td>721318436173979648</td>\n",
       "      <td>12:44</td>\n",
       "      <td>12</td>\n",
       "      <td>44</td>\n",
       "    </tr>\n",
       "    <tr>\n",
       "      <th>2</th>\n",
       "      <td>721318434169102336</td>\n",
       "      <td>12:44</td>\n",
       "      <td>12</td>\n",
       "      <td>44</td>\n",
       "    </tr>\n",
       "    <tr>\n",
       "      <th>3</th>\n",
       "      <td>721318429844582400</td>\n",
       "      <td>12:44</td>\n",
       "      <td>12</td>\n",
       "      <td>44</td>\n",
       "    </tr>\n",
       "    <tr>\n",
       "      <th>4</th>\n",
       "      <td>721318429081407488</td>\n",
       "      <td>12:44</td>\n",
       "      <td>12</td>\n",
       "      <td>44</td>\n",
       "    </tr>\n",
       "  </tbody>\n",
       "</table>\n",
       "</div>"
      ],
      "text/plain": [
       "             Tweet Id   Hour hours minutes\n",
       "0  721318437075685382  12:44    12      44\n",
       "1  721318436173979648  12:44    12      44\n",
       "2  721318434169102336  12:44    12      44\n",
       "3  721318429844582400  12:44    12      44\n",
       "4  721318429081407488  12:44    12      44"
      ]
     },
     "execution_count": 33,
     "metadata": {},
     "output_type": "execute_result"
    }
   ],
   "source": [
    "# Check\n",
    "df3.head()"
   ]
  },
  {
   "cell_type": "code",
   "execution_count": 32,
   "id": "48d73bdd",
   "metadata": {
    "scrolled": true
   },
   "outputs": [
    {
     "data": {
      "text/html": [
       "<div>\n",
       "<style scoped>\n",
       "    .dataframe tbody tr th:only-of-type {\n",
       "        vertical-align: middle;\n",
       "    }\n",
       "\n",
       "    .dataframe tbody tr th {\n",
       "        vertical-align: top;\n",
       "    }\n",
       "\n",
       "    .dataframe thead th {\n",
       "        text-align: right;\n",
       "    }\n",
       "</style>\n",
       "<table border=\"1\" class=\"dataframe\">\n",
       "  <thead>\n",
       "    <tr style=\"text-align: right;\">\n",
       "      <th></th>\n",
       "      <th>Tweet Id</th>\n",
       "      <th>Hour</th>\n",
       "      <th>hours</th>\n",
       "      <th>minutes</th>\n",
       "    </tr>\n",
       "  </thead>\n",
       "  <tbody>\n",
       "    <tr>\n",
       "      <th>204815</th>\n",
       "      <td>720553451927646209</td>\n",
       "      <td>10:05</td>\n",
       "      <td>10</td>\n",
       "      <td>05</td>\n",
       "    </tr>\n",
       "    <tr>\n",
       "      <th>204816</th>\n",
       "      <td>720553447402160128</td>\n",
       "      <td>10:05</td>\n",
       "      <td>10</td>\n",
       "      <td>05</td>\n",
       "    </tr>\n",
       "    <tr>\n",
       "      <th>204817</th>\n",
       "      <td>720553447058092032</td>\n",
       "      <td>10:05</td>\n",
       "      <td>10</td>\n",
       "      <td>05</td>\n",
       "    </tr>\n",
       "    <tr>\n",
       "      <th>204818</th>\n",
       "      <td>720553446236155906</td>\n",
       "      <td>10:05</td>\n",
       "      <td>10</td>\n",
       "      <td>05</td>\n",
       "    </tr>\n",
       "    <tr>\n",
       "      <th>204819</th>\n",
       "      <td>720553437428101120</td>\n",
       "      <td>10:05</td>\n",
       "      <td>10</td>\n",
       "      <td>05</td>\n",
       "    </tr>\n",
       "  </tbody>\n",
       "</table>\n",
       "</div>"
      ],
      "text/plain": [
       "                  Tweet Id   Hour hours minutes\n",
       "204815  720553451927646209  10:05    10      05\n",
       "204816  720553447402160128  10:05    10      05\n",
       "204817  720553447058092032  10:05    10      05\n",
       "204818  720553446236155906  10:05    10      05\n",
       "204819  720553437428101120  10:05    10      05"
      ]
     },
     "execution_count": 32,
     "metadata": {},
     "output_type": "execute_result"
    }
   ],
   "source": [
    "# Check\n",
    "df3.tail()"
   ]
  },
  {
   "cell_type": "code",
   "execution_count": 49,
   "id": "66ed9cca",
   "metadata": {},
   "outputs": [
    {
     "data": {
      "text/plain": [
       "array(['12', '11', '10', '09', '08', '07', '06', '05', '04', '03', '02',\n",
       "       '01', '00', '23', '22', '21', '20', '19', '18', '17', '16', '15',\n",
       "       '14', '13'], dtype=object)"
      ]
     },
     "execution_count": 49,
     "metadata": {},
     "output_type": "execute_result"
    }
   ],
   "source": [
    "df3[\"hours\"].unique()"
   ]
  },
  {
   "cell_type": "code",
   "execution_count": 34,
   "id": "e5888f0f",
   "metadata": {},
   "outputs": [],
   "source": [
    "# Groupby hours\n",
    "df_Hours = df3.groupby(\"hours\").count()"
   ]
  },
  {
   "cell_type": "code",
   "execution_count": 35,
   "id": "ae4de946",
   "metadata": {},
   "outputs": [
    {
     "data": {
      "text/html": [
       "<div>\n",
       "<style scoped>\n",
       "    .dataframe tbody tr th:only-of-type {\n",
       "        vertical-align: middle;\n",
       "    }\n",
       "\n",
       "    .dataframe tbody tr th {\n",
       "        vertical-align: top;\n",
       "    }\n",
       "\n",
       "    .dataframe thead th {\n",
       "        text-align: right;\n",
       "    }\n",
       "</style>\n",
       "<table border=\"1\" class=\"dataframe\">\n",
       "  <thead>\n",
       "    <tr style=\"text-align: right;\">\n",
       "      <th></th>\n",
       "      <th>Tweet Id</th>\n",
       "      <th>Hour</th>\n",
       "      <th>minutes</th>\n",
       "    </tr>\n",
       "    <tr>\n",
       "      <th>hours</th>\n",
       "      <th></th>\n",
       "      <th></th>\n",
       "      <th></th>\n",
       "    </tr>\n",
       "  </thead>\n",
       "  <tbody>\n",
       "    <tr>\n",
       "      <th>00</th>\n",
       "      <td>18737</td>\n",
       "      <td>18737</td>\n",
       "      <td>18737</td>\n",
       "    </tr>\n",
       "    <tr>\n",
       "      <th>01</th>\n",
       "      <td>12325</td>\n",
       "      <td>12325</td>\n",
       "      <td>12325</td>\n",
       "    </tr>\n",
       "    <tr>\n",
       "      <th>02</th>\n",
       "      <td>10610</td>\n",
       "      <td>10610</td>\n",
       "      <td>10610</td>\n",
       "    </tr>\n",
       "    <tr>\n",
       "      <th>03</th>\n",
       "      <td>9907</td>\n",
       "      <td>9907</td>\n",
       "      <td>9907</td>\n",
       "    </tr>\n",
       "    <tr>\n",
       "      <th>04</th>\n",
       "      <td>4753</td>\n",
       "      <td>4753</td>\n",
       "      <td>4753</td>\n",
       "    </tr>\n",
       "    <tr>\n",
       "      <th>05</th>\n",
       "      <td>6360</td>\n",
       "      <td>6360</td>\n",
       "      <td>6360</td>\n",
       "    </tr>\n",
       "    <tr>\n",
       "      <th>06</th>\n",
       "      <td>2182</td>\n",
       "      <td>2182</td>\n",
       "      <td>2182</td>\n",
       "    </tr>\n",
       "    <tr>\n",
       "      <th>07</th>\n",
       "      <td>4537</td>\n",
       "      <td>4537</td>\n",
       "      <td>4537</td>\n",
       "    </tr>\n",
       "    <tr>\n",
       "      <th>08</th>\n",
       "      <td>3387</td>\n",
       "      <td>3387</td>\n",
       "      <td>3387</td>\n",
       "    </tr>\n",
       "    <tr>\n",
       "      <th>09</th>\n",
       "      <td>2891</td>\n",
       "      <td>2891</td>\n",
       "      <td>2891</td>\n",
       "    </tr>\n",
       "    <tr>\n",
       "      <th>10</th>\n",
       "      <td>4687</td>\n",
       "      <td>4687</td>\n",
       "      <td>4687</td>\n",
       "    </tr>\n",
       "    <tr>\n",
       "      <th>11</th>\n",
       "      <td>3485</td>\n",
       "      <td>3485</td>\n",
       "      <td>3485</td>\n",
       "    </tr>\n",
       "    <tr>\n",
       "      <th>12</th>\n",
       "      <td>7071</td>\n",
       "      <td>7071</td>\n",
       "      <td>7071</td>\n",
       "    </tr>\n",
       "    <tr>\n",
       "      <th>13</th>\n",
       "      <td>7802</td>\n",
       "      <td>7802</td>\n",
       "      <td>7802</td>\n",
       "    </tr>\n",
       "    <tr>\n",
       "      <th>14</th>\n",
       "      <td>3000</td>\n",
       "      <td>3000</td>\n",
       "      <td>3000</td>\n",
       "    </tr>\n",
       "    <tr>\n",
       "      <th>15</th>\n",
       "      <td>7821</td>\n",
       "      <td>7821</td>\n",
       "      <td>7821</td>\n",
       "    </tr>\n",
       "    <tr>\n",
       "      <th>16</th>\n",
       "      <td>22455</td>\n",
       "      <td>22455</td>\n",
       "      <td>22455</td>\n",
       "    </tr>\n",
       "    <tr>\n",
       "      <th>17</th>\n",
       "      <td>17724</td>\n",
       "      <td>17724</td>\n",
       "      <td>17724</td>\n",
       "    </tr>\n",
       "    <tr>\n",
       "      <th>18</th>\n",
       "      <td>7080</td>\n",
       "      <td>7080</td>\n",
       "      <td>7080</td>\n",
       "    </tr>\n",
       "    <tr>\n",
       "      <th>19</th>\n",
       "      <td>1710</td>\n",
       "      <td>1710</td>\n",
       "      <td>1710</td>\n",
       "    </tr>\n",
       "    <tr>\n",
       "      <th>20</th>\n",
       "      <td>19910</td>\n",
       "      <td>19910</td>\n",
       "      <td>19910</td>\n",
       "    </tr>\n",
       "    <tr>\n",
       "      <th>21</th>\n",
       "      <td>7835</td>\n",
       "      <td>7835</td>\n",
       "      <td>7835</td>\n",
       "    </tr>\n",
       "    <tr>\n",
       "      <th>22</th>\n",
       "      <td>8665</td>\n",
       "      <td>8665</td>\n",
       "      <td>8665</td>\n",
       "    </tr>\n",
       "    <tr>\n",
       "      <th>23</th>\n",
       "      <td>9886</td>\n",
       "      <td>9886</td>\n",
       "      <td>9886</td>\n",
       "    </tr>\n",
       "  </tbody>\n",
       "</table>\n",
       "</div>"
      ],
      "text/plain": [
       "       Tweet Id   Hour  minutes\n",
       "hours                          \n",
       "00        18737  18737    18737\n",
       "01        12325  12325    12325\n",
       "02        10610  10610    10610\n",
       "03         9907   9907     9907\n",
       "04         4753   4753     4753\n",
       "05         6360   6360     6360\n",
       "06         2182   2182     2182\n",
       "07         4537   4537     4537\n",
       "08         3387   3387     3387\n",
       "09         2891   2891     2891\n",
       "10         4687   4687     4687\n",
       "11         3485   3485     3485\n",
       "12         7071   7071     7071\n",
       "13         7802   7802     7802\n",
       "14         3000   3000     3000\n",
       "15         7821   7821     7821\n",
       "16        22455  22455    22455\n",
       "17        17724  17724    17724\n",
       "18         7080   7080     7080\n",
       "19         1710   1710     1710\n",
       "20        19910  19910    19910\n",
       "21         7835   7835     7835\n",
       "22         8665   8665     8665\n",
       "23         9886   9886     9886"
      ]
     },
     "execution_count": 35,
     "metadata": {},
     "output_type": "execute_result"
    }
   ],
   "source": [
    "df_Hours.head(24)"
   ]
  },
  {
   "cell_type": "markdown",
   "id": "c50ac66b",
   "metadata": {},
   "source": [
    "#### Plot:"
   ]
  },
  {
   "cell_type": "code",
   "execution_count": 36,
   "id": "18662ce5",
   "metadata": {},
   "outputs": [
    {
     "data": {
      "image/png": "[encoded data removed]",
      "text/plain": [
       "<Figure size 1008x720 with 1 Axes>"
      ]
     },
     "metadata": {
      "needs_background": "light"
     },
     "output_type": "display_data"
    }
   ],
   "source": [
    "# Visualize\n",
    "# Set the figure size\n",
    "plt.figure(figsize=(14, 10))\n",
    "\n",
    "# plot a bar chart\n",
    "ax = sns.barplot(\n",
    "    y= \"Tweet Id\", \n",
    "    x=df_Hours.index, \n",
    "    data= df_Hours, \n",
    "    estimator=sum, \n",
    "    ci=None, \n",
    "    color='orange');\n",
    "\n",
    "ax.set_title('The number of tweets posted at different times of the day', fontsize=25)\n",
    "ax.set_ylabel('Number of tweets')\n",
    "\n",
    "\n",
    "for p in ax.patches:                 \n",
    "    ax.annotate(np.round(p.get_height(),decimals=2),(p.get_x()+p.get_width()/2., p.get_height()),ha='center',va='center',xytext=(0, 10),textcoords='offset points')\n",
    "\n"
   ]
  },
  {
   "cell_type": "code",
   "execution_count": null,
   "id": "874e13a8",
   "metadata": {},
   "outputs": [],
   "source": []
  },
  {
   "cell_type": "markdown",
   "id": "f65c9838",
   "metadata": {
    "tags": []
   },
   "source": [
    "### T1-4: Draw a figure to show the number of tweets posted from different locations (or states) in the US."
   ]
  },
  {
   "cell_type": "code",
   "execution_count": 8,
   "id": "6c5df20a",
   "metadata": {},
   "outputs": [],
   "source": [
    "import matplotlib.pyplot as plt\n",
    "from shapely.geometry import Point\n",
    "import geopandas as gpd\n",
    "from geopandas import GeoDataFrame"
   ]
  },
  {
   "cell_type": "code",
   "execution_count": 9,
   "id": "41f9788b",
   "metadata": {},
   "outputs": [
    {
     "data": {
      "image/png": "[encoded data removed]",
      "text/plain": [
       "<Figure size 1728x864 with 1 Axes>"
      ]
     },
     "metadata": {
      "needs_background": "light"
     },
     "output_type": "display_data"
    }
   ],
   "source": [
    "# Create a Geopandas datafram containing a new column \"geometry\" for coordinates\n",
    "df_geo = gpd.GeoDataFrame(df , geometry= gpd.points_from_xy(df.Longitude, df.Latitude))\n",
    "\n",
    "# Plot a world map with positions of each tweet \n",
    "world = gpd.read_file(gpd.datasets.get_path('naturalearth_lowres'))\n",
    "North_America = world[world.continent == 'North America']\n",
    "df_geo.plot(ax=North_America.plot(figsize=(24, 12)), marker='x', color='orange', markersize=0.6);"
   ]
  },
  {
   "cell_type": "code",
   "execution_count": null,
   "id": "9ed74a1c",
   "metadata": {},
   "outputs": [],
   "source": []
  },
  {
   "cell_type": "code",
   "execution_count": null,
   "id": "ce805e8d",
   "metadata": {},
   "outputs": [],
   "source": []
  },
  {
   "cell_type": "markdown",
   "id": "cc8a7e52",
   "metadata": {
    "jp-MarkdownHeadingCollapsed": true,
    "tags": []
   },
   "source": [
    "## T2 Data Cleaning and Pre-processing: "
   ]
  },
  {
   "cell_type": "code",
   "execution_count": 38,
   "id": "f6af7a54",
   "metadata": {},
   "outputs": [],
   "source": [
    "df_to_clean = df.copy(deep=True)"
   ]
  },
  {
   "cell_type": "code",
   "execution_count": 39,
   "id": "f4c91d89",
   "metadata": {},
   "outputs": [
    {
     "data": {
      "text/html": [
       "<div>\n",
       "<style scoped>\n",
       "    .dataframe tbody tr th:only-of-type {\n",
       "        vertical-align: middle;\n",
       "    }\n",
       "\n",
       "    .dataframe tbody tr th {\n",
       "        vertical-align: top;\n",
       "    }\n",
       "\n",
       "    .dataframe thead th {\n",
       "        text-align: right;\n",
       "    }\n",
       "</style>\n",
       "<table border=\"1\" class=\"dataframe\">\n",
       "  <thead>\n",
       "    <tr style=\"text-align: right;\">\n",
       "      <th></th>\n",
       "      <th>Tweet Id</th>\n",
       "      <th>Date</th>\n",
       "      <th>Hour</th>\n",
       "      <th>User Name</th>\n",
       "      <th>Nickname</th>\n",
       "      <th>Tweet content</th>\n",
       "      <th>Favs</th>\n",
       "      <th>RTs</th>\n",
       "      <th>Latitude</th>\n",
       "      <th>Longitude</th>\n",
       "      <th>Followers</th>\n",
       "    </tr>\n",
       "  </thead>\n",
       "  <tbody>\n",
       "    <tr>\n",
       "      <th>0</th>\n",
       "      <td>721318437075685382</td>\n",
       "      <td>2016-04-16</td>\n",
       "      <td>12:44</td>\n",
       "      <td>Bill Schulhoff</td>\n",
       "      <td>BillSchulhoff</td>\n",
       "      <td>Wind 3.2 mph NNE. Barometer 30.20 in, Rising s...</td>\n",
       "      <td>NaN</td>\n",
       "      <td>NaN</td>\n",
       "      <td>40.760278</td>\n",
       "      <td>-72.954722</td>\n",
       "      <td>386.0</td>\n",
       "    </tr>\n",
       "    <tr>\n",
       "      <th>1</th>\n",
       "      <td>721318436173979648</td>\n",
       "      <td>2016-04-16</td>\n",
       "      <td>12:44</td>\n",
       "      <td>Daniele Polis</td>\n",
       "      <td>danipolis</td>\n",
       "      <td>Pausa pro café antes de embarcar no próximo vô...</td>\n",
       "      <td>NaN</td>\n",
       "      <td>NaN</td>\n",
       "      <td>32.898349</td>\n",
       "      <td>-97.039196</td>\n",
       "      <td>812.0</td>\n",
       "    </tr>\n",
       "    <tr>\n",
       "      <th>2</th>\n",
       "      <td>721318434169102336</td>\n",
       "      <td>2016-04-16</td>\n",
       "      <td>12:44</td>\n",
       "      <td>Kasey Jacobs</td>\n",
       "      <td>KJacobs27</td>\n",
       "      <td>Good. Morning. #morning #Saturday #diner #VT #...</td>\n",
       "      <td>NaN</td>\n",
       "      <td>NaN</td>\n",
       "      <td>44.199476</td>\n",
       "      <td>-72.504173</td>\n",
       "      <td>179.0</td>\n",
       "    </tr>\n",
       "    <tr>\n",
       "      <th>3</th>\n",
       "      <td>721318429844582400</td>\n",
       "      <td>2016-04-16</td>\n",
       "      <td>12:44</td>\n",
       "      <td>Stan Curtis</td>\n",
       "      <td>stncurtis</td>\n",
       "      <td>@gratefuldead recordstoredayus 🌹🌹🌹 @ TOMS MUSI...</td>\n",
       "      <td>NaN</td>\n",
       "      <td>NaN</td>\n",
       "      <td>39.901474</td>\n",
       "      <td>-76.606817</td>\n",
       "      <td>1229.0</td>\n",
       "    </tr>\n",
       "    <tr>\n",
       "      <th>4</th>\n",
       "      <td>721318429081407488</td>\n",
       "      <td>2016-04-16</td>\n",
       "      <td>12:44</td>\n",
       "      <td>Dave Borzymowski</td>\n",
       "      <td>wi_borzo</td>\n",
       "      <td>Egg in a muffin!!! (@ Rocket Baby Bakery - @ro...</td>\n",
       "      <td>NaN</td>\n",
       "      <td>NaN</td>\n",
       "      <td>43.060849</td>\n",
       "      <td>-87.998309</td>\n",
       "      <td>129.0</td>\n",
       "    </tr>\n",
       "  </tbody>\n",
       "</table>\n",
       "</div>"
      ],
      "text/plain": [
       "             Tweet Id        Date   Hour         User Name       Nickname  \\\n",
       "0  721318437075685382  2016-04-16  12:44    Bill Schulhoff  BillSchulhoff   \n",
       "1  721318436173979648  2016-04-16  12:44     Daniele Polis      danipolis   \n",
       "2  721318434169102336  2016-04-16  12:44      Kasey Jacobs      KJacobs27   \n",
       "3  721318429844582400  2016-04-16  12:44       Stan Curtis      stncurtis   \n",
       "4  721318429081407488  2016-04-16  12:44  Dave Borzymowski       wi_borzo   \n",
       "\n",
       "                                       Tweet content  Favs  RTs   Latitude  \\\n",
       "0  Wind 3.2 mph NNE. Barometer 30.20 in, Rising s...   NaN  NaN  40.760278   \n",
       "1  Pausa pro café antes de embarcar no próximo vô...   NaN  NaN  32.898349   \n",
       "2  Good. Morning. #morning #Saturday #diner #VT #...   NaN  NaN  44.199476   \n",
       "3  @gratefuldead recordstoredayus 🌹🌹🌹 @ TOMS MUSI...   NaN  NaN  39.901474   \n",
       "4  Egg in a muffin!!! (@ Rocket Baby Bakery - @ro...   NaN  NaN  43.060849   \n",
       "\n",
       "   Longitude  Followers  \n",
       "0 -72.954722      386.0  \n",
       "1 -97.039196      812.0  \n",
       "2 -72.504173      179.0  \n",
       "3 -76.606817     1229.0  \n",
       "4 -87.998309      129.0  "
      ]
     },
     "execution_count": 39,
     "metadata": {},
     "output_type": "execute_result"
    }
   ],
   "source": [
    "df_to_clean.head()"
   ]
  },
  {
   "cell_type": "code",
   "execution_count": 40,
   "id": "1e28f9a6",
   "metadata": {},
   "outputs": [
    {
     "data": {
      "text/plain": [
       "Tweet Id              0\n",
       "Date                  0\n",
       "Hour                  0\n",
       "User Name             5\n",
       "Nickname              0\n",
       "Tweet content         0\n",
       "Favs             195619\n",
       "RTs              199604\n",
       "Latitude              0\n",
       "Longitude             0\n",
       "Followers            61\n",
       "dtype: int64"
      ]
     },
     "execution_count": 40,
     "metadata": {},
     "output_type": "execute_result"
    }
   ],
   "source": [
    "# Checking for missing values in column 'Tweet content'\n",
    "df_to_clean.isna().sum()"
   ]
  },
  {
   "cell_type": "code",
   "execution_count": null,
   "id": "5e20edcf",
   "metadata": {},
   "outputs": [],
   "source": []
  },
  {
   "cell_type": "markdown",
   "id": "870af32a",
   "metadata": {},
   "source": [
    "#### New:"
   ]
  },
  {
   "cell_type": "markdown",
   "id": "2ae1a0dd",
   "metadata": {},
   "source": [
    "#### T2-1: Raw tweets are highly unstructured and often contain redundant and problematic information. For instance, the links, emojis and symbols (e.g., #, @) in a tweet may not be necessary for the text mining tasks. Use R or Python to clean and pre-process raw tweets."
   ]
  },
  {
   "cell_type": "code",
   "execution_count": 57,
   "id": "a18c96f3",
   "metadata": {},
   "outputs": [],
   "source": []
  },
  {
   "cell_type": "code",
   "execution_count": 58,
   "id": "ece1d12a",
   "metadata": {},
   "outputs": [],
   "source": [
    "##nltk.download()"
   ]
  },
  {
   "cell_type": "code",
   "execution_count": 61,
   "id": "ebe610c9",
   "metadata": {},
   "outputs": [],
   "source": [
    "# Import libraries\n",
    "import re\n",
    "import gensim\n",
    "import nltk\n",
    "from nltk.corpus import stopwords\n",
    "# importing 'WordNetLemmatizer' for the Lemmatization process\n",
    "from nltk.stem import WordNetLemmatizer"
   ]
  },
  {
   "cell_type": "code",
   "execution_count": null,
   "id": "642d9a22",
   "metadata": {},
   "outputs": [],
   "source": []
  },
  {
   "cell_type": "code",
   "execution_count": 44,
   "id": "496561a3",
   "metadata": {},
   "outputs": [],
   "source": [
    "# Function to remove URL\n",
    "def remove_URL(text): \n",
    "    url = re.compile(r\"https?://\\S+|www\\.\\S+\") \n",
    "    return url.sub(r\"\", text)\n",
    "\n",
    "\n",
    "# Function to remove html                     \n",
    "def remove_html(text): \n",
    "    html = re.compile(r\"<.*?>\") \n",
    "    return html.sub(r\"\", text)\n",
    "\n",
    "df_to_clean[\"Tweet content_1\"] = df_to_clean[\"Tweet content\"].map(lambda x: remove_html(x))\n",
    "df_to_clean[\"Tweet content_1\"] = df_to_clean[\"Tweet content\"].map(lambda x: remove_URL(x))\n"
   ]
  },
  {
   "cell_type": "code",
   "execution_count": 60,
   "id": "0f733258",
   "metadata": {
    "tags": []
   },
   "outputs": [
    {
     "data": {
      "text/html": [
       "<div>\n",
       "<style scoped>\n",
       "    .dataframe tbody tr th:only-of-type {\n",
       "        vertical-align: middle;\n",
       "    }\n",
       "\n",
       "    .dataframe tbody tr th {\n",
       "        vertical-align: top;\n",
       "    }\n",
       "\n",
       "    .dataframe thead th {\n",
       "        text-align: right;\n",
       "    }\n",
       "</style>\n",
       "<table border=\"1\" class=\"dataframe\">\n",
       "  <thead>\n",
       "    <tr style=\"text-align: right;\">\n",
       "      <th></th>\n",
       "      <th>Tweet Id</th>\n",
       "      <th>Date</th>\n",
       "      <th>Hour</th>\n",
       "      <th>User Name</th>\n",
       "      <th>Nickname</th>\n",
       "      <th>Tweet content</th>\n",
       "      <th>Favs</th>\n",
       "      <th>RTs</th>\n",
       "      <th>Latitude</th>\n",
       "      <th>Longitude</th>\n",
       "      <th>Followers</th>\n",
       "      <th>Tweet content_1</th>\n",
       "      <th>clean_tweets[Tokenized]</th>\n",
       "      <th>Tokenized_NOstopwords</th>\n",
       "      <th>Lemmatized_clean_tweet</th>\n",
       "    </tr>\n",
       "  </thead>\n",
       "  <tbody>\n",
       "    <tr>\n",
       "      <th>0</th>\n",
       "      <td>721318437075685382</td>\n",
       "      <td>2016-04-16</td>\n",
       "      <td>12:44</td>\n",
       "      <td>Bill Schulhoff</td>\n",
       "      <td>BillSchulhoff</td>\n",
       "      <td>Wind 3.2 mph NNE. Barometer 30.20 in, Rising s...</td>\n",
       "      <td>NaN</td>\n",
       "      <td>NaN</td>\n",
       "      <td>40.760278</td>\n",
       "      <td>-72.954722</td>\n",
       "      <td>386.0</td>\n",
       "      <td>Wind 3.2 mph NNE. Barometer 30.20 in, Rising s...</td>\n",
       "      <td>[wind, mph, nne, barometer, in, rising, slowly...</td>\n",
       "      <td>[wind, mph, nne, barometer, rising, slowly, te...</td>\n",
       "      <td>[wind, mph, nne, barometer, rising, slowly, te...</td>\n",
       "    </tr>\n",
       "    <tr>\n",
       "      <th>1</th>\n",
       "      <td>721318436173979648</td>\n",
       "      <td>2016-04-16</td>\n",
       "      <td>12:44</td>\n",
       "      <td>Daniele Polis</td>\n",
       "      <td>danipolis</td>\n",
       "      <td>Pausa pro café antes de embarcar no próximo vô...</td>\n",
       "      <td>NaN</td>\n",
       "      <td>NaN</td>\n",
       "      <td>32.898349</td>\n",
       "      <td>-97.039196</td>\n",
       "      <td>812.0</td>\n",
       "      <td>Pausa pro café antes de embarcar no próximo vô...</td>\n",
       "      <td>[pausa, pro, cafe, antes, de, embarcar, no, pr...</td>\n",
       "      <td>[pausa, pro, cafe, antes, de, embarcar, proxim...</td>\n",
       "      <td>[pausa, pro, cafe, ante, de, embarcar, proximo...</td>\n",
       "    </tr>\n",
       "  </tbody>\n",
       "</table>\n",
       "</div>"
      ],
      "text/plain": [
       "             Tweet Id        Date   Hour       User Name       Nickname  \\\n",
       "0  721318437075685382  2016-04-16  12:44  Bill Schulhoff  BillSchulhoff   \n",
       "1  721318436173979648  2016-04-16  12:44   Daniele Polis      danipolis   \n",
       "\n",
       "                                       Tweet content  Favs  RTs   Latitude  \\\n",
       "0  Wind 3.2 mph NNE. Barometer 30.20 in, Rising s...   NaN  NaN  40.760278   \n",
       "1  Pausa pro café antes de embarcar no próximo vô...   NaN  NaN  32.898349   \n",
       "\n",
       "   Longitude  Followers                                    Tweet content_1  \\\n",
       "0 -72.954722      386.0  Wind 3.2 mph NNE. Barometer 30.20 in, Rising s...   \n",
       "1 -97.039196      812.0  Pausa pro café antes de embarcar no próximo vô...   \n",
       "\n",
       "                             clean_tweets[Tokenized]  \\\n",
       "0  [wind, mph, nne, barometer, in, rising, slowly...   \n",
       "1  [pausa, pro, cafe, antes, de, embarcar, no, pr...   \n",
       "\n",
       "                               Tokenized_NOstopwords  \\\n",
       "0  [wind, mph, nne, barometer, rising, slowly, te...   \n",
       "1  [pausa, pro, cafe, antes, de, embarcar, proxim...   \n",
       "\n",
       "                              Lemmatized_clean_tweet  \n",
       "0  [wind, mph, nne, barometer, rising, slowly, te...  \n",
       "1  [pausa, pro, cafe, ante, de, embarcar, proximo...  "
      ]
     },
     "execution_count": 412,
     "metadata": {},
     "output_type": "execute_result"
    }
   ],
   "source": [
    "df_to_clean.head(2)"
   ]
  },
  {
   "cell_type": "code",
   "execution_count": 415,
   "id": "12e90f3c",
   "metadata": {},
   "outputs": [
    {
     "data": {
      "text/plain": [
       "'Good. Morning. #morning #Saturday #diner #VT #breakfast #nucorpsofcadetsring #ring #college… https://t.co/dBZ7dbwX6f'"
      ]
     },
     "execution_count": 415,
     "metadata": {},
     "output_type": "execute_result"
    }
   ],
   "source": [
    "df_to_clean[\"Tweet content\"][2]"
   ]
  },
  {
   "cell_type": "code",
   "execution_count": 416,
   "id": "a6983125-f5fc-439a-ba75-ef68789222c3",
   "metadata": {},
   "outputs": [
    {
     "data": {
      "text/plain": [
       "'Good. Morning. #morning #Saturday #diner #VT #breakfast #nucorpsofcadetsring #ring #college… '"
      ]
     },
     "execution_count": 416,
     "metadata": {},
     "output_type": "execute_result"
    }
   ],
   "source": [
    "df_to_clean[\"Tweet content_1\"][2]"
   ]
  },
  {
   "cell_type": "code",
   "execution_count": null,
   "id": "7ecc818f-2ac6-4c5e-9e0f-e9d613606164",
   "metadata": {},
   "outputs": [],
   "source": []
  },
  {
   "cell_type": "code",
   "execution_count": 48,
   "id": "ed06bf28",
   "metadata": {},
   "outputs": [],
   "source": [
    "# Tokenize + remove emojis, punctuation, numbers, other meaningless expressions\n",
    "df_to_clean['clean_tweets[Tokenized]']= df_to_clean[\"Tweet content_1\"].apply(lambda x:gensim.utils.simple_preprocess(x , deacc=True))"
   ]
  },
  {
   "cell_type": "code",
   "execution_count": 49,
   "id": "065eedae",
   "metadata": {},
   "outputs": [
    {
     "data": {
      "text/html": [
       "<div>\n",
       "<style scoped>\n",
       "    .dataframe tbody tr th:only-of-type {\n",
       "        vertical-align: middle;\n",
       "    }\n",
       "\n",
       "    .dataframe tbody tr th {\n",
       "        vertical-align: top;\n",
       "    }\n",
       "\n",
       "    .dataframe thead th {\n",
       "        text-align: right;\n",
       "    }\n",
       "</style>\n",
       "<table border=\"1\" class=\"dataframe\">\n",
       "  <thead>\n",
       "    <tr style=\"text-align: right;\">\n",
       "      <th></th>\n",
       "      <th>Tweet Id</th>\n",
       "      <th>Date</th>\n",
       "      <th>Hour</th>\n",
       "      <th>User Name</th>\n",
       "      <th>Nickname</th>\n",
       "      <th>Tweet content</th>\n",
       "      <th>Favs</th>\n",
       "      <th>RTs</th>\n",
       "      <th>Latitude</th>\n",
       "      <th>Longitude</th>\n",
       "      <th>Followers</th>\n",
       "      <th>Tweet content_1</th>\n",
       "      <th>clean_tweets[Tokenized]</th>\n",
       "    </tr>\n",
       "  </thead>\n",
       "  <tbody>\n",
       "    <tr>\n",
       "      <th>0</th>\n",
       "      <td>721318437075685382</td>\n",
       "      <td>2016-04-16</td>\n",
       "      <td>12:44</td>\n",
       "      <td>Bill Schulhoff</td>\n",
       "      <td>BillSchulhoff</td>\n",
       "      <td>Wind 3.2 mph NNE. Barometer 30.20 in, Rising s...</td>\n",
       "      <td>NaN</td>\n",
       "      <td>NaN</td>\n",
       "      <td>40.760278</td>\n",
       "      <td>-72.954722</td>\n",
       "      <td>386.0</td>\n",
       "      <td>Wind 3.2 mph NNE. Barometer 30.20 in, Rising s...</td>\n",
       "      <td>[wind, mph, nne, barometer, in, rising, slowly...</td>\n",
       "    </tr>\n",
       "    <tr>\n",
       "      <th>1</th>\n",
       "      <td>721318436173979648</td>\n",
       "      <td>2016-04-16</td>\n",
       "      <td>12:44</td>\n",
       "      <td>Daniele Polis</td>\n",
       "      <td>danipolis</td>\n",
       "      <td>Pausa pro café antes de embarcar no próximo vô...</td>\n",
       "      <td>NaN</td>\n",
       "      <td>NaN</td>\n",
       "      <td>32.898349</td>\n",
       "      <td>-97.039196</td>\n",
       "      <td>812.0</td>\n",
       "      <td>Pausa pro café antes de embarcar no próximo vô...</td>\n",
       "      <td>[pausa, pro, cafe, antes, de, embarcar, no, pr...</td>\n",
       "    </tr>\n",
       "  </tbody>\n",
       "</table>\n",
       "</div>"
      ],
      "text/plain": [
       "             Tweet Id        Date   Hour       User Name       Nickname  \\\n",
       "0  721318437075685382  2016-04-16  12:44  Bill Schulhoff  BillSchulhoff   \n",
       "1  721318436173979648  2016-04-16  12:44   Daniele Polis      danipolis   \n",
       "\n",
       "                                       Tweet content  Favs  RTs   Latitude  \\\n",
       "0  Wind 3.2 mph NNE. Barometer 30.20 in, Rising s...   NaN  NaN  40.760278   \n",
       "1  Pausa pro café antes de embarcar no próximo vô...   NaN  NaN  32.898349   \n",
       "\n",
       "   Longitude  Followers                                    Tweet content_1  \\\n",
       "0 -72.954722      386.0  Wind 3.2 mph NNE. Barometer 30.20 in, Rising s...   \n",
       "1 -97.039196      812.0  Pausa pro café antes de embarcar no próximo vô...   \n",
       "\n",
       "                             clean_tweets[Tokenized]  \n",
       "0  [wind, mph, nne, barometer, in, rising, slowly...  \n",
       "1  [pausa, pro, cafe, antes, de, embarcar, no, pr...  "
      ]
     },
     "execution_count": 49,
     "metadata": {},
     "output_type": "execute_result"
    }
   ],
   "source": [
    "df_to_clean.head(2)"
   ]
  },
  {
   "cell_type": "code",
   "execution_count": 50,
   "id": "5c0c0ce6",
   "metadata": {},
   "outputs": [
    {
     "data": {
      "text/plain": [
       "'Wind 3.2 mph NNE. Barometer 30.20 in, Rising slowly. Temperature 49.3 °F. Rain today 0.00 in. Humidity 32%'"
      ]
     },
     "execution_count": 50,
     "metadata": {},
     "output_type": "execute_result"
    }
   ],
   "source": [
    "df_to_clean[\"Tweet content\"][0]"
   ]
  },
  {
   "cell_type": "code",
   "execution_count": 51,
   "id": "de435931-9280-411f-9558-efd155214c5d",
   "metadata": {},
   "outputs": [
    {
     "data": {
      "text/plain": [
       "'Good. Morning. #morning #Saturday #diner #VT #breakfast #nucorpsofcadetsring #ring #college… https://t.co/dBZ7dbwX6f'"
      ]
     },
     "execution_count": 51,
     "metadata": {},
     "output_type": "execute_result"
    }
   ],
   "source": [
    "df_to_clean[\"Tweet content\"][2]"
   ]
  },
  {
   "cell_type": "code",
   "execution_count": 53,
   "id": "431c6484",
   "metadata": {},
   "outputs": [
    {
     "data": {
      "text/plain": [
       "['wind',\n",
       " 'mph',\n",
       " 'nne',\n",
       " 'barometer',\n",
       " 'in',\n",
       " 'rising',\n",
       " 'slowly',\n",
       " 'temperature',\n",
       " 'rain',\n",
       " 'today',\n",
       " 'in',\n",
       " 'humidity']"
      ]
     },
     "execution_count": 53,
     "metadata": {},
     "output_type": "execute_result"
    }
   ],
   "source": [
    "df_to_clean[\"clean_tweets[Tokenized]\"][0]"
   ]
  },
  {
   "cell_type": "code",
   "execution_count": 426,
   "id": "14a4df06-3b6e-4973-ad0b-5404d5e6cfc5",
   "metadata": {},
   "outputs": [
    {
     "data": {
      "text/plain": [
       "['good',\n",
       " 'morning',\n",
       " 'morning',\n",
       " 'saturday',\n",
       " 'diner',\n",
       " 'vt',\n",
       " 'breakfast',\n",
       " 'ring',\n",
       " 'college']"
      ]
     },
     "execution_count": 426,
     "metadata": {},
     "output_type": "execute_result"
    }
   ],
   "source": [
    "df_to_clean[\"clean_tweets[Tokenized]\"][2]"
   ]
  },
  {
   "cell_type": "markdown",
   "id": "53adbff8",
   "metadata": {},
   "source": [
    "#### T2-2: Apply necessary text mining preprocessing techniques, e.g., tokenization, stemming, stop word removal, etc.\n"
   ]
  },
  {
   "cell_type": "markdown",
   "id": "ab5e30f0",
   "metadata": {},
   "source": [
    "#### Note: tokenization has already been performed in T2-1 alongside cleanning:\n"
   ]
  },
  {
   "cell_type": "markdown",
   "id": "3527c5bf",
   "metadata": {},
   "source": [
    "##### Remove stop words:"
   ]
  },
  {
   "cell_type": "code",
   "execution_count": 56,
   "id": "7ec80b1a",
   "metadata": {},
   "outputs": [],
   "source": [
    "eng_stopwords = stopwords.words('english') \n",
    "\n",
    "df_to_clean['Tokenized_NOstopwords'] = df_to_clean['clean_tweets[Tokenized]'].apply(lambda words: [word for word in words if word not in eng_stopwords])"
   ]
  },
  {
   "cell_type": "code",
   "execution_count": 57,
   "id": "aa1b989c",
   "metadata": {},
   "outputs": [
    {
     "data": {
      "text/html": [
       "<div>\n",
       "<style scoped>\n",
       "    .dataframe tbody tr th:only-of-type {\n",
       "        vertical-align: middle;\n",
       "    }\n",
       "\n",
       "    .dataframe tbody tr th {\n",
       "        vertical-align: top;\n",
       "    }\n",
       "\n",
       "    .dataframe thead th {\n",
       "        text-align: right;\n",
       "    }\n",
       "</style>\n",
       "<table border=\"1\" class=\"dataframe\">\n",
       "  <thead>\n",
       "    <tr style=\"text-align: right;\">\n",
       "      <th></th>\n",
       "      <th>Tweet Id</th>\n",
       "      <th>Date</th>\n",
       "      <th>Hour</th>\n",
       "      <th>User Name</th>\n",
       "      <th>Nickname</th>\n",
       "      <th>Tweet content</th>\n",
       "      <th>Favs</th>\n",
       "      <th>RTs</th>\n",
       "      <th>Latitude</th>\n",
       "      <th>Longitude</th>\n",
       "      <th>Followers</th>\n",
       "      <th>Tweet content_1</th>\n",
       "      <th>clean_tweets[Tokenized]</th>\n",
       "      <th>Tokenized_NOstopwords</th>\n",
       "    </tr>\n",
       "  </thead>\n",
       "  <tbody>\n",
       "    <tr>\n",
       "      <th>0</th>\n",
       "      <td>721318437075685382</td>\n",
       "      <td>2016-04-16</td>\n",
       "      <td>12:44</td>\n",
       "      <td>Bill Schulhoff</td>\n",
       "      <td>BillSchulhoff</td>\n",
       "      <td>Wind 3.2 mph NNE. Barometer 30.20 in, Rising s...</td>\n",
       "      <td>NaN</td>\n",
       "      <td>NaN</td>\n",
       "      <td>40.760278</td>\n",
       "      <td>-72.954722</td>\n",
       "      <td>386.0</td>\n",
       "      <td>Wind 3.2 mph NNE. Barometer 30.20 in, Rising s...</td>\n",
       "      <td>[wind, mph, nne, barometer, in, rising, slowly...</td>\n",
       "      <td>[wind, mph, nne, barometer, rising, slowly, te...</td>\n",
       "    </tr>\n",
       "    <tr>\n",
       "      <th>1</th>\n",
       "      <td>721318436173979648</td>\n",
       "      <td>2016-04-16</td>\n",
       "      <td>12:44</td>\n",
       "      <td>Daniele Polis</td>\n",
       "      <td>danipolis</td>\n",
       "      <td>Pausa pro café antes de embarcar no próximo vô...</td>\n",
       "      <td>NaN</td>\n",
       "      <td>NaN</td>\n",
       "      <td>32.898349</td>\n",
       "      <td>-97.039196</td>\n",
       "      <td>812.0</td>\n",
       "      <td>Pausa pro café antes de embarcar no próximo vô...</td>\n",
       "      <td>[pausa, pro, cafe, antes, de, embarcar, no, pr...</td>\n",
       "      <td>[pausa, pro, cafe, antes, de, embarcar, proxim...</td>\n",
       "    </tr>\n",
       "  </tbody>\n",
       "</table>\n",
       "</div>"
      ],
      "text/plain": [
       "             Tweet Id        Date   Hour       User Name       Nickname  \\\n",
       "0  721318437075685382  2016-04-16  12:44  Bill Schulhoff  BillSchulhoff   \n",
       "1  721318436173979648  2016-04-16  12:44   Daniele Polis      danipolis   \n",
       "\n",
       "                                       Tweet content  Favs  RTs   Latitude  \\\n",
       "0  Wind 3.2 mph NNE. Barometer 30.20 in, Rising s...   NaN  NaN  40.760278   \n",
       "1  Pausa pro café antes de embarcar no próximo vô...   NaN  NaN  32.898349   \n",
       "\n",
       "   Longitude  Followers                                    Tweet content_1  \\\n",
       "0 -72.954722      386.0  Wind 3.2 mph NNE. Barometer 30.20 in, Rising s...   \n",
       "1 -97.039196      812.0  Pausa pro café antes de embarcar no próximo vô...   \n",
       "\n",
       "                             clean_tweets[Tokenized]  \\\n",
       "0  [wind, mph, nne, barometer, in, rising, slowly...   \n",
       "1  [pausa, pro, cafe, antes, de, embarcar, no, pr...   \n",
       "\n",
       "                               Tokenized_NOstopwords  \n",
       "0  [wind, mph, nne, barometer, rising, slowly, te...  \n",
       "1  [pausa, pro, cafe, antes, de, embarcar, proxim...  "
      ]
     },
     "execution_count": 57,
     "metadata": {},
     "output_type": "execute_result"
    }
   ],
   "source": [
    "df_to_clean.head(2)"
   ]
  },
  {
   "cell_type": "code",
   "execution_count": 58,
   "id": "a9c0c4e8",
   "metadata": {},
   "outputs": [
    {
     "data": {
      "text/plain": [
       "['wind',\n",
       " 'mph',\n",
       " 'nne',\n",
       " 'barometer',\n",
       " 'in',\n",
       " 'rising',\n",
       " 'slowly',\n",
       " 'temperature',\n",
       " 'rain',\n",
       " 'today',\n",
       " 'in',\n",
       " 'humidity']"
      ]
     },
     "execution_count": 58,
     "metadata": {},
     "output_type": "execute_result"
    }
   ],
   "source": [
    "# Check \n",
    "df_to_clean[\"clean_tweets[Tokenized]\"][0]"
   ]
  },
  {
   "cell_type": "code",
   "execution_count": 59,
   "id": "f62173fc-5b77-4c26-80eb-b7cffc099a4f",
   "metadata": {},
   "outputs": [
    {
     "data": {
      "text/plain": [
       "['wind',\n",
       " 'mph',\n",
       " 'nne',\n",
       " 'barometer',\n",
       " 'rising',\n",
       " 'slowly',\n",
       " 'temperature',\n",
       " 'rain',\n",
       " 'today',\n",
       " 'humidity']"
      ]
     },
     "execution_count": 59,
     "metadata": {},
     "output_type": "execute_result"
    }
   ],
   "source": [
    "# Check (\"in\" is removed)\n",
    "df_to_clean[\"Tokenized_NOstopwords\"][0]"
   ]
  },
  {
   "cell_type": "code",
   "execution_count": null,
   "id": "c141b1ce-0936-4c59-aba2-09b8fde7530e",
   "metadata": {},
   "outputs": [],
   "source": []
  },
  {
   "cell_type": "code",
   "execution_count": null,
   "id": "7cf998fd-0872-496c-a70e-e07ca8d50a56",
   "metadata": {},
   "outputs": [],
   "source": []
  },
  {
   "cell_type": "markdown",
   "id": "8810799f",
   "metadata": {
    "tags": []
   },
   "source": [
    "#### Lemmatization:"
   ]
  },
  {
   "cell_type": "code",
   "execution_count": 62,
   "id": "80501565",
   "metadata": {},
   "outputs": [],
   "source": [
    "# Creating a function for Lemmatization\n",
    "def Lemmatization(text):\n",
    "    \n",
    "    lemm_text = [WordNetLemmatizer().lemmatize(word, pos=\"v\") for word in text]\n",
    "    return lemm_text\n",
    "\n",
    "df_to_clean['Lemmatized_clean_tweet'] = df_to_clean[\"Tokenized_NOstopwords\"].apply(lambda x:Lemmatization(x))"
   ]
  },
  {
   "cell_type": "code",
   "execution_count": 63,
   "id": "bcf908fe",
   "metadata": {},
   "outputs": [
    {
     "data": {
      "text/html": [
       "<div>\n",
       "<style scoped>\n",
       "    .dataframe tbody tr th:only-of-type {\n",
       "        vertical-align: middle;\n",
       "    }\n",
       "\n",
       "    .dataframe tbody tr th {\n",
       "        vertical-align: top;\n",
       "    }\n",
       "\n",
       "    .dataframe thead th {\n",
       "        text-align: right;\n",
       "    }\n",
       "</style>\n",
       "<table border=\"1\" class=\"dataframe\">\n",
       "  <thead>\n",
       "    <tr style=\"text-align: right;\">\n",
       "      <th></th>\n",
       "      <th>Tweet Id</th>\n",
       "      <th>Date</th>\n",
       "      <th>Hour</th>\n",
       "      <th>User Name</th>\n",
       "      <th>Nickname</th>\n",
       "      <th>Tweet content</th>\n",
       "      <th>Favs</th>\n",
       "      <th>RTs</th>\n",
       "      <th>Latitude</th>\n",
       "      <th>Longitude</th>\n",
       "      <th>Followers</th>\n",
       "      <th>Tweet content_1</th>\n",
       "      <th>clean_tweets[Tokenized]</th>\n",
       "      <th>Tokenized_NOstopwords</th>\n",
       "      <th>Lemmatized_clean_tweet</th>\n",
       "    </tr>\n",
       "  </thead>\n",
       "  <tbody>\n",
       "    <tr>\n",
       "      <th>0</th>\n",
       "      <td>721318437075685382</td>\n",
       "      <td>2016-04-16</td>\n",
       "      <td>12:44</td>\n",
       "      <td>Bill Schulhoff</td>\n",
       "      <td>BillSchulhoff</td>\n",
       "      <td>Wind 3.2 mph NNE. Barometer 30.20 in, Rising s...</td>\n",
       "      <td>NaN</td>\n",
       "      <td>NaN</td>\n",
       "      <td>40.760278</td>\n",
       "      <td>-72.954722</td>\n",
       "      <td>386.0</td>\n",
       "      <td>Wind 3.2 mph NNE. Barometer 30.20 in, Rising s...</td>\n",
       "      <td>[wind, mph, nne, barometer, in, rising, slowly...</td>\n",
       "      <td>[wind, mph, nne, barometer, rising, slowly, te...</td>\n",
       "      <td>[wind, mph, nne, barometer, rise, slowly, temp...</td>\n",
       "    </tr>\n",
       "    <tr>\n",
       "      <th>1</th>\n",
       "      <td>721318436173979648</td>\n",
       "      <td>2016-04-16</td>\n",
       "      <td>12:44</td>\n",
       "      <td>Daniele Polis</td>\n",
       "      <td>danipolis</td>\n",
       "      <td>Pausa pro café antes de embarcar no próximo vô...</td>\n",
       "      <td>NaN</td>\n",
       "      <td>NaN</td>\n",
       "      <td>32.898349</td>\n",
       "      <td>-97.039196</td>\n",
       "      <td>812.0</td>\n",
       "      <td>Pausa pro café antes de embarcar no próximo vô...</td>\n",
       "      <td>[pausa, pro, cafe, antes, de, embarcar, no, pr...</td>\n",
       "      <td>[pausa, pro, cafe, antes, de, embarcar, proxim...</td>\n",
       "      <td>[pausa, pro, cafe, ante, de, embarcar, proximo...</td>\n",
       "    </tr>\n",
       "  </tbody>\n",
       "</table>\n",
       "</div>"
      ],
      "text/plain": [
       "             Tweet Id        Date   Hour       User Name       Nickname  \\\n",
       "0  721318437075685382  2016-04-16  12:44  Bill Schulhoff  BillSchulhoff   \n",
       "1  721318436173979648  2016-04-16  12:44   Daniele Polis      danipolis   \n",
       "\n",
       "                                       Tweet content  Favs  RTs   Latitude  \\\n",
       "0  Wind 3.2 mph NNE. Barometer 30.20 in, Rising s...   NaN  NaN  40.760278   \n",
       "1  Pausa pro café antes de embarcar no próximo vô...   NaN  NaN  32.898349   \n",
       "\n",
       "   Longitude  Followers                                    Tweet content_1  \\\n",
       "0 -72.954722      386.0  Wind 3.2 mph NNE. Barometer 30.20 in, Rising s...   \n",
       "1 -97.039196      812.0  Pausa pro café antes de embarcar no próximo vô...   \n",
       "\n",
       "                             clean_tweets[Tokenized]  \\\n",
       "0  [wind, mph, nne, barometer, in, rising, slowly...   \n",
       "1  [pausa, pro, cafe, antes, de, embarcar, no, pr...   \n",
       "\n",
       "                               Tokenized_NOstopwords  \\\n",
       "0  [wind, mph, nne, barometer, rising, slowly, te...   \n",
       "1  [pausa, pro, cafe, antes, de, embarcar, proxim...   \n",
       "\n",
       "                              Lemmatized_clean_tweet  \n",
       "0  [wind, mph, nne, barometer, rise, slowly, temp...  \n",
       "1  [pausa, pro, cafe, ante, de, embarcar, proximo...  "
      ]
     },
     "execution_count": 63,
     "metadata": {},
     "output_type": "execute_result"
    }
   ],
   "source": [
    "df_to_clean.head(2)"
   ]
  },
  {
   "cell_type": "code",
   "execution_count": null,
   "id": "ee905c28-6916-4f4d-9918-d48cb4d00df8",
   "metadata": {},
   "outputs": [],
   "source": []
  },
  {
   "cell_type": "code",
   "execution_count": 64,
   "id": "a535496c-7a0a-4bc8-9287-6e4b2ac871c2",
   "metadata": {},
   "outputs": [
    {
     "data": {
      "text/plain": [
       "['although', 'endorsing', 'candidate', 'thought']"
      ]
     },
     "execution_count": 64,
     "metadata": {},
     "output_type": "execute_result"
    }
   ],
   "source": [
    "df_to_clean[\"Tokenized_NOstopwords\"][12]"
   ]
  },
  {
   "cell_type": "code",
   "execution_count": 65,
   "id": "ac636c5c-6f1e-4172-98aa-c8734090d514",
   "metadata": {},
   "outputs": [
    {
     "data": {
      "text/plain": [
       "['although', 'endorse', 'candidate', 'think']"
      ]
     },
     "execution_count": 65,
     "metadata": {},
     "output_type": "execute_result"
    }
   ],
   "source": [
    "df_to_clean['Lemmatized_clean_tweet'][12]"
   ]
  },
  {
   "cell_type": "code",
   "execution_count": null,
   "id": "f36381af-e902-41a9-ba37-3ef27bf076d3",
   "metadata": {},
   "outputs": [],
   "source": []
  },
  {
   "cell_type": "code",
   "execution_count": null,
   "id": "5d17dfdc",
   "metadata": {},
   "outputs": [],
   "source": []
  },
  {
   "cell_type": "code",
   "execution_count": 66,
   "id": "a5dfb032",
   "metadata": {},
   "outputs": [],
   "source": [
    "df_preprocessed = df_to_clean.copy(deep=True)"
   ]
  },
  {
   "cell_type": "code",
   "execution_count": 67,
   "id": "bbce4179",
   "metadata": {},
   "outputs": [],
   "source": [
    "# Remove all the columns created while cleaning except the last one \"Lemmatized_clean_tweet\"\n",
    "df_preprocessed.drop([\"Tweet content_1\", \"clean_tweets[Tokenized]\", \"Tokenized_NOstopwords\"], axis=1, inplace=True)"
   ]
  },
  {
   "cell_type": "code",
   "execution_count": 69,
   "id": "260af4d4",
   "metadata": {},
   "outputs": [],
   "source": [
    "# Rename \"Lemmatized_clean_tweet\" as \"preprocessed_tweets\"\n",
    "df_preprocessed.rename(columns={'Lemmatized_clean_tweet':'preprocessed_tweets'}, inplace=True)"
   ]
  },
  {
   "cell_type": "code",
   "execution_count": 72,
   "id": "c22c9931-c6c7-48f1-823b-d0d11f95e55c",
   "metadata": {},
   "outputs": [],
   "source": [
    "# To remove\n",
    "df_preprocessed[\"st_preprocessed_tweets\"] = df_preprocessed[\"preprocessed_tweets\"].map(lambda x: ' '.join(map(str, x)))"
   ]
  },
  {
   "cell_type": "code",
   "execution_count": 73,
   "id": "06aa3d5d",
   "metadata": {},
   "outputs": [
    {
     "data": {
      "text/html": [
       "<div>\n",
       "<style scoped>\n",
       "    .dataframe tbody tr th:only-of-type {\n",
       "        vertical-align: middle;\n",
       "    }\n",
       "\n",
       "    .dataframe tbody tr th {\n",
       "        vertical-align: top;\n",
       "    }\n",
       "\n",
       "    .dataframe thead th {\n",
       "        text-align: right;\n",
       "    }\n",
       "</style>\n",
       "<table border=\"1\" class=\"dataframe\">\n",
       "  <thead>\n",
       "    <tr style=\"text-align: right;\">\n",
       "      <th></th>\n",
       "      <th>Tweet Id</th>\n",
       "      <th>Date</th>\n",
       "      <th>Hour</th>\n",
       "      <th>User Name</th>\n",
       "      <th>Nickname</th>\n",
       "      <th>Tweet content</th>\n",
       "      <th>Favs</th>\n",
       "      <th>RTs</th>\n",
       "      <th>Latitude</th>\n",
       "      <th>Longitude</th>\n",
       "      <th>Followers</th>\n",
       "      <th>preprocessed_tweets</th>\n",
       "      <th>st_preprocessed_tweets</th>\n",
       "    </tr>\n",
       "  </thead>\n",
       "  <tbody>\n",
       "    <tr>\n",
       "      <th>0</th>\n",
       "      <td>721318437075685382</td>\n",
       "      <td>2016-04-16</td>\n",
       "      <td>12:44</td>\n",
       "      <td>Bill Schulhoff</td>\n",
       "      <td>BillSchulhoff</td>\n",
       "      <td>Wind 3.2 mph NNE. Barometer 30.20 in, Rising s...</td>\n",
       "      <td>NaN</td>\n",
       "      <td>NaN</td>\n",
       "      <td>40.760278</td>\n",
       "      <td>-72.954722</td>\n",
       "      <td>386.0</td>\n",
       "      <td>[wind, mph, nne, barometer, rise, slowly, temp...</td>\n",
       "      <td>wind mph nne barometer rise slowly temperature...</td>\n",
       "    </tr>\n",
       "    <tr>\n",
       "      <th>1</th>\n",
       "      <td>721318436173979648</td>\n",
       "      <td>2016-04-16</td>\n",
       "      <td>12:44</td>\n",
       "      <td>Daniele Polis</td>\n",
       "      <td>danipolis</td>\n",
       "      <td>Pausa pro café antes de embarcar no próximo vô...</td>\n",
       "      <td>NaN</td>\n",
       "      <td>NaN</td>\n",
       "      <td>32.898349</td>\n",
       "      <td>-97.039196</td>\n",
       "      <td>812.0</td>\n",
       "      <td>[pausa, pro, cafe, ante, de, embarcar, proximo...</td>\n",
       "      <td>pausa pro cafe ante de embarcar proximo voo da...</td>\n",
       "    </tr>\n",
       "  </tbody>\n",
       "</table>\n",
       "</div>"
      ],
      "text/plain": [
       "             Tweet Id        Date   Hour       User Name       Nickname  \\\n",
       "0  721318437075685382  2016-04-16  12:44  Bill Schulhoff  BillSchulhoff   \n",
       "1  721318436173979648  2016-04-16  12:44   Daniele Polis      danipolis   \n",
       "\n",
       "                                       Tweet content  Favs  RTs   Latitude  \\\n",
       "0  Wind 3.2 mph NNE. Barometer 30.20 in, Rising s...   NaN  NaN  40.760278   \n",
       "1  Pausa pro café antes de embarcar no próximo vô...   NaN  NaN  32.898349   \n",
       "\n",
       "   Longitude  Followers                                preprocessed_tweets  \\\n",
       "0 -72.954722      386.0  [wind, mph, nne, barometer, rise, slowly, temp...   \n",
       "1 -97.039196      812.0  [pausa, pro, cafe, ante, de, embarcar, proximo...   \n",
       "\n",
       "                              st_preprocessed_tweets  \n",
       "0  wind mph nne barometer rise slowly temperature...  \n",
       "1  pausa pro cafe ante de embarcar proximo voo da...  "
      ]
     },
     "execution_count": 73,
     "metadata": {},
     "output_type": "execute_result"
    }
   ],
   "source": [
    "df_preprocessed.head(2)"
   ]
  },
  {
   "cell_type": "code",
   "execution_count": null,
   "id": "22731dc4",
   "metadata": {},
   "outputs": [],
   "source": []
  },
  {
   "cell_type": "code",
   "execution_count": null,
   "id": "eda20c70-f060-4367-9f1f-103383cd1648",
   "metadata": {},
   "outputs": [],
   "source": []
  },
  {
   "cell_type": "markdown",
   "id": "67ef6d15-e5e1-48ce-b3b2-ef9f92ef13a1",
   "metadata": {
    "tags": []
   },
   "source": [
    "### Bigram and Trigram:"
   ]
  },
  {
   "cell_type": "code",
   "execution_count": 78,
   "id": "4aed7e20-702b-4235-b5d6-65612790b0ca",
   "metadata": {},
   "outputs": [],
   "source": [
    "# Gather all preprocessed tweets into one big array\n",
    "tweets_Copy = df_preprocessed.preprocessed_tweets.values.tolist()"
   ]
  },
  {
   "cell_type": "code",
   "execution_count": 79,
   "id": "af43346d-31b6-41ef-894c-2341480fe91d",
   "metadata": {},
   "outputs": [
    {
     "data": {
      "text/plain": [
       "[['wind',\n",
       "  'mph',\n",
       "  'nne',\n",
       "  'barometer',\n",
       "  'rise',\n",
       "  'slowly',\n",
       "  'temperature',\n",
       "  'rain',\n",
       "  'today',\n",
       "  'humidity'],\n",
       " ['pausa',\n",
       "  'pro',\n",
       "  'cafe',\n",
       "  'ante',\n",
       "  'de',\n",
       "  'embarcar',\n",
       "  'proximo',\n",
       "  'voo',\n",
       "  'danipolisviaja',\n",
       "  'pause']]"
      ]
     },
     "execution_count": 79,
     "metadata": {},
     "output_type": "execute_result"
    }
   ],
   "source": [
    "tweets_Copy[0:2]"
   ]
  },
  {
   "cell_type": "code",
   "execution_count": null,
   "id": "d49a8d1e-b200-4794-974e-3c5e845db7a8",
   "metadata": {},
   "outputs": [],
   "source": []
  },
  {
   "cell_type": "code",
   "execution_count": 81,
   "id": "435b39ba-952a-4def-920a-26468be5bec7",
   "metadata": {},
   "outputs": [
    {
     "name": "stderr",
     "output_type": "stream",
     "text": [
      "IOPub data rate exceeded.\n",
      "The Jupyter server will temporarily stop sending output\n",
      "to the client in order to avoid crashing it.\n",
      "To change this limit, set the config variable\n",
      "`--ServerApp.iopub_data_rate_limit`.\n",
      "\n",
      "Current values:\n",
      "ServerApp.iopub_data_rate_limit=1000000.0 (bytes/sec)\n",
      "ServerApp.rate_limit_window=3.0 (secs)\n",
      "\n"
     ]
    }
   ],
   "source": [
    "# Making bigrams and trigrams:\n",
    "bigram_phrases = gensim.models.Phrases(tweets_Copy, min_count=5, threshold=50)\n",
    "trigram_phrases = gensim.models.Phrases(bigram_phrases[tweets_Copy], threshold=50)\n",
    "\n",
    "bigram= gensim.models.phrases.Phraser(bigram_phrases)\n",
    "trigram= gensim.models.phrases.Phraser(trigram_phrases)\n",
    "\n",
    "# Function to make bigrams\n",
    "def make_bigrams(texts):\n",
    "    return ([bigram[doc] for doc in texts])                       \n",
    "# Function to make trigrams\n",
    "def make_trigram(texts):\n",
    "    return ([trigram[bigram[doc]] for doc in texts])\n",
    "\n",
    "data_bigrams = make_bigrams(tweets_Copy)\n",
    "data_bigrams_trigrams = make_trigram(data_bigrams)\n",
    "\n",
    "print(data_bigrams_trigrams)"
   ]
  },
  {
   "cell_type": "code",
   "execution_count": 82,
   "id": "9cb7dd3d-3a91-4cc0-9857-5998fd5a1652",
   "metadata": {},
   "outputs": [
    {
     "data": {
      "text/plain": [
       "['spring', 'come', 'nypl', 'nypl', 'new', 'york', 'public', 'library']"
      ]
     },
     "execution_count": 82,
     "metadata": {},
     "output_type": "execute_result"
    }
   ],
   "source": [
    "tweets_Copy[151]"
   ]
  },
  {
   "cell_type": "code",
   "execution_count": 84,
   "id": "52f1e58a-ff5c-4f34-8c8c-4b5475fa1460",
   "metadata": {},
   "outputs": [
    {
     "data": {
      "text/plain": [
       "['spring', 'come', 'nypl', 'nypl_new_york', 'public_library']"
      ]
     },
     "execution_count": 84,
     "metadata": {},
     "output_type": "execute_result"
    }
   ],
   "source": [
    "data_bigrams_trigrams[151]"
   ]
  },
  {
   "cell_type": "code",
   "execution_count": null,
   "id": "695a34dc-39fb-4a0b-a8aa-3848ef51bcb8",
   "metadata": {},
   "outputs": [],
   "source": []
  },
  {
   "cell_type": "code",
   "execution_count": null,
   "id": "ff25b4ca-f0e4-4823-9044-95085d3775a0",
   "metadata": {},
   "outputs": [],
   "source": []
  },
  {
   "cell_type": "markdown",
   "id": "09518940",
   "metadata": {
    "jp-MarkdownHeadingCollapsed": true,
    "tags": []
   },
   "source": [
    "## T3 Data Processing and Analysis: "
   ]
  },
  {
   "cell_type": "code",
   "execution_count": null,
   "id": "a7bb9c38-0030-49fb-9765-ae706eb37351",
   "metadata": {},
   "outputs": [],
   "source": []
  },
  {
   "cell_type": "code",
   "execution_count": null,
   "id": "f3761dcc-b2e4-466d-9e24-77e1cb1334a2",
   "metadata": {},
   "outputs": [],
   "source": []
  },
  {
   "cell_type": "code",
   "execution_count": null,
   "id": "503a84fb-2c8d-4f60-89ea-a53194d9b4be",
   "metadata": {},
   "outputs": [],
   "source": []
  },
  {
   "cell_type": "markdown",
   "id": "8fa7ab7d-6cef-422a-9018-1e5c4175e8cd",
   "metadata": {
    "jp-MarkdownHeadingCollapsed": true,
    "tags": []
   },
   "source": [
    "### Text modelling [LDA]: [Real]"
   ]
  },
  {
   "cell_type": "code",
   "execution_count": 87,
   "id": "d0877b4d-c960-4418-9b70-d210e28014ba",
   "metadata": {},
   "outputs": [],
   "source": [
    "import gensim.corpora as corpora\n",
    "from pprint import pprint\n",
    "import time"
   ]
  },
  {
   "cell_type": "code",
   "execution_count": 85,
   "id": "9197607e-e289-4500-b118-d13b56896028",
   "metadata": {},
   "outputs": [
    {
     "name": "stdout",
     "output_type": "stream",
     "text": [
      "[[(0, 1), (1, 1), (2, 1)], [(3, 1), (4, 1), (5, 1), (6, 1), (7, 1), (8, 1), (9, 1), (10, 1), (11, 1)], [(12, 1), (13, 1), (14, 1), (15, 1), (16, 1), (17, 1), (18, 1), (19, 1)], [(20, 1), (21, 1), (22, 1), (23, 1)], [(24, 1), (25, 1), (26, 1), (27, 1), (28, 1), (29, 1), (30, 1)], [(31, 1), (32, 1), (33, 1), (34, 1), (35, 1), (36, 1), (37, 1), (38, 1), (39, 1), (40, 1)], [(41, 1), (42, 2), (43, 1)], [(44, 1), (45, 1), (46, 1), (47, 1), (48, 1), (49, 1), (50, 1), (51, 1), (52, 1)], [(53, 1), (54, 1), (55, 1)], [(46, 1), (56, 1), (57, 1), (58, 1), (59, 1), (60, 2), (61, 1)], [(46, 1), (51, 1), (60, 2), (62, 1), (63, 1), (64, 1), (65, 1)], [(66, 1), (67, 1), (68, 1), (69, 1), (70, 1)], [(71, 1), (72, 1), (73, 1), (74, 1)], [(74, 1), (75, 1), (76, 1), (77, 1), (78, 1), (79, 1), (80, 1)], [(46, 1), (48, 1), (60, 2), (62, 1), (81, 1), (82, 1), (83, 1), (84, 1)], [(46, 1), (48, 1), (60, 2), (83, 1), (84, 1), (85, 1), (86, 1), (87, 1)], [(88, 1), (89, 1)], [(46, 1), (60, 2), (90, 1), (91, 1), (92, 1), (93, 1), (94, 1), (95, 1), (96, 1)], [(46, 1), (97, 1), (98, 1), (99, 1), (100, 1), (101, 1), (102, 1)], [(103, 1), (104, 1), (105, 1)], [(74, 2), (106, 2), (107, 1), (108, 1)], [(109, 1), (110, 1), (111, 1), (112, 1), (113, 1)], [(114, 1)], [(46, 1), (60, 1), (62, 1), (115, 1), (116, 1), (117, 1)], [(51, 2), (60, 2), (62, 1), (118, 1), (119, 1), (120, 1), (121, 1)], [(122, 1)], [(46, 1), (123, 1), (124, 1), (125, 1), (126, 1), (127, 1), (128, 1), (129, 1)], [(46, 1), (60, 2), (62, 1), (84, 1), (120, 1), (130, 1), (131, 1), (132, 1)], [(102, 1), (133, 1), (134, 1), (135, 1), (136, 1)], [(137, 1), (138, 1), (139, 1), (140, 1)]]\n"
     ]
    }
   ],
   "source": [
    "# Create Dictionary\n",
    "id2word = corpora.Dictionary(data_bigrams_trigrams)\n",
    "# Create Corpus\n",
    "texts = data_bigrams_trigrams\n",
    "# Term Document Frequency\n",
    "corpus = [id2word.doc2bow(text) for text in texts]\n",
    "# View\n",
    "print(corpus[0:30])"
   ]
  },
  {
   "cell_type": "markdown",
   "id": "942cc620-5f6e-4e64-8777-f05c7bbce852",
   "metadata": {
    "tags": []
   },
   "source": [
    "#### LDA (K=10):"
   ]
  },
  {
   "cell_type": "code",
   "execution_count": 88,
   "id": "131e6843-b693-460c-9385-775160c21c8a",
   "metadata": {},
   "outputs": [
    {
     "name": "stdout",
     "output_type": "stream",
     "text": [
      "The execution time: 26.819631814956665 seconds\n"
     ]
    }
   ],
   "source": [
    "# Calculate running time\n",
    "start_time = time.time()\n",
    "# This LDA models has 10 as number of topics\n",
    "lda_model_10 = gensim.models.LdaMulticore(corpus=corpus,\n",
    "                                       id2word=id2word,\n",
    "                                       num_topics=10)\n",
    "\n",
    "\n",
    "print(\"The execution time: %s seconds\" % (time.time() - start_time))"
   ]
  },
  {
   "cell_type": "code",
   "execution_count": 89,
   "id": "d3cf4a97-0df9-4ec3-9bd0-7fe2bf5a560f",
   "metadata": {},
   "outputs": [
    {
     "name": "stdout",
     "output_type": "stream",
     "text": [
      "[(0,\n",
      "  '0.011*\"tbt\" + 0.007*\"city\" + 0.006*\"get\" + 0.005*\"one\" + 0.005*\"best\" + '\n",
      "  '0.004*\"drink\" + 0.004*\"beach\" + 0.004*\"work\" + 0.004*\"hire\" + '\n",
      "  '0.003*\"recommend_anyone_job\"'),\n",
      " (1,\n",
      "  '0.192*\"job\" + 0.113*\"hire\" + 0.062*\"careerarc\" + 0.029*\"open\" + '\n",
      "  '0.023*\"retail\" + 0.018*\"hospitality\" + 0.016*\"sales\" + 0.016*\"want_work\" + '\n",
      "  '0.011*\"healthcare\" + 0.011*\"view_latest\"'),\n",
      " (2,\n",
      "  '0.013*\"get\" + 0.012*\"day\" + 0.010*\"amp\" + 0.006*\"one\" + 0.005*\"today\" + '\n",
      "  '0.005*\"come\" + 0.005*\"love\" + 0.004*\"california\" + 0.004*\"time\" + '\n",
      "  '0.004*\"de\"'),\n",
      " (3,\n",
      "  '0.032*\"near\" + 0.032*\"interest\" + 0.027*\"could_great_fit\" + 0.013*\"job\" + '\n",
      "  '0.011*\"hire\" + 0.009*\"la\" + 0.009*\"de\" + 0.008*\"amp\" + 0.007*\"tonight\" + '\n",
      "  '0.006*\"come\"'),\n",
      " (4,\n",
      "  '0.015*\"de\" + 0.009*\"mexico\" + 0.008*\"la\" + 0.007*\"el\" + 0.007*\"drink\" + '\n",
      "  '0.007*\"que\" + 0.006*\"love\" + 0.006*\"go\" + 0.006*\"photo\" + 0.005*\"good\"'),\n",
      " (5,\n",
      "  '0.006*\"thank\" + 0.006*\"go\" + 0.006*\"amp\" + 0.005*\"today\" + 0.005*\"time\" + '\n",
      "  '0.005*\"job\" + 0.005*\"one\" + 0.005*\"love\" + 0.004*\"tonight\" + 0.004*\"game\"'),\n",
      " (6,\n",
      "  '0.037*\"hire\" + 0.036*\"see\" + 0.034*\"latest\" + 0.031*\"recommend_anyone_job\" '\n",
      "  '+ 0.031*\"job_click_apply\" + 0.021*\"nurse\" + 0.008*\"careerarc\" + '\n",
      "  '0.008*\"open\" + 0.008*\"read_latest_job\" + 0.007*\"job\"'),\n",
      " (7,\n",
      "  '0.010*\"de\" + 0.010*\"job\" + 0.010*\"love\" + 0.009*\"amp\" + 0.008*\"la\" + '\n",
      "  '0.008*\"hire\" + 0.006*\"ca\" + 0.006*\"rd\" + 0.006*\"us\" + 0.004*\"day\"'),\n",
      " (8,\n",
      "  '0.009*\"post_photo\" + 0.009*\"today\" + 0.006*\"amp\" + 0.006*\"new\" + '\n",
      "  '0.006*\"center\" + 0.005*\"time\" + 0.005*\"go\" + 0.005*\"want\" + 0.004*\"city\" + '\n",
      "  '0.004*\"love\"'),\n",
      " (9,\n",
      "  '0.011*\"amp\" + 0.010*\"drink\" + 0.007*\"get\" + 0.005*\"come\" + 0.005*\"back\" + '\n",
      "  '0.004*\"photo\" + 0.004*\"df\" + 0.004*\"tonight\" + 0.004*\"stop_go\" + '\n",
      "  '0.003*\"way\"')]\n"
     ]
    }
   ],
   "source": [
    "# Print the Keyword in the 10 topics\n",
    "pprint(lda_model_10.print_topics())\n",
    "doc_lda = lda_model_10[corpus]"
   ]
  },
  {
   "cell_type": "code",
   "execution_count": null,
   "id": "fb7dbe0e-8a77-4a44-a070-6d8454dad76d",
   "metadata": {},
   "outputs": [],
   "source": []
  },
  {
   "cell_type": "markdown",
   "id": "fc0ef366-d422-4e1d-a6d3-99feaa2b48dc",
   "metadata": {
    "tags": []
   },
   "source": [
    "#### LDA(k=5):"
   ]
  },
  {
   "cell_type": "code",
   "execution_count": 90,
   "id": "aecc65fe-e737-4c19-aaa9-11c776f54527",
   "metadata": {},
   "outputs": [
    {
     "name": "stdout",
     "output_type": "stream",
     "text": [
      "The execution time: 29.644028425216675 seconds\n"
     ]
    }
   ],
   "source": [
    "# Calculate running time\n",
    "start_time = time.time()\n",
    "\n",
    "# This LDA models has 5 as number of topics\n",
    "lda_model_5 = gensim.models.LdaMulticore(corpus=corpus,\n",
    "                                       id2word=id2word,\n",
    "                                       num_topics=5)\n",
    "\n",
    "print(\"The execution time: %s seconds\" % (time.time() - start_time))"
   ]
  },
  {
   "cell_type": "code",
   "execution_count": 92,
   "id": "854b4a82-c85a-4f34-a095-03f22850c66f",
   "metadata": {},
   "outputs": [
    {
     "name": "stdout",
     "output_type": "stream",
     "text": [
      "[(0,\n",
      "  '0.139*\"job\" + 0.076*\"hire\" + 0.038*\"careerarc\" + 0.024*\"open\" + '\n",
      "  '0.014*\"want_work\" + 0.013*\"hospitality\" + 0.011*\"retail\" + '\n",
      "  '0.009*\"view_latest\" + 0.009*\"nurse\" + 0.009*\"healthcare\"'),\n",
      " (1,\n",
      "  '0.013*\"get\" + 0.006*\"day\" + 0.006*\"love\" + 0.006*\"time\" + 0.006*\"go\" + '\n",
      "  '0.005*\"today\" + 0.005*\"come\" + 0.005*\"work\" + 0.005*\"one\" + 0.005*\"thank\"'),\n",
      " (2,\n",
      "  '0.057*\"hire\" + 0.052*\"job\" + 0.028*\"careerarc\" + 0.021*\"sales\" + '\n",
      "  '0.017*\"retail\" + 0.016*\"see\" + 0.015*\"near\" + 0.015*\"latest\" + '\n",
      "  '0.015*\"interest\" + 0.014*\"job_click_apply\"'),\n",
      " (3,\n",
      "  '0.014*\"amp\" + 0.005*\"job\" + 0.004*\"today\" + 0.004*\"day\" + 0.004*\"love\" + '\n",
      "  '0.004*\"new\" + 0.003*\"go\" + 0.003*\"park\" + 0.003*\"hire\" + 0.003*\"tonight\"'),\n",
      " (4,\n",
      "  '0.023*\"de\" + 0.013*\"la\" + 0.007*\"que\" + 0.006*\"en\" + 0.006*\"post_photo\" + '\n",
      "  '0.006*\"el\" + 0.005*\"mexico\" + 0.004*\"ca\" + 0.004*\"con\" + 0.004*\"drink\"')]\n"
     ]
    }
   ],
   "source": [
    "# Print the Keyword in each of the 5 topics\n",
    "pprint(lda_model_5.print_topics())\n",
    "doc_lda_5 = lda_model_5[corpus]"
   ]
  },
  {
   "cell_type": "markdown",
   "id": "c94a4df4-7b3e-4770-971f-2b91dfc60113",
   "metadata": {
    "tags": []
   },
   "source": [
    "#### Visualization for K=10,5:"
   ]
  },
  {
   "cell_type": "code",
   "execution_count": 93,
   "id": "ccabb67e-70c9-4375-a6cd-59a64090777e",
   "metadata": {},
   "outputs": [],
   "source": [
    "import pyLDAvis.gensim_models\n",
    "import pickle \n",
    "import pyLDAvis"
   ]
  },
  {
   "cell_type": "code",
   "execution_count": 94,
   "id": "74de21e2-adba-48a6-a3ad-1ddaf814bdfc",
   "metadata": {},
   "outputs": [
    {
     "name": "stderr",
     "output_type": "stream",
     "text": [
      "C:\\Users\\rcuza\\anaconda3\\lib\\site-packages\\pyLDAvis\\_prepare.py:246: FutureWarning: In a future version of pandas all arguments of DataFrame.drop except for the argument 'labels' will be keyword-only.\n",
      "  default_term_info = default_term_info.sort_values(\n"
     ]
    },
    {
     "data": {
      "text/html": [
       "\n",
       "<link rel=\"stylesheet\" type=\"text/css\" href=\"https://cdn.jsdelivr.net/gh/bmabey/pyLDAvis@3.3.1/pyLDAvis/js/ldavis.v1.0.0.css\">\n",
       "\n",
       "\n",
       "<div id=\"ldavis_el2872823550506052481235306500\"></div>\n",
       "<script type=\"text/javascript\">\n",
       "\n",
       "var ldavis_el2872823550506052481235306500_data = {\"mdsDat\": {\"x\": [-0.3650208437212628, 0.12857850717494274, 0.08238913276998305, 0.09982010343650123, 0.0696593080554427, 0.06623288875253681, -0.16269290035569392, 0.07772719534246526, 0.002412454664590805, 0.0008941538804940247], \"y\": [-0.06593807594986421, -0.02027854402187234, -0.07978139394363153, 0.051418156175681066, 0.030948551496292755, 0.0441677968491176, 0.16724834750998993, 0.031115160530219663, -0.11087581719638276, -0.048024181449550146], \"topics\": [1, 2, 3, 4, 5, 6, 7, 8, 9, 10], \"cluster\": [1, 1, 1, 1, 1, 1, 1, 1, 1, 1], \"Freq\": [23.771430851076367, 12.61671968095926, 9.421379261715728, 8.723337444336023, 8.441934919926961, 7.67306489045097, 7.645553406212248, 7.488354730249933, 7.471175993483309, 6.747048821589203]}, \"tinfo\": {\"Term\": [\"job\", \"hire\", \"careerarc\", \"latest\", \"interest\", \"near\", \"job_click_apply\", \"recommend_anyone_job\", \"see\", \"could_great_fit\", \"nurse\", \"retail\", \"open\", \"want_work\", \"hospitality\", \"view_latest\", \"sales\", \"de\", \"read_latest_job\", \"healthcare\", \"veterans\", \"hire_click_apply\", \"tbt\", \"la\", \"get\", \"team_see_latest\", \"drink\", \"might_great_fit\", \"love\", \"amp\", \"interpreter_bilingual\", \"kelly_service\", \"sales_speedway\", \"robert_half_finance\", \"robert_half_technology\", \"delaware_north\", \"part_delivery_reilly_auto\", \"sales_reilly_auto\", \"bilingual\", \"languageline_solutions\", \"store_counter\", \"varioususcities_us\", \"waltham\", \"shift_supervisor_trainee\", \"santamonica_ca\", \"ca_click_detail\", \"retail_store_position\", \"house_counsel\", \"team_member\", \"hair_cuttery_salon\", \"huntsville_al\", \"creative_group\", \"scientific\", \"assembler\", \"jdhuntr\", \"oracle\", \"delivery_driver_part_time\", \"applications_sales\", \"manager_trainee\", \"pueblo_co\", \"view_latest\", \"sonic\", \"want_work\", \"aerotek\", \"job\", \"careerarc\", \"genuine_part_napa\", \"cvs_health\", \"businessmgmt\", \"kellyjobs_kellyservices\", \"recommend_anyone_retail\", \"hire_click_apply\", \"shift_team_leader\", \"clerk\", \"team_see_latest\", \"retail\", \"hire\", \"hospitality\", \"sales\", \"professional\", \"healthcare\", \"recommend_anyone_hospitality\", \"open\", \"might_great_fit\", \"alert\", \"transportation\", \"customerservice\", \"veterans\", \"finance\", \"join\", \"associate\", \"manufacture\", \"engineer\", \"read_latest_job\", \"manager\", \"clerical\", \"account\", \"check\", \"nurse\", \"amp\", \"food_service\", \"boise_id\", \"float\", \"delay_mins\", \"road_cr\", \"mansfield_oh\", \"growth\", \"broomfield_co\", \"marlborough\", \"jfk_queen_ny\", \"corn\", \"right_lane\", \"mint\", \"bunch\", \"panerabread\", \"ward\", \"county_line\", \"jfk\", \"response\", \"audit\", \"botanical_garden\", \"patriot\", \"android\", \"guest_service_representative\", \"mcdonalds\", \"pra\", \"flame\", \"flip\", \"arch\", \"newell_rubbermaid\", \"nordstrom\", \"protein\", \"civil\", \"lexington\", \"baker\", \"certify\", \"kc\", \"mm\", \"jones\", \"palm_beach\", \"lash\", \"dont\", \"disneyland\", \"excuse\", \"slowly_temperature_rain_today\", \"comer\", \"block\", \"repostapp\", \"year\", \"day\", \"rt\", \"california\", \"get\", \"last\", \"coffee\", \"tattoo\", \"start\", \"repost\", \"happy_friday\", \"little\", \"look\", \"bar\", \"one\", \"take\", \"say\", \"know\", \"weekend\", \"amp\", \"ny\", \"come\", \"today\", \"much\", \"never\", \"make\", \"se\", \"us\", \"beautiful\", \"life\", \"love\", \"time\", \"like\", \"go\", \"new\", \"de\", \"que\", \"la\", \"barista_us\", \"cfgjobs\", \"part_time_opportunities_mcdonald\", \"corporativo\", \"englewood_co\", \"daytonabeach_fl\", \"strategy\", \"cable\", \"penske_truck_lease\", \"department_manager\", \"teamhealth\", \"post_office\", \"fm_global\", \"td_bank_canada\", \"hourly\", \"administration\", \"onebostonday\", \"huntersville_nc\", \"brownsmills_nj\", \"appleton_wi\", \"malecon\", \"edificio\", \"volver\", \"glenburnie_md\", \"office_depot\", \"arquitectura\", \"rig\", \"shakeshack\", \"hjr_engross\", \"lehighton_pa\", \"alvaro_obregon_df\", \"client\", \"greenwood\", \"corporation\", \"kissimmee_fl\", \"sueno\", \"high_pm\", \"shift_supervisor\", \"los_angeles_international_airport\", \"new_york_ny\", \"mexico\", \"es\", \"anything\", \"package\", \"para\", \"el\", \"universidad\", \"hotel\", \"todo\", \"que\", \"bloom\", \"de\", \"dallas\", \"tan\", \"photo\", \"beautiful\", \"en\", \"good\", \"mexico_city\", \"un\", \"la\", \"drink\", \"mi\", \"los\", \"mas\", \"go\", \"por\", \"love\", \"miami\", \"las\", \"work\", \"time\", \"right\", \"con\", \"ca\", \"first\", \"day\", \"amp\", \"make\", \"job\", \"get\", \"dressbarn\", \"solutions\", \"cath_lab\", \"livonia_mi\", \"wilmington\", \"discovery\", \"general_manager_train\", \"entrepreneur\", \"regional_medical_center\", \"ho\", \"upcoming\", \"vol\", \"steam\", \"systems_administrator\", \"ideas\", \"maggiano\", \"mandarin_oriental_hotel\", \"metrobus\", \"consumer\", \"lego\", \"fr\", \"flush_ny\", \"behavioral_health\", \"ithaca\", \"weather_mist_mph\", \"perfectly\", \"zumba\", \"sous_chef\", \"dish_machine_operator_ihop\", \"knoxville\", \"elpaso_tx\", \"items\", \"knoxville_tn\", \"member\", \"wrigley_field\", \"long_island\", \"niagara_fall\", \"tune\", \"pizza\", \"elementary\", \"co_port_huron\", \"milwaukee\", \"plano_tx\", \"san_francisco_ca\", \"trump\", \"washington_district_columbia\", \"pick\", \"wind_mph_barometer_steady\", \"mean\", \"beauty\", \"post_photo\", \"want\", \"nail\", \"brunch\", \"executive\", \"nowplaying_thumb_coast_brew\", \"fitness\", \"lunch\", \"april\", \"feel\", \"center\", \"today\", \"studio\", \"happy_hour\", \"new\", \"city\", \"may\", \"toronto\", \"food\", \"hair\", \"meet\", \"time\", \"great\", \"go\", \"life\", \"park\", \"like\", \"amp\", \"work\", \"love\", \"day\", \"get\", \"one\", \"see\", \"live\", \"good\", \"people\", \"first\", \"parttime\", \"want_work_starbucks\", \"desmoines_ia\", \"lakers\", \"dental\", \"cater\", \"mental_health\", \"recommend_anyone\", \"webdesign\", \"denver_co_could_great\", \"projectmgmt\", \"instituto\", \"cdl_owner_operator_truck\", \"greenville\", \"boyntonbeach_fl\", \"florence_sc\", \"medford\", \"immediate\", \"mambaday\", \"plantation_fl\", \"mexican_grill\", \"trainee\", \"monitor\", \"kobe_bryant\", \"ufc\", \"production_associate\", \"mention\", \"bicycle\", \"rn_case\", \"flexible\", \"realestate_realtor\", \"gilbert_az\", \"check_list\", \"warehouse_associate\", \"vote\", \"feel_humidity_wind_mph\", \"macy\", \"gust_mph_pressure_mb\", \"montgomery_al\", \"th_ave\", \"bath\", \"begin\", \"summit\", \"weather\", \"police\", \"new_york\", \"fox\", \"person\", \"academy\", \"bring\", \"thank\", \"game\", \"let\", \"shoot\", \"chicago\", \"fun\", \"run\", \"find\", \"show\", \"go\", \"think\", \"today\", \"even\", \"one\", \"tonight\", \"time\", \"center\", \"take\", \"love\", \"amp\", \"coachella\", \"like\", \"get\", \"great\", \"job\", \"park\", \"come\", \"first\", \"saltlakecity_ut\", \"tx_bed_bath\", \"trainer\", \"drivers\", \"wy\", \"prologistix\", \"cedarrapids_ia\", \"brookfield_wi\", \"laboratory\", \"network_engineer\", \"mart\", \"chili\", \"discover\", \"emergency_department\", \"click_detail_account\", \"license_vocational\", \"quality_engineer\", \"brg\", \"high_point\", \"albuquerque\", \"th_grade\", \"paramount\", \"natick\", \"anyway\", \"dallas_tx_click_detail\", \"ymca\", \"dept\", \"charlottesville_va\", \"santaclara_ca_hire\", \"hospitalist\", \"oyster\", \"credit\", \"greensboro_nc\", \"teacher\", \"tbt\", \"philadelphia_pennsylvania\", \"tempe_az\", \"throw_back\", \"palm_spring\", \"rain_today_humidity\", \"recovery\", \"housekeeper\", \"aurora\", \"hoppy\", \"patient\", \"wind_mph\", \"pierce\", \"rockville_md\", \"travelnurse_nurse\", \"safety\", \"city\", \"sign\", \"property\", \"best\", \"beach\", \"summer\", \"gonna\", \"austin\", \"miami_beach\", \"throwback\", \"one\", \"house\", \"san\", \"houston\", \"far\", \"without\", \"work\", \"get\", \"hall\", \"miss\", \"fl\", \"florida\", \"drink\", \"mexico_df\", \"service\", \"make\", \"blue\", \"recommend_anyone_job\", \"night\", \"boston\", \"meet\", \"california\", \"new\", \"time\", \"great\", \"home\", \"hire\", \"today\", \"see\", \"day\", \"de\", \"photo\", \"open\", \"shift_supervisor_us\", \"paloalto_ca\", \"nettempsjobs\", \"part_time_opportunities\", \"mechanic\", \"cognizant\", \"principal_sales_consultant\", \"springfield_il\", \"software_developer\", \"want_work_robert_half\", \"ohiohealth\", \"dialysis\", \"outpatient\", \"material_handler\", \"risk\", \"entry_level\", \"heritage\", \"cardiology\", \"full_time_home_health\", \"omaha\", \"assistant_mgr\", \"vp\", \"spartanburg_sc\", \"diesel_mechanic_tire_care\", \"urgent_care\", \"bloomington_mn\", \"washington_square\", \"secretary\", \"ericsson\", \"newhaven_ct\", \"job_click_apply\", \"customer_service_representative\", \"barista_us_starbucks\", \"latest\", \"med_surg\", \"recommend_anyone_job\", \"technical\", \"inspector\", \"would_love_show_list\", \"see\", \"allentown_pa\", \"dishwasher\", \"favorite_health_care_staff\", \"realestate\", \"per_diem\", \"warehouse\", \"administrator\", \"losangeles_ca\", \"rn\", \"nurse\", \"register_nurse_rn\", \"customer_service\", \"wi\", \"contract\", \"avenue\", \"administrative_assistant\", \"register_nurse\", \"hire\", \"park\", \"read_latest_job\", \"full_time\", \"station\", \"staff\", \"open\", \"careerarc\", \"manager\", \"amp\", \"veterans\", \"st\", \"hospitality\", \"job\", \"retail\", \"post_photo\", \"drink\", \"new\", \"sales\", \"healthcare\", \"stop_go\", \"want_work_aerotek\", \"traffic_area\", \"macy_beauty\", \"fiserv\", \"chesterfield_mo\", \"maintenance_technician_tire_care\", \"recruiter\", \"rd_delay\", \"register_nurse_travel\", \"processor\", \"interchange\", \"plainfield\", \"accident_block\", \"roseville_ca\", \"sheridan\", \"braintree\", \"public_library\", \"manhattan_new_york\", \"accessories\", \"kennesaw_ga\", \"greenwich_ct\", \"neurology\", \"rate\", \"gymtime\", \"affairs\", \"programmer\", \"findlay_oh\", \"fork\", \"saint_petersburg_fl\", \"ramp\", \"database\", \"state_line\", \"delay_mins_traffic\", \"machine_operator\", \"bae\", \"auburn\", \"wheel\", \"app\", \"link_bio\", \"home_health\", \"main_st\", \"sarasota_fl\", \"tribeca\", \"post_video\", \"yep\", \"drink\", \"move_meter_bear\", \"df\", \"th_st\", \"tavern\", \"support\", \"light\", \"way\", \"starbucks\", \"toronto_ontario\", \"back\", \"amp\", \"photo\", \"ave\", \"come\", \"get\", \"dog\", \"wb\", \"tonight\", \"shop\", \"st\", \"us\", \"lol\", \"play\", \"traffic\", \"mexico_city\", \"university\", \"need\", \"check\", \"post_photo\", \"night\", \"ready\", \"job\", \"go\", \"shift_supervisor_us_starbucks\", \"kindred_healthcare\", \"whbm\", \"jueves\", \"chattanooga_tn\", \"cvs_health_pharmacy_technician\", \"norfolk_va\", \"panera_bread\", \"glendale_ca\", \"stockton_ca\", \"core\", \"quality_control\", \"allen_tx\", \"carlsbad_ca\", \"southfield_mi\", \"latte\", \"truck_driver_class\", \"witness\", \"chesapeake_va\", \"santabarbara_ca\", \"multi\", \"aca_talent\", \"security_analyst\", \"tone\", \"luncheon\", \"aboutlastnight\", \"graphic_designer\", \"sneak_peek\", \"sanfrancisco_ca_could_great\", \"newalbany\", \"could_great_fit\", \"interest\", \"near\", \"recommend_anyone_manufacture\", \"recommend_anyone_account\", \"recommend_anyone_engineer\", \"kellymitchell_group\", \"torrance_ca\", \"crew_member\", \"shreveport_la\", \"ciudad_de_mexico_distrito\", \"fit\", \"want_work_supplemental_health\", \"brooklyn_ny\", \"cancun_qr\", \"federal\", \"final\", \"pm\", \"san_diego_ca\", \"tonight\", \"live\", \"la\", \"de\", \"thank\", \"come\", \"restaurant\", \"amp\", \"party\", \"awesome\", \"get\", \"new\", \"hire\", \"job\", \"time\", \"day\", \"nurse\", \"club\", \"know\", \"take\", \"see\", \"open\", \"en\", \"great\", \"veterans\", \"go\", \"part_delivery\", \"accountemps\", \"kellyjobs\", \"staff_accountant\", \"business_analyst\", \"occupational_therapist\", \"great_clip\", \"hair_stylist_great_clip\", \"recommend_anyone_businessmgmt\", \"senior_accountant\", \"houston_tx_click_detail\", \"accountant\", \"santander\", \"littleton_co\", \"store_position\", \"accenture\", \"lakewood_co\", \"familypractice\", \"emerson_electric_co\", \"aurora_il\", \"recommend_anyone_market\", \"specials\", \"paloalto_ca_hire\", \"otr\", \"surgeon\", \"crowe_horwath\", \"concord_nc\", \"verizon_tcc_sales_consultant\", \"wb_exit\", \"medical_surgical\", \"travel_stop\", \"cr\", \"country_st\", \"business_development\", \"north_exit\", \"accident_clear\", \"hardware\", \"ciudad_de_mexico_mex\", \"rd_traffic\", \"aicm_venustiano_carranza_df\", \"aeropuerto_internacional_de\", \"seven\", \"teller\", \"regions_bank\", \"nb\", \"field\", \"update_construction\", \"rd\", \"wawa\", \"sb\", \"love\", \"de\", \"us\", \"ca\", \"la\", \"los_angeles\", \"nj\", \"amp\", \"av\", \"exit\", \"traffic\", \"ny\", \"day\", \"wb\", \"job\", \"road\", \"hire\", \"st\", \"account\", \"south\", \"one\", \"join\", \"get\", \"go\", \"en\", \"que\", \"retail\", \"new\", \"open\", \"see\"], \"Freq\": [68291.0, 44504.0, 21950.0, 3893.0, 3729.0, 3844.0, 3487.0, 3990.0, 5609.0, 3116.0, 5147.0, 8629.0, 11638.0, 5392.0, 6683.0, 3655.0, 6040.0, 5832.0, 3419.0, 4241.0, 4315.0, 3389.0, 1374.0, 4202.0, 5811.0, 3095.0, 3476.0, 3728.0, 4266.0, 8359.0, 303.29411891906295, 234.51842497007615, 230.18937567437726, 201.660592975611, 135.54436394246892, 122.02554649110041, 116.3970177747767, 105.42186298762057, 102.85098559050897, 94.97592208289292, 227.70805843861123, 82.57249458502211, 77.70643100574529, 77.46060762310142, 75.91568520976536, 75.19508704061631, 440.05887969667606, 75.70790563544362, 74.28763555850078, 70.9120745568865, 69.40635156685765, 70.33101689718879, 68.21075230326883, 64.86524210632969, 64.33010569710255, 408.4236883564511, 62.74433710910549, 61.76885842486683, 141.51360647690086, 56.92963881868148, 3548.154950156565, 1194.2146057136688, 5183.633356791378, 1131.3797358006052, 63618.50938348247, 20582.802104113318, 274.9375228530772, 190.85884784709464, 1218.070890343163, 448.3484141488246, 445.6727417328138, 3123.9388585366764, 151.4884898233254, 143.41590282438042, 2821.5825211780257, 7611.350550154297, 37310.27785827348, 5801.9724270850365, 5212.1631795436315, 1901.0689302833728, 3686.1202793422026, 503.147792303965, 9484.65359623157, 3179.4302574653966, 2815.3104593668722, 1337.5357481092706, 1567.5039005549993, 3414.1427487119713, 673.6463412347522, 2472.878935144787, 911.4510270584688, 1284.967438764872, 1301.2441987890656, 2364.6703836615866, 1662.121033075392, 765.5800587187339, 1272.5711568196589, 1841.646899585318, 2217.2971158412165, 1197.002950590727, 191.8679007665182, 83.98540135385991, 75.59386049855854, 71.59264797686747, 60.286193704756485, 51.9464599934143, 50.55823196114952, 50.45346765277032, 49.788950052097256, 49.735307986602805, 99.29856268986364, 43.538522401942735, 42.45573213726727, 42.27611683049518, 39.50517319737445, 39.3596112742476, 38.63525171999578, 37.551492882532195, 34.397091538159465, 34.3804315750838, 33.84220666581637, 32.16680574648104, 31.938266013704865, 31.7963074880219, 31.49219607736406, 31.462908889628647, 30.866283385760028, 52.75091719496135, 33.14869577152565, 29.66986854395504, 181.80191989786653, 57.67129251456216, 49.53412085158686, 75.18646702811544, 107.5696529577003, 100.56377942243763, 39.87019735844011, 74.84306580731413, 76.33102361394076, 49.63853759822679, 46.95138956708306, 87.59112950587989, 144.95156382308076, 60.59550831909925, 121.08259782035495, 81.65560812510873, 198.123889404501, 262.568827989272, 451.51348919084427, 2081.5541259342544, 331.27839000448313, 786.3186086084925, 2356.439151716243, 557.7159671575158, 474.2982465703263, 201.22581659304728, 603.7449585357926, 449.9272174128231, 219.1671171325498, 656.1001460233846, 651.6918773705856, 589.5297651789461, 996.8069046634274, 635.3495243901834, 494.11274132602017, 596.8566119804233, 579.1869820521795, 1767.386445691655, 690.577943441883, 862.4128762323649, 952.3622632512016, 365.15098021087425, 362.67384636068346, 696.095097601414, 317.9916567220718, 655.6115968868223, 520.4737863337253, 509.1020160106421, 791.3574360355573, 735.3405425111149, 519.1868265476388, 694.5903597184634, 637.8516826856015, 733.8533871632098, 509.59064692643716, 462.1303963058528, 183.2895598434413, 94.68197849330093, 85.74654762382734, 81.3001829591838, 71.39411264674283, 60.78159672505919, 59.73820283455554, 49.68282980053635, 46.3062020752316, 44.474089211143045, 43.60779144726215, 43.59714277930359, 41.70141271179804, 41.10995363287357, 40.89452993505371, 40.0498691957811, 38.31786526068367, 35.47922045417169, 35.381180191142406, 35.19364149981189, 35.00308377752969, 65.14855820396436, 34.290935978347925, 33.52421280169679, 33.510510752244734, 31.757789623713933, 31.59024676443895, 31.08380336811057, 31.023298705453517, 30.216246084363608, 92.12229062003473, 169.0480542160155, 87.30042109932108, 169.53748073560794, 60.07191071470656, 46.41628411152586, 70.52166995260627, 96.28347708663948, 75.3395777108321, 570.0025091624532, 1224.0014669115603, 406.83142044222876, 127.96105056179242, 99.40970462911636, 445.66646364355387, 929.889013555187, 104.72850435444272, 468.9036738911349, 177.5247450499063, 864.0458950294435, 66.62291399191375, 1949.4377655559044, 231.29668624689342, 111.0375691322859, 751.8144613666544, 647.4335157941626, 657.6570919812048, 692.5140065699139, 333.0245333727793, 278.01694975300427, 1023.4045621507039, 890.5162698728574, 532.2719351149553, 379.0400916970987, 237.2345972372947, 834.5578632560077, 265.78110356030356, 849.4659373303712, 288.3181123637961, 252.40184233282605, 513.0947451716459, 619.3322688274428, 332.77354541401394, 341.7137853593398, 368.4921242601876, 328.682716490473, 409.85729096846813, 441.37298179028966, 337.7489389562205, 454.8895993842521, 342.0067878474556, 233.16931382432224, 102.19809000820122, 52.68086516950288, 50.133893971159175, 47.524566387722885, 44.07090260484815, 43.870340863665966, 42.129708933476174, 41.73264594906995, 36.94520577031766, 63.297614880378184, 36.16554068718381, 36.013779134255714, 35.641598626893234, 35.29714895284453, 34.04683717034848, 34.10246139825199, 32.72439412255775, 32.62769490094888, 32.080474772729445, 31.7648761912223, 31.726020512327825, 29.80472646149744, 29.661806828405094, 28.73099333106877, 28.542346271231988, 28.08854940151681, 27.755203369404114, 27.600286007357997, 36.74425882959027, 124.59055237718245, 44.233774867593816, 155.20479865353732, 65.7085965035024, 44.39700052441764, 81.80726583372167, 66.61525728256639, 137.06877005539522, 420.84349389967116, 67.1026371915298, 63.304548472191826, 107.10271212933294, 112.08705995449917, 205.9909626765919, 119.59921441715008, 65.51877440835571, 267.8230664505742, 122.15734933442309, 248.04605951834463, 244.8428390507854, 1079.7983764492003, 598.8719522406061, 161.4331289732596, 96.99455303999262, 96.74011637159386, 67.8161610389939, 346.37852719887013, 405.58263711420733, 280.2991213570285, 349.2864798462392, 678.0483405200048, 1041.979555780068, 266.2810808656629, 113.60801859175949, 725.3350691591804, 536.222758950612, 238.81492558067322, 267.599551764015, 290.2588407977756, 237.6297549286057, 312.12567895065416, 656.8583792486844, 519.3385511276798, 622.6440085476992, 383.7407627190105, 419.65521337971575, 415.34550191765214, 768.5232746374052, 413.87656995657954, 526.6556179234193, 490.96123282307025, 400.3295048210688, 342.1908356441161, 358.0426804143803, 287.9793641790189, 301.2837182616445, 279.6526080946665, 287.13076604699773, 251.74359710921632, 99.72622078500035, 86.3232810701882, 78.49404467761755, 69.11697725493997, 63.492268934835, 56.73078253542104, 54.649810086048454, 53.55063425640477, 52.154795657573466, 272.9798976652664, 50.632439766871414, 48.86667300598481, 47.8284781416692, 46.50023125383247, 45.99900472259564, 44.312710547222686, 43.891380674165134, 43.19801844593448, 39.185863536556404, 39.12660622141762, 74.12020708357782, 38.458004364953844, 38.29260576553922, 38.32601516772026, 37.86486350338458, 37.22016703347475, 35.896971398276094, 33.911565776065636, 33.129886995278625, 176.4966905120197, 67.20483360565633, 228.0298777203737, 67.48645205503698, 138.10124712506746, 135.34822209891166, 238.2517389322579, 103.56654760616246, 88.5388213521966, 78.35046188089643, 142.86473226011387, 279.9605167747581, 90.10789021499312, 272.32113497863315, 98.08463549638272, 410.8488487279176, 121.48115537122278, 156.13627784740066, 113.9262666337819, 287.1455662686058, 732.0733595177568, 467.9663752745621, 452.9345314118107, 310.8938817791051, 298.49448950783915, 415.8159161019887, 365.98559952231625, 319.1740510527463, 451.3320018477204, 723.2091464252121, 320.7902877397705, 643.6680526564137, 316.3175249366522, 543.3759068991426, 468.4767398877549, 552.8624397886039, 377.73172837183864, 357.1125219430837, 533.5360530804021, 670.2440026226911, 293.18616675581404, 358.40493127073466, 427.9410838359955, 337.62515177910694, 545.7493458502777, 312.128261550383, 308.02879213111817, 285.55392579618757, 97.155704263948, 92.9926415026904, 61.37909262970035, 57.46548388854247, 50.54088275055618, 49.90763012101478, 48.30613220351322, 46.51230445939944, 41.074822296564676, 40.41016177395054, 40.43168476005859, 39.65737326474641, 39.248197177172734, 37.846946337239075, 37.8045780095885, 35.74415308125224, 35.42644968463775, 34.66156926093907, 34.401437676240676, 32.92120705135133, 32.6244173824282, 32.171900018814014, 30.810098661361174, 30.60040807833454, 30.49190723632107, 64.32716976962138, 30.30657144765557, 29.792145968598323, 29.30803109577151, 29.236057782607784, 75.91740347648751, 71.23249844748783, 82.8988335041369, 95.1658103227278, 1129.8428269145345, 72.14134414828182, 139.00756728485473, 44.35729837879435, 82.24402369541306, 221.07483765327825, 52.96078257858605, 49.577896979131935, 64.87581940769792, 53.867209896481135, 83.71189507813523, 245.0415965722101, 53.837393535598935, 69.69167769475071, 52.546853653669906, 71.86314307799042, 752.3078664825877, 218.92355861778344, 66.23353935545119, 525.6160392427648, 400.52451858588546, 253.35498983720097, 193.4091962835368, 134.02526332851522, 108.92707422825029, 116.6462540292877, 567.840034817818, 334.75295875027507, 114.28251788020066, 146.16221321052328, 101.06218841178415, 130.56211414958452, 397.2166183986041, 635.852123830046, 141.58226848610536, 238.6334911485133, 243.23888795413464, 201.67694490265671, 422.6725043586936, 152.09304548473582, 228.38131326315553, 302.7250395508629, 171.0433819759934, 355.25201770291886, 279.08536536477806, 196.70501077324622, 195.16138618840776, 226.02355779362827, 280.11923959636897, 291.36724414688746, 251.25871813304178, 222.74161947520517, 375.93375470980845, 236.37587786853783, 255.49246730448093, 245.19239424726405, 237.31087816279125, 212.94203355653303, 221.96631948919654, 213.24322174574743, 106.41156328836739, 97.46274203656566, 80.01456345265741, 76.4840505977184, 67.962590818357, 67.27781760454072, 61.888568226756675, 60.64256754129099, 57.07343734997669, 56.37622531494747, 246.27490793318802, 51.506451588606026, 49.4290383587698, 48.215974532063704, 110.82790233585152, 43.754727499328936, 39.641618789386875, 41.8422556405219, 38.37830100994669, 37.42255290781932, 37.28301262562664, 36.833474370346494, 64.12093398339604, 31.104821100999946, 46.32440026457235, 31.007212283344348, 30.846842550788846, 30.963332607018685, 30.04749342205488, 3296.139743174667, 384.2594206687021, 161.4184465985409, 3611.196946615955, 81.75310552928985, 3337.3561489417, 140.88682175677457, 58.338331663280776, 135.35888076139256, 3818.5345530377786, 183.64051219885272, 80.91760452774774, 182.70196349269037, 422.64715920061985, 154.38700645146812, 152.06410614700644, 85.97886052625725, 317.40333361604263, 702.5616201778143, 2269.487213260396, 340.04297936474336, 143.3120573831675, 203.6157351873585, 129.7861649653496, 358.5126218051802, 95.07913433773797, 266.13058691184943, 3984.0543292533653, 571.2455297603286, 801.3868653453397, 252.079203854841, 217.87903660776084, 215.8185037503376, 803.7133213686143, 900.8401470914774, 376.7149782607084, 608.1576573741715, 466.13332771814817, 347.92604514065766, 472.6552841553204, 768.9993961154996, 369.67232582957416, 286.7342553246848, 300.82087344895376, 263.59031696776503, 258.7604614505353, 251.57974305964294, 391.96355322108616, 199.5517313628158, 105.21131042302756, 78.89407306170358, 65.91451152053452, 61.441583845406285, 61.22242814821113, 60.90624474110913, 60.98142422794353, 54.84607187255239, 54.68445205411202, 42.56675467839015, 41.3427445360311, 40.3330089757709, 39.28163983963647, 38.77499283389793, 38.010329295424384, 37.3161764829815, 36.55185271137606, 36.470026535184296, 36.329805962169225, 35.6976515022578, 35.49466810125803, 34.969488633043845, 33.55557308047443, 32.83198492944894, 32.70418708254907, 32.55912179803071, 32.60474763460521, 30.983804848578995, 87.18304377786275, 111.61858548368411, 68.53839149582602, 47.68846718817059, 83.59452926041963, 100.59444900839708, 90.25053187032775, 96.93975882612443, 102.91332147964114, 98.57127685592052, 101.11926747431389, 64.49164068408426, 58.13448730373912, 59.68813198081795, 204.20034884508334, 69.47855068894285, 1066.407047833455, 87.03898869305046, 432.0714787812665, 146.41502053644922, 124.13148329877235, 298.92244932306687, 322.5279223683039, 359.8153946181958, 285.02530488371366, 101.43959482375371, 477.33590048434985, 1097.2289507357477, 436.5745546986738, 246.8626174506376, 522.8206367323393, 734.9467030407158, 194.5142749690606, 159.66287049084806, 397.783395635846, 207.60105115891426, 330.7980663596106, 347.8714242892234, 229.9521777342826, 221.33454931314947, 188.56915565621696, 198.75732002158628, 213.9698597562886, 243.44674697305186, 305.95227436234535, 258.20206971405986, 247.47346974137176, 210.4748478674957, 315.74083648722666, 225.99979110289232, 128.7236576063897, 107.36132400512592, 105.76018955535112, 82.47197155360662, 77.13000193686673, 70.41019978154334, 64.44669672574364, 55.690542643649025, 54.413698090221104, 47.14733622299396, 47.11445141634301, 42.857783325980414, 41.42159349728767, 41.10876561316233, 39.12095547461642, 38.97385309331414, 38.779207726013425, 34.050321076159456, 33.205137658465645, 32.66676812482213, 32.427061643723036, 31.780104147979564, 30.97148899848242, 30.098714425940017, 29.55109235166769, 29.035595389019214, 28.599270149553014, 28.595102420260943, 28.379787900211095, 28.3000562424471, 2803.5491813659846, 3296.5988327408745, 3317.850825936131, 131.59503846154834, 70.18955528961017, 79.2612703419236, 102.80329912287979, 73.07927173231518, 41.44266822427437, 49.23100110858409, 124.34344373391161, 455.31734879631466, 57.227989831431266, 189.6278086472603, 70.88482454639941, 179.1734970724086, 131.10241709656833, 520.7863286812677, 103.18774718001767, 748.3933801376636, 443.3387439563411, 987.3807720601856, 937.5101047121141, 507.9700374936486, 575.3261119325992, 266.1637956597539, 856.7054791159027, 251.7740943508388, 198.28300501093346, 541.9494587450682, 406.08601172698155, 1189.1006615870842, 1329.3840203261564, 352.4283221756363, 374.84652895766607, 365.5514211939589, 203.77509762904353, 215.43965483550565, 215.41779014675768, 259.1008958594845, 282.58882587982595, 203.33816705489437, 213.5726089662071, 228.18127193663676, 221.16052764368763, 189.25318264907352, 116.85598155403756, 89.87437591502976, 80.10563307104698, 73.45754877956793, 71.91161589871949, 66.70259715042363, 66.62152141842131, 113.82896107135163, 60.16071873321744, 56.86615544155536, 56.69771734200338, 56.618658800015815, 56.052451602784345, 51.45001665185273, 51.17630747340056, 51.14729055036987, 45.47181164442046, 45.03617786750733, 44.96757154044718, 42.920867138455705, 42.54942537712057, 40.14568927579639, 39.22093065342164, 38.655904250345145, 38.310948357902944, 37.776731935648044, 36.24964529484262, 35.722571037233465, 34.949563597012194, 249.27515806908087, 125.661808631193, 237.52100825301304, 59.92790001902105, 48.943130527795645, 142.22485197620685, 83.23017293767124, 117.02167540050712, 133.4617193543773, 91.86755644863511, 213.0535320355408, 83.21582300870448, 67.45926753818121, 79.03049812637975, 280.828120812858, 210.58551918572473, 105.41873283595193, 563.287967948547, 82.86458594735454, 237.07051341632996, 895.6883449414962, 976.7157518496928, 558.3974684235569, 568.7169533413247, 750.8947299475275, 189.97521640828504, 305.3407077403621, 822.2604417485137, 107.72105183929843, 172.72120075030315, 185.6688382585165, 286.1921406605533, 387.9301959828045, 144.21229253822548, 903.093498685424, 179.7776484870189, 730.4051524391552, 243.37634780197197, 227.99799085933734, 179.4836198091498, 240.70526022405787, 239.0650715431161, 260.3835009486087, 241.32906940282183, 204.9203749619512, 206.09515581336365, 245.96537018611502, 215.37230562410252, 240.58033657577272, 199.88389429291212], \"Total\": [68291.0, 44504.0, 21950.0, 3893.0, 3729.0, 3844.0, 3487.0, 3990.0, 5609.0, 3116.0, 5147.0, 8629.0, 11638.0, 5392.0, 6683.0, 3655.0, 6040.0, 5832.0, 3419.0, 4241.0, 4315.0, 3389.0, 1374.0, 4202.0, 5811.0, 3095.0, 3476.0, 3728.0, 4266.0, 8359.0, 304.2679184634182, 235.49208505393602, 231.16303579583274, 202.634313599608, 136.51806366382183, 122.99927622704448, 117.37064400806099, 106.39549347371988, 103.82474687270168, 95.95411037924126, 230.16234888127636, 83.56876717603824, 78.68024444993293, 78.43430031171206, 76.88937293474952, 76.16876452231199, 445.83357115215534, 76.7016045685183, 75.298479465635, 71.8857208805127, 70.3800707523257, 71.32439734571385, 69.18440586272921, 65.8390047271425, 65.3122480915298, 414.71637811370715, 63.71809513364165, 62.74251452405027, 143.8363409929737, 57.90335660113683, 3655.8879610365634, 1221.9702702082573, 5392.725467961236, 1164.0309735871629, 68291.39094881916, 21950.633846413224, 280.7418316550085, 194.7003334389186, 1279.0103477886087, 463.3122416537188, 462.9705409434875, 3389.1234565410723, 155.1105830117426, 146.86396818885777, 3095.254137197132, 8629.367404469094, 44504.78158908412, 6683.004501571325, 6040.2147963215175, 2121.6951787780313, 4241.997274608423, 535.7580571384146, 11638.402594208408, 3728.045788192052, 3293.0547550724464, 1506.9766250923603, 1822.9305123997583, 4315.2461494409245, 746.522648687028, 3272.112183723991, 1070.578172156809, 1603.62252674773, 1638.6468535018676, 3419.2941734865603, 2243.5035966723335, 882.141266193965, 1641.4469632885646, 2925.517537767988, 5147.7535250188885, 8359.715828769009, 192.81366477459525, 84.92564365674258, 76.53688590007722, 72.53250607036468, 61.31076561306155, 52.886208508664296, 51.49781753081727, 51.394507179431976, 50.728696150633745, 50.674802929944136, 101.18932219425574, 44.47823217229387, 43.39844803745111, 43.22165322609699, 40.44462704001558, 40.29909602609475, 39.57586400825807, 38.49319881698086, 35.336642925726764, 35.32050443700873, 34.781667455229304, 33.106499013705196, 32.877758375294576, 32.735992064889956, 32.43170842729905, 32.402403120586335, 31.81113746384574, 54.37742422801931, 34.193462408780555, 30.609845050087074, 188.27639926898505, 59.76152312233884, 51.36839453718865, 79.7828832066427, 117.15214442816527, 109.14621390072806, 41.61102598214952, 81.75088453212526, 85.05054791511952, 52.99870604933644, 49.90922653537271, 100.55610947979916, 178.91306939947728, 66.49469502337466, 147.39858723651778, 94.15575254369085, 267.41447650378234, 380.7103434442972, 727.1957308283534, 4598.283335295573, 512.7099415609424, 1483.6272463540201, 5811.34482636132, 1033.5390001282585, 858.2276368116788, 297.3567267559325, 1224.0675365257598, 853.909519202652, 341.6961557127616, 1426.1833135186096, 1568.9555835133262, 1454.170675870353, 3048.9552698153175, 1644.2450863092818, 1163.0818247455147, 1541.9660889887878, 1540.170533886537, 8359.715828769009, 2089.754595497264, 2941.897497060746, 3514.5045675311158, 799.3030852245377, 804.91984271388, 2332.0722886065455, 655.1988966564139, 2342.6850329150116, 1606.3642476523273, 1543.7349456985867, 4266.415240223449, 3688.2964494352545, 1920.1770786889042, 3849.3789132750603, 3162.9048852991136, 5832.774304677216, 1918.4279276499904, 4202.633726816183, 184.23859186177978, 95.6311082277684, 86.69521876337747, 82.24876945736614, 72.34299403044677, 61.730369140233364, 60.686952175979826, 50.631557274426946, 47.25494675744771, 45.4228299588055, 44.55658601131427, 44.54688676231583, 42.65013362510297, 42.05889974484202, 41.843283000226165, 40.998705789695286, 39.26944550819044, 36.428051728536474, 36.32986369712334, 36.14255980040824, 35.9523366779342, 66.93992325281661, 35.239525019292365, 34.47316497344318, 34.459615874233656, 32.706493113651774, 32.541029730309596, 32.033789574532015, 31.97224299120123, 31.165067180720374, 95.35266826999394, 177.9974979223454, 91.2025163388611, 190.0597840981063, 64.16833822065233, 48.903327770868096, 77.07469910156856, 109.11058364927449, 84.60901605966035, 823.0832037852634, 1972.519474898146, 585.9743053760332, 159.42447055303074, 119.78173832221287, 721.9903193378464, 1858.680330180391, 130.44601597013056, 841.3678710009787, 253.84906517869848, 1918.4279276499904, 75.98407489019397, 5832.774304677216, 380.4776688215406, 147.60923629394503, 1950.1654607825553, 1606.3642476523273, 1761.415977738235, 2182.5234231327586, 755.2807052947402, 581.1068934598536, 4202.633726816183, 3476.552414552059, 1575.8490566147605, 953.6513710318474, 474.8371138853768, 3849.3789132750603, 577.6722014310717, 4266.415240223449, 680.0100392693513, 568.0757127914828, 2214.021209450897, 3688.2964494352545, 1017.3210864065519, 1186.0235491191395, 2610.164112983288, 1797.3206785165742, 4598.283335295573, 8359.715828769009, 2332.0722886065455, 68291.39094881916, 5811.34482636132, 234.11661585441857, 103.1483094155346, 53.62821591708737, 51.083550178514024, 48.477324781986724, 45.01799663621211, 44.818881903752285, 43.08096964138365, 42.680127432554066, 37.89354050504313, 64.9369773174917, 37.11258711769273, 36.96078341770286, 36.58883697052535, 36.24416758941132, 34.99409251776363, 35.05219584296983, 33.67143863305343, 33.57478745261884, 33.028721548041936, 32.71193912291342, 32.67307094213496, 30.751832511230017, 30.608950092074245, 29.678324181223147, 29.48936431956455, 29.03737432239361, 28.702397839305913, 28.54736355174257, 38.00871217890375, 129.2136049451473, 45.92552747925365, 165.18637694473136, 69.18767696838195, 46.39663051860749, 88.51636292764786, 71.5128882326542, 155.5643985544643, 521.7411801537876, 72.53359757448433, 68.16645001434719, 121.47274013585344, 127.91670627396394, 260.6817434302071, 141.9364747460277, 73.34887444054586, 380.2180833096811, 152.81380914986045, 364.3972194185191, 366.5141317972775, 2209.796296982869, 1126.6813887605872, 223.60125163203998, 122.35941778048023, 122.86533388712067, 78.4750468500235, 667.2661580858907, 858.0170975041884, 534.1104286200821, 726.7538953631173, 1841.8983376529677, 3514.5045675311158, 557.0473740247148, 158.03255973608833, 3162.9048852991136, 2065.2169424973126, 561.4999766059798, 687.9947339657895, 796.4035292921258, 566.7702685668354, 919.5952309435183, 3688.2964494352545, 2380.940496007526, 3849.3789132750603, 1543.7349456985867, 1944.2133756533592, 1920.1770786889042, 8359.715828769009, 2214.021209450897, 4266.415240223449, 4598.283335295573, 5811.34482636132, 3048.9552698153175, 5609.57654662246, 1267.1310600707045, 2182.5234231327586, 1086.0759810848804, 1797.3206785165742, 252.69662840634558, 100.67915836063437, 87.27635668667644, 79.44688596955542, 70.06994823852025, 64.44518052233315, 57.683599469006836, 55.60274217977217, 54.504758469647896, 53.10778087639787, 278.05719595099185, 51.58525866195911, 49.8194749605219, 48.781481401250836, 47.453169765189294, 46.95197702151938, 45.26702796226934, 44.84439092206249, 44.15193667600627, 40.138797305911766, 40.08260786928348, 75.9316837859109, 39.41091189744081, 39.245401142978096, 39.28255821143634, 38.81777531848984, 38.173879575311325, 36.84978422095731, 34.86447656682277, 34.08276088234631, 186.8610597547119, 69.96789020898167, 245.65060476916378, 70.38259155900624, 150.01910782853855, 151.74584615985728, 293.9370840907519, 119.98882862964165, 100.73521602331083, 88.43881565284607, 183.07220524723036, 433.62007388196326, 110.65925472748074, 465.3348844383246, 125.82026519792315, 845.9397480400017, 167.62019368812835, 242.93830876135638, 157.3744104880886, 582.9839244134606, 2341.310438654116, 1283.6489193729856, 1267.093677270484, 754.6861086308837, 715.1666084516122, 1212.0735841080643, 1009.3893299749774, 863.096435512479, 1553.7551672040404, 3849.3789132750603, 993.5042895644999, 3514.5045675311158, 992.6170016017458, 3048.9552698153175, 2628.381679553681, 3688.2964494352545, 1841.8983376529677, 1644.2450863092818, 4266.415240223449, 8359.715828769009, 1060.214981499936, 1920.1770786889042, 5811.34482636132, 2380.940496007526, 68291.39094881916, 1944.2133756533592, 2941.897497060746, 1797.3206785165742, 98.11426534554025, 93.9510598559336, 62.33757389877366, 58.42385718503865, 51.50051369368947, 50.866213374264895, 49.264846666679325, 47.47080373961991, 42.03328532641726, 41.36893718732267, 41.391601807874345, 40.62314826866245, 40.21014355803124, 38.805626021671394, 38.76307433283115, 36.7071859146875, 36.384879255065016, 35.62004787481631, 35.35974967808477, 33.887790677192804, 33.58763019064415, 33.13362328785941, 31.7692739646319, 31.558866323588166, 31.450386161024674, 66.35662599484299, 31.264996233530898, 30.751459701888763, 30.266526612400593, 30.194527424865463, 80.2793646990512, 75.40456519081539, 88.29556066092083, 101.99409305501278, 1374.390674333704, 77.73536860432247, 156.74039217194817, 46.64654015364755, 91.57088935809219, 288.26275828303574, 58.20461681048526, 54.08241870921622, 74.2357477777824, 59.67604488421711, 102.60312165924063, 393.20192732664475, 60.055941339353375, 84.13837395154607, 58.46847326028638, 88.81886309339562, 2065.2169424973126, 400.1596397374345, 79.79387221573946, 1402.5104915140475, 1054.7189520580862, 552.8285146243699, 382.5891543155637, 229.46240243030772, 176.78400679364825, 204.1554719157301, 3048.9552698153175, 1280.6419484658336, 203.04812289203988, 316.3587465875999, 163.8023395402011, 260.95579962723485, 2214.021209450897, 5811.34482636132, 313.1330797640227, 962.5822305198888, 1019.8985090075669, 686.0539291311053, 3476.552414552059, 383.5856476036658, 1105.7112870413546, 2332.0722886065455, 576.6678076614487, 3990.310460171342, 2150.9970817795734, 856.1131574869243, 919.5952309435183, 1483.6272463540201, 3162.9048852991136, 3688.2964494352545, 2380.940496007526, 1631.1404783928247, 44504.78158908412, 3514.5045675311158, 5609.57654662246, 4598.283335295573, 5832.774304677216, 1950.1654607825553, 11638.402594208408, 214.2216808370549, 107.39108498057774, 98.44146401850259, 80.99293645937058, 77.46247006159652, 68.94104721357378, 68.25621532548355, 62.86797090728235, 61.620934279502336, 58.05196442288544, 57.354647322735865, 250.6105247792887, 52.4848009505575, 50.407403558466875, 49.19433057081124, 113.0833764699891, 44.73303052690646, 40.619998740122064, 42.90120721918941, 39.36091741320176, 38.40086335920988, 38.261381332012874, 37.811809953112906, 65.85175471343808, 32.08312038123135, 47.784392126623004, 31.985512351718995, 31.82517670536173, 31.953804258087075, 31.02584574618134, 3487.7639829551126, 403.2434650676779, 168.24618536365733, 3893.580089009136, 85.83876334048156, 3990.310460171342, 151.45175703731564, 60.839603114457255, 146.49841033027582, 5609.57654662246, 211.45237991864377, 87.5577557071328, 214.056582130872, 559.0801362819525, 181.67790440141204, 180.09526252377796, 94.65294719549865, 439.0884794303322, 1165.5904797213273, 5147.7535250188885, 507.6808958254243, 177.89288217601876, 289.23725718267025, 166.14037409468895, 683.4957952226042, 109.39376702805181, 531.1592681203728, 44504.78158908412, 1944.2133756533592, 3419.2941734865603, 539.7958165870521, 427.9397963220571, 426.9777541584025, 11638.402594208408, 21950.633846413224, 2243.5035966723335, 8359.715828769009, 4315.2461494409245, 1983.6745079304114, 6683.004501571325, 68291.39094881916, 8629.367404469094, 2209.796296982869, 3476.552414552059, 3162.9048852991136, 6040.2147963215175, 4241.997274608423, 392.91966485813145, 200.50520137882404, 106.16584545256524, 79.84744730896975, 66.86785558441412, 62.39602038541119, 62.1759417078414, 61.85965322155684, 61.93681394112221, 55.799472454361734, 55.63784416164418, 43.520103777928355, 42.29603488701292, 41.289357182608796, 40.235002350386196, 39.72900439906855, 38.964097025350114, 38.26940529445531, 37.50514938463623, 37.423352691940124, 37.28311191229487, 36.65093963538559, 36.448006966600275, 35.92408196992327, 34.51138784194849, 33.78522772123546, 33.657626745379396, 33.51245702197098, 33.56024771592218, 31.937022283963316, 90.5089092535734, 119.65772087685124, 72.85929810489034, 50.195621672820856, 91.39479793614315, 119.62868689071651, 106.64086699158783, 116.7295642344605, 126.34803999535214, 121.00442083124953, 124.94049220317186, 74.09883886109253, 65.76585258136024, 68.5002604874682, 335.5123664520038, 84.9481000158501, 3476.552414552059, 116.82502124044808, 1053.2380863006658, 245.167577010105, 195.5762066885185, 727.5901457450501, 830.6657478138077, 1114.2832998196022, 785.8711529660414, 151.85640442879455, 2038.8659159989745, 8359.715828769009, 1950.1654607825553, 744.0561964845062, 2941.897497060746, 5811.34482636132, 499.5662757244845, 373.26665820775577, 2628.381679553681, 679.3265086836707, 1983.6745079304114, 2342.6850329150116, 924.11729259393, 934.1409957259809, 650.3909812694109, 755.2807052947402, 979.7747377412013, 1418.020098989623, 2925.517537767988, 2209.796296982869, 2150.9970817795734, 1246.0188192873195, 68291.39094881916, 3849.3789132750603, 129.70000224327111, 108.33811105831259, 106.73633646010265, 83.448258465597, 78.1061638331967, 71.38639709200179, 65.44752890528316, 56.66668394510541, 55.39178296181971, 48.12365967879958, 48.09663381785906, 43.83398641251888, 42.39783395200445, 42.08508249026434, 40.09708069209255, 39.949856253661, 39.75538653099492, 35.02639311456047, 34.18155576889972, 33.642763696543035, 33.40350020078307, 32.75643067375471, 31.947677347255617, 31.078116872654633, 30.527323691115292, 30.01173298777788, 29.575464056567046, 29.57220334952215, 29.35570088385726, 29.276294950506585, 3116.7958739388923, 3729.8821175056037, 3844.721445395911, 142.45367294446035, 75.59151286173179, 86.45402309472952, 115.11353337268021, 80.81345301464724, 43.91520992311357, 53.40714906661458, 153.1802090031204, 728.5488714352593, 64.4770794428372, 272.2799316677552, 84.41749136793325, 282.28856958981146, 197.18043594667344, 1268.2926508728983, 153.6767905453947, 2628.381679553681, 1267.1310600707045, 4202.633726816183, 5832.774304677216, 2341.310438654116, 2941.897497060746, 817.8064333764431, 8359.715828769009, 935.6442474885379, 669.7315124263032, 5811.34482636132, 3162.9048852991136, 44504.78158908412, 68291.39094881916, 3688.2964494352545, 4598.283335295573, 5147.7535250188885, 920.4248668599174, 1541.9660889887878, 1644.2450863092818, 5609.57654662246, 11638.402594208408, 1761.415977738235, 2380.940496007526, 4315.2461494409245, 3849.3789132750603, 190.22470391425978, 117.8274569940696, 90.84572412579982, 81.07693581574647, 74.4289324162915, 72.88311722678311, 67.67398764661084, 67.59289712605734, 115.63490234812838, 61.131981620155514, 57.83755020617625, 57.66906340362782, 57.590065095760394, 57.023807810203195, 52.42155464527368, 52.14784047787032, 52.12121717550342, 46.44309756200567, 46.00749044723825, 45.93885396509657, 43.893007181507485, 43.52073137835152, 41.11688079374658, 40.19221838429231, 39.62724712157534, 39.28234730995748, 38.74801558239788, 37.220995503261385, 36.69376370041786, 35.92092641220652, 257.9909383900554, 129.29496717827277, 246.32264699259574, 61.7131523009911, 50.678447112645095, 155.21408409049695, 89.43269901946735, 135.8804646347843, 159.04058070861703, 104.53992022030266, 280.35385074408737, 94.65550199226017, 74.29848317207127, 91.72030849912093, 454.11118661798866, 318.45648990171344, 131.5713145941114, 1292.1229099013754, 97.79800199985384, 480.1970885990088, 4266.415240223449, 5832.774304677216, 2342.6850329150116, 2610.164112983288, 4202.633726816183, 426.23829193638556, 1165.6155566025282, 8359.715828769009, 169.09172894103534, 486.2711807603132, 650.3909812694109, 2089.754595497264, 4598.283335295573, 373.26665820775577, 68291.39094881916, 692.9622691363306, 44504.78158908412, 1983.6745079304114, 1641.4469632885646, 737.3379442384603, 3048.9552698153175, 3272.112183723991, 5811.34482636132, 3849.3789132750603, 1761.415977738235, 1918.4279276499904, 8629.367404469094, 3162.9048852991136, 11638.402594208408, 5609.57654662246], \"Category\": [\"Default\", \"Default\", \"Default\", \"Default\", \"Default\", \"Default\", \"Default\", \"Default\", \"Default\", \"Default\", \"Default\", \"Default\", \"Default\", \"Default\", \"Default\", \"Default\", \"Default\", \"Default\", \"Default\", \"Default\", \"Default\", \"Default\", \"Default\", \"Default\", \"Default\", \"Default\", \"Default\", \"Default\", \"Default\", \"Default\", \"Topic1\", \"Topic1\", \"Topic1\", \"Topic1\", \"Topic1\", \"Topic1\", \"Topic1\", \"Topic1\", \"Topic1\", \"Topic1\", \"Topic1\", \"Topic1\", \"Topic1\", \"Topic1\", \"Topic1\", \"Topic1\", \"Topic1\", \"Topic1\", \"Topic1\", \"Topic1\", \"Topic1\", \"Topic1\", \"Topic1\", \"Topic1\", \"Topic1\", \"Topic1\", \"Topic1\", \"Topic1\", \"Topic1\", \"Topic1\", \"Topic1\", \"Topic1\", \"Topic1\", \"Topic1\", \"Topic1\", \"Topic1\", \"Topic1\", \"Topic1\", \"Topic1\", \"Topic1\", \"Topic1\", \"Topic1\", \"Topic1\", \"Topic1\", \"Topic1\", \"Topic1\", \"Topic1\", \"Topic1\", \"Topic1\", \"Topic1\", \"Topic1\", \"Topic1\", \"Topic1\", \"Topic1\", \"Topic1\", \"Topic1\", \"Topic1\", \"Topic1\", \"Topic1\", \"Topic1\", \"Topic1\", \"Topic1\", \"Topic1\", \"Topic1\", \"Topic1\", \"Topic1\", \"Topic1\", \"Topic1\", \"Topic1\", \"Topic1\", \"Topic2\", \"Topic2\", \"Topic2\", \"Topic2\", \"Topic2\", \"Topic2\", \"Topic2\", \"Topic2\", \"Topic2\", \"Topic2\", \"Topic2\", \"Topic2\", \"Topic2\", \"Topic2\", \"Topic2\", \"Topic2\", \"Topic2\", \"Topic2\", \"Topic2\", \"Topic2\", \"Topic2\", \"Topic2\", \"Topic2\", \"Topic2\", \"Topic2\", \"Topic2\", \"Topic2\", \"Topic2\", \"Topic2\", \"Topic2\", \"Topic2\", \"Topic2\", \"Topic2\", \"Topic2\", \"Topic2\", \"Topic2\", \"Topic2\", \"Topic2\", \"Topic2\", \"Topic2\", \"Topic2\", \"Topic2\", \"Topic2\", \"Topic2\", \"Topic2\", \"Topic2\", \"Topic2\", \"Topic2\", \"Topic2\", \"Topic2\", \"Topic2\", \"Topic2\", \"Topic2\", \"Topic2\", \"Topic2\", \"Topic2\", \"Topic2\", \"Topic2\", \"Topic2\", \"Topic2\", \"Topic2\", \"Topic2\", \"Topic2\", \"Topic2\", \"Topic2\", \"Topic2\", \"Topic2\", \"Topic2\", \"Topic2\", \"Topic2\", \"Topic2\", \"Topic2\", \"Topic2\", \"Topic2\", \"Topic2\", \"Topic2\", \"Topic2\", \"Topic2\", \"Topic2\", \"Topic2\", \"Topic2\", \"Topic2\", \"Topic2\", \"Topic2\", \"Topic2\", \"Topic2\", \"Topic3\", \"Topic3\", \"Topic3\", \"Topic3\", \"Topic3\", \"Topic3\", \"Topic3\", \"Topic3\", \"Topic3\", \"Topic3\", \"Topic3\", \"Topic3\", \"Topic3\", \"Topic3\", \"Topic3\", \"Topic3\", \"Topic3\", \"Topic3\", \"Topic3\", \"Topic3\", \"Topic3\", \"Topic3\", \"Topic3\", \"Topic3\", \"Topic3\", \"Topic3\", \"Topic3\", \"Topic3\", \"Topic3\", \"Topic3\", \"Topic3\", \"Topic3\", \"Topic3\", \"Topic3\", \"Topic3\", \"Topic3\", \"Topic3\", \"Topic3\", \"Topic3\", \"Topic3\", \"Topic3\", \"Topic3\", \"Topic3\", \"Topic3\", \"Topic3\", \"Topic3\", \"Topic3\", \"Topic3\", \"Topic3\", \"Topic3\", \"Topic3\", \"Topic3\", \"Topic3\", \"Topic3\", \"Topic3\", \"Topic3\", \"Topic3\", \"Topic3\", \"Topic3\", \"Topic3\", \"Topic3\", \"Topic3\", \"Topic3\", \"Topic3\", \"Topic3\", \"Topic3\", \"Topic3\", \"Topic3\", \"Topic3\", \"Topic3\", \"Topic3\", \"Topic3\", \"Topic3\", \"Topic3\", \"Topic3\", \"Topic3\", \"Topic3\", \"Topic3\", \"Topic3\", \"Topic3\", \"Topic3\", \"Topic4\", \"Topic4\", \"Topic4\", \"Topic4\", \"Topic4\", \"Topic4\", \"Topic4\", \"Topic4\", \"Topic4\", \"Topic4\", \"Topic4\", \"Topic4\", \"Topic4\", \"Topic4\", \"Topic4\", \"Topic4\", \"Topic4\", \"Topic4\", \"Topic4\", \"Topic4\", \"Topic4\", \"Topic4\", \"Topic4\", \"Topic4\", \"Topic4\", \"Topic4\", \"Topic4\", \"Topic4\", \"Topic4\", \"Topic4\", \"Topic4\", \"Topic4\", \"Topic4\", \"Topic4\", \"Topic4\", \"Topic4\", \"Topic4\", \"Topic4\", \"Topic4\", \"Topic4\", \"Topic4\", \"Topic4\", \"Topic4\", \"Topic4\", \"Topic4\", \"Topic4\", \"Topic4\", \"Topic4\", \"Topic4\", \"Topic4\", \"Topic4\", \"Topic4\", \"Topic4\", \"Topic4\", \"Topic4\", \"Topic4\", \"Topic4\", \"Topic4\", \"Topic4\", \"Topic4\", \"Topic4\", \"Topic4\", \"Topic4\", \"Topic4\", \"Topic4\", \"Topic4\", \"Topic4\", \"Topic4\", \"Topic4\", \"Topic4\", \"Topic4\", \"Topic4\", \"Topic4\", \"Topic4\", \"Topic4\", \"Topic4\", \"Topic4\", \"Topic4\", \"Topic4\", \"Topic4\", \"Topic4\", \"Topic4\", \"Topic4\", \"Topic4\", \"Topic4\", \"Topic4\", \"Topic4\", \"Topic4\", \"Topic5\", \"Topic5\", \"Topic5\", \"Topic5\", \"Topic5\", \"Topic5\", \"Topic5\", \"Topic5\", \"Topic5\", \"Topic5\", \"Topic5\", \"Topic5\", \"Topic5\", \"Topic5\", \"Topic5\", \"Topic5\", \"Topic5\", \"Topic5\", \"Topic5\", \"Topic5\", \"Topic5\", \"Topic5\", \"Topic5\", \"Topic5\", \"Topic5\", \"Topic5\", \"Topic5\", \"Topic5\", \"Topic5\", \"Topic5\", \"Topic5\", \"Topic5\", \"Topic5\", \"Topic5\", \"Topic5\", \"Topic5\", \"Topic5\", \"Topic5\", \"Topic5\", \"Topic5\", \"Topic5\", \"Topic5\", \"Topic5\", \"Topic5\", \"Topic5\", \"Topic5\", \"Topic5\", \"Topic5\", \"Topic5\", \"Topic5\", \"Topic5\", \"Topic5\", \"Topic5\", \"Topic5\", \"Topic5\", \"Topic5\", \"Topic5\", \"Topic5\", \"Topic5\", \"Topic5\", \"Topic5\", \"Topic5\", \"Topic5\", \"Topic5\", \"Topic5\", \"Topic5\", \"Topic5\", \"Topic5\", \"Topic5\", \"Topic5\", \"Topic5\", \"Topic5\", \"Topic5\", \"Topic5\", \"Topic5\", \"Topic5\", \"Topic5\", \"Topic5\", \"Topic6\", \"Topic6\", \"Topic6\", \"Topic6\", \"Topic6\", \"Topic6\", \"Topic6\", \"Topic6\", \"Topic6\", \"Topic6\", \"Topic6\", \"Topic6\", \"Topic6\", \"Topic6\", \"Topic6\", \"Topic6\", \"Topic6\", \"Topic6\", \"Topic6\", \"Topic6\", \"Topic6\", \"Topic6\", \"Topic6\", \"Topic6\", \"Topic6\", \"Topic6\", \"Topic6\", \"Topic6\", \"Topic6\", \"Topic6\", \"Topic6\", \"Topic6\", \"Topic6\", \"Topic6\", \"Topic6\", \"Topic6\", \"Topic6\", \"Topic6\", \"Topic6\", \"Topic6\", \"Topic6\", \"Topic6\", \"Topic6\", \"Topic6\", \"Topic6\", \"Topic6\", \"Topic6\", \"Topic6\", \"Topic6\", \"Topic6\", \"Topic6\", \"Topic6\", \"Topic6\", \"Topic6\", \"Topic6\", \"Topic6\", \"Topic6\", \"Topic6\", \"Topic6\", \"Topic6\", \"Topic6\", \"Topic6\", \"Topic6\", \"Topic6\", \"Topic6\", \"Topic6\", \"Topic6\", \"Topic6\", \"Topic6\", \"Topic6\", \"Topic6\", \"Topic6\", \"Topic6\", \"Topic6\", \"Topic6\", \"Topic6\", \"Topic6\", \"Topic6\", \"Topic6\", \"Topic6\", \"Topic6\", \"Topic6\", \"Topic6\", \"Topic6\", \"Topic6\", \"Topic6\", \"Topic6\", \"Topic6\", \"Topic6\", \"Topic6\", \"Topic6\", \"Topic6\", \"Topic6\", \"Topic7\", \"Topic7\", \"Topic7\", \"Topic7\", \"Topic7\", \"Topic7\", \"Topic7\", \"Topic7\", \"Topic7\", \"Topic7\", \"Topic7\", \"Topic7\", \"Topic7\", \"Topic7\", \"Topic7\", \"Topic7\", \"Topic7\", \"Topic7\", \"Topic7\", \"Topic7\", \"Topic7\", \"Topic7\", \"Topic7\", \"Topic7\", \"Topic7\", \"Topic7\", \"Topic7\", \"Topic7\", \"Topic7\", \"Topic7\", \"Topic7\", \"Topic7\", \"Topic7\", \"Topic7\", \"Topic7\", \"Topic7\", \"Topic7\", \"Topic7\", \"Topic7\", \"Topic7\", \"Topic7\", \"Topic7\", \"Topic7\", \"Topic7\", \"Topic7\", \"Topic7\", \"Topic7\", \"Topic7\", \"Topic7\", \"Topic7\", \"Topic7\", \"Topic7\", \"Topic7\", \"Topic7\", \"Topic7\", \"Topic7\", \"Topic7\", \"Topic7\", \"Topic7\", \"Topic7\", \"Topic7\", \"Topic7\", \"Topic7\", \"Topic7\", \"Topic7\", \"Topic7\", \"Topic7\", \"Topic7\", \"Topic7\", \"Topic7\", \"Topic7\", \"Topic7\", \"Topic7\", \"Topic7\", \"Topic7\", \"Topic7\", \"Topic7\", \"Topic8\", \"Topic8\", \"Topic8\", \"Topic8\", \"Topic8\", \"Topic8\", \"Topic8\", \"Topic8\", \"Topic8\", \"Topic8\", \"Topic8\", \"Topic8\", \"Topic8\", \"Topic8\", \"Topic8\", \"Topic8\", \"Topic8\", \"Topic8\", \"Topic8\", \"Topic8\", \"Topic8\", \"Topic8\", \"Topic8\", \"Topic8\", \"Topic8\", \"Topic8\", \"Topic8\", \"Topic8\", \"Topic8\", \"Topic8\", \"Topic8\", \"Topic8\", \"Topic8\", \"Topic8\", \"Topic8\", \"Topic8\", \"Topic8\", \"Topic8\", \"Topic8\", \"Topic8\", \"Topic8\", \"Topic8\", \"Topic8\", \"Topic8\", \"Topic8\", \"Topic8\", \"Topic8\", \"Topic8\", \"Topic8\", \"Topic8\", \"Topic8\", \"Topic8\", \"Topic8\", \"Topic8\", \"Topic8\", \"Topic8\", \"Topic8\", \"Topic8\", \"Topic8\", \"Topic8\", \"Topic8\", \"Topic8\", \"Topic8\", \"Topic8\", \"Topic8\", \"Topic8\", \"Topic8\", \"Topic8\", \"Topic8\", \"Topic8\", \"Topic8\", \"Topic8\", \"Topic8\", \"Topic8\", \"Topic8\", \"Topic8\", \"Topic8\", \"Topic8\", \"Topic8\", \"Topic8\", \"Topic9\", \"Topic9\", \"Topic9\", \"Topic9\", \"Topic9\", \"Topic9\", \"Topic9\", \"Topic9\", \"Topic9\", \"Topic9\", \"Topic9\", \"Topic9\", \"Topic9\", \"Topic9\", \"Topic9\", \"Topic9\", \"Topic9\", \"Topic9\", \"Topic9\", \"Topic9\", \"Topic9\", \"Topic9\", \"Topic9\", \"Topic9\", \"Topic9\", \"Topic9\", \"Topic9\", \"Topic9\", \"Topic9\", \"Topic9\", \"Topic9\", \"Topic9\", \"Topic9\", \"Topic9\", \"Topic9\", \"Topic9\", \"Topic9\", \"Topic9\", \"Topic9\", \"Topic9\", \"Topic9\", \"Topic9\", \"Topic9\", \"Topic9\", \"Topic9\", \"Topic9\", \"Topic9\", \"Topic9\", \"Topic9\", \"Topic9\", \"Topic9\", \"Topic9\", \"Topic9\", \"Topic9\", \"Topic9\", \"Topic9\", \"Topic9\", \"Topic9\", \"Topic9\", \"Topic9\", \"Topic9\", \"Topic9\", \"Topic9\", \"Topic9\", \"Topic9\", \"Topic9\", \"Topic9\", \"Topic9\", \"Topic9\", \"Topic9\", \"Topic9\", \"Topic9\", \"Topic9\", \"Topic9\", \"Topic9\", \"Topic10\", \"Topic10\", \"Topic10\", \"Topic10\", \"Topic10\", \"Topic10\", \"Topic10\", \"Topic10\", \"Topic10\", \"Topic10\", \"Topic10\", \"Topic10\", \"Topic10\", \"Topic10\", \"Topic10\", \"Topic10\", \"Topic10\", \"Topic10\", \"Topic10\", \"Topic10\", \"Topic10\", \"Topic10\", \"Topic10\", \"Topic10\", \"Topic10\", \"Topic10\", \"Topic10\", \"Topic10\", \"Topic10\", \"Topic10\", \"Topic10\", \"Topic10\", \"Topic10\", \"Topic10\", \"Topic10\", \"Topic10\", \"Topic10\", \"Topic10\", \"Topic10\", \"Topic10\", \"Topic10\", \"Topic10\", \"Topic10\", \"Topic10\", \"Topic10\", \"Topic10\", \"Topic10\", \"Topic10\", \"Topic10\", \"Topic10\", \"Topic10\", \"Topic10\", \"Topic10\", \"Topic10\", \"Topic10\", \"Topic10\", \"Topic10\", \"Topic10\", \"Topic10\", \"Topic10\", \"Topic10\", \"Topic10\", \"Topic10\", \"Topic10\", \"Topic10\", \"Topic10\", \"Topic10\", \"Topic10\", \"Topic10\", \"Topic10\", \"Topic10\", \"Topic10\", \"Topic10\", \"Topic10\", \"Topic10\", \"Topic10\", \"Topic10\", \"Topic10\", \"Topic10\", \"Topic10\"], \"logprob\": [30.0, 29.0, 28.0, 27.0, 26.0, 25.0, 24.0, 23.0, 22.0, 21.0, 20.0, 19.0, 18.0, 17.0, 16.0, 15.0, 14.0, 13.0, 12.0, 11.0, 10.0, 9.0, 8.0, 7.0, 6.0, 5.0, 4.0, 3.0, 2.0, 1.0, -6.9948, -7.252, -7.2706, -7.403, -7.8002, -7.9053, -7.9525, -8.0516, -8.0763, -8.1559, -7.2815, -8.2959, -8.3566, -8.3598, -8.3799, -8.3895, -6.6226, -8.3827, -8.4016, -8.4481, -8.4696, -8.4563, -8.4869, -8.5372, -8.5455, -6.6972, -8.5705, -8.5861, -7.7571, -8.6677, -4.5354, -5.6243, -4.1563, -5.6783, -1.6489, -2.7773, -7.093, -7.458, -5.6045, -6.604, -6.61, -4.6627, -7.689, -7.7438, -4.7645, -3.7721, -2.1825, -4.0436, -4.1508, -5.1594, -4.4972, -6.4887, -3.5521, -4.6451, -4.7667, -5.511, -5.3523, -4.5739, -6.1968, -4.8964, -5.8945, -5.551, -5.5385, -4.9411, -5.2937, -6.0689, -5.5607, -5.1911, -5.0055, -5.622, -6.8193, -7.6454, -7.7507, -7.8051, -7.977, -8.1259, -8.1529, -8.155, -8.1683, -8.1694, -7.4779, -8.3024, -8.3276, -8.3319, -8.3996, -8.4033, -8.4219, -8.4504, -8.5381, -8.5386, -8.5544, -8.6051, -8.6123, -8.6167, -8.6263, -8.6273, -8.6464, -8.1105, -8.5751, -8.6859, -6.8732, -8.0213, -8.1734, -7.7561, -7.3979, -7.4653, -8.3904, -7.7607, -7.741, -8.1713, -8.227, -7.6034, -7.0997, -7.9719, -7.2796, -7.6736, -6.7872, -6.5056, -5.9635, -4.4352, -6.2731, -5.4087, -4.3112, -5.7522, -5.9142, -6.7716, -5.6729, -5.967, -6.6862, -5.5898, -5.5965, -5.6968, -5.1715, -5.6219, -5.8733, -5.6844, -5.7145, -4.5988, -5.5385, -5.3163, -5.2171, -6.1758, -6.1826, -5.5306, -6.3141, -5.5905, -5.8213, -5.8434, -5.4023, -5.4757, -5.8238, -5.5328, -5.618, -5.4778, -5.8425, -5.9402, -6.573, -7.2335, -7.3326, -7.3859, -7.5158, -7.6767, -7.6941, -7.8784, -7.9488, -7.9891, -8.0088, -8.009, -8.0535, -8.0678, -8.073, -8.0939, -8.1381, -8.2151, -8.2179, -8.2232, -8.2286, -7.6074, -8.2492, -8.2718, -8.2722, -8.3259, -8.3312, -8.3473, -8.3493, -8.3757, -7.2609, -6.6539, -7.3147, -6.651, -7.6885, -7.9464, -7.5281, -7.2167, -7.462, -5.4384, -4.6742, -5.7756, -6.9323, -7.1848, -5.6845, -4.949, -7.1327, -5.6336, -6.6049, -5.0224, -7.585, -4.2087, -6.3403, -7.0742, -5.1615, -5.311, -5.2954, -5.2437, -5.9758, -6.1564, -4.8531, -4.9922, -5.5069, -5.8464, -6.315, -5.0571, -6.2014, -5.0394, -6.12, -6.253, -5.5436, -5.3554, -5.9766, -5.9501, -5.8746, -5.9889, -5.7682, -5.6941, -5.9617, -5.664, -5.9492, -6.2553, -7.0801, -7.7428, -7.7924, -7.8458, -7.9213, -7.9258, -7.9663, -7.9758, -8.0976, -7.5592, -8.1189, -8.1232, -8.1335, -8.1433, -8.1793, -8.1777, -8.2189, -8.2219, -8.2388, -8.2487, -8.2499, -8.3124, -8.3172, -8.3491, -8.3557, -8.3717, -8.3836, -8.3892, -8.1031, -6.882, -7.9176, -6.6623, -7.5218, -7.9139, -7.3027, -7.5081, -6.7866, -5.6648, -7.5008, -7.5591, -7.0333, -6.9878, -6.3792, -6.9229, -7.5247, -6.1167, -6.9017, -6.1934, -6.2064, -4.7225, -5.312, -6.623, -7.1324, -7.135, -7.4903, -5.8595, -5.7017, -6.0712, -5.8512, -5.1878, -4.7582, -6.1225, -6.9743, -5.1204, -5.4225, -6.2314, -6.1176, -6.0363, -6.2363, -5.9636, -5.2196, -5.4545, -5.2731, -5.7571, -5.6676, -5.6779, -5.0626, -5.6815, -5.4405, -5.5107, -5.7148, -5.8717, -5.8264, -6.0442, -5.999, -6.0735, -6.0471, -6.1459, -7.0718, -7.2162, -7.3112, -7.4385, -7.5233, -7.6359, -7.6733, -7.6936, -7.72, -6.0649, -7.7497, -7.7852, -7.8066, -7.8348, -7.8456, -7.883, -7.8925, -7.9085, -8.0059, -8.0075, -7.3686, -8.0247, -8.029, -8.0281, -8.0402, -8.0574, -8.0936, -8.1505, -8.1738, -6.501, -7.4665, -6.2448, -7.4623, -6.7463, -6.7664, -6.2009, -7.034, -7.1908, -7.3131, -6.7124, -6.0396, -7.1733, -6.0673, -7.0884, -5.656, -6.8745, -6.6235, -6.9387, -6.0143, -5.0784, -5.5259, -5.5585, -5.9348, -5.9755, -5.644, -5.7717, -5.9085, -5.5621, -5.0906, -5.9035, -5.2071, -5.9175, -5.3765, -5.5248, -5.3592, -5.7401, -5.7962, -5.3947, -5.1666, -5.9935, -5.7926, -5.6153, -5.8523, -5.3721, -5.9308, -5.9441, -6.0198, -7.0025, -7.0462, -7.4617, -7.5276, -7.656, -7.6686, -7.7012, -7.7391, -7.8634, -7.8797, -7.8792, -7.8985, -7.9089, -7.9452, -7.9463, -8.0024, -8.0113, -8.0331, -8.0407, -8.0847, -8.0937, -8.1077, -8.1509, -8.1578, -8.1613, -7.4148, -8.1674, -8.1845, -8.2009, -8.2034, -7.2491, -7.3128, -7.1611, -7.0231, -4.5489, -7.3001, -6.6442, -7.7865, -7.1691, -6.1803, -7.6092, -7.6752, -7.4063, -7.5922, -7.1514, -6.0773, -7.5928, -7.3347, -7.6171, -7.304, -4.9556, -6.19, -7.3856, -5.3142, -5.586, -6.044, -6.314, -6.6807, -6.8881, -6.8196, -5.2369, -5.7654, -6.8401, -6.5941, -6.963, -6.7069, -5.5943, -5.1238, -6.6259, -6.1038, -6.0847, -6.2721, -5.5322, -6.5543, -6.1478, -5.8659, -6.4369, -5.7059, -5.9473, -6.2971, -6.3049, -6.1581, -5.9436, -5.9042, -6.0523, -6.1728, -5.6494, -6.1133, -6.0356, -6.0767, -6.1094, -6.2177, -6.1762, -6.2127, -6.9079, -6.9957, -7.193, -7.2381, -7.3562, -7.3663, -7.4498, -7.4702, -7.5308, -7.5431, -6.0687, -7.6335, -7.6746, -7.6995, -6.8672, -7.7966, -7.8953, -7.8413, -7.9277, -7.9529, -7.9566, -7.9688, -7.4144, -8.1378, -7.7395, -8.141, -8.1461, -8.1424, -8.1724, -3.4747, -5.6239, -6.4912, -3.3834, -7.1715, -3.4622, -6.6272, -7.5089, -6.6672, -3.3276, -6.3622, -7.1817, -6.3673, -5.5286, -6.5357, -6.5509, -7.1211, -5.815, -5.0204, -3.8479, -5.7461, -6.6102, -6.2589, -6.7093, -5.6932, -7.0205, -5.9912, -3.2851, -5.2274, -4.8888, -6.0454, -6.1912, -6.2007, -4.8859, -4.7718, -5.6437, -5.1647, -5.4307, -5.7232, -5.4168, -4.9301, -5.6626, -5.9166, -5.8687, -6.0008, -6.0193, -6.0474, -5.5832, -6.2583, -6.8984, -7.1863, -7.366, -7.4363, -7.4399, -7.4451, -7.4438, -7.5499, -7.5528, -7.8033, -7.8325, -7.8572, -7.8836, -7.8966, -7.9165, -7.935, -7.9557, -7.9579, -7.9618, -7.9793, -7.985, -7.9999, -8.0412, -8.063, -8.0669, -8.0713, -8.0699, -8.1209, -7.0864, -6.8393, -7.327, -7.6897, -7.1284, -6.9433, -7.0518, -6.9803, -6.9205, -6.9636, -6.9381, -7.3879, -7.4916, -7.4653, -6.2353, -7.3134, -4.5824, -7.088, -5.4858, -6.568, -6.7331, -5.8542, -5.7782, -5.6688, -5.9018, -6.9349, -5.3862, -4.5539, -5.4754, -6.0456, -5.2952, -4.9546, -6.2839, -6.4813, -5.5685, -6.2188, -5.7529, -5.7026, -6.1165, -6.1547, -6.3149, -6.2623, -6.1886, -6.0595, -5.831, -6.0007, -6.0431, -6.205, -5.7995, -6.1339, -6.6944, -6.8759, -6.8909, -7.1396, -7.2066, -7.2978, -7.3863, -7.5323, -7.5555, -7.6988, -7.6995, -7.7942, -7.8283, -7.8359, -7.8854, -7.8892, -7.8942, -8.0243, -8.0494, -8.0657, -8.0731, -8.0933, -8.119, -8.1476, -8.166, -8.1836, -8.1987, -8.1989, -8.2064, -8.2092, -3.6135, -3.4515, -3.445, -6.6724, -7.3009, -7.1794, -6.9193, -7.2606, -7.8278, -7.6556, -6.7291, -5.4311, -7.5051, -6.307, -7.291, -6.3638, -6.6761, -5.2968, -6.9156, -4.9342, -5.4578, -4.657, -4.7089, -5.3217, -5.1972, -5.968, -4.799, -6.0236, -6.2624, -5.2569, -5.5455, -4.4712, -4.3596, -5.6873, -5.6256, -5.6507, -6.2351, -6.1794, -6.1795, -5.9949, -5.9081, -6.2372, -6.1881, -6.122, -6.1532, -6.2071, -6.6892, -6.9517, -7.0668, -7.1535, -7.1747, -7.2499, -7.2511, -6.7155, -7.3531, -7.4095, -7.4124, -7.4138, -7.4239, -7.5095, -7.5149, -7.5154, -7.6331, -7.6427, -7.6442, -7.6908, -7.6995, -7.7576, -7.7809, -7.7955, -7.8044, -7.8185, -7.8597, -7.8744, -7.8963, -5.9316, -6.6166, -5.9799, -7.357, -7.5595, -6.4927, -7.0285, -6.6878, -6.5563, -6.9298, -6.0886, -7.0287, -7.2386, -7.0803, -5.8124, -6.1003, -6.7922, -5.1164, -7.0329, -5.9818, -4.6526, -4.566, -5.1251, -5.1068, -4.8289, -6.2033, -5.7287, -4.7381, -6.7706, -6.2985, -6.2262, -5.7935, -5.4893, -6.4789, -4.6443, -6.2584, -4.8566, -5.9555, -6.0208, -6.2601, -5.9666, -5.9734, -5.888, -5.964, -6.1275, -6.1218, -5.945, -6.0778, -5.9671, -6.1524], \"loglift\": [30.0, 29.0, 28.0, 27.0, 26.0, 25.0, 24.0, 23.0, 22.0, 21.0, 20.0, 19.0, 18.0, 17.0, 16.0, 15.0, 14.0, 13.0, 12.0, 11.0, 10.0, 9.0, 8.0, 7.0, 6.0, 5.0, 4.0, 3.0, 2.0, 1.0, 1.4335, 1.4325, 1.4325, 1.4319, 1.4295, 1.4287, 1.4284, 1.4275, 1.4273, 1.4264, 1.426, 1.4247, 1.4242, 1.4242, 1.4239, 1.4238, 1.4236, 1.4236, 1.4232, 1.423, 1.4228, 1.4227, 1.4225, 1.4218, 1.4215, 1.4214, 1.4213, 1.421, 1.4204, 1.4197, 1.4068, 1.4137, 1.3971, 1.4082, 1.3658, 1.3723, 1.4158, 1.4168, 1.3879, 1.4039, 1.3986, 1.3552, 1.4131, 1.4129, 1.3441, 1.3112, 1.2604, 1.2953, 1.2892, 1.3269, 1.2962, 1.3739, 1.2321, 1.2775, 1.2799, 1.3174, 1.2857, 1.2025, 1.334, 1.1566, 1.2758, 1.2152, 1.2061, 1.0679, 1.1367, 1.295, 1.1821, 0.9739, 0.5944, -0.5069, 2.0652, 2.059, 2.0577, 2.0571, 2.0533, 2.0522, 2.0517, 2.0517, 2.0514, 2.0514, 2.0513, 2.0488, 2.0482, 2.048, 2.0466, 2.0466, 2.0461, 2.0454, 2.0432, 2.0432, 2.0428, 2.0414, 2.0412, 2.041, 2.0408, 2.0407, 2.04, 2.0398, 2.0391, 2.039, 2.0352, 2.0345, 2.0338, 2.0108, 1.9848, 1.9883, 2.0274, 1.9819, 1.962, 2.0046, 2.0091, 1.9321, 1.8596, 1.9772, 1.8735, 1.9277, 1.7702, 1.6986, 1.5936, 1.2776, 1.6334, 1.4353, 1.1675, 1.4533, 1.4771, 1.6796, 1.3634, 1.4294, 1.6261, 1.2937, 1.1916, 1.1673, 0.9522, 1.1193, 1.2141, 1.121, 1.0921, 0.5162, 0.9629, 0.8431, 0.7644, 1.2867, 1.2729, 0.8611, 1.3472, 0.7967, 0.9432, 0.9608, 0.3854, 0.4576, 0.7622, 0.3578, 0.469, -0.0028, 0.7445, -0.1375, 2.357, 2.3522, 2.3512, 2.3506, 2.349, 2.3467, 2.3464, 2.3433, 2.3419, 2.3411, 2.3407, 2.3406, 2.3397, 2.3394, 2.3393, 2.3388, 2.3377, 2.3358, 2.3357, 2.3356, 2.3354, 2.3351, 2.3349, 2.3343, 2.3343, 2.3328, 2.3325, 2.3321, 2.3321, 2.3313, 2.3277, 2.3106, 2.3185, 2.2479, 2.2962, 2.31, 2.2733, 2.2371, 2.2462, 1.9948, 1.885, 1.9973, 2.1423, 2.1758, 1.8797, 1.6696, 2.1426, 1.7776, 2.0046, 1.5646, 2.2307, 1.2662, 1.8645, 2.0775, 1.409, 1.4535, 1.377, 1.2143, 1.5433, 1.6249, 0.9496, 1.0002, 1.2768, 1.4395, 1.6683, 0.8334, 1.5859, 0.7483, 1.5041, 1.551, 0.9001, 0.5779, 1.2447, 1.1178, 0.4044, 0.6632, -0.0554, -0.5791, 0.43, -2.6493, -0.4705, 2.4351, 2.4299, 2.4213, 2.4204, 2.4193, 2.4179, 2.4178, 2.4168, 2.4167, 2.4138, 2.4136, 2.4133, 2.4132, 2.4129, 2.4127, 2.4117, 2.4117, 2.4106, 2.4106, 2.41, 2.4098, 2.4098, 2.4079, 2.4077, 2.4067, 2.4065, 2.4059, 2.4056, 2.4054, 2.4053, 2.4027, 2.4016, 2.3768, 2.3876, 2.3951, 2.3603, 2.3682, 2.3126, 2.2243, 2.3613, 2.3652, 2.3133, 2.3071, 2.2037, 2.2679, 2.3263, 2.0887, 2.2153, 2.0545, 2.0357, 1.723, 1.8072, 2.1134, 2.2069, 2.2001, 2.2932, 1.7835, 1.6899, 1.7944, 1.7065, 1.4398, 1.2234, 1.7011, 2.1091, 0.9666, 1.0907, 1.5842, 1.4949, 1.4298, 1.5699, 1.3586, 0.7137, 0.9165, 0.6175, 1.0472, 0.906, 0.9081, 0.0525, 0.7622, 0.3472, 0.2021, -0.2361, 0.252, -0.3124, 0.9575, 0.459, 1.0824, 0.6051, 2.4682, 2.4624, 2.461, 2.4599, 2.4583, 2.4571, 2.4553, 2.4547, 2.4543, 2.4539, 2.4535, 2.4533, 2.4526, 2.4522, 2.4517, 2.4515, 2.4507, 2.4505, 2.4501, 2.4479, 2.4478, 2.4478, 2.4475, 2.4474, 2.4473, 2.4471, 2.4467, 2.4458, 2.4442, 2.4436, 2.4149, 2.4317, 2.3975, 2.4299, 2.3892, 2.3576, 2.2619, 2.3248, 2.3429, 2.3508, 2.224, 2.0344, 2.2665, 1.9362, 2.2229, 1.7497, 2.15, 2.0299, 2.1489, 1.7638, 1.3094, 1.4629, 1.4432, 1.5851, 1.5982, 1.4021, 1.4575, 1.4772, 1.2357, 0.8, 1.3415, 0.7745, 1.3284, 0.7472, 0.7473, 0.5741, 0.8876, 0.945, 0.393, -0.0516, 1.1865, 0.7934, -0.1366, 0.5186, -2.3574, 0.6428, 0.2153, 0.6323, 2.5576, 2.5572, 2.552, 2.5509, 2.5486, 2.5484, 2.5478, 2.5471, 2.5444, 2.544, 2.544, 2.5434, 2.5432, 2.5424, 2.5424, 2.5409, 2.5408, 2.5402, 2.54, 2.5385, 2.5384, 2.538, 2.5368, 2.5366, 2.5365, 2.5364, 2.5363, 2.5358, 2.5353, 2.5352, 2.5116, 2.5105, 2.5044, 2.4982, 2.3715, 2.4928, 2.4474, 2.5171, 2.46, 2.3021, 2.473, 2.4805, 2.4327, 2.465, 2.364, 2.0946, 2.4581, 2.3791, 2.4607, 2.3556, 1.5576, 1.9643, 2.3812, 1.586, 1.5992, 1.7872, 1.8853, 2.0297, 2.0832, 2.0077, 0.8867, 1.2257, 1.9927, 1.7953, 2.0845, 1.875, 0.8494, 0.3549, 1.7737, 1.1728, 1.134, 1.3432, 0.4603, 1.6424, 0.9902, 0.5258, 1.3521, 0.1487, 0.5253, 1.0968, 1.0173, 0.6858, 0.1434, 0.0291, 0.3187, 0.5764, -2.2065, -0.1318, -0.5216, -0.3639, -0.6344, 0.3528, -1.3921, 2.5665, 2.5619, 2.5611, 2.5589, 2.5583, 2.5568, 2.5566, 2.5553, 2.555, 2.554, 2.5538, 2.5536, 2.5522, 2.5514, 2.551, 2.5509, 2.5489, 2.5467, 2.5461, 2.5458, 2.5452, 2.5451, 2.5448, 2.5444, 2.5401, 2.54, 2.54, 2.5398, 2.5396, 2.539, 2.5145, 2.5228, 2.5296, 2.4958, 2.5223, 2.3924, 2.4987, 2.5291, 2.492, 2.1864, 2.43, 2.4922, 2.4127, 2.2913, 2.4083, 2.4019, 2.4749, 2.2465, 2.0648, 1.752, 2.1703, 2.3549, 2.22, 2.3241, 1.9258, 2.4308, 1.88, 0.1577, 1.3463, 1.1202, 1.8096, 1.896, 1.8888, -0.1018, -0.6222, 0.7867, -0.0497, 0.3456, 0.8303, -0.0779, -1.9154, -0.5793, 0.5289, 0.1238, 0.0862, -0.5792, -0.254, 2.5894, 2.5871, 2.5828, 2.5798, 2.5775, 2.5764, 2.5764, 2.5763, 2.5763, 2.5746, 2.5745, 2.5697, 2.569, 2.5684, 2.5678, 2.5675, 2.567, 2.5666, 2.5661, 2.566, 2.5659, 2.5655, 2.5653, 2.5649, 2.5637, 2.5632, 2.5631, 2.563, 2.5629, 2.5615, 2.5544, 2.5223, 2.5307, 2.5406, 2.5026, 2.4185, 2.4249, 2.4061, 2.3867, 2.3868, 2.3803, 2.453, 2.4685, 2.4541, 2.0953, 2.3908, 1.4101, 2.2975, 1.7008, 2.0763, 2.1372, 1.7023, 1.6458, 1.4614, 1.5776, 2.1883, 1.1399, 0.5612, 1.0951, 1.4885, 0.8642, 0.5241, 1.6486, 1.7426, 0.7036, 1.4063, 0.8006, 0.6846, 1.2009, 1.1519, 1.3537, 1.2568, 1.0703, 0.8297, 0.334, 0.4449, 0.4294, 0.8135, -2.7848, -0.2433, 2.5866, 2.5851, 2.5849, 2.5823, 2.5815, 2.5803, 2.5787, 2.5767, 2.5763, 2.5736, 2.5735, 2.5716, 2.5708, 2.5706, 2.5695, 2.5694, 2.5693, 2.5659, 2.5651, 2.5647, 2.5645, 2.5639, 2.5631, 2.5621, 2.5616, 2.5611, 2.5606, 2.5605, 2.5603, 2.5602, 2.4882, 2.4706, 2.4467, 2.5148, 2.52, 2.5073, 2.481, 2.4935, 2.5362, 2.5127, 2.3856, 2.1241, 2.4749, 2.2324, 2.4194, 2.1395, 2.186, 1.704, 2.1958, 1.3379, 1.5439, 1.1457, 0.7661, 1.0661, 0.9622, 1.4716, 0.316, 1.2814, 1.3769, 0.2217, 0.5414, -1.0283, -1.345, 0.246, 0.0872, -0.0508, 1.0863, 0.626, 0.5617, -0.4809, -1.124, 0.4351, 0.1828, -0.3457, -0.2627, 2.6909, 2.6878, 2.6853, 2.684, 2.6829, 2.6826, 2.6816, 2.6816, 2.6803, 2.68, 2.6791, 2.6791, 2.6791, 2.6789, 2.6774, 2.6773, 2.6772, 2.6749, 2.6747, 2.6747, 2.6737, 2.6735, 2.6722, 2.6716, 2.6712, 2.671, 2.6707, 2.6696, 2.6692, 2.6687, 2.6617, 2.6676, 2.6597, 2.6667, 2.6612, 2.6087, 2.6242, 2.5466, 2.5207, 2.5668, 2.4216, 2.5673, 2.5995, 2.5472, 2.2155, 2.2825, 2.4745, 1.8658, 2.5304, 1.9902, 1.1351, 0.909, 1.2621, 1.1723, 0.9739, 1.888, 1.3565, 0.3769, 2.2452, 1.661, 1.4425, 0.7079, 0.2235, 1.7451, -1.6296, 1.3468, -1.4137, 0.598, 0.7221, 1.2831, 0.1571, 0.0796, -0.4093, -0.0734, 0.5448, 0.4651, -0.8617, 0.0092, -1.1829, -0.6384]}, \"token.table\": {\"Topic\": [9, 9, 3, 5, 6, 7, 8, 9, 10, 8, 8, 3, 7, 10, 1, 3, 4, 5, 6, 7, 8, 9, 10, 10, 10, 3, 3, 7, 8, 4, 6, 7, 9, 1, 2, 3, 4, 5, 6, 8, 9, 10, 1, 3, 7, 8, 9, 8, 1, 4, 6, 8, 9, 10, 6, 1, 2, 3, 4, 5, 6, 7, 8, 9, 10, 9, 5, 6, 7, 8, 9, 10, 3, 9, 10, 1, 2, 3, 4, 5, 6, 7, 8, 9, 10, 2, 2, 3, 4, 6, 7, 8, 9, 10, 6, 1, 2, 3, 8, 9, 10, 3, 1, 1, 2, 3, 4, 5, 6, 7, 8, 9, 10, 2, 3, 1, 7, 1, 3, 4, 5, 6, 7, 8, 9, 10, 2, 3, 4, 5, 6, 8, 10, 2, 6, 8, 10, 10, 2, 4, 6, 7, 9, 10, 1, 2, 3, 5, 6, 7, 8, 9, 10, 1, 2, 3, 4, 5, 6, 7, 8, 9, 10, 1, 2, 3, 4, 5, 6, 7, 8, 9, 1, 2, 3, 4, 5, 6, 7, 8, 9, 10, 1, 2, 3, 4, 5, 6, 7, 8, 9, 10, 1, 2, 3, 5, 6, 7, 8, 9, 10, 2, 10, 1, 2, 3, 4, 5, 6, 7, 8, 9, 10, 3, 3, 7, 2, 3, 5, 6, 8, 9, 10, 1, 2, 3, 4, 5, 6, 7, 8, 9, 10, 1, 2, 3, 4, 5, 6, 7, 8, 9, 10, 1, 2, 3, 4, 5, 6, 8, 9, 10, 1, 2, 3, 4, 5, 6, 7, 9, 10, 4, 1, 2, 3, 4, 5, 6, 7, 8, 9, 10, 5, 1, 1, 2, 4, 5, 7, 8, 9, 10, 1, 3, 6, 6, 7, 1, 2, 3, 4, 5, 6, 7, 8, 9, 10, 2, 1, 2, 3, 4, 5, 6, 7, 8, 9, 10, 2, 5, 8, 6, 1, 2, 3, 4, 5, 6, 7, 8, 9, 10, 6, 2, 3, 4, 6, 7, 8, 9, 10, 2, 3, 1, 4, 8, 9, 2, 10, 8, 10, 1, 2, 3, 5, 6, 7, 8, 9, 1, 2, 3, 4, 5, 6, 7, 8, 9, 10, 1, 3, 1, 2, 3, 4, 5, 6, 7, 8, 9, 10, 2, 3, 5, 9, 10, 7, 1, 2, 3, 4, 5, 6, 7, 8, 9, 10, 9, 5, 4, 5, 6, 1, 2, 3, 4, 5, 6, 7, 8, 9, 10, 2, 6, 3, 6, 9, 1, 2, 3, 4, 5, 6, 7, 8, 9, 10, 1, 3, 4, 5, 6, 8, 9, 8, 1, 2, 3, 4, 5, 6, 7, 8, 9, 10, 6, 1, 2, 3, 4, 5, 6, 7, 8, 9, 10, 1, 2, 3, 6, 7, 9, 10, 1, 4, 5, 6, 8, 9, 10, 2, 6, 1, 2, 3, 4, 5, 6, 7, 8, 10, 1, 6, 6, 3, 8, 9, 1, 2, 3, 4, 5, 6, 7, 8, 9, 10, 4, 5, 7, 8, 1, 2, 3, 4, 5, 6, 7, 8, 9, 10, 1, 2, 3, 4, 5, 6, 7, 8, 9, 10, 7, 1, 2, 3, 4, 5, 6, 7, 8, 9, 10, 2, 4, 5, 1, 2, 3, 4, 5, 6, 7, 8, 9, 10, 10, 4, 3, 5, 6, 7, 10, 9, 2, 3, 3, 6, 9, 3, 1, 2, 3, 5, 6, 7, 8, 9, 10, 5, 7, 9, 10, 2, 5, 9, 10, 1, 6, 8, 8, 9, 10, 5, 7, 10, 3, 4, 5, 7, 8, 1, 2, 3, 5, 6, 7, 8, 9, 10, 1, 10, 9, 2, 3, 5, 6, 7, 8, 9, 10, 6, 5, 8, 1, 2, 3, 4, 5, 6, 7, 8, 9, 10, 3, 1, 2, 3, 4, 5, 6, 7, 8, 9, 10, 1, 2, 8, 10, 1, 5, 5, 3, 6, 5, 1, 2, 3, 4, 5, 6, 7, 8, 9, 10, 5, 6, 7, 6, 7, 6, 4, 4, 5, 6, 7, 1, 2, 3, 4, 6, 7, 9, 1, 2, 3, 4, 5, 6, 7, 8, 9, 10, 2, 3, 4, 8, 10, 4, 1, 2, 3, 4, 5, 6, 7, 8, 9, 10, 6, 1, 3, 1, 2, 3, 4, 5, 6, 7, 8, 9, 10, 3, 4, 6, 3, 4, 6, 10, 1, 2, 3, 4, 5, 6, 7, 8, 9, 10, 1, 2, 4, 5, 6, 7, 8, 9, 10, 3, 4, 7, 9, 7, 1, 2, 3, 4, 5, 6, 7, 8, 9, 10, 1, 2, 3, 4, 5, 6, 7, 8, 9, 10, 2, 4, 7, 3, 4, 1, 2, 3, 4, 5, 6, 7, 8, 9, 10, 10, 1, 2, 3, 5, 6, 8, 9, 10, 1, 2, 3, 5, 6, 7, 8, 9, 1, 2, 3, 6, 7, 8, 9, 10, 1, 2, 3, 4, 5, 6, 7, 8, 9, 10, 1, 3, 5, 6, 7, 8, 9, 10, 1, 4, 5, 6, 7, 9, 10, 1, 2, 3, 4, 5, 6, 7, 9, 10, 1, 2, 4, 5, 6, 7, 8, 9, 1, 2, 3, 4, 5, 6, 7, 8, 9, 10, 8, 1, 2, 3, 4, 5, 6, 7, 8, 9, 10, 8, 1, 2, 3, 4, 5, 6, 7, 8, 9, 10, 1, 2, 3, 4, 5, 6, 7, 8, 9, 1, 2, 3, 4, 5, 6, 7, 8, 9, 10, 2, 5, 1, 2, 2, 5, 1, 2, 3, 4, 5, 6, 7, 8, 9, 10, 4, 3, 1, 2, 3, 4, 5, 6, 7, 8, 9, 10, 2, 8, 1, 2, 4, 5, 6, 8, 10, 4, 1, 5, 6, 7, 8, 9, 10, 7, 1, 2, 3, 4, 5, 6, 7, 8, 9, 10, 1, 2, 3, 4, 5, 6, 7, 8, 9, 10, 4, 1, 8, 10, 1, 2, 3, 4, 5, 6, 7, 8, 9, 10, 4, 5, 3, 9, 1, 2, 3, 4, 5, 6, 7, 8, 9, 10, 1, 2, 3, 4, 5, 6, 8, 9, 10, 1, 2, 3, 4, 5, 6, 7, 8, 9, 10, 9, 1, 2, 3, 4, 5, 6, 7, 8, 9, 10, 10, 6, 9, 5, 8, 3, 6, 2, 2, 1, 3, 5, 6, 7, 8, 9, 10, 8, 1, 2, 3, 4, 5, 6, 7, 8, 9, 10, 1, 10, 1, 3, 4, 5, 6, 7, 8, 9, 10, 1, 2, 3, 4, 5, 6, 7, 8, 9, 10, 1, 2, 4, 5, 6, 7, 8, 10, 4, 5, 10, 1, 2, 3, 4, 5, 6, 7, 8, 9, 10, 7, 1, 3, 5, 6, 7, 6, 1, 2, 3, 4, 5, 6, 7, 8, 9, 10, 1, 2, 3, 4, 5, 6, 7, 8, 9, 10, 3, 4, 1, 2, 3, 4, 5, 6, 7, 8, 9, 10, 3, 6, 8, 1, 3, 6, 10, 6, 1, 2, 3, 4, 5, 6, 7, 8, 9, 10, 1, 2, 3, 4, 5, 6, 7, 8, 9, 10, 3, 1, 2, 3, 4, 5, 6, 7, 8, 9, 10, 1, 6, 9, 1, 2, 3, 4, 5, 6, 7, 8, 9, 10, 10, 3, 1, 4, 5, 7, 8, 5, 8, 1, 2, 3, 4, 5, 6, 7, 8, 9, 10, 1, 4, 10, 4, 1, 2, 2, 1, 2, 3, 4, 5, 6, 7, 8, 9, 10, 1, 2, 3, 4, 5, 6, 7, 8, 9, 10, 1, 2, 3, 4, 5, 6, 7, 8, 9, 10, 2, 3, 9, 10, 9, 1, 2, 1, 10, 1, 3, 5, 6, 9, 3, 8, 9, 8, 9, 3, 4, 6, 1, 2, 3, 4, 5, 6, 7, 8, 9, 10, 4, 2, 4, 5, 6, 5, 1, 2, 3, 4, 5, 6, 7, 8, 9, 10, 6, 5, 10, 1, 1, 2, 3, 4, 5, 6, 7, 8, 9, 10, 1, 2, 7, 1, 2, 3, 4, 5, 6, 7, 8, 9, 10, 1, 2, 3, 4, 5, 6, 7, 8, 9, 10, 9, 4, 3, 1, 2, 3, 4, 5, 6, 7, 8, 9, 10, 2, 3, 4, 8, 6, 1, 2, 3, 4, 5, 6, 7, 8, 9, 10, 1, 2, 3, 4, 5, 6, 7, 8, 9, 10, 1, 2, 3, 4, 5, 6, 7, 8, 9, 10, 1, 2, 8, 1, 2, 3, 4, 5, 6, 7, 8, 9, 10, 10, 1, 2, 3, 4, 5, 6, 7, 8, 9, 10, 4, 1, 2, 3, 4, 5, 6, 7, 8, 9, 10, 4, 6, 7, 8, 1, 2, 3, 4, 5, 6, 7, 8, 9, 10, 1, 2, 3, 4, 5, 6, 7, 8, 9, 10, 1, 2, 3, 4, 5, 6, 7, 8, 9, 10, 3, 4, 5, 8, 10, 3, 5, 6, 7, 9, 10, 1, 2, 3, 4, 5, 6, 7, 8, 9, 10, 1, 2, 3, 4, 5, 6, 7, 9, 10, 9, 5, 8, 10, 3, 5, 8, 9, 8, 4, 2, 7, 8, 9, 8, 1, 2, 3, 4, 5, 6, 7, 8, 9, 10, 3, 5, 1, 2, 3, 4, 5, 6, 7, 8, 9, 10, 1, 10, 4, 8, 2, 1, 2, 3, 4, 5, 6, 7, 8, 9, 10, 2, 6, 1, 2, 3, 4, 5, 6, 7, 8, 9, 10, 7, 1, 2, 3, 4, 5, 6, 7, 8, 9, 10, 2, 1, 2, 3, 4, 5, 6, 7, 8, 9, 10, 7, 5, 7, 9, 5, 10, 1, 2, 3, 4, 5, 6, 7, 8, 9, 10, 1, 4, 8, 5, 5, 4, 5, 1, 2, 3, 4, 5, 6, 7, 8, 9, 10, 1, 2, 3, 4, 5, 6, 7, 8, 9, 10, 1, 2, 3, 4, 5, 6, 7, 8, 9, 10, 1, 2, 3, 4, 5, 6, 7, 8, 9, 10, 1, 2, 3, 4, 5, 6, 7, 8, 9, 10, 1, 2, 3, 4, 6, 7, 8, 9, 10, 1, 2, 3, 4, 5, 6, 7, 8, 9, 10, 3, 4, 5, 10, 2, 1, 2, 3, 4, 5, 6, 7, 8, 9, 10, 1, 2, 4, 5, 9, 10, 5, 5, 10, 2, 3, 4, 7, 8, 10, 1, 2, 3, 4, 5, 6, 7, 8, 9, 10, 9, 3, 4, 5, 7, 8, 6, 1, 2, 3, 4, 5, 7, 8, 9, 10, 1, 2, 3, 4, 5, 6, 7, 8, 9, 10, 1, 2, 3, 4, 5, 6, 7, 8, 9, 10, 7, 6, 8, 1, 2, 3, 4, 5, 6, 7, 8, 9, 10, 1, 2, 3, 4, 5, 6, 7, 8, 9, 10, 1, 2, 3, 4, 5, 6, 7, 8, 9, 10, 1, 2, 3, 4, 5, 6, 7, 8, 9, 10, 9, 2, 7, 1, 4, 5, 8, 1, 2, 3, 4, 5, 6, 7, 8, 9, 10, 1, 2, 3, 4, 5, 6, 7, 8, 9, 10, 2, 9, 10, 9, 7, 10, 4, 5, 7, 8, 10, 1, 2, 3, 4, 5, 6, 7, 8, 9, 10, 1, 2, 3, 4, 5, 6, 7, 8, 9, 10, 10, 3, 7, 7, 1, 2, 3, 4, 5, 6, 7, 8, 9, 10, 3, 1, 2, 3, 4, 5, 6, 7, 8, 9, 10, 1, 4, 5, 9, 10, 7, 2, 6, 9, 3, 4, 8, 1, 2, 9, 10, 1, 2, 4, 6, 7, 10, 9, 2, 1, 2, 3, 4, 5, 6, 7, 8, 9, 10, 6, 1, 2, 3, 4, 5, 6, 7, 8, 9, 10, 10, 1, 7, 3, 5, 1, 2, 3, 4, 5, 6, 7, 8, 9, 10, 3, 4, 5, 6, 8, 9, 2, 3, 1, 2, 3, 4, 5, 6, 7, 8, 9, 10, 2, 3, 5, 6, 7, 8, 10, 4, 1, 2, 3, 5, 6, 7, 8, 9, 10, 3, 6, 8, 1, 2, 3, 4, 5, 6, 7, 8, 9, 10, 1, 2, 3, 4, 5, 7, 8, 9, 10, 1, 3, 6, 10, 1, 2, 3, 4, 5, 6, 7, 8, 9, 10, 8, 3, 4, 5, 9, 5, 1, 2, 3, 4, 5, 6, 7, 8, 9, 10, 1, 2, 3, 4, 5, 6, 7, 8, 9, 10, 1, 3, 4, 5, 6, 7, 9, 10, 1, 2, 3, 4, 5, 6, 7, 8, 9, 10, 3, 1, 2, 3, 4, 5, 6, 7, 8, 9, 10, 1, 2, 3, 4, 5, 7, 8, 9, 10, 2, 7, 8, 5, 1, 2, 3, 4, 5, 6, 7, 8, 9, 10, 8, 3, 5, 6, 3, 6, 7, 8, 1, 2, 8, 1, 9, 6, 1, 2, 3, 4, 5, 6, 7, 8, 9, 10, 1, 2, 3, 4, 5, 6, 7, 8, 9, 10, 3, 8, 9, 8, 1, 2, 3, 4, 5, 6, 7, 8, 9, 10, 8, 2, 7, 9, 10, 1, 3, 4, 5, 6, 7, 8, 9, 10, 1, 2, 3, 4, 5, 6, 7, 8, 9, 10, 1, 2, 3, 4, 5, 6, 7, 8, 9, 10, 1, 3, 4, 5, 5, 5, 9, 4, 10, 5, 7, 9, 1, 3, 7, 9, 10, 1, 2, 3, 4, 5, 6, 7, 8, 9, 10, 3, 6, 9, 10, 1, 3, 5, 6, 7, 9, 10, 4, 5, 6, 8, 4, 9, 10, 1, 2, 3, 4, 5, 6, 7, 8, 10, 1, 2, 3, 4, 5, 6, 7, 8, 9, 10, 8, 1, 2, 3, 4, 5, 6, 7, 8, 9, 10, 1, 2, 3, 4, 5, 6, 7, 9, 10, 2, 1, 2, 3, 4, 5, 6, 7, 8, 9, 10, 1, 2, 3, 4, 5, 6, 7, 8, 9, 10, 1, 3, 10, 3, 1, 2, 3, 4, 5, 6, 7, 8, 9, 10, 2, 7, 1, 2, 3, 4, 5, 6, 7, 8, 9, 10, 5, 1, 2, 3, 4, 5, 6, 7, 8, 9, 10, 2, 1, 1, 6, 10, 8, 1, 2, 3, 5, 7, 8, 9, 10, 1, 2, 3, 4, 5, 6, 7, 8, 9, 10, 4, 6, 9, 8, 1, 2, 3, 4, 5, 6, 7, 8, 9, 10, 1, 1, 6, 1, 2, 3, 4, 5, 6, 7, 8, 9, 10, 1, 3, 4, 6, 7, 9, 10, 1, 2, 3, 4, 5, 6, 7, 8, 9, 10, 9, 9, 6, 1, 10, 4, 5, 6, 8, 1, 2, 3, 4, 5, 6, 7, 8, 9, 10, 1, 2, 3, 5, 7, 8, 9, 10, 1, 1, 2, 3, 4, 5, 6, 7, 8, 9, 10, 7, 9, 1, 2, 3, 4, 5, 6, 7, 8, 9, 10, 10, 1, 2, 3, 4, 5, 6, 7, 8, 9, 10, 6, 7, 8, 10, 3, 8, 3, 9, 1, 7, 9, 1, 6, 10, 1, 2, 3, 4, 5, 6, 7, 8, 9, 10, 1, 2, 3, 4, 5, 6, 7, 8, 9, 10, 1, 2, 3, 4, 5, 6, 7, 8, 9, 10, 3, 9, 10, 1, 2, 3, 5, 6, 8, 9, 10, 2, 3, 4, 5, 6, 7, 8, 9, 7, 4, 1, 2, 5, 7, 10, 4, 1, 2, 3, 4, 5, 6, 7, 8, 9, 10, 9, 7, 10, 7, 1, 2, 3, 4, 5, 6, 7, 8, 9, 10, 1, 3, 4, 5, 6, 7, 8, 9, 10, 1, 2, 3, 4, 5, 6, 8, 9, 10, 1, 2, 3, 4, 5, 6, 7, 8, 9, 10, 2, 8, 10, 1, 2, 3, 4, 5, 6, 7, 8, 9, 10, 4, 9, 8, 1, 8, 10, 3, 1, 2, 3, 4, 7, 8, 9, 10, 3, 6, 7, 1, 2, 3, 4, 5, 6, 7, 8, 10, 1, 2, 3, 5, 1, 2, 3, 4, 5, 6, 7, 8, 9, 10, 10, 4, 1, 2, 3, 4, 5, 6, 7, 8, 9, 10, 1, 2, 3, 4, 5, 7, 8, 9, 1, 2, 3, 5, 6, 7, 8, 9, 10, 1, 2, 3, 4, 5, 6, 7, 8, 9, 10, 3, 4, 5, 6, 7, 3, 3, 6, 7, 8, 1, 1, 2, 3, 4, 5, 6, 7, 8, 9, 10, 3, 5, 7, 8, 10, 3, 9, 10, 2, 4, 6, 8, 9, 10, 4, 5, 6, 7, 8, 6, 2, 3, 5, 7, 8, 9, 10, 1, 2, 3, 4, 5, 6, 7, 8, 9, 10, 1, 2, 3, 4, 5, 6, 7, 8, 9, 10, 6, 10, 1, 2, 4, 5, 6, 7, 10, 1, 2, 3, 4, 5, 6, 7, 8, 9, 10, 1, 2, 3, 4, 5, 6, 7, 8, 9, 10, 1, 2, 3, 5, 6, 7, 8, 9, 10, 9, 1, 2, 3, 4, 5, 6, 7, 8, 9, 10, 1, 2, 3, 4, 5, 6, 7, 8, 9, 10, 1, 2, 3, 4, 5, 6, 8, 9, 10, 2, 3, 9, 1, 2, 3, 4, 5, 6, 7, 8, 9, 10, 8, 4, 5, 6, 1, 2, 3, 5, 6, 7, 8, 9, 10, 5, 7, 9, 10, 5, 6, 2, 4, 5, 7, 8, 9, 1, 2, 3, 4, 7, 8, 10, 4, 5, 6, 7, 8, 9, 6, 5, 1, 2, 3, 4, 5, 6, 8, 9, 10, 3, 9, 10, 1, 2, 3, 4, 5, 6, 7, 8, 9, 10, 1, 4, 1, 5, 7, 9, 10, 7, 1, 2, 3, 4, 5, 6, 7, 8, 9, 10, 1, 10, 1, 2, 3, 4, 5, 6, 7, 8, 9, 10, 1, 2, 3, 4, 5, 6, 7, 8, 9, 10, 4, 3, 1, 5, 9, 10, 7, 1, 1, 2, 3, 4, 5, 6, 7, 8, 9, 10, 1, 2, 3, 4, 5, 6, 7, 8, 9, 10, 8, 7, 5, 2, 6, 9, 2, 3, 4, 6, 7, 8, 10, 2, 5, 4, 6, 7, 8, 9, 10, 7, 2, 4, 6, 9, 10, 1, 2, 3, 4, 5, 6, 7, 8, 9, 10, 1, 2, 4, 5, 6, 7, 8, 10, 10, 1, 2, 3, 4, 5, 6, 7, 8, 9, 10, 4, 5, 1, 2, 3, 4, 5, 6, 7, 8, 9, 10, 9, 1, 2, 4, 6, 7, 8, 9, 10, 2, 3, 4, 5, 6, 7, 8, 9, 10, 4, 1, 2, 3, 5, 6, 7, 8, 9, 10, 1, 2, 3, 4, 9, 1, 2, 3, 4, 5, 6, 7, 8, 9, 10, 9, 1, 2, 3, 4, 5, 6, 7, 8, 9, 10, 7, 10, 4, 10, 6, 1, 2, 3, 4, 5, 6, 8, 9, 10, 3, 4, 5, 7, 8, 9, 10, 6, 9, 4], \"Freq\": [0.9662887515296134, 0.9769074145688047, 0.10166837130875868, 0.7243871455749056, 0.019062819620392253, 0.05718845886117676, 0.05083418565437934, 0.05083418565437934, 0.9779887246077348, 0.961966189837217, 0.9687726506153533, 0.012885428611194252, 0.06442714305597126, 0.9148654313947919, 0.775535261553381, 0.010965934570275615, 0.009138278808563013, 0.002436874348950137, 0.006701404459612877, 0.0463006126300526, 0.0018276557617126026, 0.008529060221325479, 0.1389018378901578, 0.9883982266376511, 0.9929773839206998, 0.9756405532697009, 0.09141288641642355, 0.8684224209560237, 0.03656515456656942, 0.06338946834489416, 0.010564911390815692, 0.9085823796101495, 0.010564911390815692, 0.010700762597116813, 0.017834604328528025, 0.0071338417314112095, 0.017834604328528025, 0.014267683462822419, 0.057070733851289676, 0.024968446059939232, 0.09273994250834572, 0.7597541443952938, 0.9716236300092839, 0.0017181673386547902, 0.014604422378565718, 0.004295418346636976, 0.006872669354619161, 0.9767582528164548, 0.009565723772245526, 0.019131447544491052, 0.019131447544491052, 0.019131447544491052, 0.047828618861227634, 0.8800465870465884, 0.9738020490727858, 0.8548293937912583, 0.0027330247048388367, 0.017612825875628058, 0.0018220164698925577, 0.014576131759140461, 0.00850274352616527, 0.05010545292204534, 0.008806412937814029, 0.01670181764068178, 0.023989883520252008, 0.9670305338337134, 0.014187591556804652, 0.014187591556804652, 0.8701722821506853, 0.018916788742406203, 0.07093795778402326, 0.014187591556804652, 0.964839282100625, 0.020974767002187502, 0.010487383501093751, 0.14318668535127246, 0.21137082123283077, 0.052752989339942484, 0.09198877279459358, 0.0801462649835861, 0.015670389123656384, 0.07272974494032887, 0.1312245562492447, 0.10251544640437803, 0.09832870121866831, 0.9733023655300614, 0.01881768833600789, 0.8028880356696699, 0.05018050222935437, 0.006272562778669296, 0.04390793945068508, 0.006272562778669296, 0.05645306500802367, 0.012545125557338593, 0.9822913054652267, 0.10289039703724902, 0.03957322962971116, 0.023743937777826695, 0.8152085303720499, 0.007914645925942232, 0.007914645925942232, 0.9683874134339722, 0.9881656874978185, 0.01123363199535626, 0.14229267194117928, 0.018722719992260432, 0.5242361597832922, 0.013105903994582304, 0.17973811192570016, 0.009361359996130216, 0.01123363199535626, 0.052423615978329216, 0.03557316798529482, 0.9650967663200412, 0.9783989952332468, 0.9872567222025972, 0.963520003545079, 0.8509420644778144, 0.013077045996365973, 0.0028022241420784227, 0.000934074714026141, 0.026154091992731946, 0.08500079897637883, 0.001868149428052282, 0.004670373570130705, 0.014011120710392115, 0.009377268098156808, 0.009377268098156808, 0.009377268098156808, 0.018754536196313617, 0.037509072392627234, 0.8439541288341128, 0.056263608588940854, 0.9626136586083095, 0.8755889439488275, 0.06735299568837134, 0.0404117974130228, 0.9795629650271664, 0.039222111791205, 0.24404869558972003, 0.5839736644468301, 0.01743204968498, 0.056654161476185, 0.056654161476185, 0.0768813476650492, 0.0177418494611652, 0.0709673978446608, 0.0118278996407768, 0.0118278996407768, 0.0177418494611652, 0.0473115985631072, 0.1123650465873796, 0.6387065806019472, 0.055103364764268525, 0.1438063421896764, 0.008063907038673443, 0.040319535193367215, 0.12499055909943836, 0.020159767596683607, 0.06719922532227869, 0.3319641730920567, 0.02150375210312918, 0.18681384639593476, 0.021946001869864798, 0.09071014106210784, 0.03365053620045936, 0.1316760112191888, 0.039502803365756636, 0.02048293507854048, 0.5252409780854309, 0.12289761047124288, 0.0146306679132432, 0.026876441777078108, 0.23442229772229237, 0.09108127491120914, 0.11049203841687666, 0.06420483313413103, 0.0701773757512595, 0.02538330612279599, 0.052259747899874094, 0.2956408595478592, 0.02986271308564234, 0.01569499972945553, 0.18098296563028404, 0.13684077889119037, 0.10692218565691577, 0.11575062300473452, 0.09515093585982413, 0.008828437347818734, 0.23395358971719646, 0.054932499053094344, 0.051499217862275945, 0.00835919900143619, 0.00835919900143619, 0.025077597004308567, 0.00835919900143619, 0.058514393010053324, 0.00835919900143619, 0.8442790991450552, 0.025077597004308567, 0.01671839800287238, 0.9218781314431923, 0.07682317762026603, 0.0563895293452546, 0.40572954041097825, 0.08871035714070542, 0.14028614617599927, 0.013753543742745025, 0.04057295404109783, 0.023381024362666543, 0.08733500276643091, 0.0763321677722349, 0.06808004152658788, 0.9932772398591224, 0.03566202696977196, 0.9569310570222143, 0.02731162818106515, 0.016386976908639092, 0.7811125659784633, 0.016386976908639092, 0.1420204665415388, 0.016386976908639092, 0.00546232563621303, 0.008533078866591132, 0.2284968896498292, 0.0910195079103054, 0.065420271310532, 0.04740599370328406, 0.3801960695003382, 0.08912326816217404, 0.04930223345141543, 0.0151699179850509, 0.026547356473839077, 0.02988114312812374, 0.32371238388800716, 0.40277290841450125, 0.01618561919440036, 0.050424429028708806, 0.053537048104555035, 0.011827952488215646, 0.013073000118554135, 0.08902090556920197, 0.008715333412369424, 0.08458064044620904, 0.06821019390823309, 0.005456815512658648, 0.6684599003006844, 0.01364203878164662, 0.01364203878164662, 0.11186471800950228, 0.019098854294305266, 0.016370446537975942, 0.0368986607487074, 0.10608364965253377, 0.039204827045501614, 0.10147131705894534, 0.6457265631023795, 0.0184493303743537, 0.023061662967942122, 0.0023061662967942126, 0.027673995561530548, 0.9755516192098321, 0.0085560857281329, 0.19393794317101237, 0.04848448579275309, 0.0456324572167088, 0.09696897158550619, 0.3750417577498254, 0.024242242896376547, 0.04420644292868665, 0.13048030735402671, 0.032798328624509446, 0.9769392348171738, 0.9920563555650861, 0.022437079990750373, 0.7404236396947622, 0.0037395133317917285, 0.011218539995375186, 0.11966442661733531, 0.059832213308667656, 0.014958053327166914, 0.029916106654333828, 0.10528521945632624, 0.8817637129467323, 0.01316065243204078, 0.02092733538076864, 0.9626574275153574, 0.031213811072608854, 0.12485524429043542, 0.11271653998442085, 0.005202301845434808, 0.11791884182985567, 0.2965312051897841, 0.04161841476347847, 0.06589582337550758, 0.15606905536304427, 0.04855481722405822, 0.9891005399913847, 0.3095385203258571, 0.09811787059385658, 0.004672279552088409, 0.03621016652868517, 0.03971437619275148, 0.23010976794035415, 0.0525631449609946, 0.04321858585681778, 0.1039582200339671, 0.08293296204956926, 0.9775264525130815, 0.9904501687151418, 0.9752567851188013, 0.9825927276404733, 0.020583757969095264, 0.06346658707137706, 0.13722505312730174, 0.13550973996321047, 0.49229487809419503, 0.006861252656365087, 0.020583757969095264, 0.0857656582045636, 0.030875636953642895, 0.008576565820456359, 0.9900822462960118, 0.09181726999441814, 0.0036726907997767255, 0.06610843439598106, 0.06610843439598106, 0.007345381599553451, 0.04407228959732071, 0.6978112519575779, 0.022036144798660354, 0.9728666105394613, 0.9633947512655093, 0.024517932942294405, 0.7927464984675191, 0.1389349533396683, 0.040863221570490674, 0.9717351573826574, 0.980801385027273, 0.016204001298179355, 0.9722400778907613, 0.9522987848424411, 0.0007818545031547135, 0.0046911270189282815, 0.003127418012618854, 0.003127418012618854, 0.02032821708202255, 0.0007818545031547135, 0.014855235559939558, 0.33254613979345504, 0.043675414673333954, 0.14098730350690258, 0.024136413372105606, 0.03716241423959117, 0.05325335648766158, 0.07240924011631682, 0.06053259226655057, 0.017623412938362823, 0.21799395569409669, 0.9846555930158271, 0.9875264102385028, 0.04785568624092128, 0.5297826673994946, 0.018198641246547527, 0.005392189998977045, 0.1078437999795409, 0.1523293674711015, 0.02156875999590818, 0.027634973744757357, 0.04785568624092128, 0.04246349624194423, 0.011845886246980552, 0.05922943123490276, 0.023691772493961104, 0.8410579235356193, 0.05922943123490276, 0.9847366135068423, 0.9376950180125802, 9.111354205048634e-05, 0.0028245198035650766, 9.111354205048634e-05, 0.0003188973971767022, 0.001321146359732052, 0.041046650693744094, 0.0015033734438330247, 0.006560175027635016, 0.008564672952745716, 0.9742169332680919, 0.9775750411338777, 0.988285720374166, 0.9835511120666913, 0.9743255738673634, 0.12921451479416102, 0.014115871364068012, 0.0331180058926211, 0.3680984917245428, 0.2052230529083734, 0.07003643869095283, 0.06949352056156559, 0.06297850300891882, 0.007600853811421237, 0.03963302344526788, 0.9253642099932362, 0.07329617504896921, 0.9934005969452403, 0.9755634461201655, 0.9858376883601783, 0.6296321851501689, 0.057767556618012236, 0.030421967686408813, 0.03554926561108446, 0.04477840187550061, 0.016065533497317014, 0.024611030038443085, 0.1045968776633831, 0.047854780630305994, 0.00854549654112607, 0.008141644926457178, 0.008141644926457178, 0.03256657970582871, 0.9281475216161185, 0.008141644926457178, 0.016283289852914357, 0.9654329435181893, 0.9776264515462978, 0.0727103298524854, 0.1691913444644372, 0.030762062629897672, 0.1817758246312135, 0.4166861210777048, 0.004194826722258773, 0.033558613778070186, 0.0629224008338816, 0.01258448016677632, 0.016779306889035093, 0.9846602664928568, 0.00920000199931767, 0.1321895024112486, 0.0343789548395555, 0.2595368985070669, 0.01840000399863534, 0.3641263949203625, 0.06682106715293885, 0.04551579936504531, 0.02760000599795301, 0.041642114312701026, 0.019584775471476783, 0.052226067923938094, 0.013056516980984523, 0.03264129245246131, 0.006528258490492262, 0.8095040528210404, 0.058754326414430354, 0.007359409630278878, 0.014718819260557755, 0.007359409630278878, 0.014718819260557755, 0.02943763852111551, 0.05887527704223102, 0.8610509267426287, 0.9733611581689985, 0.01946722316337997, 0.8683416470300032, 0.002267210566657972, 0.002267210566657972, 0.002267210566657972, 0.0034008158499869577, 0.023805710949908705, 0.07708515926637104, 0.005668026416644929, 0.015870473966605802, 0.9736901553423305, 0.020427066195992948, 0.9803144011158874, 0.9494515483230517, 0.03932639549267078, 0.005618056498952968, 0.015210366977330598, 0.005432273920475214, 0.09886738535264888, 0.13146102887550018, 0.14667139585283076, 0.1119048427617894, 0.05214982963656205, 0.11625066189816957, 0.22163677595538872, 0.10104029492083898, 0.9242083163600305, 0.014669973275556041, 0.014669973275556041, 0.029339946551112082, 0.10752536229842635, 0.23957405284035346, 0.1763793223667169, 0.0697971650007329, 0.27635904520560456, 0.03584178743280878, 0.005659229594654019, 0.012261664121750374, 0.04055781209502047, 0.03584178743280878, 0.03612095284552383, 0.552301020928332, 0.06292036947284796, 0.11535401070022125, 0.0023303840545499245, 0.0431121050091736, 0.029129800681874055, 0.046607681090998485, 0.08272863393652231, 0.030294992709149017, 0.9863499721630498, 0.022774416874462758, 0.29300816934010293, 0.04622866708846171, 0.03569125032565059, 0.10469433428857505, 0.046908500427997914, 0.03297191696750578, 0.17777641828871674, 0.195452085116658, 0.04418916706985311, 0.8708973990935897, 0.05310349994473108, 0.0637241999336773, 0.060707057674760714, 0.23102408059561716, 0.2883585239551134, 0.06660913272647356, 0.015176764418690179, 0.012647303682241815, 0.021921993049219147, 0.03372614315264484, 0.12141411534952143, 0.14923818345045342, 0.9806953834627421, 0.9828803844721283, 0.00601900655062969, 0.018057019651889068, 0.1805701965188907, 0.7824708515818597, 0.01203801310125938, 0.9771993644708695, 0.9783640986343121, 0.009882465642770828, 0.8944553988983187, 0.03683051642522489, 0.06839953050398909, 0.984817165465151, 0.0644893050843216, 0.0012833692554093852, 0.008662742474013349, 0.002245896196966424, 0.013475377181798543, 0.0012833692554093852, 0.0012833692554093852, 0.899641848041979, 0.007700215532456311, 0.020298580179476132, 0.004059716035895227, 0.004059716035895227, 0.9662124165430639, 0.9854491108990593, 0.00773425309448583, 0.01546850618897166, 0.9745158899052145, 0.9814313559595266, 0.9415875526943309, 0.039785389550464685, 0.04554230763103684, 0.9336173064362552, 0.96735563433012, 0.1349126491539602, 0.8038545345423462, 0.05621360381415009, 0.007439674191611508, 0.019839131177630687, 0.004959782794407672, 0.952278296526273, 0.014879348383223016, 0.8601534668130819, 0.001097134523996278, 0.003291403571988834, 0.01151991250196092, 0.006034239881979529, 0.09819353989766688, 0.003291403571988834, 0.01151991250196092, 0.0054856726199813905, 0.9809947246953254, 0.015408294105162179, 0.9805789737474071, 0.11301583121339176, 0.6071315583789185, 0.060450328323442104, 0.04993722774545217, 0.09987445549090435, 0.034167576878467276, 0.005256550288994966, 0.026282751444974828, 0.9538833592185877, 0.05850019496196344, 0.936003119391415, 0.0411022954043025, 0.4527776668346974, 0.08916370960721706, 0.10677897906620384, 0.05110602867730734, 0.05328075330187361, 0.024791860720055476, 0.01522307237196389, 0.08155217342123512, 0.08437931543317127, 0.9881683983036911, 0.058977080550528325, 0.1258406311746738, 0.33414630811912704, 0.04509003542089811, 0.027431200256059687, 0.04063246537928841, 0.017144500160037303, 0.02245929520964887, 0.16081541150114992, 0.16750176656356447, 0.9918757552263974, 0.9926583803702014, 0.9562587014634046, 0.03984411256097519, 0.9887301223908919, 0.9847302835892198, 0.9791408931400072, 0.9686758847897438, 0.9595395366728295, 0.9853756878136128, 0.04652319417360309, 0.17469934138659118, 0.13956958252080925, 0.08640021775097716, 0.009494529423184303, 0.04652319417360309, 0.009494529423184303, 0.4101636710815619, 0.03987702357737407, 0.03607921180810035, 0.007980510801616927, 0.007980510801616927, 0.9816028285988819, 0.015185624200169329, 0.9718799488108371, 0.9699045203286887, 0.9773868960798393, 0.9808261260010765, 0.022842065603984777, 0.045684131207969554, 0.9251036569613835, 0.005589306602119709, 0.8104494573073577, 0.07266098582755622, 0.03912514621483796, 0.04471445281695767, 0.011178613204239417, 0.011178613204239417, 0.014012154823398378, 0.15813717586406742, 0.12010418420055753, 0.03803299166350989, 0.07606598332701978, 0.12811112981392803, 0.034029518856824634, 0.390338598651812, 0.034029518856824634, 0.012010418420055752, 0.8751333007536297, 0.019889393198946132, 0.009944696599473066, 0.009944696599473066, 0.07955757279578453, 0.9952305142873203, 0.015244988045672498, 0.08542946131254212, 0.2562883839376264, 0.03969449717552462, 0.0063281082453734904, 0.12167226308149938, 0.08658002644806456, 0.30662560861673366, 0.03480459534955419, 0.047460811840301174, 0.9756288397643955, 0.014938768247809774, 0.9710199361076354, 0.026900806549745613, 0.1936858071581684, 0.5003550018252684, 0.034433032383674386, 0.02797683881173544, 0.0263627904187507, 0.0075322258339287716, 0.07747432286326737, 0.031204935597704913, 0.07370820994630298, 0.05514685792183992, 0.9237098701908186, 0.01378671448045998, 0.030956492558953427, 0.9673903924672946, 0.9792394530313341, 0.9781015995994469, 0.07550743361075904, 0.22538685070279202, 0.3735630926005974, 0.02781852817238491, 0.011354501294850983, 0.02043810233073177, 0.005109525582682943, 0.02895397830187001, 0.11524818814273749, 0.11638363827222259, 0.7939477607513176, 0.014035971173927981, 0.007933375011350599, 0.011594932708897028, 0.014035971173927981, 0.13425711557670242, 0.0024410384650309534, 0.020748826952763103, 0.0006102596162577383, 0.9814357416575604, 0.9749084189519897, 0.9815766336748708, 0.008843032735809647, 0.9701505257282259, 0.01706559469972454, 0.11945916289807178, 0.6945697042787887, 0.015359035229752085, 0.010239356819834724, 0.07167549773884306, 0.0034131189399449076, 0.01365247575977963, 0.011945916289807177, 0.0443705462192838, 0.047349581887231436, 0.18536857589894862, 0.06044627474965716, 0.07354296761208287, 0.31835038034819435, 0.08764709838700288, 0.045334706062242866, 0.048357019799725724, 0.06850577804961144, 0.06649090222462287, 0.9173664151487103, 0.06015517476384986, 0.015038793690962464, 0.2034748061887668, 0.7894822480124152, 0.004112931383005022, 0.2591146771293164, 0.012338794149015066, 0.04318577952155273, 0.1521784611711858, 0.02262112260652762, 0.04318577952155273, 0.09048449042611048, 0.016451725532020088, 0.3557685646299344, 0.9689276202975263, 0.012209837818031598, 0.018314756727047396, 0.006104918909015799, 0.26251151308767934, 0.6165968098105957, 0.030524594545078994, 0.012209837818031598, 0.048839351272126394, 0.004671661997240572, 0.03270163398068401, 0.02335830998620286, 0.02802997198344343, 0.018686647988962288, 0.8549141454950248, 0.009343323994481144, 0.02802997198344343, 0.13461402300212555, 0.060222062922003536, 0.014169897158118479, 0.0354247428952962, 0.02125484573717772, 0.01062742286858886, 0.634102897825802, 0.08501938294871088, 0.0357755220383226, 0.09494273156324075, 0.05916720952491815, 0.480217584283638, 0.12796629036784624, 0.07705497054407945, 0.009631871318009931, 0.07705497054407945, 0.009631871318009931, 0.030271595570888356, 0.006589966218558272, 0.006589966218558272, 0.8896454395053668, 0.006589966218558272, 0.013179932437116544, 0.013179932437116544, 0.02635986487423309, 0.032949831092791364, 0.0251211711919235, 0.009420439196971312, 0.0753635135757705, 0.07850365997476093, 0.07222336717678006, 0.07850365997476093, 0.6625708901869822, 0.015214491161848006, 0.015214491161848006, 0.040571976431594686, 0.03550047937764535, 0.19271688805007475, 0.005071497053949336, 0.010142994107898672, 0.6643661140673629, 0.020285988215797343, 0.9028527147641405, 0.004018632261561457, 0.004018632261561457, 0.008037264523122914, 0.0013395440871871523, 0.02545133765655589, 0.02009316130780728, 0.03616769035405311, 0.020855143480359963, 0.1089101937307687, 0.05329647778314212, 0.1610480524316686, 0.3695994872352682, 0.10659295556628424, 0.006951714493453321, 0.07183438309901764, 0.05908957319435323, 0.04055166787847771, 0.9847084616435312, 0.048405385327122484, 0.20753113479329524, 0.18305025026003788, 0.15968213320556496, 0.15912574946617275, 0.09736715439363718, 0.014465977224197523, 0.02781918696961062, 0.05285645524226018, 0.049518152805906906, 0.9870213336912154, 0.11667027886893558, 0.002745183032210249, 0.026079238805997364, 0.11255250432062021, 0.060394026708625474, 0.0013725915161051244, 0.005490366064420498, 0.04255033699925886, 0.6245291398278316, 0.006862957580525622, 0.03446900419163688, 0.131881407341915, 0.04645822304090188, 0.5185337152307112, 0.07343396545174813, 0.04645822304090188, 0.022479785342371876, 0.0899191413694875, 0.035967656547795004, 0.3265030756089961, 0.02549273263013183, 0.03627811951211068, 0.0215707737639577, 0.06961476987459075, 0.23825900112007825, 0.1392295397491815, 0.07451721845730842, 0.023531753197044765, 0.046083016677545996, 0.9745014630562135, 0.9682314209789519, 0.018389984707747987, 0.9746691895106433, 0.9929852659438202, 0.9797244529003951, 0.0685077338738166, 0.09911757241318148, 0.03498267261641699, 0.24487870831491892, 0.039355506693469114, 0.2944374945215097, 0.046643563488555986, 0.10203279513121623, 0.05976206571971236, 0.010203279513121622, 0.9793998261342807, 0.9847565864431357, 0.09417336468443692, 0.20467011258084292, 0.05022579449836636, 0.3641370101131561, 0.03515805614885645, 0.07157175716017206, 0.04771450477344804, 0.05273708422328467, 0.008789514037214112, 0.0703161122977129, 0.9957800461105988, 0.9833062103514695, 0.029829341501077883, 0.16107844410582056, 0.029829341501077883, 0.7218700643260848, 0.01789760490064673, 0.01789760490064673, 0.01789760490064673, 0.9782361076107917, 0.3668053621680279, 0.06669188403055053, 0.05557657002545877, 0.46684318821385373, 0.009262761670909796, 0.005557657002545877, 0.027788285012729386, 0.9789934298448761, 0.03465136155979077, 0.15758119185523897, 0.033001296723610254, 0.09322866324419897, 0.3432134859255466, 0.10477911709746256, 0.018975745616075897, 0.1526309973466974, 0.0396015560683323, 0.023100907706527177, 0.016359613351489995, 0.1004947677305814, 0.07011262864924284, 0.21189594436215614, 0.36458566897606276, 0.06310136578431856, 0.0031161168288552374, 0.053753015297752844, 0.08880932962237427, 0.028045051459697136, 0.9817290867382453, 0.9795476448195849, 0.014247965742830326, 0.007123982871415163, 0.012905790697496786, 0.405413905110699, 0.058850405580585345, 0.06883088371998286, 0.07364904558038166, 0.10944110511477274, 0.006194779534798457, 0.1264767488354685, 0.09326584744057678, 0.04474007441798886, 0.028584540623225237, 0.9575821108780455, 0.9862743970909637, 0.9748738371036182, 0.012469544069685125, 0.18054860684231588, 0.2169181103788975, 0.1618442907377882, 0.1878225075496322, 0.04286405773954262, 0.018964098272646127, 0.058710769994767466, 0.057411859154175265, 0.06260750251654407, 0.010455079436728508, 0.11239210394483147, 0.007841309577546382, 0.020910158873457017, 0.04182031774691403, 0.5044575828221506, 0.164667501128474, 0.04704785746527829, 0.0862544053530102, 0.03344752190343826, 0.18052498123225583, 0.3175223654668865, 0.1379137546977386, 0.08293152691126474, 0.09209523154234371, 0.011912816020402669, 0.07056052565930812, 0.047651264081610675, 0.025200187735467186, 0.9805425180999224, 0.01386006918498634, 0.15918079457908554, 0.13356066669168654, 0.2179810880911488, 0.1419607086219813, 0.10542052622519914, 0.022260111115281093, 0.03780018868632638, 0.08988044865415384, 0.07812038995174118, 0.9900406689475673, 0.9400246102829877, 0.05662798857126432, 0.9839799575822067, 0.9822394830293212, 0.9539210483705653, 0.032893829254157424, 0.9903332305195386, 0.9775173434966914, 0.008334109195170218, 0.008334109195170218, 0.8667473562977027, 0.008334109195170218, 0.016668218390340436, 0.016668218390340436, 0.03333643678068087, 0.04167054597585109, 0.9851820551439284, 0.0035287666113067353, 0.09704108181093522, 0.04234519933568082, 0.4199232267455015, 0.16408764742576318, 0.012350683139573573, 0.019408216362187043, 0.19231778031621707, 0.028230132890453882, 0.02117259966784041, 0.9876787647162234, 0.9912284108054784, 0.006387060739501561, 0.06387060739501561, 0.04151589480676015, 0.08622531998327107, 0.4534813125046108, 0.13412827552953277, 0.06387060739501561, 0.1469023970085359, 0.009580591109252341, 0.03804549680368113, 0.6409202923081667, 0.005853153354412481, 0.09657703034780594, 0.008779730031618721, 0.03804549680368113, 0.005853153354412481, 0.15510856389193076, 0.0029265766772062405, 0.0029265766772062405, 0.006327809925182399, 0.025311239700729595, 0.7213703314707934, 0.018983429775547195, 0.07593371910218878, 0.012655619850364798, 0.10757276872810077, 0.03163904962591199, 0.03354477761368884, 0.022363185075792557, 0.9280721806453912, 0.8689303083864552, 0.0004714760219134321, 0.006836402317744765, 0.004714760219134321, 0.016973136788883555, 0.002593118120523876, 0.05940597876109244, 0.0018859040876537283, 0.023573801095671604, 0.014615756679316394, 0.9836132155976879, 0.012974426259935265, 0.9211842644554038, 0.012974426259935265, 0.038923278779805795, 0.012974426259935265, 0.9615452685478848, 0.8383368857864743, 0.0010111273079708213, 0.007122830147261119, 0.0022694190690011767, 0.005684782420369284, 0.00844853039548953, 0.08951847099901672, 0.004448960155071614, 0.026716230426162366, 0.01640273188485999, 0.9217722635540528, 0.0023604923522510955, 0.0035407385283766435, 0.005311107792564966, 0.028620969771044537, 0.005606169336596353, 0.020064184994134315, 0.0035407385283766435, 0.0038358000724080304, 0.005311107792564966, 0.9695910295856067, 0.976419714464944, 0.06253293407352713, 0.25932775601080366, 0.1170959843925851, 0.06621134196020519, 0.12138746026037618, 0.13671415978820145, 0.055176118300170995, 0.04230169069679776, 0.07295508975244831, 0.06743747792243121, 0.0800381031294363, 0.10404953406826718, 0.8083848416073065, 0.01675714270173552, 0.03351428540347104, 0.904885705893718, 0.05027142810520655, 0.9604389428568516, 0.8681723914200296, 0.0005985331895346636, 0.011970663790693272, 0.0010474330816856612, 0.006733498382264965, 0.0068831316796486314, 0.07077654966247397, 0.002693399352905986, 0.02603619374475787, 0.005237165408428307, 0.06893536347067446, 0.08438639321410149, 0.5574256115128675, 0.009508325995955098, 0.0011885407494943872, 0.10696866745449485, 0.019016651991910195, 0.07606660796764078, 0.035656222484831614, 0.04041038548280916, 0.9798466339215877, 0.056221803515224225, 0.22020206376796153, 0.07964755497990098, 0.08355184689068045, 0.04060463587210638, 0.26158755802222383, 0.00390429191077946, 0.09838815615164238, 0.10463502320888952, 0.05153665322228887, 0.9908528045473735, 0.9245148644115554, 0.07396118915292443, 0.022126778777275553, 0.15488745144092886, 0.08218517831559491, 0.0252877471740292, 0.0126438735870146, 0.46150138592603296, 0.037931620761043804, 0.07902420991884125, 0.08534614671234855, 0.037931620761043804, 0.9855189197469361, 0.9607980207347244, 0.9803911712850887, 0.9656726123908885, 0.9811706457663791, 0.9533264030484366, 0.03287332424304954, 0.98865453664206, 0.9880491144832212, 0.06863487690361715, 0.0018767349153332815, 0.01367335438314248, 0.0008043149637142635, 0.004557784794380826, 0.014209564358951989, 0.002144839903238036, 0.0018767349153332815, 0.8839421451219756, 0.008579359612952144, 0.9958328881013111, 0.9580728282299319, 0.021774382459771178, 0.9801054890728864, 0.9799080856979415, 0.9871873777150656, 0.9866836595126571, 0.931581552463606, 0.0007907292449273758, 0.006662626045221408, 0.0015228859531934646, 0.007995151254265689, 0.0028846974305683894, 0.011260570173132445, 0.0046272303962416805, 0.019460725305712637, 0.013222750151285562, 0.0017202998910827447, 0.0014335832425689538, 0.0008601499455413724, 0.015769415668258492, 0.0005734332970275816, 0.014335832425689539, 0.9450180735014544, 0.0028671664851379077, 0.0063077662673033975, 0.01118194929203784, 0.7557809332764008, 0.029950073376905494, 0.018031166624871673, 0.010085228790182461, 0.020476070574006817, 0.010390841783824354, 0.022920974523141957, 0.02230974853585817, 0.03728478522431092, 0.07304150548041237, 0.8935862479786494, 0.011757713789192756, 0.05878856894596378, 0.02351542757838551, 0.9826448329512585, 0.024032091889034036, 0.9612836755613614, 0.9979103966325521, 0.9906905456042302, 0.9669504919639849, 0.004316743267696361, 0.008633486535392722, 0.006475114901544541, 0.010791858169240902, 0.052122455320479065, 0.04343537943373255, 0.8947688163348906, 0.9655846347989064, 0.9876487503313367, 0.935040577078389, 0.04675202885391945, 0.01558400961797315, 0.006485226926461101, 0.3871680475097277, 0.039559884251412714, 0.12386783429540703, 0.1225707889101148, 0.09273874504839374, 0.007782272311753321, 0.02983204386172106, 0.13943237891891366, 0.05058477002639659, 0.9734610271940857, 0.006053767983146598, 0.9383340373877226, 0.012107535966293196, 0.03632260789887958, 0.9682663163910371, 0.08566056987143811, 0.10993106466834557, 0.24341878605133663, 0.03307449781147193, 0.021177196440438865, 0.03212271370178929, 0.0166562219194463, 0.04425796110024302, 0.2348527290641928, 0.17869746659291671, 0.9754174502803412, 0.9817880090339868, 0.9784882772071873, 0.9900565971017781, 0.04928920453650453, 0.005280986200339771, 0.4436028408285408, 0.05985117693718407, 0.012322301134126133, 0.028165259735145446, 0.05809084820373748, 0.012322301134126133, 0.146107284876067, 0.18659484574533858, 0.020036375424316768, 0.941709644942888, 0.020036375424316768, 0.01741588851293107, 0.5398925439008632, 0.08998209065014386, 0.05708541234794073, 0.11610592341954046, 0.07063110341355378, 0.0077403948946360305, 0.03386422766403263, 0.06289070851891775, 0.0029026480854885115, 0.010016488452385983, 0.0012841651862033313, 0.0007704991117219987, 0.015153149197199308, 0.003081996446887995, 0.013868984010995978, 0.9274240974760458, 0.0028251634096473285, 0.010016488452385983, 0.015409982234439975, 0.9762237879498264, 0.9688537279123683, 0.9626162467751355, 0.01499494499959067, 0.19651270025779352, 0.08286680131352739, 0.15863073394303814, 0.3575110570955039, 0.08839125473442921, 0.007102868684016633, 0.03235751289385355, 0.01262732210491846, 0.04972008078811643, 0.9400512614434512, 0.012534016819246015, 0.012534016819246015, 0.02506803363849203, 0.9807344012605298, 0.014898930716109303, 0.3297198145434624, 0.03368453901033407, 0.2487473649993901, 0.09328026187477129, 0.07449465358054652, 0.03951455537750728, 0.04404901255197533, 0.04275345335927017, 0.07902911075501456, 0.018057804886595884, 0.1083468293195753, 0.04213487806872373, 0.045746439046042905, 0.028892487818553414, 0.14446243909276707, 0.045746439046042905, 0.3888447318913647, 0.034911756114085375, 0.14325858543366068, 0.021872982687970412, 0.2702875717870629, 0.043745965375940825, 0.21612590036923143, 0.18644113814984303, 0.016144344364930542, 0.058848739136682295, 0.08697114544978711, 0.07968015122046364, 0.019789841479592278, 0.04132080436113078, 0.14049073482784466, 0.8181519263503895, 0.04277150028456285, 0.4599689210930038, 0.11779691881650096, 0.0483808773710629, 0.07151955785287559, 0.07081838571706309, 0.02944922970412524, 0.060300803679875496, 0.05048439377850041, 0.0483808773710629, 0.9820459585299738, 0.05682127308597619, 0.050507798298645504, 0.02367553045249008, 0.22728509234390476, 0.018940424361992062, 0.05129698264706184, 0.10811825573303803, 0.018940424361992062, 0.34960866634843685, 0.09470212180996032, 0.9787886672964682, 0.003246341156087685, 0.24996826901875174, 0.11903250905654844, 0.09847234840132645, 0.1926162419278693, 0.01731381949913432, 0.01082113718695895, 0.24888615530005584, 0.03029918412348506, 0.029217070404789165, 0.9263823917734368, 0.011297346241139473, 0.022594692482278946, 0.03389203872341842, 0.024857300238333192, 0.41556307065110876, 0.1478690680844436, 0.13257226793777704, 0.08349503413388842, 0.07265980069666626, 0.011472600109999936, 0.05800036722277745, 0.03505516700277758, 0.019121000183333226, 0.023069227044885468, 0.19189402496427457, 0.39741986590961786, 0.07340208605190832, 0.056624466382900696, 0.04508985286045796, 0.013631815981068687, 0.04823565654839689, 0.04928425777770987, 0.10171431924335866, 0.0281532659712116, 0.07507537592323094, 0.19238065080327926, 0.08211369241603383, 0.0563065319424232, 0.03049937146881257, 0.009384421990403867, 0.046922109952019335, 0.0281532659712116, 0.44576004454418366, 0.8864303533221005, 0.023638142755256015, 0.035457214132884024, 0.035457214132884024, 0.011819071377628007, 0.004554890628409961, 0.04782635159830459, 0.029606789084664745, 0.7219501646029788, 0.06376846879773945, 0.1298143829096839, 0.02203254833560853, 0.18540155035602496, 0.1989961014567196, 0.12352290396665633, 0.1251636256512229, 0.04008048686584104, 0.015000883973180274, 0.037267821120869744, 0.04289315261081235, 0.21001237562452385, 0.01165477940834528, 0.08158345585841696, 0.16083595583516486, 0.47318404397881836, 0.07692154409507886, 0.07109415439090622, 0.026805992639194146, 0.06526676468673356, 0.03263338234336678, 0.9827261735600895, 0.021883083557965574, 0.919089509434554, 0.05470770889491393, 0.017010442950629086, 0.8096970844499446, 0.16670234091616506, 0.0034020885901258173, 0.9893866699872, 0.9715925618800083, 0.04048646437798941, 0.04048646437798941, 0.8637112400637741, 0.04048646437798941, 0.9810868693655331, 0.06989491740729675, 0.29844700929741436, 0.14493547290592823, 0.08618943802985672, 0.1024839586524167, 0.12992736180620193, 0.025299387282395756, 0.060032444398905184, 0.06174765709601676, 0.021440158713894708, 0.9735111326291429, 0.9739097135317221, 0.7408055875039175, 0.007577433807200119, 0.010251822209741338, 0.008914628008470728, 0.005794508205505974, 0.0196121816186356, 0.16804073795967323, 0.008023165207623655, 0.02228657002117682, 0.009360359408894264, 0.9872331221699848, 0.006952345930774541, 0.9699820277256365, 0.9865311992373196, 0.9832431075387242, 0.801310768941416, 0.0012471762940722427, 0.006235881470361214, 0.003117940735180607, 0.0024943525881444854, 0.0012471762940722427, 0.10476280870206839, 0.007483057764433457, 0.037415288822167284, 0.03429734808698668, 0.9856354251946481, 0.9663796097011735, 0.06528554549230799, 0.16847882707692385, 0.4991185252153869, 0.014741897369230837, 0.025271824061538578, 0.1095112376000005, 0.008423941353846193, 0.025271824061538578, 0.07370948684615418, 0.01052992669230774, 0.9720794276413296, 0.012466607821271729, 0.23330366065522806, 0.06589492705529341, 0.42564560989770617, 0.062333039106358644, 0.026714159617010846, 0.024933215642543458, 0.10151380654464122, 0.010685663846804338, 0.037399823463815186, 0.955854671347072, 0.01372129021176031, 0.01646554825411237, 0.02744258042352062, 0.6805759945033113, 0.01646554825411237, 0.1591669664564196, 0.021954064338816495, 0.02744258042352062, 0.01646554825411237, 0.024698322381168557, 0.981120275916407, 0.0349492453438597, 0.9552793727321651, 0.011649748447953233, 0.9720099149578492, 0.9743623980729635, 0.022836134087443765, 0.004349739826179764, 0.10113145095867952, 0.33927970644202166, 0.10548119078485929, 0.21204981652626353, 0.04023509339216282, 0.05110944295761224, 0.10874349565449412, 0.015224089391629177, 0.0144534408989767, 0.9539270993324622, 0.0289068817979534, 0.9881491537404122, 0.9692491413403388, 0.9800591046800622, 0.97299058302758, 0.0314318823154846, 0.04207816503524551, 0.6205261928089217, 0.06641252553755617, 0.06742645722515245, 0.018757736220531132, 0.02179953128331996, 0.04258513087904365, 0.040557267503851094, 0.048161755160823175, 0.010592088403579813, 0.046340386765661684, 0.44089567979900973, 0.0847367072286385, 0.010592088403579813, 0.01588813260536972, 0.018536154706264674, 0.26347819903904784, 0.01588813260536972, 0.09268077353132337, 0.046925634763577584, 0.09645824923624281, 0.11731408690894396, 0.06778147243627873, 0.005213959418175287, 0.39626091578132183, 0.005213959418175287, 0.06778147243627873, 0.18770253905431034, 0.010427918836350573, 0.25129310344652384, 0.10407088122532805, 0.3375957854382593, 0.0323635057469008, 0.05457375478889154, 0.08059147509522356, 0.04378591953992461, 0.026652298850388893, 0.06091954022946033, 0.007614942528682541, 0.035293596585408094, 0.16911515030508045, 0.4235231590248971, 0.07058719317081619, 0.1147041889025763, 0.004411699573176012, 0.007352832621960019, 0.1147041889025763, 0.024999630914664065, 0.03235246353662408, 0.033939721747587276, 0.11313240582529092, 0.16969860873793638, 0.02828310145632273, 0.6165716117478355, 0.011313240582529091, 0.011313240582529091, 0.011313240582529091, 0.005656620291264546, 0.8527255781216366, 0.004291792780731735, 0.012070667195808005, 0.004828266878323202, 0.020117778659680008, 0.004828266878323202, 0.05874391368626562, 0.013680089488582405, 0.010729481951829338, 0.017703645220518406, 0.008232299682065406, 0.8808560659809984, 0.04939379809239244, 0.04939379809239244, 0.9677765426946995, 0.022855190239817583, 0.13089790773713705, 0.12258692946811249, 0.07479880442122118, 0.17245279908225994, 0.2482904757871092, 0.01038872283628072, 0.015583084254421078, 0.06025459245042817, 0.14232550285704584, 0.01223228354926282, 0.9174212661947114, 0.01223228354926282, 0.01223228354926282, 0.01223228354926282, 0.02446456709852564, 0.9641999682445198, 0.8835043345656278, 0.10919716494631355, 0.16263639242910466, 0.017119620255695227, 0.034239240511390455, 0.02567943038354284, 0.7447034811227423, 0.008559810127847614, 0.021268527939216467, 0.45664780575376535, 0.0863252016356433, 0.013761988666551832, 0.11384917896874697, 0.03878378624210062, 0.011259808908996954, 0.058801224302539645, 0.06255449393887197, 0.13511770690796343, 0.9579834390903091, 0.09391718448230231, 0.7200317476976511, 0.008944493760219267, 0.08050044384197341, 0.08944493760219269, 0.9757855982013213, 0.011010519333905207, 0.013212623200686249, 0.008808415467124166, 0.013212623200686249, 0.13432833587364354, 0.06606311600343125, 0.12551992040651938, 0.006606311600343124, 0.6187911865654727, 0.0801098348409175, 0.004681743594599074, 0.010143777788297994, 0.00026009686636661525, 0.009623584055564764, 0.015345715115630298, 0.0015605811981996914, 0.004161549861865844, 0.8630014026044294, 0.011184165253764455, 0.13116880369504633, 0.2440021832176668, 0.15514589684360316, 0.10084483294834207, 0.0677000277135723, 0.017630215550409452, 0.03173438799073701, 0.17136569514997987, 0.009167712086212915, 0.07193127944567056, 0.9853571456613887, 0.9669090559149734, 0.9602719850243888, 0.07081450471865364, 0.4509765826819521, 0.06832978525484122, 0.11057001613965217, 0.08820754096534049, 0.12423597319062041, 0.004969438927624817, 0.027331914101936493, 0.0012423597319062042, 0.05342146847196678, 0.024660874363480453, 0.20171330569103244, 0.07682810859391988, 0.22921966555799142, 0.04932174872696091, 0.088526215663776, 0.08346757476870308, 0.04963791378290296, 0.1283630127124752, 0.06797548702754228, 0.04137410504837156, 0.04846680877094954, 0.024824463029022935, 0.10757267312576604, 0.4858502049965917, 0.08156609280964679, 0.04964892605804587, 0.1134832595612477, 0.04019198776127523, 0.0070927037225779815, 0.04373798400263814, 0.05102764800307783, 0.6925180800417705, 0.07654147200461675, 0.012149440000732816, 0.019439104001172505, 0.017009216001025944, 0.002429888000146563, 0.040093152002418295, 0.044952928002711424, 0.9564051751540199, 0.9800768331532165, 0.9669357685017305, 0.027966986782765126, 0.9368940572226317, 0.013983493391382563, 0.013983493391382563, 0.05671788261984362, 0.13807550113191439, 0.14458411061288004, 0.0748490090311051, 0.11761987133459373, 0.12970728894210137, 0.05299867720214895, 0.11483046727132273, 0.09205033408794291, 0.07810331377158793, 0.3294396662989485, 0.013726652762456187, 0.017158315953070234, 0.037748295096754515, 0.12353987486210569, 0.017158315953070234, 0.1175344642785311, 0.06091202163339933, 0.02058997914368428, 0.2616643182843211, 0.966663908523032, 0.010622680313439912, 0.015934020470159866, 0.9778826041334876, 0.01973225418247837, 0.96688045494144, 0.8665174820469653, 0.012742904147749489, 0.012742904147749489, 0.050971616590997956, 0.06371452073874745, 0.43067330034840107, 0.004856487374248997, 0.008935936768618154, 0.0007770379798798395, 0.01651205707244659, 0.010878531718317753, 0.44077479408683895, 0.002913892424549398, 0.07109897515900532, 0.012626867173047392, 0.28232980143757386, 0.33066083524298906, 0.021055103836022458, 0.06268678642088504, 0.05263775959005614, 0.02440477944629876, 0.055508910113150116, 0.0167483780513815, 0.01722690313856383, 0.13685817493414598, 0.987883102968343, 0.9866621881128593, 0.9763812108352226, 0.9654246521005807, 0.035421969311652715, 0.3269972537381274, 0.045589386428886366, 0.11216956948690027, 0.17809379015025392, 0.18629332008350688, 0.01902290944514683, 0.006559623946602354, 0.010495398314563767, 0.07904346855655837, 0.9676734547238344, 0.8149743852923595, 0.005241269109418443, 0.012286909551587498, 0.004382044665251485, 0.02001992954909012, 0.019074782660506464, 0.06908164531102341, 0.010052925996753406, 0.024316051769924907, 0.020707309104423685, 0.98380488818827, 0.009645145962630098, 0.0024112864906575245, 0.0024112864906575245, 0.9703370843357517, 0.9907630220220479, 0.024913002332511452, 0.9466940886354351, 0.024913002332511452, 0.8265032832775394, 0.12522777019356657, 0.033394072051617756, 0.018868385184142064, 0.9434192592071031, 0.018868385184142064, 0.018868385184142064, 0.043682004488979194, 0.021841002244489597, 0.0327615033667344, 0.8954810920240734, 0.9870465506440378, 0.972836441573738, 0.9882349927913331, 0.9890065239178576, 0.04570698403583173, 0.11080480978383452, 0.6177368145448774, 0.0221609619567669, 0.03047132269055449, 0.016620721467575178, 0.005540240489191725, 0.034626503057448285, 0.06509782574800277, 0.05124722452502346, 0.9657863168778531, 0.00462912153197975, 0.023145607659898752, 0.03548993174517809, 0.21602567149238835, 0.16047621310863133, 0.08949634961827517, 0.2936920438622708, 0.06120727358951003, 0.08126680022808895, 0.03446123807140481, 0.9935618040714008, 0.9883220883752938, 0.9877404561091734, 0.9919808869128646, 0.9972432223938288, 0.05985180815284821, 0.12184118088258386, 0.07267719561417282, 0.1421480443630145, 0.018169298903543206, 0.15069830267056425, 0.019238081191986924, 0.10153431740215321, 0.26933313668781694, 0.04382007382619244, 0.02923887647359718, 0.02923887647359718, 0.048731460789328634, 0.818688541260721, 0.009746292157865726, 0.06822404510506008, 0.9665775890936962, 0.9734430605987314, 0.01104895072627719, 0.25136362902280607, 0.05984848310066811, 0.2578088502798011, 0.09759906474878184, 0.09851981064263828, 0.013811188407846486, 0.11785547441362336, 0.07458041740237104, 0.01841491787712865, 0.011008493336542777, 0.022016986673085555, 0.038529726677899716, 0.04403397334617111, 0.8476539869137938, 0.005504246668271389, 0.027521233341356942, 0.9834053961197161, 0.10702305508161074, 0.049395256191512645, 0.008232542698585442, 0.6421383304896644, 0.07409288428726897, 0.008232542698585442, 0.08644169833514713, 0.004116271349292721, 0.016465085397170884, 0.03859247153339137, 0.9262193168013928, 0.025728314355594244, 0.006153324033943604, 0.09486374552329722, 0.3856083061271325, 0.03333050518386119, 0.02820273515557485, 0.10922150160249897, 0.05076492328003473, 0.2240835502361129, 0.027689958152746216, 0.04050938322346206, 0.0026300695413940035, 0.005260139082788007, 0.026300695413940034, 0.704858637093593, 0.026300695413940034, 0.0026300695413940035, 0.1578041724836402, 0.0026300695413940035, 0.0683818080762441, 0.03330228376071499, 0.03330228376071499, 0.8991616615393048, 0.03330228376071499, 0.022999909641908848, 0.02108325050508311, 0.08049968374668097, 0.8069134966036354, 0.005749977410477212, 0.019166591368257373, 0.007666636547302949, 0.0019166591368257372, 0.02874988705238606, 0.007666636547302949, 0.969358005059456, 0.015635174311919242, 0.8755697614674776, 0.007817587155959621, 0.09381104587151545, 0.9716285144960225, 0.0342560707071107, 0.26548454798010795, 0.13916528724763724, 0.038538079545499544, 0.13167177178045678, 0.07814666130059629, 0.002141004419194419, 0.2365809883209833, 0.046031595012680004, 0.026762555239930236, 0.04888461662009056, 0.10959615661600948, 0.019711538959713934, 0.11511538752472938, 0.10328846414890103, 0.11984615687506073, 0.02759615454359951, 0.007884615583885575, 0.41078847192043844, 0.03863461636103931, 0.00794784527299269, 0.023843535818978065, 0.023843535818978065, 0.7788888367532835, 0.11126983382189765, 0.00794784527299269, 0.00794784527299269, 0.039739226364963444, 0.02077302658890684, 0.160990956064028, 0.4604687560541016, 0.03981496762873811, 0.01557976994168013, 0.04154605317781368, 0.00692434219630228, 0.00865542774537785, 0.0865542774537785, 0.15925987051495244, 0.9877233449503712, 0.002715182394047841, 0.03258218872857409, 0.01719615516230299, 0.48873283092861136, 0.03710749271865382, 0.08824342780655482, 0.12987622451528838, 0.11675284294405716, 0.03891761431468572, 0.04842075269385316, 0.029805160703161547, 0.09239599817980079, 0.014902580351580774, 0.08047393389853617, 0.011922064281264619, 0.014902580351580774, 0.6080252783444956, 0.014902580351580774, 0.13114270709391082, 0.9567191632247998, 0.9815955906800103, 0.9885357858260816, 0.978932967905033, 0.8959816749429866, 0.0056558548655001786, 0.0037705699103334524, 0.008483782298250269, 0.013196994686167083, 0.0056558548655001786, 0.021680776984417352, 0.028279274327500895, 0.014139637163750447, 0.003299248671541771, 0.9804612859262373, 0.014385529517837071, 0.9818123895923802, 0.9829707517661783, 0.05012916266533803, 0.8271311839780775, 0.06266145333167254, 0.06266145333167254, 0.016733174587148368, 0.9705241260546054, 0.9668297616676257, 0.9843988905969728, 0.9809739774824427, 0.9619380554939665, 0.006255121616530883, 0.2658426687025625, 0.4503687563902236, 0.04170081077687256, 0.009382682424796325, 0.06411499656944156, 0.00521260134710907, 0.013031503367772673, 0.03648820942976348, 0.10737958775044683, 0.09019548746033802, 0.017345286050065006, 0.006938114420026001, 0.006938114420026001, 0.006938114420026001, 0.7666616434128732, 0.010407171630039002, 0.07285020141027301, 0.020814343260078003, 0.0034690572100130007, 0.011048636076238193, 0.9612313386327228, 0.022097272152476387, 0.9742768104499666, 0.017026244044909943, 0.036374248641398516, 0.013930563309471773, 0.010060962390174058, 0.19502788633260482, 0.017026244044909943, 0.16484499916208264, 0.08358337985683063, 0.02631328625122446, 0.43571706351292266, 0.9848746830598559, 0.1131786611932607, 0.025150813598502377, 0.018863110198876782, 0.836264552150204, 0.6916632146886836, 0.00877374056687548, 0.0040944122645418905, 0.01316061085031322, 0.030123175946272483, 0.2342588731355753, 0.002632122170062644, 0.0020472061322709453, 0.01345306886920907, 0.02648435119051804, 0.3314556679298167, 0.05056103409098898, 0.09068883892510722, 0.056178926767765536, 0.12680386327581364, 0.025681795093835672, 0.1685367803032966, 0.048153365800941886, 0.07544027308814229, 0.05544822287223282, 0.007154609402868751, 0.005365957052151563, 0.010731914104303126, 0.04829361346936407, 0.0035773047014343753, 0.7565999443533704, 0.010731914104303126, 0.0429276564172125, 0.0590255275736672, 0.010703139555268245, 0.010703139555268245, 0.03210941866580473, 0.9418762808636055, 0.9891598479473653, 0.06614499182131399, 0.9260298854983958, 0.008647908025117, 0.985861514863338, 0.023133683412379286, 0.04626736682475857, 0.9137804947889818, 0.9388566224960169, 0.020531655760350268, 0.0018665141600318427, 0.020531655760350268, 0.016798627440286585, 0.029571633881072285, 0.0035084989350424745, 0.004009713068619971, 0.006766390803296201, 0.0017542494675212373, 0.08896550871000561, 0.8362757818740526, 0.0020048565343099853, 0.00275667773467623, 0.024058278411719824, 0.049138782140978214, 0.021059478060419235, 0.9266170346584464, 0.9796549099993377, 0.9633442315597376, 0.006479893934258325, 0.002159964644752775, 0.002159964644752775, 0.0086398585790111, 0.002159964644752775, 0.01295978786851665, 0.06872307076643137, 0.017180767691607843, 0.9105806876552157, 0.9861031677872829, 0.9840645407249815, 0.1308325298547705, 0.8613141548772392, 0.4405458288020878, 0.003765348964120409, 0.007530697928240818, 0.003765348964120409, 0.018826744820602044, 0.007530697928240818, 0.5007914122280144, 0.005648023446180613, 0.011296046892361225, 0.15363981713982355, 0.0019697412453823534, 0.00590922373614706, 0.013788188717676474, 0.0295461186807353, 0.10833576849602944, 0.6697120234300001, 0.003939482490764707, 0.009848706226911766, 0.003939482490764707, 0.9856724012038712, 0.019908432471714275, 0.5269879183689072, 0.056212044626016776, 0.10656866793682347, 0.10773975219986548, 0.06323855020426887, 0.01522409541954621, 0.004684337052168064, 0.04918553904776468, 0.04918553904776468, 0.01838668195003793, 0.690813907551425, 0.01576001310003251, 0.1155734294002384, 0.06304005240013004, 0.010506675400021672, 0.021013350800043344, 0.007880006550016255, 0.0577867147001192, 0.9621740263064541, 0.14428842227716202, 0.17485800326808618, 0.03301514747019809, 0.09782265917095731, 0.05747081226293742, 0.05380246254402652, 0.0048911329585478655, 0.09170874297277247, 0.32526034174343305, 0.01711896535491753, 0.881988174018215, 0.0016223668947910933, 0.005562400782140891, 0.001970016943674899, 0.012515401759817005, 0.005446517432512956, 0.042876839362336036, 0.00950243466949069, 0.010081851417630365, 0.028507304008472067, 0.9869153614047507, 0.006728968373214209, 0.004485978915476139, 0.9833739210223681, 0.02162542415955403, 0.1209057805284157, 0.32733028386961327, 0.20347558186489473, 0.10026333019429595, 0.061927351002359264, 0.015727581206948386, 0.029489214763028224, 0.050131665097147976, 0.06979114160583345, 0.9892479500884531, 0.9757221908103395, 0.2925555809974763, 0.012011079571743894, 0.015442816592242151, 0.0077214082961210755, 0.010295211061494766, 0.012869013826868458, 0.6031277813525684, 0.011153145316619331, 0.022306290633238662, 0.012011079571743894, 0.9752046595288508, 0.0836986407243903, 0.13564952117401188, 0.031747760274768735, 0.06205244053704799, 0.06493860056202697, 0.04329240037468464, 0.27274212236051326, 0.012987720112405392, 0.0360770003122372, 0.25975440224810786, 0.9786209550646632, 0.9968696634427802, 0.996205163991356, 0.8319628335141331, 0.16639256670282662, 0.9693052745559404, 0.023405046454660253, 0.6455891980410453, 0.011702523227330126, 0.0897193447428643, 0.01365294376521848, 0.15213280195529164, 0.04876051344720886, 0.015603364303106835, 0.018823262180184732, 0.12978143924232632, 0.05349769251210398, 0.11690236511904203, 0.36259547147092697, 0.051516296493137166, 0.01981396018966814, 0.06340467260693805, 0.05349769251210398, 0.12879074123284293, 0.11258869627147455, 0.8106386131546167, 0.06755321776288473, 0.9706603115458943, 0.8628832211685752, 0.000496671078953516, 0.012085662921202223, 0.04304482684263805, 0.0003311140526356773, 0.005297824842170837, 0.04287926981632022, 0.00496671078953516, 0.013244562105427094, 0.014569018315969802, 0.9868839043068627, 0.9949687639642354, 0.9886431871897934, 0.004924940874886576, 0.02462470437443288, 0.13297340362193757, 0.05909929049863892, 0.009849881749773153, 0.5614432597370698, 0.03939952699909261, 0.07387411312329864, 0.01477482262465973, 0.07387411312329864, 0.04555014439823471, 0.19521490456386306, 0.013014326970924204, 0.013014326970924204, 0.006507163485462102, 0.6702378390025965, 0.052057307883696814, 0.030688762069530418, 0.015344381034765209, 0.030688762069530418, 0.7902356232904082, 0.007672190517382604, 0.007672190517382604, 0.007672190517382604, 0.09206628620859125, 0.003836095258691302, 0.015344381034765209, 0.9538181394741366, 0.9808944442751271, 0.9581542134444433, 0.988433083782537, 0.9897540470777514, 0.030410918759484803, 0.045616378139227205, 0.030410918759484803, 0.8819166440250593, 0.023214187880468057, 0.42473365973893407, 0.08769804310399043, 0.027513111562036216, 0.13756555781018107, 0.10403395309394944, 0.017195694726272633, 0.06362407048720875, 0.08855782784030407, 0.02579354208940895, 0.033319652242541783, 0.04997947836381268, 0.02290726091674748, 0.11245382631857853, 0.06247434795476585, 0.2165777395765216, 0.006247434795476585, 0.4935473488426502, 0.982880450472044, 0.016788795060759077, 0.4853488026655806, 0.27930449964717374, 0.007631270482163217, 0.022893811446489654, 0.027472573735787584, 0.016788795060759077, 0.033577590121518154, 0.0351038442179508, 0.07631270482163217, 0.9740715750614289, 0.9703365807487403, 0.011765593971569701, 0.05722357067990718, 0.023174654792485774, 0.06381943396699928, 0.022283321915851705, 0.04545797670833748, 0.6808000511731014, 0.013726526300164651, 0.04617104300964474, 0.03565331506536273, 0.9814829882795375, 0.5652470109736923, 0.004521976087789538, 0.025323066091621417, 0.05516810827103237, 0.07596919827486424, 0.20620210960320295, 0.017183509133600245, 0.02713185652673723, 0.020801090003831877, 0.0009043952175579077, 0.07395238367202764, 0.02112925247772218, 0.02112925247772218, 0.8768639778254705, 0.9677281524208452, 0.9816505746847851, 0.8798413205137166, 0.10998016506421457, 0.9817133536474234, 0.9942971186096512, 0.99460291263559, 0.9734990164311909, 0.012894026707697893, 0.006447013353848946, 0.010600433622017008, 0.13383047447796473, 0.12588014926145197, 0.042401734488068034, 0.41209185705591117, 0.0914287399898967, 0.09275379419264883, 0.03180130086605103, 0.05035205970458079, 0.009275379419264882, 0.08243458673283789, 0.2826328687983013, 0.0691861710079175, 0.044161385749734584, 0.041217293366418946, 0.07654640196620661, 0.05888184766631278, 0.30618560786482646, 0.005888184766631278, 0.03385706240812984, 0.01737725516214122, 0.15832610258839774, 0.16025690871752454, 0.1538208882871019, 0.29026452141206255, 0.06564740839031126, 0.014802846989972147, 0.027031285807775227, 0.08302466355245249, 0.02831848989385976, 0.03744817004752315, 0.9174801661643172, 0.018724085023761574, 0.03248703444587759, 0.13494614308287614, 0.09746110333763276, 0.004998005299365783, 0.5472815802805532, 0.15243916163065638, 0.009996010598731566, 0.01999202119746313, 0.8209033903821734, 0.04749027878243978, 0.01356865108069708, 0.020352976621045623, 0.00678432554034854, 0.0339216277017427, 0.05427460432278832, 0.9806506352347466, 0.9899233225402607, 0.9888673947053401, 0.9771105149690014, 0.0008183505150494149, 0.006546804120395319, 0.013093608240790639, 0.0016367010300988298, 0.9755282522652505, 0.03661821585472076, 0.21428437426095853, 0.03933067628840378, 0.16139139580413966, 0.03661821585472076, 0.031193294987354722, 0.09357988496206417, 0.08951119431153964, 0.0556054388905019, 0.24276520881463023, 0.972639387377922, 0.9785302540629618, 0.9880348661003765, 0.9861937502553975, 0.10586414210620432, 0.19358014556563075, 0.02318928827088285, 0.02318928827088285, 0.07309666954952203, 0.03780862218078725, 0.17543200691885286, 0.16686205255787442, 0.078137819173627, 0.12249993586575071, 0.3536484009515428, 0.014052254342445409, 0.0444988054177438, 0.01639429673285298, 0.02342042390407568, 0.5058811563280348, 0.0070261271712227045, 0.03513063585611353, 0.9867171125189796, 0.3664722886353927, 0.003817419673285341, 0.039446669957281855, 0.017814625141998258, 0.011452259019856022, 0.0623511879969939, 0.36265486896210736, 0.055988821874851664, 0.08016581313899215, 0.02450845162118117, 0.4934368259731142, 0.03676267743177176, 0.05473554195397128, 0.05963723227820752, 0.0996677032594701, 0.06944061292667998, 0.08414568389938869, 0.03839657420651717, 0.04003047098126258, 0.027450168365892605, 0.9470308086232949, 0.027450168365892605, 0.007010331887297233, 0.12852275126711593, 0.03271488214072042, 0.14488019233747615, 0.09347109183062978, 0.014020663774594466, 0.5094174504769323, 0.0210309956618917, 0.02570455025342319, 0.023367772957657445, 0.9740053286521336, 0.9766505771527058, 0.9976594074046573, 0.9906051146428309, 0.008689518549498516, 0.9728822493935355, 0.9886803974932239, 0.019746973979114308, 0.256710661728486, 0.10771076715880533, 0.47751773440403694, 0.028722871242348087, 0.05924092193734293, 0.028722871242348087, 0.021542153431761066, 0.9406312841434562, 0.020448506177031655, 0.020448506177031655, 0.08863508068735204, 0.17365240297930196, 0.11034163105976479, 0.03255982555861912, 0.04883973833792868, 0.4576464370183687, 0.014471033581608497, 0.06150189272183611, 0.012662154383907434, 0.10844099781398546, 0.009036749817832122, 0.06325724872482485, 0.813307483604891, 0.2006624208062857, 0.032985603420211354, 0.09208480954809002, 0.034360003562720155, 0.03985760413275538, 0.005497600570035225, 0.1291936133958278, 0.41094564261013306, 0.016492801710105677, 0.03710880384773777, 0.9841713172845199, 0.983906649697565, 0.018245455163462786, 0.386195467626629, 0.054128183651606265, 0.030409091939104644, 0.21712091644520715, 0.0857536392682751, 0.015812727808334415, 0.043789092392310686, 0.13075909533814997, 0.017029091485898602, 0.01354928763412375, 0.07452108198768062, 0.7519854636938681, 0.006774643817061875, 0.006774643817061875, 0.006774643817061875, 0.006774643817061875, 0.12194358870711375, 0.026903712881418424, 0.6759557861456379, 0.006725928220354606, 0.04708149754248224, 0.15805931317833324, 0.013451856440709212, 0.02354074877124112, 0.006725928220354606, 0.04035556932212763, 0.010226192816927214, 0.03579167485924525, 0.06135715690156328, 0.0715833497184905, 0.05624406049309967, 0.005113096408463607, 0.09714883176080853, 0.6340239546494872, 0.010226192816927214, 0.01533928922539082, 0.023283045059595883, 0.011641522529797941, 0.12587396235344023, 0.8221825286669796, 0.01673468863658454, 0.9748234083329324, 0.009804489358620286, 0.9314264890689271, 0.009804489358620286, 0.03921795743448114, 0.9827555685738966, 0.9117183516812698, 0.0006461504972936001, 0.011630708951284803, 0.00032307524864680007, 0.0038769029837616006, 0.004523053481055201, 0.010984558453991202, 0.006784580221582802, 0.014538386189106002, 0.03521520210250121, 0.9875083335340608, 0.0066027626193442815, 0.9309895293275438, 0.0066027626193442815, 0.04621933833540997, 0.040377674912315, 0.040377674912315, 0.9017680730417016, 0.03189988190481796, 0.006379976380963592, 0.8868167169539393, 0.02551990552385437, 0.03189988190481796, 0.012759952761927184, 0.03392175684233573, 0.8819656779007291, 0.03392175684233573, 0.011307252280778578, 0.022614504561557155, 0.9825045653025014, 0.08157685548760661, 0.004078842774380331, 0.26104593756034117, 0.012236528323140991, 0.5955110450595282, 0.012236528323140991, 0.032630742195042646, 0.009823558474040449, 0.17938671996073863, 0.06406668570026379, 0.08584935883835348, 0.3126454262172873, 0.02605378551810728, 0.023064006852094966, 0.07517157788830953, 0.2169725089048934, 0.006833779808028138, 0.01811768725013785, 0.1761441815985624, 0.04328114176421819, 0.11172573804251673, 0.32309875596079163, 0.09058843625068924, 0.03824845086140212, 0.07448382536167782, 0.055359599930976756, 0.06844459627829853, 0.943263956020528, 0.02143781718228473, 0.01469468328156455, 0.2057255659419037, 0.10286278297095185, 0.09306632744990882, 0.5730926479810174, 0.004898227760521517, 0.004898227760521517, 0.022503614104204886, 0.19927899236856134, 0.1678281581988292, 0.17813101766822423, 0.14993371806777472, 0.07889821330510388, 0.029824066885090813, 0.034704368739014765, 0.0954370140322906, 0.043109333042994906, 0.011665940166582813, 0.2708774399655326, 0.04723283091835968, 0.29648560130681195, 0.18324062115315443, 0.06715028973935473, 0.027315372097364635, 0.029022582853449923, 0.054346209068715054, 0.012804080670639673, 0.007878697518905924, 0.08666567270796517, 0.7012040791826273, 0.007878697518905924, 0.03545413883507666, 0.007878697518905924, 0.039393487594529625, 0.003939348759452962, 0.11030176526468294, 0.9653094530446515, 0.014457565389229423, 0.12593300378512998, 0.11680190985509034, 0.026632357295948938, 0.17805633163577292, 0.03538298897890359, 0.023208197072184075, 0.15142397433982396, 0.28458576081956866, 0.043372696167688275, 0.20639692862396378, 0.01308149547616672, 0.07994247235435217, 0.3895378652902978, 0.0857564703437596, 0.0058139979894074306, 0.02616299095233344, 0.15407094671929691, 0.015988494470870435, 0.02470949145498158, 0.059266515849979176, 0.059266515849979176, 0.059266515849979176, 0.039511010566652786, 0.039511010566652786, 0.04609617899442825, 0.6651020112053219, 0.006585168427775464, 0.013170336855550928, 0.02474835470323864, 0.061870886758096606, 0.9033149466682104, 0.021525513734331432, 0.15067859614032, 0.001537536695309388, 0.012300293562475103, 0.16144135300748572, 0.012300293562475103, 0.04458856416397225, 0.2905944354134743, 0.021525513734331432, 0.2859818253275461, 0.9890186392092913, 0.01316973297759992, 0.9745602403423941, 0.9785430549327173, 0.8878704405371888, 0.0026543211974205945, 0.00929012419097208, 0.00995370449032723, 0.0245524710761405, 0.035833336165178024, 0.0033179014967757428, 0.014598766585813269, 0.013271605987102971, 0.019380525654124025, 0.007752210261649611, 0.0038761051308248053, 0.9651501775753765, 0.0855161717279893, 0.9064714203166865, 0.029196969263582447, 0.04379545389537367, 0.029196969263582447, 0.014598484631791224, 0.8759090779074734, 0.9809991400685795, 0.03522702680157929, 0.014090810720631716, 0.03522702680157929, 0.845448643237903, 0.021136216080947574, 0.03522702680157929, 0.014090810720631716, 0.8806642218465893, 0.019284617996640642, 0.019284617996640642, 0.0449974419921615, 0.019284617996640642, 0.019284617996640642, 0.9898770715584053, 0.9673504407596615, 0.06711329780962985, 0.11357635013937359, 0.4783973536173615, 0.029254514429838653, 0.003441707579981018, 0.03441707579981018, 0.008604268949952545, 0.14283086456921223, 0.12390147287931665, 0.8049306774079081, 0.1226561032240622, 0.06899405806353498, 0.05715599498830097, 0.16534412835901352, 0.054094066685356275, 0.010206427676482317, 0.024495426423557558, 0.19188084031786753, 0.10206427676482316, 0.21841755227672158, 0.12043584658249133, 0.05613535222065274, 0.015399546472740359, 0.9701714277826426, 0.022801322683860054, 0.06080352715696014, 0.09880573163006023, 0.015200881789240036, 0.798046293935102, 0.9662401796221486, 0.057199323902822445, 0.2800205707481457, 0.023904195063866096, 0.07427374894844108, 0.05677246327668198, 0.03158768633439448, 0.04994269325843452, 0.14854749789688215, 0.03969803823106333, 0.23818822938638, 0.993194022177686, 0.9671960546258254, 0.7911483799000231, 0.0018538919271236627, 0.0041712568360282405, 0.002317364908904578, 0.020856284180141203, 0.007879040690275566, 0.10798920475495334, 0.0041712568360282405, 0.05283591992302438, 0.006488621744932819, 0.9704892594668099, 0.0010941254334462345, 0.0019147195085309101, 0.003555907658700262, 0.004102970375423379, 0.0010941254334462345, 0.002188250866892469, 0.004376501733784938, 0.007932409392485198, 0.003555907658700262, 0.9700212999389005, 0.9648257171850707, 0.00666581753800943, 0.9198828202453013, 0.05999235784208487, 0.00666581753800943, 0.9670325197862762, 0.9913543170247038, 0.02307662153592637, 0.19881397015567337, 0.026626871002991968, 0.5316498576930729, 0.03372736993712316, 0.01686368496856158, 0.007100498934131192, 0.11005773347903347, 0.047040805438619146, 0.005325374200598394, 0.961294994673603, 0.0007417399650259282, 0.0012980449387953745, 0.00445043979015557, 0.0031523948513601952, 0.0033378298426166774, 0.0040795698076426055, 0.0033378298426166774, 0.008159139615285211, 0.010198924519106515, 0.9974803577396003, 0.9818789177361459, 0.9932542308488355, 0.062037549382897225, 0.04652816203717292, 0.8840350787062855, 0.9677636435007487, 0.0888418705510786, 0.005552616909442413, 0.02221046763776965, 0.8439977702352468, 0.027763084547212064, 0.005552616909442413, 0.028416117617994667, 0.9519399402028214, 0.899809308641776, 0.054533897493440966, 0.013633474373360242, 0.013633474373360242, 0.013633474373360242, 0.013633474373360242, 0.9691887895719128, 0.02045031553919669, 0.02045031553919669, 0.0920264199263851, 0.02045031553919669, 0.8486880948766626, 0.010769254104358155, 0.20551326582483478, 0.08256428146674585, 0.12743617356823816, 0.058333459731940006, 0.10769254104358154, 0.05294883267976093, 0.3230776231307447, 0.027820573102925236, 0.004487189210149231, 0.016074299346234326, 0.13663154444299178, 0.010716199564156217, 0.005358099782078109, 0.005358099782078109, 0.010716199564156217, 0.4286479825662487, 0.38578318430962383, 0.9810931441625336, 0.021489899713988448, 0.027936869628184986, 0.042979799427976896, 0.09025757879875149, 0.5845252722204858, 0.10744949856994225, 0.03008585959958383, 0.027936869628184986, 0.04727777937077459, 0.019340909742589604, 0.977144121174729, 0.9907391852781261, 0.05194230005045242, 0.3759323966151494, 0.11881801136540991, 0.11297450260973402, 0.07531633507315601, 0.12725863512360844, 0.0493451850479298, 0.051293021299821766, 0.03181465878090211, 0.004544951254414587, 0.9931013515685178, 0.008566810015596575, 0.01713362003119315, 0.0342672400623863, 0.0685344801247726, 0.025700430046789728, 0.8309805715128679, 0.008566810015596575, 0.008566810015596575, 0.006914738507345487, 0.006914738507345487, 0.06569001581978212, 0.03803106179040018, 0.010372107761018231, 0.7053033277492397, 0.013829477014690974, 0.14866687790792796, 0.0034573692536727435, 0.9901536484504176, 0.18819846714160676, 0.012716112644703159, 0.005086445057881263, 0.012716112644703159, 0.6230895195904548, 0.010172890115762527, 0.12461790391809097, 0.015259335173643791, 0.0076296675868218955, 0.006543911218254671, 0.11779040192858407, 0.07198302340080137, 0.7983571686270698, 0.006543911218254671, 0.003832066585331542, 0.022992399511989253, 0.18777126268124558, 0.10346579780395164, 0.04981686560931005, 0.502000722678432, 0.011496199755994627, 0.08430546487729393, 0.022992399511989253, 0.011496199755994627, 0.9706965798275758, 0.03252001367134908, 0.11969171698482649, 0.2317050974083622, 0.1869900786102572, 0.028455011962430447, 0.17931174204896647, 0.0271000113927909, 0.07362169761708195, 0.08265503474801225, 0.037940015949907265, 0.921511705796991, 0.06826012635533267, 0.9483447290930682, 0.021553289297569733, 0.9902813844408158, 0.0261277661495028, 0.6215658052408034, 0.09075960872985182, 0.03987922201766217, 0.1155122292925387, 0.030253202909950608, 0.03437863967039842, 0.01650174704179124, 0.0261277661495028, 0.03531568097980111, 0.011771893659933703, 0.03531568097980111, 0.011771893659933703, 0.8122606625354256, 0.07063136195960222, 0.011771893659933703, 0.9644854457333901, 0.01507008508958422, 0.964274513567379], \"Term\": [\"aboutlastnight\", \"aca_talent\", \"academy\", \"academy\", \"academy\", \"academy\", \"academy\", \"academy\", \"accenture\", \"accessories\", \"accident_block\", \"accident_clear\", \"accident_clear\", \"accident_clear\", \"account\", \"account\", \"account\", \"account\", \"account\", \"account\", \"account\", \"account\", \"account\", \"accountant\", \"accountemps\", \"administration\", \"administrative_assistant\", \"administrative_assistant\", \"administrative_assistant\", \"administrator\", \"administrator\", \"administrator\", \"administrator\", \"aeropuerto_internacional_de\", \"aeropuerto_internacional_de\", \"aeropuerto_internacional_de\", \"aeropuerto_internacional_de\", \"aeropuerto_internacional_de\", \"aeropuerto_internacional_de\", \"aeropuerto_internacional_de\", \"aeropuerto_internacional_de\", \"aeropuerto_internacional_de\", \"aerotek\", \"aerotek\", \"aerotek\", \"aerotek\", \"aerotek\", \"affairs\", \"aicm_venustiano_carranza_df\", \"aicm_venustiano_carranza_df\", \"aicm_venustiano_carranza_df\", \"aicm_venustiano_carranza_df\", \"aicm_venustiano_carranza_df\", \"aicm_venustiano_carranza_df\", \"albuquerque\", \"alert\", \"alert\", \"alert\", \"alert\", \"alert\", \"alert\", \"alert\", \"alert\", \"alert\", \"alert\", \"allen_tx\", \"allentown_pa\", \"allentown_pa\", \"allentown_pa\", \"allentown_pa\", \"allentown_pa\", \"allentown_pa\", \"alvaro_obregon_df\", \"alvaro_obregon_df\", \"alvaro_obregon_df\", \"amp\", \"amp\", \"amp\", \"amp\", \"amp\", \"amp\", \"amp\", \"amp\", \"amp\", \"amp\", \"android\", \"anything\", \"anything\", \"anything\", \"anything\", \"anything\", \"anything\", \"anything\", \"anything\", \"anyway\", \"app\", \"app\", \"app\", \"app\", \"app\", \"app\", \"appleton_wi\", \"applications_sales\", \"april\", \"april\", \"april\", \"april\", \"april\", \"april\", \"april\", \"april\", \"april\", \"april\", \"arch\", \"arquitectura\", \"assembler\", \"assistant_mgr\", \"associate\", \"associate\", \"associate\", \"associate\", \"associate\", \"associate\", \"associate\", \"associate\", \"associate\", \"auburn\", \"auburn\", \"auburn\", \"auburn\", \"auburn\", \"auburn\", \"auburn\", \"audit\", \"aurora\", \"aurora\", \"aurora\", \"aurora_il\", \"austin\", \"austin\", \"austin\", \"austin\", \"austin\", \"austin\", \"av\", \"av\", \"av\", \"av\", \"av\", \"av\", \"av\", \"av\", \"av\", \"ave\", \"ave\", \"ave\", \"ave\", \"ave\", \"ave\", \"ave\", \"ave\", \"ave\", \"ave\", \"avenue\", \"avenue\", \"avenue\", \"avenue\", \"avenue\", \"avenue\", \"avenue\", \"avenue\", \"avenue\", \"awesome\", \"awesome\", \"awesome\", \"awesome\", \"awesome\", \"awesome\", \"awesome\", \"awesome\", \"awesome\", \"awesome\", \"back\", \"back\", \"back\", \"back\", \"back\", \"back\", \"back\", \"back\", \"back\", \"back\", \"bae\", \"bae\", \"bae\", \"bae\", \"bae\", \"bae\", \"bae\", \"bae\", \"bae\", \"baker\", \"baker\", \"bar\", \"bar\", \"bar\", \"bar\", \"bar\", \"bar\", \"bar\", \"bar\", \"bar\", \"bar\", \"barista_us\", \"barista_us_starbucks\", \"barista_us_starbucks\", \"bath\", \"bath\", \"bath\", \"bath\", \"bath\", \"bath\", \"bath\", \"beach\", \"beach\", \"beach\", \"beach\", \"beach\", \"beach\", \"beach\", \"beach\", \"beach\", \"beach\", \"beautiful\", \"beautiful\", \"beautiful\", \"beautiful\", \"beautiful\", \"beautiful\", \"beautiful\", \"beautiful\", \"beautiful\", \"beautiful\", \"beauty\", \"beauty\", \"beauty\", \"beauty\", \"beauty\", \"beauty\", \"beauty\", \"beauty\", \"beauty\", \"begin\", \"begin\", \"begin\", \"begin\", \"begin\", \"begin\", \"begin\", \"begin\", \"begin\", \"behavioral_health\", \"best\", \"best\", \"best\", \"best\", \"best\", \"best\", \"best\", \"best\", \"best\", \"best\", \"bicycle\", \"bilingual\", \"block\", \"block\", \"block\", \"block\", \"block\", \"block\", \"block\", \"block\", \"bloom\", \"bloom\", \"bloom\", \"bloomington_mn\", \"bloomington_mn\", \"blue\", \"blue\", \"blue\", \"blue\", \"blue\", \"blue\", \"blue\", \"blue\", \"blue\", \"blue\", \"boise_id\", \"boston\", \"boston\", \"boston\", \"boston\", \"boston\", \"boston\", \"boston\", \"boston\", \"boston\", \"boston\", \"botanical_garden\", \"boyntonbeach_fl\", \"braintree\", \"brg\", \"bring\", \"bring\", \"bring\", \"bring\", \"bring\", \"bring\", \"bring\", \"bring\", \"bring\", \"bring\", \"brookfield_wi\", \"brooklyn_ny\", \"brooklyn_ny\", \"brooklyn_ny\", \"brooklyn_ny\", \"brooklyn_ny\", \"brooklyn_ny\", \"brooklyn_ny\", \"brooklyn_ny\", \"broomfield_co\", \"brownsmills_nj\", \"brunch\", \"brunch\", \"brunch\", \"brunch\", \"bunch\", \"business_analyst\", \"business_development\", \"business_development\", \"businessmgmt\", \"businessmgmt\", \"businessmgmt\", \"businessmgmt\", \"businessmgmt\", \"businessmgmt\", \"businessmgmt\", \"businessmgmt\", \"ca\", \"ca\", \"ca\", \"ca\", \"ca\", \"ca\", \"ca\", \"ca\", \"ca\", \"ca\", \"ca_click_detail\", \"cable\", \"california\", \"california\", \"california\", \"california\", \"california\", \"california\", \"california\", \"california\", \"california\", \"california\", \"cancun_qr\", \"cancun_qr\", \"cancun_qr\", \"cancun_qr\", \"cancun_qr\", \"cardiology\", \"careerarc\", \"careerarc\", \"careerarc\", \"careerarc\", \"careerarc\", \"careerarc\", \"careerarc\", \"careerarc\", \"careerarc\", \"careerarc\", \"carlsbad_ca\", \"cater\", \"cath_lab\", \"cdl_owner_operator_truck\", \"cedarrapids_ia\", \"center\", \"center\", \"center\", \"center\", \"center\", \"center\", \"center\", \"center\", \"center\", \"center\", \"certify\", \"certify\", \"cfgjobs\", \"charlottesville_va\", \"chattanooga_tn\", \"check\", \"check\", \"check\", \"check\", \"check\", \"check\", \"check\", \"check\", \"check\", \"check\", \"check_list\", \"check_list\", \"check_list\", \"check_list\", \"check_list\", \"check_list\", \"chesapeake_va\", \"chesterfield_mo\", \"chicago\", \"chicago\", \"chicago\", \"chicago\", \"chicago\", \"chicago\", \"chicago\", \"chicago\", \"chicago\", \"chicago\", \"chili\", \"city\", \"city\", \"city\", \"city\", \"city\", \"city\", \"city\", \"city\", \"city\", \"city\", \"ciudad_de_mexico_distrito\", \"ciudad_de_mexico_distrito\", \"ciudad_de_mexico_distrito\", \"ciudad_de_mexico_distrito\", \"ciudad_de_mexico_distrito\", \"ciudad_de_mexico_distrito\", \"ciudad_de_mexico_distrito\", \"ciudad_de_mexico_mex\", \"ciudad_de_mexico_mex\", \"ciudad_de_mexico_mex\", \"ciudad_de_mexico_mex\", \"ciudad_de_mexico_mex\", \"ciudad_de_mexico_mex\", \"ciudad_de_mexico_mex\", \"civil\", \"civil\", \"clerical\", \"clerical\", \"clerical\", \"clerical\", \"clerical\", \"clerical\", \"clerical\", \"clerical\", \"clerical\", \"clerk\", \"clerk\", \"click_detail_account\", \"client\", \"client\", \"client\", \"club\", \"club\", \"club\", \"club\", \"club\", \"club\", \"club\", \"club\", \"club\", \"club\", \"co_port_huron\", \"co_port_huron\", \"co_port_huron\", \"co_port_huron\", \"coachella\", \"coachella\", \"coachella\", \"coachella\", \"coachella\", \"coachella\", \"coachella\", \"coachella\", \"coachella\", \"coachella\", \"coffee\", \"coffee\", \"coffee\", \"coffee\", \"coffee\", \"coffee\", \"coffee\", \"coffee\", \"coffee\", \"coffee\", \"cognizant\", \"come\", \"come\", \"come\", \"come\", \"come\", \"come\", \"come\", \"come\", \"come\", \"come\", \"comer\", \"comer\", \"comer\", \"con\", \"con\", \"con\", \"con\", \"con\", \"con\", \"con\", \"con\", \"con\", \"con\", \"concord_nc\", \"consumer\", \"contract\", \"contract\", \"contract\", \"contract\", \"contract\", \"core\", \"corn\", \"corn\", \"corporation\", \"corporation\", \"corporation\", \"corporativo\", \"could_great_fit\", \"could_great_fit\", \"could_great_fit\", \"could_great_fit\", \"could_great_fit\", \"could_great_fit\", \"could_great_fit\", \"could_great_fit\", \"could_great_fit\", \"country_st\", \"country_st\", \"country_st\", \"country_st\", \"county_line\", \"cr\", \"cr\", \"cr\", \"creative_group\", \"credit\", \"credit\", \"crew_member\", \"crew_member\", \"crowe_horwath\", \"customer_service\", \"customer_service\", \"customer_service\", \"customer_service_representative\", \"customer_service_representative\", \"customer_service_representative\", \"customer_service_representative\", \"customer_service_representative\", \"customerservice\", \"customerservice\", \"customerservice\", \"customerservice\", \"customerservice\", \"customerservice\", \"customerservice\", \"customerservice\", \"customerservice\", \"cvs_health\", \"cvs_health\", \"cvs_health_pharmacy_technician\", \"dallas\", \"dallas\", \"dallas\", \"dallas\", \"dallas\", \"dallas\", \"dallas\", \"dallas\", \"dallas_tx_click_detail\", \"database\", \"database\", \"day\", \"day\", \"day\", \"day\", \"day\", \"day\", \"day\", \"day\", \"day\", \"day\", \"daytonabeach_fl\", \"de\", \"de\", \"de\", \"de\", \"de\", \"de\", \"de\", \"de\", \"de\", \"de\", \"delaware_north\", \"delay_mins\", \"delay_mins_traffic\", \"delay_mins_traffic\", \"delivery_driver_part_time\", \"dental\", \"denver_co_could_great\", \"department_manager\", \"dept\", \"desmoines_ia\", \"df\", \"df\", \"df\", \"df\", \"df\", \"df\", \"df\", \"df\", \"df\", \"df\", \"dialysis\", \"dialysis\", \"dialysis\", \"diesel_mechanic_tire_care\", \"diesel_mechanic_tire_care\", \"discover\", \"discovery\", \"dish_machine_operator_ihop\", \"dishwasher\", \"dishwasher\", \"dishwasher\", \"disneyland\", \"disneyland\", \"disneyland\", \"disneyland\", \"disneyland\", \"disneyland\", \"disneyland\", \"dog\", \"dog\", \"dog\", \"dog\", \"dog\", \"dog\", \"dog\", \"dog\", \"dog\", \"dog\", \"dont\", \"dont\", \"dont\", \"dont\", \"dont\", \"dressbarn\", \"drink\", \"drink\", \"drink\", \"drink\", \"drink\", \"drink\", \"drink\", \"drink\", \"drink\", \"drink\", \"drivers\", \"edificio\", \"edificio\", \"el\", \"el\", \"el\", \"el\", \"el\", \"el\", \"el\", \"el\", \"el\", \"el\", \"elementary\", \"elementary\", \"elementary\", \"elpaso_tx\", \"elpaso_tx\", \"emergency_department\", \"emerson_electric_co\", \"en\", \"en\", \"en\", \"en\", \"en\", \"en\", \"en\", \"en\", \"en\", \"en\", \"engineer\", \"engineer\", \"engineer\", \"engineer\", \"engineer\", \"engineer\", \"engineer\", \"engineer\", \"engineer\", \"englewood_co\", \"entrepreneur\", \"entry_level\", \"entry_level\", \"ericsson\", \"es\", \"es\", \"es\", \"es\", \"es\", \"es\", \"es\", \"es\", \"es\", \"es\", \"even\", \"even\", \"even\", \"even\", \"even\", \"even\", \"even\", \"even\", \"even\", \"even\", \"excuse\", \"excuse\", \"excuse\", \"executive\", \"executive\", \"exit\", \"exit\", \"exit\", \"exit\", \"exit\", \"exit\", \"exit\", \"exit\", \"exit\", \"exit\", \"familypractice\", \"far\", \"far\", \"far\", \"far\", \"far\", \"far\", \"far\", \"far\", \"favorite_health_care_staff\", \"favorite_health_care_staff\", \"favorite_health_care_staff\", \"favorite_health_care_staff\", \"favorite_health_care_staff\", \"favorite_health_care_staff\", \"favorite_health_care_staff\", \"favorite_health_care_staff\", \"federal\", \"federal\", \"federal\", \"federal\", \"federal\", \"federal\", \"federal\", \"federal\", \"feel\", \"feel\", \"feel\", \"feel\", \"feel\", \"feel\", \"feel\", \"feel\", \"feel\", \"feel\", \"feel_humidity_wind_mph\", \"feel_humidity_wind_mph\", \"feel_humidity_wind_mph\", \"feel_humidity_wind_mph\", \"feel_humidity_wind_mph\", \"feel_humidity_wind_mph\", \"feel_humidity_wind_mph\", \"feel_humidity_wind_mph\", \"field\", \"field\", \"field\", \"field\", \"field\", \"field\", \"field\", \"final\", \"final\", \"final\", \"final\", \"final\", \"final\", \"final\", \"final\", \"final\", \"finance\", \"finance\", \"finance\", \"finance\", \"finance\", \"finance\", \"finance\", \"finance\", \"find\", \"find\", \"find\", \"find\", \"find\", \"find\", \"find\", \"find\", \"find\", \"find\", \"findlay_oh\", \"first\", \"first\", \"first\", \"first\", \"first\", \"first\", \"first\", \"first\", \"first\", \"first\", \"fiserv\", \"fit\", \"fit\", \"fit\", \"fit\", \"fit\", \"fit\", \"fit\", \"fit\", \"fit\", \"fit\", \"fitness\", \"fitness\", \"fitness\", \"fitness\", \"fitness\", \"fitness\", \"fitness\", \"fitness\", \"fitness\", \"fl\", \"fl\", \"fl\", \"fl\", \"fl\", \"fl\", \"fl\", \"fl\", \"fl\", \"fl\", \"flame\", \"flexible\", \"flip\", \"flip\", \"float\", \"florence_sc\", \"florida\", \"florida\", \"florida\", \"florida\", \"florida\", \"florida\", \"florida\", \"florida\", \"florida\", \"florida\", \"flush_ny\", \"fm_global\", \"food\", \"food\", \"food\", \"food\", \"food\", \"food\", \"food\", \"food\", \"food\", \"food\", \"food_service\", \"fork\", \"fox\", \"fox\", \"fox\", \"fox\", \"fox\", \"fox\", \"fox\", \"fr\", \"full_time\", \"full_time\", \"full_time\", \"full_time\", \"full_time\", \"full_time\", \"full_time\", \"full_time_home_health\", \"fun\", \"fun\", \"fun\", \"fun\", \"fun\", \"fun\", \"fun\", \"fun\", \"fun\", \"fun\", \"game\", \"game\", \"game\", \"game\", \"game\", \"game\", \"game\", \"game\", \"game\", \"game\", \"general_manager_train\", \"genuine_part_napa\", \"genuine_part_napa\", \"genuine_part_napa\", \"get\", \"get\", \"get\", \"get\", \"get\", \"get\", \"get\", \"get\", \"get\", \"get\", \"gilbert_az\", \"gilbert_az\", \"glenburnie_md\", \"glendale_ca\", \"go\", \"go\", \"go\", \"go\", \"go\", \"go\", \"go\", \"go\", \"go\", \"go\", \"gonna\", \"gonna\", \"gonna\", \"gonna\", \"gonna\", \"gonna\", \"gonna\", \"gonna\", \"gonna\", \"good\", \"good\", \"good\", \"good\", \"good\", \"good\", \"good\", \"good\", \"good\", \"good\", \"graphic_designer\", \"great\", \"great\", \"great\", \"great\", \"great\", \"great\", \"great\", \"great\", \"great\", \"great\", \"great_clip\", \"greensboro_nc\", \"greensboro_nc\", \"greenville\", \"greenwich_ct\", \"greenwood\", \"greenwood\", \"growth\", \"guest_service_representative\", \"gust_mph_pressure_mb\", \"gust_mph_pressure_mb\", \"gust_mph_pressure_mb\", \"gust_mph_pressure_mb\", \"gust_mph_pressure_mb\", \"gust_mph_pressure_mb\", \"gust_mph_pressure_mb\", \"gust_mph_pressure_mb\", \"gymtime\", \"hair\", \"hair\", \"hair\", \"hair\", \"hair\", \"hair\", \"hair\", \"hair\", \"hair\", \"hair\", \"hair_cuttery_salon\", \"hair_stylist_great_clip\", \"hall\", \"hall\", \"hall\", \"hall\", \"hall\", \"hall\", \"hall\", \"hall\", \"hall\", \"happy_friday\", \"happy_friday\", \"happy_friday\", \"happy_friday\", \"happy_friday\", \"happy_friday\", \"happy_friday\", \"happy_friday\", \"happy_friday\", \"happy_friday\", \"happy_hour\", \"happy_hour\", \"happy_hour\", \"happy_hour\", \"happy_hour\", \"happy_hour\", \"happy_hour\", \"happy_hour\", \"hardware\", \"hardware\", \"hardware\", \"healthcare\", \"healthcare\", \"healthcare\", \"healthcare\", \"healthcare\", \"healthcare\", \"healthcare\", \"healthcare\", \"healthcare\", \"healthcare\", \"heritage\", \"high_pm\", \"high_pm\", \"high_pm\", \"high_pm\", \"high_pm\", \"high_point\", \"hire\", \"hire\", \"hire\", \"hire\", \"hire\", \"hire\", \"hire\", \"hire\", \"hire\", \"hire\", \"hire_click_apply\", \"hire_click_apply\", \"hire_click_apply\", \"hire_click_apply\", \"hire_click_apply\", \"hire_click_apply\", \"hire_click_apply\", \"hire_click_apply\", \"hire_click_apply\", \"hire_click_apply\", \"hjr_engross\", \"ho\", \"home\", \"home\", \"home\", \"home\", \"home\", \"home\", \"home\", \"home\", \"home\", \"home\", \"home_health\", \"home_health\", \"home_health\", \"hoppy\", \"hoppy\", \"hoppy\", \"hoppy\", \"hospitalist\", \"hospitality\", \"hospitality\", \"hospitality\", \"hospitality\", \"hospitality\", \"hospitality\", \"hospitality\", \"hospitality\", \"hospitality\", \"hospitality\", \"hotel\", \"hotel\", \"hotel\", \"hotel\", \"hotel\", \"hotel\", \"hotel\", \"hotel\", \"hotel\", \"hotel\", \"hourly\", \"house\", \"house\", \"house\", \"house\", \"house\", \"house\", \"house\", \"house\", \"house\", \"house\", \"house_counsel\", \"housekeeper\", \"housekeeper\", \"houston\", \"houston\", \"houston\", \"houston\", \"houston\", \"houston\", \"houston\", \"houston\", \"houston\", \"houston\", \"houston_tx_click_detail\", \"huntersville_nc\", \"huntsville_al\", \"ideas\", \"immediate\", \"inspector\", \"inspector\", \"instituto\", \"interchange\", \"interest\", \"interest\", \"interest\", \"interest\", \"interest\", \"interest\", \"interest\", \"interest\", \"interest\", \"interest\", \"interpreter_bilingual\", \"items\", \"items\", \"ithaca\", \"jdhuntr\", \"jfk\", \"jfk_queen_ny\", \"job\", \"job\", \"job\", \"job\", \"job\", \"job\", \"job\", \"job\", \"job\", \"job\", \"job_click_apply\", \"job_click_apply\", \"job_click_apply\", \"job_click_apply\", \"job_click_apply\", \"job_click_apply\", \"job_click_apply\", \"job_click_apply\", \"job_click_apply\", \"job_click_apply\", \"join\", \"join\", \"join\", \"join\", \"join\", \"join\", \"join\", \"join\", \"join\", \"join\", \"jones\", \"jones\", \"jones\", \"jones\", \"jueves\", \"kc\", \"kc\", \"kelly_service\", \"kellyjobs\", \"kellyjobs_kellyservices\", \"kellyjobs_kellyservices\", \"kellyjobs_kellyservices\", \"kellyjobs_kellyservices\", \"kellyjobs_kellyservices\", \"kellymitchell_group\", \"kellymitchell_group\", \"kellymitchell_group\", \"kennesaw_ga\", \"kindred_healthcare\", \"kissimmee_fl\", \"kissimmee_fl\", \"kissimmee_fl\", \"know\", \"know\", \"know\", \"know\", \"know\", \"know\", \"know\", \"know\", \"know\", \"know\", \"knoxville\", \"knoxville_tn\", \"knoxville_tn\", \"knoxville_tn\", \"knoxville_tn\", \"kobe_bryant\", \"la\", \"la\", \"la\", \"la\", \"la\", \"la\", \"la\", \"la\", \"la\", \"la\", \"laboratory\", \"lakers\", \"lakewood_co\", \"languageline_solutions\", \"las\", \"las\", \"las\", \"las\", \"las\", \"las\", \"las\", \"las\", \"las\", \"las\", \"lash\", \"lash\", \"lash\", \"last\", \"last\", \"last\", \"last\", \"last\", \"last\", \"last\", \"last\", \"last\", \"last\", \"latest\", \"latest\", \"latest\", \"latest\", \"latest\", \"latest\", \"latest\", \"latest\", \"latest\", \"latest\", \"latte\", \"lego\", \"lehighton_pa\", \"let\", \"let\", \"let\", \"let\", \"let\", \"let\", \"let\", \"let\", \"let\", \"let\", \"lexington\", \"lexington\", \"lexington\", \"lexington\", \"license_vocational\", \"life\", \"life\", \"life\", \"life\", \"life\", \"life\", \"life\", \"life\", \"life\", \"life\", \"light\", \"light\", \"light\", \"light\", \"light\", \"light\", \"light\", \"light\", \"light\", \"light\", \"like\", \"like\", \"like\", \"like\", \"like\", \"like\", \"like\", \"like\", \"like\", \"like\", \"link_bio\", \"link_bio\", \"link_bio\", \"little\", \"little\", \"little\", \"little\", \"little\", \"little\", \"little\", \"little\", \"little\", \"little\", \"littleton_co\", \"live\", \"live\", \"live\", \"live\", \"live\", \"live\", \"live\", \"live\", \"live\", \"live\", \"livonia_mi\", \"lol\", \"lol\", \"lol\", \"lol\", \"lol\", \"lol\", \"lol\", \"lol\", \"lol\", \"lol\", \"long_island\", \"long_island\", \"long_island\", \"long_island\", \"look\", \"look\", \"look\", \"look\", \"look\", \"look\", \"look\", \"look\", \"look\", \"look\", \"los\", \"los\", \"los\", \"los\", \"los\", \"los\", \"los\", \"los\", \"los\", \"los\", \"los_angeles\", \"los_angeles\", \"los_angeles\", \"los_angeles\", \"los_angeles\", \"los_angeles\", \"los_angeles\", \"los_angeles\", \"los_angeles\", \"los_angeles\", \"los_angeles_international_airport\", \"los_angeles_international_airport\", \"los_angeles_international_airport\", \"los_angeles_international_airport\", \"los_angeles_international_airport\", \"losangeles_ca\", \"losangeles_ca\", \"losangeles_ca\", \"losangeles_ca\", \"losangeles_ca\", \"losangeles_ca\", \"love\", \"love\", \"love\", \"love\", \"love\", \"love\", \"love\", \"love\", \"love\", \"love\", \"lunch\", \"lunch\", \"lunch\", \"lunch\", \"lunch\", \"lunch\", \"lunch\", \"lunch\", \"lunch\", \"luncheon\", \"machine_operator\", \"machine_operator\", \"machine_operator\", \"macy\", \"macy\", \"macy\", \"macy\", \"macy_beauty\", \"maggiano\", \"main_st\", \"main_st\", \"main_st\", \"main_st\", \"maintenance_technician_tire_care\", \"make\", \"make\", \"make\", \"make\", \"make\", \"make\", \"make\", \"make\", \"make\", \"make\", \"malecon\", \"mambaday\", \"manager\", \"manager\", \"manager\", \"manager\", \"manager\", \"manager\", \"manager\", \"manager\", \"manager\", \"manager\", \"manager_trainee\", \"manager_trainee\", \"mandarin_oriental_hotel\", \"manhattan_new_york\", \"mansfield_oh\", \"manufacture\", \"manufacture\", \"manufacture\", \"manufacture\", \"manufacture\", \"manufacture\", \"manufacture\", \"manufacture\", \"manufacture\", \"manufacture\", \"marlborough\", \"mart\", \"mas\", \"mas\", \"mas\", \"mas\", \"mas\", \"mas\", \"mas\", \"mas\", \"mas\", \"mas\", \"material_handler\", \"may\", \"may\", \"may\", \"may\", \"may\", \"may\", \"may\", \"may\", \"may\", \"may\", \"mcdonalds\", \"mean\", \"mean\", \"mean\", \"mean\", \"mean\", \"mean\", \"mean\", \"mean\", \"mean\", \"mean\", \"mechanic\", \"med_surg\", \"med_surg\", \"med_surg\", \"medford\", \"medical_surgical\", \"meet\", \"meet\", \"meet\", \"meet\", \"meet\", \"meet\", \"meet\", \"meet\", \"meet\", \"meet\", \"member\", \"member\", \"member\", \"mental_health\", \"mention\", \"metrobus\", \"mexican_grill\", \"mexico\", \"mexico\", \"mexico\", \"mexico\", \"mexico\", \"mexico\", \"mexico\", \"mexico\", \"mexico\", \"mexico\", \"mexico_city\", \"mexico_city\", \"mexico_city\", \"mexico_city\", \"mexico_city\", \"mexico_city\", \"mexico_city\", \"mexico_city\", \"mexico_city\", \"mexico_city\", \"mexico_df\", \"mexico_df\", \"mexico_df\", \"mexico_df\", \"mexico_df\", \"mexico_df\", \"mexico_df\", \"mexico_df\", \"mexico_df\", \"mexico_df\", \"mi\", \"mi\", \"mi\", \"mi\", \"mi\", \"mi\", \"mi\", \"mi\", \"mi\", \"mi\", \"miami\", \"miami\", \"miami\", \"miami\", \"miami\", \"miami\", \"miami\", \"miami\", \"miami\", \"miami\", \"miami_beach\", \"miami_beach\", \"miami_beach\", \"miami_beach\", \"miami_beach\", \"miami_beach\", \"miami_beach\", \"miami_beach\", \"miami_beach\", \"might_great_fit\", \"might_great_fit\", \"might_great_fit\", \"might_great_fit\", \"might_great_fit\", \"might_great_fit\", \"might_great_fit\", \"might_great_fit\", \"might_great_fit\", \"might_great_fit\", \"milwaukee\", \"milwaukee\", \"milwaukee\", \"milwaukee\", \"mint\", \"miss\", \"miss\", \"miss\", \"miss\", \"miss\", \"miss\", \"miss\", \"miss\", \"miss\", \"miss\", \"mm\", \"mm\", \"mm\", \"mm\", \"mm\", \"mm\", \"monitor\", \"montgomery_al\", \"montgomery_al\", \"move_meter_bear\", \"move_meter_bear\", \"move_meter_bear\", \"move_meter_bear\", \"move_meter_bear\", \"move_meter_bear\", \"much\", \"much\", \"much\", \"much\", \"much\", \"much\", \"much\", \"much\", \"much\", \"much\", \"multi\", \"nail\", \"nail\", \"nail\", \"nail\", \"nail\", \"natick\", \"nb\", \"nb\", \"nb\", \"nb\", \"nb\", \"nb\", \"nb\", \"nb\", \"nb\", \"near\", \"near\", \"near\", \"near\", \"near\", \"near\", \"near\", \"near\", \"near\", \"near\", \"need\", \"need\", \"need\", \"need\", \"need\", \"need\", \"need\", \"need\", \"need\", \"need\", \"nettempsjobs\", \"network_engineer\", \"neurology\", \"never\", \"never\", \"never\", \"never\", \"never\", \"never\", \"never\", \"never\", \"never\", \"never\", \"new\", \"new\", \"new\", \"new\", \"new\", \"new\", \"new\", \"new\", \"new\", \"new\", \"new_york\", \"new_york\", \"new_york\", \"new_york\", \"new_york\", \"new_york\", \"new_york\", \"new_york\", \"new_york\", \"new_york\", \"new_york_ny\", \"new_york_ny\", \"new_york_ny\", \"new_york_ny\", \"new_york_ny\", \"new_york_ny\", \"new_york_ny\", \"new_york_ny\", \"new_york_ny\", \"new_york_ny\", \"newalbany\", \"newell_rubbermaid\", \"newhaven_ct\", \"niagara_fall\", \"niagara_fall\", \"niagara_fall\", \"niagara_fall\", \"night\", \"night\", \"night\", \"night\", \"night\", \"night\", \"night\", \"night\", \"night\", \"night\", \"nj\", \"nj\", \"nj\", \"nj\", \"nj\", \"nj\", \"nj\", \"nj\", \"nj\", \"nj\", \"nordstrom\", \"nordstrom\", \"nordstrom\", \"norfolk_va\", \"north_exit\", \"north_exit\", \"nowplaying_thumb_coast_brew\", \"nowplaying_thumb_coast_brew\", \"nowplaying_thumb_coast_brew\", \"nowplaying_thumb_coast_brew\", \"nowplaying_thumb_coast_brew\", \"nurse\", \"nurse\", \"nurse\", \"nurse\", \"nurse\", \"nurse\", \"nurse\", \"nurse\", \"nurse\", \"nurse\", \"ny\", \"ny\", \"ny\", \"ny\", \"ny\", \"ny\", \"ny\", \"ny\", \"ny\", \"ny\", \"occupational_therapist\", \"office_depot\", \"ohiohealth\", \"omaha\", \"one\", \"one\", \"one\", \"one\", \"one\", \"one\", \"one\", \"one\", \"one\", \"one\", \"onebostonday\", \"open\", \"open\", \"open\", \"open\", \"open\", \"open\", \"open\", \"open\", \"open\", \"open\", \"oracle\", \"oracle\", \"oracle\", \"oracle\", \"otr\", \"outpatient\", \"oyster\", \"oyster\", \"oyster\", \"package\", \"package\", \"package\", \"palm_beach\", \"palm_beach\", \"palm_beach\", \"palm_beach\", \"palm_spring\", \"palm_spring\", \"palm_spring\", \"palm_spring\", \"paloalto_ca\", \"paloalto_ca_hire\", \"panera_bread\", \"panerabread\", \"para\", \"para\", \"para\", \"para\", \"para\", \"para\", \"para\", \"para\", \"para\", \"para\", \"paramount\", \"park\", \"park\", \"park\", \"park\", \"park\", \"park\", \"park\", \"park\", \"park\", \"park\", \"part_delivery\", \"part_delivery_reilly_auto\", \"part_time_opportunities\", \"part_time_opportunities_mcdonald\", \"parttime\", \"party\", \"party\", \"party\", \"party\", \"party\", \"party\", \"party\", \"party\", \"party\", \"party\", \"patient\", \"patient\", \"patient\", \"patient\", \"patient\", \"patient\", \"patriot\", \"penske_truck_lease\", \"people\", \"people\", \"people\", \"people\", \"people\", \"people\", \"people\", \"people\", \"people\", \"people\", \"per_diem\", \"per_diem\", \"per_diem\", \"per_diem\", \"per_diem\", \"per_diem\", \"per_diem\", \"perfectly\", \"person\", \"person\", \"person\", \"person\", \"person\", \"person\", \"person\", \"person\", \"person\", \"philadelphia_pennsylvania\", \"philadelphia_pennsylvania\", \"philadelphia_pennsylvania\", \"photo\", \"photo\", \"photo\", \"photo\", \"photo\", \"photo\", \"photo\", \"photo\", \"photo\", \"photo\", \"pick\", \"pick\", \"pick\", \"pick\", \"pick\", \"pick\", \"pick\", \"pick\", \"pick\", \"pierce\", \"pierce\", \"pierce\", \"pierce\", \"pizza\", \"pizza\", \"pizza\", \"pizza\", \"pizza\", \"pizza\", \"pizza\", \"pizza\", \"pizza\", \"pizza\", \"plainfield\", \"plano_tx\", \"plano_tx\", \"plano_tx\", \"plano_tx\", \"plantation_fl\", \"play\", \"play\", \"play\", \"play\", \"play\", \"play\", \"play\", \"play\", \"play\", \"play\", \"pm\", \"pm\", \"pm\", \"pm\", \"pm\", \"pm\", \"pm\", \"pm\", \"pm\", \"pm\", \"police\", \"police\", \"police\", \"police\", \"police\", \"police\", \"police\", \"police\", \"por\", \"por\", \"por\", \"por\", \"por\", \"por\", \"por\", \"por\", \"por\", \"por\", \"post_office\", \"post_photo\", \"post_photo\", \"post_photo\", \"post_photo\", \"post_photo\", \"post_photo\", \"post_photo\", \"post_photo\", \"post_photo\", \"post_photo\", \"post_video\", \"post_video\", \"post_video\", \"post_video\", \"post_video\", \"post_video\", \"post_video\", \"post_video\", \"post_video\", \"pra\", \"principal_sales_consultant\", \"processor\", \"production_associate\", \"professional\", \"professional\", \"professional\", \"professional\", \"professional\", \"professional\", \"professional\", \"professional\", \"professional\", \"professional\", \"programmer\", \"projectmgmt\", \"projectmgmt\", \"prologistix\", \"property\", \"property\", \"property\", \"property\", \"protein\", \"protein\", \"public_library\", \"pueblo_co\", \"quality_control\", \"quality_engineer\", \"que\", \"que\", \"que\", \"que\", \"que\", \"que\", \"que\", \"que\", \"que\", \"que\", \"rain_today_humidity\", \"rain_today_humidity\", \"rain_today_humidity\", \"rain_today_humidity\", \"rain_today_humidity\", \"rain_today_humidity\", \"rain_today_humidity\", \"rain_today_humidity\", \"rain_today_humidity\", \"rain_today_humidity\", \"ramp\", \"ramp\", \"ramp\", \"rate\", \"rd\", \"rd\", \"rd\", \"rd\", \"rd\", \"rd\", \"rd\", \"rd\", \"rd\", \"rd\", \"rd_delay\", \"rd_traffic\", \"rd_traffic\", \"rd_traffic\", \"rd_traffic\", \"read_latest_job\", \"read_latest_job\", \"read_latest_job\", \"read_latest_job\", \"read_latest_job\", \"read_latest_job\", \"read_latest_job\", \"read_latest_job\", \"read_latest_job\", \"ready\", \"ready\", \"ready\", \"ready\", \"ready\", \"ready\", \"ready\", \"ready\", \"ready\", \"ready\", \"realestate\", \"realestate\", \"realestate\", \"realestate\", \"realestate\", \"realestate\", \"realestate\", \"realestate\", \"realestate\", \"realestate\", \"realestate_realtor\", \"realestate_realtor\", \"realestate_realtor\", \"realestate_realtor\", \"recommend_anyone\", \"recommend_anyone_account\", \"recommend_anyone_account\", \"recommend_anyone_businessmgmt\", \"recommend_anyone_businessmgmt\", \"recommend_anyone_engineer\", \"recommend_anyone_engineer\", \"recommend_anyone_engineer\", \"recommend_anyone_hospitality\", \"recommend_anyone_hospitality\", \"recommend_anyone_hospitality\", \"recommend_anyone_hospitality\", \"recommend_anyone_hospitality\", \"recommend_anyone_job\", \"recommend_anyone_job\", \"recommend_anyone_job\", \"recommend_anyone_job\", \"recommend_anyone_job\", \"recommend_anyone_job\", \"recommend_anyone_job\", \"recommend_anyone_job\", \"recommend_anyone_job\", \"recommend_anyone_job\", \"recommend_anyone_manufacture\", \"recommend_anyone_manufacture\", \"recommend_anyone_manufacture\", \"recommend_anyone_market\", \"recommend_anyone_retail\", \"recommend_anyone_retail\", \"recommend_anyone_retail\", \"recommend_anyone_retail\", \"recommend_anyone_retail\", \"recommend_anyone_retail\", \"recommend_anyone_retail\", \"recovery\", \"recovery\", \"recovery\", \"recruiter\", \"regional_medical_center\", \"regions_bank\", \"regions_bank\", \"register_nurse\", \"register_nurse\", \"register_nurse\", \"register_nurse\", \"register_nurse\", \"register_nurse\", \"register_nurse\", \"register_nurse\", \"register_nurse\", \"register_nurse_rn\", \"register_nurse_rn\", \"register_nurse_rn\", \"register_nurse_rn\", \"register_nurse_rn\", \"register_nurse_rn\", \"register_nurse_rn\", \"register_nurse_rn\", \"register_nurse_rn\", \"register_nurse_rn\", \"register_nurse_travel\", \"repost\", \"repost\", \"repost\", \"repost\", \"repost\", \"repost\", \"repost\", \"repost\", \"repost\", \"repost\", \"repostapp\", \"repostapp\", \"repostapp\", \"repostapp\", \"repostapp\", \"repostapp\", \"repostapp\", \"repostapp\", \"repostapp\", \"response\", \"restaurant\", \"restaurant\", \"restaurant\", \"restaurant\", \"restaurant\", \"restaurant\", \"restaurant\", \"restaurant\", \"restaurant\", \"restaurant\", \"retail\", \"retail\", \"retail\", \"retail\", \"retail\", \"retail\", \"retail\", \"retail\", \"retail\", \"retail\", \"retail_store_position\", \"retail_store_position\", \"retail_store_position\", \"rig\", \"right\", \"right\", \"right\", \"right\", \"right\", \"right\", \"right\", \"right\", \"right\", \"right\", \"right_lane\", \"risk\", \"rn\", \"rn\", \"rn\", \"rn\", \"rn\", \"rn\", \"rn\", \"rn\", \"rn\", \"rn\", \"rn_case\", \"road\", \"road\", \"road\", \"road\", \"road\", \"road\", \"road\", \"road\", \"road\", \"road\", \"road_cr\", \"robert_half_finance\", \"robert_half_technology\", \"rockville_md\", \"rockville_md\", \"roseville_ca\", \"rt\", \"rt\", \"rt\", \"rt\", \"rt\", \"rt\", \"rt\", \"rt\", \"run\", \"run\", \"run\", \"run\", \"run\", \"run\", \"run\", \"run\", \"run\", \"run\", \"safety\", \"safety\", \"safety\", \"saint_petersburg_fl\", \"sales\", \"sales\", \"sales\", \"sales\", \"sales\", \"sales\", \"sales\", \"sales\", \"sales\", \"sales\", \"sales_reilly_auto\", \"sales_speedway\", \"saltlakecity_ut\", \"san\", \"san\", \"san\", \"san\", \"san\", \"san\", \"san\", \"san\", \"san\", \"san\", \"san_diego_ca\", \"san_diego_ca\", \"san_diego_ca\", \"san_diego_ca\", \"san_diego_ca\", \"san_diego_ca\", \"san_diego_ca\", \"san_francisco_ca\", \"san_francisco_ca\", \"san_francisco_ca\", \"san_francisco_ca\", \"san_francisco_ca\", \"san_francisco_ca\", \"san_francisco_ca\", \"san_francisco_ca\", \"san_francisco_ca\", \"san_francisco_ca\", \"sanfrancisco_ca_could_great\", \"santabarbara_ca\", \"santaclara_ca_hire\", \"santamonica_ca\", \"santander\", \"sarasota_fl\", \"sarasota_fl\", \"sarasota_fl\", \"sarasota_fl\", \"say\", \"say\", \"say\", \"say\", \"say\", \"say\", \"say\", \"say\", \"say\", \"say\", \"sb\", \"sb\", \"sb\", \"sb\", \"sb\", \"sb\", \"sb\", \"sb\", \"scientific\", \"se\", \"se\", \"se\", \"se\", \"se\", \"se\", \"se\", \"se\", \"se\", \"se\", \"secretary\", \"security_analyst\", \"see\", \"see\", \"see\", \"see\", \"see\", \"see\", \"see\", \"see\", \"see\", \"see\", \"senior_accountant\", \"service\", \"service\", \"service\", \"service\", \"service\", \"service\", \"service\", \"service\", \"service\", \"service\", \"seven\", \"seven\", \"seven\", \"seven\", \"shakeshack\", \"sheridan\", \"shift_supervisor\", \"shift_supervisor\", \"shift_supervisor_trainee\", \"shift_supervisor_us\", \"shift_supervisor_us_starbucks\", \"shift_team_leader\", \"shift_team_leader\", \"shift_team_leader\", \"shoot\", \"shoot\", \"shoot\", \"shoot\", \"shoot\", \"shoot\", \"shoot\", \"shoot\", \"shoot\", \"shoot\", \"shop\", \"shop\", \"shop\", \"shop\", \"shop\", \"shop\", \"shop\", \"shop\", \"shop\", \"shop\", \"show\", \"show\", \"show\", \"show\", \"show\", \"show\", \"show\", \"show\", \"show\", \"show\", \"shreveport_la\", \"shreveport_la\", \"shreveport_la\", \"sign\", \"sign\", \"sign\", \"sign\", \"sign\", \"sign\", \"sign\", \"sign\", \"slowly_temperature_rain_today\", \"slowly_temperature_rain_today\", \"slowly_temperature_rain_today\", \"slowly_temperature_rain_today\", \"slowly_temperature_rain_today\", \"slowly_temperature_rain_today\", \"slowly_temperature_rain_today\", \"sneak_peek\", \"software_developer\", \"solutions\", \"sonic\", \"sonic\", \"sonic\", \"sonic\", \"sonic\", \"sous_chef\", \"south\", \"south\", \"south\", \"south\", \"south\", \"south\", \"south\", \"south\", \"south\", \"south\", \"southfield_mi\", \"spartanburg_sc\", \"specials\", \"springfield_il\", \"st\", \"st\", \"st\", \"st\", \"st\", \"st\", \"st\", \"st\", \"st\", \"st\", \"staff\", \"staff\", \"staff\", \"staff\", \"staff\", \"staff\", \"staff\", \"staff\", \"staff_accountant\", \"starbucks\", \"starbucks\", \"starbucks\", \"starbucks\", \"starbucks\", \"starbucks\", \"starbucks\", \"starbucks\", \"starbucks\", \"start\", \"start\", \"start\", \"start\", \"start\", \"start\", \"start\", \"start\", \"start\", \"start\", \"state_line\", \"state_line\", \"state_line\", \"station\", \"station\", \"station\", \"station\", \"station\", \"station\", \"station\", \"station\", \"station\", \"station\", \"steam\", \"stockton_ca\", \"stop_go\", \"store_counter\", \"store_counter\", \"store_position\", \"strategy\", \"studio\", \"studio\", \"studio\", \"studio\", \"studio\", \"studio\", \"studio\", \"studio\", \"sueno\", \"sueno\", \"sueno\", \"summer\", \"summer\", \"summer\", \"summer\", \"summer\", \"summer\", \"summer\", \"summer\", \"summer\", \"summit\", \"summit\", \"summit\", \"summit\", \"support\", \"support\", \"support\", \"support\", \"support\", \"support\", \"support\", \"support\", \"support\", \"support\", \"surgeon\", \"systems_administrator\", \"take\", \"take\", \"take\", \"take\", \"take\", \"take\", \"take\", \"take\", \"take\", \"take\", \"tan\", \"tan\", \"tan\", \"tan\", \"tan\", \"tan\", \"tan\", \"tan\", \"tattoo\", \"tattoo\", \"tattoo\", \"tattoo\", \"tattoo\", \"tattoo\", \"tattoo\", \"tattoo\", \"tattoo\", \"tavern\", \"tavern\", \"tavern\", \"tavern\", \"tavern\", \"tavern\", \"tavern\", \"tavern\", \"tavern\", \"tavern\", \"tbt\", \"tbt\", \"tbt\", \"tbt\", \"tbt\", \"td_bank_canada\", \"teacher\", \"teacher\", \"teacher\", \"teacher\", \"team_member\", \"team_see_latest\", \"team_see_latest\", \"team_see_latest\", \"team_see_latest\", \"team_see_latest\", \"team_see_latest\", \"team_see_latest\", \"team_see_latest\", \"team_see_latest\", \"team_see_latest\", \"teamhealth\", \"technical\", \"technical\", \"technical\", \"technical\", \"teller\", \"teller\", \"teller\", \"tempe_az\", \"tempe_az\", \"tempe_az\", \"tempe_az\", \"tempe_az\", \"tempe_az\", \"th_ave\", \"th_ave\", \"th_ave\", \"th_ave\", \"th_ave\", \"th_grade\", \"th_st\", \"th_st\", \"th_st\", \"th_st\", \"th_st\", \"th_st\", \"th_st\", \"thank\", \"thank\", \"thank\", \"thank\", \"thank\", \"thank\", \"thank\", \"thank\", \"thank\", \"thank\", \"think\", \"think\", \"think\", \"think\", \"think\", \"think\", \"think\", \"think\", \"think\", \"think\", \"throw_back\", \"throw_back\", \"throwback\", \"throwback\", \"throwback\", \"throwback\", \"throwback\", \"throwback\", \"throwback\", \"time\", \"time\", \"time\", \"time\", \"time\", \"time\", \"time\", \"time\", \"time\", \"time\", \"today\", \"today\", \"today\", \"today\", \"today\", \"today\", \"today\", \"today\", \"today\", \"today\", \"todo\", \"todo\", \"todo\", \"todo\", \"todo\", \"todo\", \"todo\", \"todo\", \"todo\", \"tone\", \"tonight\", \"tonight\", \"tonight\", \"tonight\", \"tonight\", \"tonight\", \"tonight\", \"tonight\", \"tonight\", \"tonight\", \"toronto\", \"toronto\", \"toronto\", \"toronto\", \"toronto\", \"toronto\", \"toronto\", \"toronto\", \"toronto\", \"toronto\", \"toronto_ontario\", \"toronto_ontario\", \"toronto_ontario\", \"toronto_ontario\", \"toronto_ontario\", \"toronto_ontario\", \"toronto_ontario\", \"toronto_ontario\", \"toronto_ontario\", \"torrance_ca\", \"torrance_ca\", \"torrance_ca\", \"traffic\", \"traffic\", \"traffic\", \"traffic\", \"traffic\", \"traffic\", \"traffic\", \"traffic\", \"traffic\", \"traffic\", \"traffic_area\", \"trainee\", \"trainee\", \"trainer\", \"transportation\", \"transportation\", \"transportation\", \"transportation\", \"transportation\", \"transportation\", \"transportation\", \"transportation\", \"transportation\", \"travel_stop\", \"travel_stop\", \"travel_stop\", \"travel_stop\", \"travelnurse_nurse\", \"travelnurse_nurse\", \"tribeca\", \"tribeca\", \"tribeca\", \"tribeca\", \"tribeca\", \"truck_driver_class\", \"trump\", \"trump\", \"trump\", \"trump\", \"trump\", \"trump\", \"trump\", \"tune\", \"tune\", \"tune\", \"tune\", \"tune\", \"tune\", \"tx_bed_bath\", \"ufc\", \"un\", \"un\", \"un\", \"un\", \"un\", \"un\", \"un\", \"un\", \"un\", \"universidad\", \"universidad\", \"universidad\", \"university\", \"university\", \"university\", \"university\", \"university\", \"university\", \"university\", \"university\", \"university\", \"university\", \"upcoming\", \"upcoming\", \"update_construction\", \"update_construction\", \"update_construction\", \"update_construction\", \"update_construction\", \"urgent_care\", \"us\", \"us\", \"us\", \"us\", \"us\", \"us\", \"us\", \"us\", \"us\", \"us\", \"varioususcities_us\", \"verizon_tcc_sales_consultant\", \"veterans\", \"veterans\", \"veterans\", \"veterans\", \"veterans\", \"veterans\", \"veterans\", \"veterans\", \"veterans\", \"veterans\", \"view_latest\", \"view_latest\", \"view_latest\", \"view_latest\", \"view_latest\", \"view_latest\", \"view_latest\", \"view_latest\", \"view_latest\", \"view_latest\", \"vol\", \"volver\", \"vote\", \"vote\", \"vote\", \"vote\", \"vp\", \"waltham\", \"want\", \"want\", \"want\", \"want\", \"want\", \"want\", \"want\", \"want\", \"want\", \"want\", \"want_work\", \"want_work\", \"want_work\", \"want_work\", \"want_work\", \"want_work\", \"want_work\", \"want_work\", \"want_work\", \"want_work\", \"want_work_aerotek\", \"want_work_robert_half\", \"want_work_starbucks\", \"want_work_supplemental_health\", \"want_work_supplemental_health\", \"want_work_supplemental_health\", \"ward\", \"warehouse\", \"warehouse\", \"warehouse\", \"warehouse\", \"warehouse\", \"warehouse\", \"warehouse_associate\", \"warehouse_associate\", \"washington_district_columbia\", \"washington_district_columbia\", \"washington_district_columbia\", \"washington_district_columbia\", \"washington_district_columbia\", \"washington_district_columbia\", \"washington_square\", \"wawa\", \"wawa\", \"wawa\", \"wawa\", \"wawa\", \"way\", \"way\", \"way\", \"way\", \"way\", \"way\", \"way\", \"way\", \"way\", \"way\", \"wb\", \"wb\", \"wb\", \"wb\", \"wb\", \"wb\", \"wb\", \"wb\", \"wb_exit\", \"weather\", \"weather\", \"weather\", \"weather\", \"weather\", \"weather\", \"weather\", \"weather\", \"weather\", \"weather\", \"weather_mist_mph\", \"webdesign\", \"weekend\", \"weekend\", \"weekend\", \"weekend\", \"weekend\", \"weekend\", \"weekend\", \"weekend\", \"weekend\", \"weekend\", \"whbm\", \"wheel\", \"wheel\", \"wheel\", \"wheel\", \"wheel\", \"wheel\", \"wheel\", \"wheel\", \"wi\", \"wi\", \"wi\", \"wi\", \"wi\", \"wi\", \"wi\", \"wi\", \"wi\", \"wilmington\", \"wind_mph\", \"wind_mph\", \"wind_mph\", \"wind_mph\", \"wind_mph\", \"wind_mph\", \"wind_mph\", \"wind_mph\", \"wind_mph\", \"wind_mph_barometer_steady\", \"wind_mph_barometer_steady\", \"wind_mph_barometer_steady\", \"wind_mph_barometer_steady\", \"wind_mph_barometer_steady\", \"without\", \"without\", \"without\", \"without\", \"without\", \"without\", \"without\", \"without\", \"without\", \"without\", \"witness\", \"work\", \"work\", \"work\", \"work\", \"work\", \"work\", \"work\", \"work\", \"work\", \"work\", \"would_love_show_list\", \"would_love_show_list\", \"wrigley_field\", \"wrigley_field\", \"wy\", \"year\", \"year\", \"year\", \"year\", \"year\", \"year\", \"year\", \"year\", \"year\", \"yep\", \"yep\", \"yep\", \"yep\", \"yep\", \"yep\", \"yep\", \"ymca\", \"ymca\", \"zumba\"]}, \"R\": 30, \"lambda.step\": 0.01, \"plot.opts\": {\"xlab\": \"PC1\", \"ylab\": \"PC2\"}, \"topic.order\": [2, 3, 5, 9, 6, 1, 7, 10, 4, 8]};\n",
       "\n",
       "function LDAvis_load_lib(url, callback){\n",
       "  var s = document.createElement('script');\n",
       "  s.src = url;\n",
       "  s.async = true;\n",
       "  s.onreadystatechange = s.onload = callback;\n",
       "  s.onerror = function(){console.warn(\"failed to load library \" + url);};\n",
       "  document.getElementsByTagName(\"head\")[0].appendChild(s);\n",
       "}\n",
       "\n",
       "if(typeof(LDAvis) !== \"undefined\"){\n",
       "   // already loaded: just create the visualization\n",
       "   !function(LDAvis){\n",
       "       new LDAvis(\"#\" + \"ldavis_el2872823550506052481235306500\", ldavis_el2872823550506052481235306500_data);\n",
       "   }(LDAvis);\n",
       "}else if(typeof define === \"function\" && define.amd){\n",
       "   // require.js is available: use it to load d3/LDAvis\n",
       "   require.config({paths: {d3: \"https://d3js.org/d3.v5\"}});\n",
       "   require([\"d3\"], function(d3){\n",
       "      window.d3 = d3;\n",
       "      LDAvis_load_lib(\"https://cdn.jsdelivr.net/gh/bmabey/pyLDAvis@3.3.1/pyLDAvis/js/ldavis.v3.0.0.js\", function(){\n",
       "        new LDAvis(\"#\" + \"ldavis_el2872823550506052481235306500\", ldavis_el2872823550506052481235306500_data);\n",
       "      });\n",
       "    });\n",
       "}else{\n",
       "    // require.js not available: dynamically load d3 & LDAvis\n",
       "    LDAvis_load_lib(\"https://d3js.org/d3.v5.js\", function(){\n",
       "         LDAvis_load_lib(\"https://cdn.jsdelivr.net/gh/bmabey/pyLDAvis@3.3.1/pyLDAvis/js/ldavis.v3.0.0.js\", function(){\n",
       "                 new LDAvis(\"#\" + \"ldavis_el2872823550506052481235306500\", ldavis_el2872823550506052481235306500_data);\n",
       "            })\n",
       "         });\n",
       "}\n",
       "</script>"
      ],
      "text/plain": [
       "PreparedData(topic_coordinates=              x         y  topics  cluster       Freq\n",
       "topic                                                \n",
       "1     -0.365021 -0.065938       1        1  23.771431\n",
       "2      0.128579 -0.020279       2        1  12.616720\n",
       "4      0.082389 -0.079781       3        1   9.421379\n",
       "8      0.099820  0.051418       4        1   8.723337\n",
       "5      0.069659  0.030949       5        1   8.441935\n",
       "0      0.066233  0.044168       6        1   7.673065\n",
       "6     -0.162693  0.167248       7        1   7.645553\n",
       "9      0.077727  0.031115       8        1   7.488355\n",
       "3      0.002412 -0.110876       9        1   7.471176\n",
       "7      0.000894 -0.048024      10        1   6.747049, topic_info=          Term          Freq         Total Category  logprob  loglift\n",
       "60         job  68291.000000  68291.000000  Default  30.0000  30.0000\n",
       "46        hire  44504.000000  44504.000000  Default  29.0000  29.0000\n",
       "62   careerarc  21950.000000  21950.000000  Default  28.0000  28.0000\n",
       "124     latest   3893.000000   3893.000000  Default  27.0000  27.0000\n",
       "263   interest   3729.000000   3729.000000  Default  26.0000  26.0000\n",
       "..         ...           ...           ...      ...      ...      ...\n",
       "659        que    206.095156   1918.427928  Topic10  -6.1218   0.4651\n",
       "51      retail    245.965370   8629.367404  Topic10  -5.9450  -0.8617\n",
       "600        new    215.372306   3162.904885  Topic10  -6.0778   0.0092\n",
       "48        open    240.580337  11638.402594  Topic10  -5.9671  -1.1829\n",
       "128        see    199.883894   5609.576547  Topic10  -6.1524  -0.6384\n",
       "\n",
       "[838 rows x 6 columns], token_table=       Topic      Freq            Term\n",
       "term                                  \n",
       "7389       9  0.966289  aboutlastnight\n",
       "3302       9  0.976907      aca_talent\n",
       "3698       3  0.101668         academy\n",
       "3698       5  0.724387         academy\n",
       "3698       6  0.019063         academy\n",
       "...      ...       ...             ...\n",
       "20081      9  0.070631             yep\n",
       "20081     10  0.011772             yep\n",
       "9196       6  0.964485            ymca\n",
       "9196       9  0.015070            ymca\n",
       "26446      4  0.964275           zumba\n",
       "\n",
       "[3041 rows x 3 columns], R=30, lambda_step=0.01, plot_opts={'xlab': 'PC1', 'ylab': 'PC2'}, topic_order=[2, 3, 5, 9, 6, 1, 7, 10, 4, 8])"
      ]
     },
     "execution_count": 94,
     "metadata": {},
     "output_type": "execute_result"
    }
   ],
   "source": [
    "# Visualize the topics\n",
    "pyLDAvis.enable_notebook()\n",
    "\n",
    "LDAvis_prepared_10 = pyLDAvis.gensim_models.prepare(lda_model_10, corpus, id2word)\n",
    "LDAvis_prepared_10"
   ]
  },
  {
   "cell_type": "code",
   "execution_count": 95,
   "id": "ec303555-39dd-4796-b631-8dfb02eabb42",
   "metadata": {},
   "outputs": [
    {
     "name": "stderr",
     "output_type": "stream",
     "text": [
      "C:\\Users\\rcuza\\anaconda3\\lib\\site-packages\\pyLDAvis\\_prepare.py:246: FutureWarning: In a future version of pandas all arguments of DataFrame.drop except for the argument 'labels' will be keyword-only.\n",
      "  default_term_info = default_term_info.sort_values(\n"
     ]
    },
    {
     "data": {
      "text/html": [
       "\n",
       "<link rel=\"stylesheet\" type=\"text/css\" href=\"https://cdn.jsdelivr.net/gh/bmabey/pyLDAvis@3.3.1/pyLDAvis/js/ldavis.v1.0.0.css\">\n",
       "\n",
       "\n",
       "<div id=\"ldavis_el2872823550506059205429139926\"></div>\n",
       "<script type=\"text/javascript\">\n",
       "\n",
       "var ldavis_el2872823550506059205429139926_data = {\"mdsDat\": {\"x\": [0.12540344611148657, -0.2177046940436926, 0.16628231255328513, 0.08854981987634342, -0.16253088449742248], \"y\": [-0.11438447354806204, -0.006727943848325444, 0.1541588248892165, -0.07218971915832004, 0.039143311665490704], \"topics\": [1, 2, 3, 4, 5], \"cluster\": [1, 1, 1, 1, 1], \"Freq\": [27.890018642868096, 24.931425123974403, 16.31022349431698, 15.613063908972698, 15.255268829867823]}, \"tinfo\": {\"Term\": [\"job\", \"hire\", \"careerarc\", \"de\", \"sales\", \"open\", \"retail\", \"want_work\", \"near\", \"latest\", \"interest\", \"job_click_apply\", \"see\", \"could_great_fit\", \"hospitality\", \"view_latest\", \"la\", \"get\", \"check\", \"professional\", \"team_see_latest\", \"veterans\", \"nurse\", \"healthcare\", \"recommend_anyone_job\", \"amp\", \"might_great_fit\", \"alert\", \"en\", \"que\", \"robert_half_finance\", \"shift_supervisor_us\", \"saltlakecity_ut\", \"ave_traffic\", \"occupational_therapist\", \"accountant\", \"pueblo_co\", \"travelnurse_nurse\", \"administrative\", \"staten_island\", \"risk\", \"englewood_co\", \"westminster\", \"santander\", \"outpatient\", \"common\", \"erie_pa\", \"aurora_il\", \"civil\", \"familypractice\", \"lane_block\", \"brookfield_wi\", \"physical\", \"fayetteville_nc\", \"discovery\", \"pike\", \"diabetes\", \"canton\", \"boyntonbeach_fl\", \"administration\", \"ymca\", \"crossfit\", \"always\", \"tx_bed_bath\", \"operations\", \"get\", \"egg\", \"never\", \"help\", \"though\", \"work\", \"really\", \"know\", \"mean\", \"god\", \"year\", \"give\", \"game\", \"people\", \"good\", \"yesterday\", \"thank\", \"meet\", \"excite\", \"gallery\", \"make\", \"great\", \"life\", \"come\", \"tell\", \"visit\", \"time\", \"think\", \"one\", \"today\", \"friends\", \"love\", \"go\", \"day\", \"start\", \"little\", \"night\", \"take\", \"drink\", \"first\", \"us\", \"back\", \"like\", \"see\", \"tonight\", \"new\", \"amp\", \"beautiful\", \"view_latest\", \"kindred_healthcare\", \"click_detail_sales\", \"recommend_anyone_businessmgmt\", \"languageline_solutions\", \"sales_reilly_auto\", \"part_delivery_reilly_auto\", \"want_work_starbucks\", \"customer_service_associate_fedex\", \"shift_supervisor\", \"montgomery_al\", \"sonic\", \"waltham\", \"traffic_area\", \"creative_group\", \"cfgjobs\", \"recommend_anyone_retail\", \"shift_supervisor_trainee\", \"santamonica_ca\", \"cvs_health_healthcare\", \"lakers\", \"interpreter_bilingual\", \"part_time_opportunities_mcdonald\", \"business_analyst\", \"hair_cuttery_salon\", \"desmoines_ia\", \"ny_directions\", \"fedex_office\", \"assembler\", \"hair_stylist_great_clip\", \"want_work\", \"recommend_anyone_hospitality\", \"sonic_drive\", \"click_detail_hospitality\", \"recommend_anyone_transportation\", \"aerotek\", \"team_see_latest\", \"cosmetology\", \"click_detail_retail\", \"recommend_anyone_nurse\", \"burlington\", \"pharmacy_technician_cvs_health\", \"supplemental_health_care\", \"retail_sales_consultant\", \"carhop_server\", \"job\", \"dallas_tx\", \"cvs_health\", \"open\", \"clerical\", \"department_veterans_affairs\", \"genuine_part_napa\", \"alert\", \"healthcare\", \"carhop_skate\", \"transportation\", \"hire_click_apply\", \"join\", \"hospitality\", \"hire\", \"careerarc\", \"assistant_manager\", \"veterans\", \"might_great_fit\", \"nurse\", \"rn\", \"retail\", \"physician\", \"customerservice\", \"engineer\", \"read_latest_job\", \"manufacture\", \"recommend_anyone_job\", \"amp\", \"businessmgmt\", \"manager\", \"sales\", \"part_delivery\", \"robert_half_technology\", \"accountemps\", \"road_cr\", \"chattanooga_tn\", \"delay_mins\", \"edificio\", \"huntsville_al\", \"nettempsjobs\", \"lakeland_fl\", \"tambien\", \"fiserv\", \"mental_health\", \"paseo\", \"mambaday\", \"cdl_owner_operator_truck\", \"napa\", \"recruiter\", \"jfk_queen_ny\", \"chic\", \"processor\", \"boise_id\", \"principal_sales_consultant\", \"truck_driver_class\", \"facultad_de\", \"account_clerk\", \"vp\", \"equinox\", \"greenville\", \"protection\", \"co_port_huron\", \"nowplaying_thumb_coast_brew\", \"instituto\", \"de\", \"centro\", \"aicm_venustiano_carranza_df\", \"aeropuerto_internacional_de\", \"en\", \"para\", \"miami_beach\", \"mas\", \"un\", \"que\", \"el\", \"df\", \"plaza\", \"aqui\", \"con\", \"ciudad_de_mexico\", \"ciudad_de_mexico_mex\", \"la\", \"los\", \"por\", \"las\", \"post_photo\", \"mexico_city\", \"dia\", \"una\", \"del\", \"mexico\", \"se\", \"ipa\", \"es\", \"en_el\", \"al\", \"florida\", \"ya\", \"ca\", \"drink\", \"photo\", \"mi\", \"tbt\", \"amp\", \"city\", \"friday\", \"day\", \"ny\", \"new\", \"one\", \"staff_accountant\", \"cvs_health_pharmacy_technician\", \"jueves\", \"ca_click_detail\", \"tractor_supply_company\", \"paloalto_ca\", \"trainer\", \"boulder_co\", \"gilbert_az\", \"temp_wind_kts_baro\", \"strategy\", \"store_team_member\", \"great_clip\", \"contest\", \"drug\", \"recommend_anyone_physician\", \"incident_sb\", \"right_lane\", \"specials\", \"oh_click_detail\", \"interchange\", \"emerson_electric_co\", \"stockton_ca\", \"cath_lab\", \"package_handler_part_time\", \"store_position\", \"lash\", \"cable\", \"surgeon\", \"latte\", \"store_seasonal_employee\", \"accident_clear\", \"diesel_mechanic_tire_care\", \"norfolk_va\", \"wind_mph_barometer_steady\", \"wind_mph\", \"rain_today_humidity\", \"nashua_nh\", \"service_technician\", \"north_exit\", \"albany_ny\", \"father\", \"bill_mt\", \"available_tap\", \"mercado\", \"temperature_rain_today_humidity\", \"tire\", \"power\", \"chicago_hare_international_airport\", \"avenue\", \"nail\", \"tune\", \"traffic\", \"barista_us_hospitality\", \"amp\", \"high\", \"concert\", \"bridge\", \"place\", \"favorite_health_care_staff\", \"beauty\", \"fire\", \"bar\", \"rd\", \"accident\", \"park\", \"sb\", \"today\", \"nyc\", \"street\", \"new\", \"good_morning\", \"st\", \"spring\", \"world\", \"tonight\", \"day\", \"love\", \"go\", \"us\", \"center\", \"ave\", \"beautiful\", \"nurse\", \"city\", \"job\", \"come\", \"drink\", \"la\", \"hire\", \"pm\", \"night\", \"show\", \"kelly_service\", \"sales_speedway\", \"dressbarn\", \"kellyjobs_kellyservices\", \"retail_store_position\", \"want_work_aerotek\", \"shift_team_leader\", \"parttime\", \"barista_us\", \"shift_supervisor_us_starbucks\", \"kellyjobs\", \"part_time_opportunities\", \"cognizant\", \"join_robert_half\", \"mechanic\", \"macy_beauty\", \"corporativo\", \"applications_sales\", \"realestate_realtor\", \"want_work_robert_half\", \"senior_accountant\", \"dressbarn_dressbarn\", \"account_executive\", \"manager_trainee\", \"princeton_nj\", \"cater\", \"district_manager_trainee\", \"drivers\", \"quality_control\", \"glendale_ca\", \"could_great_fit\", \"interest\", \"professional\", \"near\", \"job_click_apply\", \"cvs_health_job\", \"check_list\", \"latest\", \"recommend_anyone_manufacture\", \"representative\", \"sales\", \"mcdonald_corporation\", \"director\", \"nordstrom\", \"check\", \"clerk\", \"type_diabetes_diabetes\", \"see\", \"part_time\", \"account\", \"retail\", \"recommend_anyone_job\", \"hire\", \"careerarc\", \"manager\", \"fit\", \"job\", \"associate\", \"oracle\", \"read_latest_job\", \"houston_tx\", \"hospitality\", \"nurse\", \"veterans\", \"might_great_fit\", \"customerservice\", \"open\", \"manufacture\", \"ca\", \"california\", \"engineer\", \"healthcare\"], \"Freq\": [60907.0, 39614.0, 19349.0, 5935.0, 5227.0, 10582.0, 7730.0, 4841.0, 3426.0, 3575.0, 3311.0, 3190.0, 5478.0, 2783.0, 5975.0, 3270.0, 4353.0, 6006.0, 2550.0, 1824.0, 2753.0, 3921.0, 4859.0, 3867.0, 3669.0, 7874.0, 3335.0, 3004.0, 1713.0, 1833.0, 266.49489893850347, 302.3737343124933, 108.68882568623025, 92.30812041006186, 93.39153942567518, 73.7402113402461, 75.34397134872671, 71.24351574952313, 75.69434155270284, 65.31950243906402, 66.38683786920943, 73.22483609083729, 66.42073372899429, 70.15505754942178, 70.69292270179785, 61.52272549698293, 60.69997129242512, 57.03036031763688, 54.463901398166705, 56.41890725366789, 52.80908292623017, 53.05168124402035, 49.40465056115878, 52.05105286593154, 49.40739047649139, 47.403625426689686, 46.31762750107774, 52.06469030018498, 49.22291790892228, 44.43287081498067, 86.24363700734435, 157.49782430338973, 982.0115968384956, 100.48323685917276, 217.49517961695452, 4967.220775634294, 131.0016453833463, 731.0866481059666, 521.600834183775, 161.14608088651352, 1961.3767857229084, 617.2503858541882, 1281.008241446144, 341.2549519600264, 522.7144261639068, 611.2282666268917, 728.8960716742706, 1060.7107329200965, 896.4632373563682, 1645.3426357640406, 389.66739161494297, 1772.035416854296, 780.5558476827756, 455.75414943747705, 150.58211982320512, 1670.1798948131136, 1693.6678274758708, 1122.1479278642223, 2034.0222116358934, 420.67193456015093, 417.7111538051836, 2365.033631393778, 795.9779215511286, 1919.388583178536, 2132.7121315400486, 744.2909384658362, 2473.2610327407565, 2155.328353078099, 2483.0830586278544, 870.9204020900137, 934.274566085652, 1302.5046341658622, 1025.4285776645193, 1663.3157572342816, 1085.0141547747978, 1325.7621653710419, 1148.626740805436, 1087.9359778882524, 1767.4787286316982, 1150.0428646327675, 1209.595811328693, 1497.6963380443813, 906.6452824688607, 3247.42077873416, 96.03660667590721, 95.53523999108924, 93.18635121279281, 110.99968530317432, 88.4985424095826, 101.39472576862818, 81.5021894941216, 77.1727962602263, 77.05816064635275, 75.98217663445972, 1056.9447231376548, 71.20775986746398, 98.00729892896173, 88.12464850738124, 70.02768469816293, 418.6215473178561, 67.00621311818645, 66.01695322070096, 65.94411163063432, 75.5143269791254, 249.61469608638166, 62.70926630804172, 62.719295661748895, 61.50903143078547, 60.075586304688635, 105.54471679182485, 63.54317222360684, 59.665998811348125, 58.41846033078114, 4764.520976403799, 467.7597244527325, 406.56543595739504, 229.68316855307694, 104.03934413055615, 975.4701724415389, 2578.1152426038616, 415.39546884220994, 240.32676714953394, 405.8774202730719, 182.68236486383265, 189.5781767908968, 373.29957461874966, 190.58822259969082, 229.75047531350455, 48325.495109365154, 483.6861361386469, 163.42765205486992, 8486.302672940074, 697.8618634493956, 347.7120167974099, 222.82454502515662, 2500.2202318761774, 3097.1730205576055, 203.05873917929134, 1141.3844073120567, 2468.6506948213464, 2409.2266630057316, 4541.328203606783, 26343.27586500892, 13305.945058118947, 410.5937011287499, 2805.0674979329015, 2344.1011910589114, 3098.135515311764, 818.7141010129748, 3947.096288695631, 657.4472242290537, 1049.3091630492402, 927.8281365184969, 1571.7705784294583, 879.8025409414934, 1411.914517600455, 2001.8447790762584, 707.8655226189778, 820.146288682338, 682.7048334835193, 209.9832139055489, 154.76238579002555, 144.72912383211727, 88.47849198731687, 91.51276367201801, 75.35747732153982, 68.67487348672356, 84.44856408108893, 136.7699925955407, 62.31441782148204, 58.32844293800071, 67.14256354384118, 58.668490797686786, 55.976969436036626, 62.996343815553644, 54.03127840692679, 63.559969310639175, 55.74912336216839, 50.68350445317165, 50.34957512912349, 54.170171148154274, 68.51636641175836, 80.05049326816369, 51.08029743603089, 45.677970753487344, 48.64692740062831, 47.31821404371878, 43.84239023964524, 46.03471243637987, 46.105742952694676, 78.47430959241338, 90.22841300222827, 56.96124755997329, 5158.09120574306, 220.6443063378014, 119.46765921518178, 311.46589352990213, 1452.847476569463, 609.9923660386672, 157.02965344083464, 395.60075381349543, 503.5130364847864, 1487.4117319220152, 1323.954378391331, 840.0067537891225, 407.04452985314833, 227.29585497013582, 909.9167983983864, 262.84637069359155, 149.9388124506701, 3012.4085578543377, 731.8591651878777, 472.4247965535146, 474.1756227945409, 1450.8673439993029, 577.2517250357669, 191.25486527216398, 316.47312865823307, 478.21147761919997, 1164.8529993554846, 448.6948688031444, 267.5282001598321, 386.00332188871505, 256.26425356501863, 394.12741571787905, 394.82051497735426, 450.96250647338735, 939.1738121516535, 874.5490194153216, 592.7188016692883, 520.3069499480887, 521.2781452420437, 825.845528597492, 519.8333250727915, 462.5596555683611, 516.7031721023002, 436.21546122813174, 436.7298411010689, 414.32965747603106, 90.67137164011599, 86.47362459290427, 105.39011797557559, 81.75868361573129, 77.08020661642556, 120.801230811167, 64.44379060698088, 62.9460983385939, 58.90078526650803, 61.95516997423528, 53.03577738496953, 53.15728813584682, 68.09054259713291, 49.63600954741925, 49.42391126991321, 49.99306557770264, 47.970633581332606, 47.35272253921714, 46.10710293517417, 48.68827502605376, 45.3670106856933, 46.53913940355422, 51.30203066974916, 46.12479096884386, 46.79556054747911, 54.8942258444469, 44.68353089655948, 43.95116154681424, 44.256918168165754, 42.90403817614833, 109.64236807522131, 186.55286064929928, 83.24989269637952, 81.19455773160266, 129.88752279054256, 372.6582105679718, 261.34133313827874, 64.85631742406319, 81.23288760252642, 63.76632595105639, 72.64627545862568, 121.33268775415353, 74.85312093959195, 103.29690854428198, 65.75924521182736, 311.6996235628156, 152.2558740523471, 208.93402648511233, 70.01527769807579, 524.2915594460518, 165.7800819780839, 121.33862066156713, 450.2095077432096, 146.22764796632217, 3074.1028077421847, 316.07836223650975, 202.74597875246997, 223.03316982458318, 498.2357481001571, 168.86306861259618, 209.6008776883289, 245.06586273817283, 538.4137007080769, 556.7489905413565, 262.78084116860833, 702.9724133667914, 309.16426072773885, 972.5111523325645, 456.7642445743559, 356.11969352232506, 786.7079252875792, 296.126057855144, 605.1730519480765, 484.9544351749507, 342.5500337067437, 635.7867024008465, 849.0462611447667, 791.6476968904709, 742.6501801343397, 594.528226936549, 484.7559294539818, 318.3852385604891, 409.2703466689641, 609.0341729127084, 431.27642372498826, 1182.796566095249, 462.3994693072493, 465.5169654757154, 483.0846458807264, 667.5164478542308, 368.46537809331915, 377.2227542397281, 357.8543542088901, 202.94441312262322, 194.25577900711815, 162.66138184970254, 401.04191144636866, 360.9356437835514, 138.3605817576328, 130.27683244397673, 172.4220431962749, 121.61509418299828, 123.13210195579934, 75.82674352529733, 73.48402931046098, 66.94290434061081, 63.72087119798127, 66.01760536739528, 57.58108898750906, 57.56658426081468, 53.67338459763252, 126.22786919681278, 48.894290365752695, 47.78021982164667, 46.45821317427719, 69.77229632385627, 123.57836796116858, 44.068971973962064, 43.43509625906515, 61.195664407704555, 41.32550211054278, 40.88708793954304, 46.88599754982983, 2711.9517288640886, 3174.9448792307007, 1752.0139603546452, 3266.767128820931, 3043.0503773230844, 122.8368902878243, 169.08452227020354, 3258.9528942627676, 119.98039232618873, 465.48131355577846, 4441.47462416176, 121.13273631401795, 401.7937099094785, 113.45408108871453, 1965.9635613866055, 118.3600283330055, 135.94143807750905, 3353.812991069052, 549.9944663556734, 974.3997288174957, 3538.2006859944454, 1806.75216617085, 12106.040080320498, 5865.046890510094, 963.6896413340884, 427.80862631852943, 10971.34906795164, 536.6324179513963, 254.60122664212278, 1086.525382120777, 439.2205769468997, 1309.612849728155, 1073.4422298844866, 915.2710713952752, 801.4555772613593, 558.0862127363692, 1012.7366052270069, 513.8098021582912, 579.38085723509, 476.0428311074717, 476.05400475291844, 517.4767355011772], \"Total\": [60907.0, 39614.0, 19349.0, 5935.0, 5227.0, 10582.0, 7730.0, 4841.0, 3426.0, 3575.0, 3311.0, 3190.0, 5478.0, 2783.0, 5975.0, 3270.0, 4353.0, 6006.0, 2550.0, 1824.0, 2753.0, 3921.0, 4859.0, 3867.0, 3669.0, 7874.0, 3335.0, 3004.0, 1713.0, 1833.0, 267.5087782160123, 303.65730414163124, 109.59956192218391, 93.08466100649522, 94.26831499841599, 74.54413962746457, 76.18494776109637, 72.04351346880124, 76.54674186129112, 66.09236440813783, 67.17406502002585, 74.1133875283301, 67.22785904811043, 71.00818712694259, 71.57407115611355, 62.305256718407875, 61.50741535931055, 57.85391763685393, 55.254705858351066, 57.24241871568052, 53.60737053786076, 53.88582036472769, 50.184821207604195, 52.87376258947889, 50.19280726123819, 48.200774265312425, 47.10579678577361, 52.951642922612265, 50.0663285741093, 45.233444563683946, 88.30605440476019, 162.66193864300405, 1053.5009010052145, 103.52208333948656, 228.2552604527565, 6006.587626875012, 138.35875048128042, 837.3702993475798, 587.6248194841933, 172.70743018943253, 2414.8570178462214, 734.3286996956589, 1612.2811309215747, 389.05084473786366, 616.698581928784, 731.6548446765172, 898.9866734196019, 1363.1674931081204, 1143.2463430744283, 2230.2991274862907, 459.45398170248126, 2487.0459161917297, 1005.559698454171, 561.8122764015221, 164.32728188870104, 2391.1587435974006, 2442.284666881915, 1553.235170690376, 3061.9486511438063, 516.3871378506417, 514.1670426112809, 3712.4451236931272, 1075.9472616232156, 3063.063970256582, 3561.407142316418, 1018.3861162466383, 4295.234625410636, 3793.292325654376, 4555.836399454309, 1252.322458195203, 1390.4616947428515, 2168.9327526017773, 1605.231851134483, 3366.964277763472, 1797.2400217066163, 2468.127813144527, 2016.8685481515286, 1861.0130270431348, 5478.994146594652, 2593.5348441788774, 3063.7581824023937, 7874.267338909584, 1561.439319112635, 3270.38670821798, 96.90456076512923, 96.40825775028155, 94.04262852386853, 112.03439387843505, 89.34751757209654, 102.38802381404703, 82.35225296417178, 78.02369056935923, 77.9165105249067, 76.84411357172387, 1069.287470793496, 72.07305884412924, 99.23271893116934, 89.2380388506815, 70.9155286688309, 423.9926025124233, 67.87298345867072, 66.87542777446089, 66.80740398114682, 76.5081182605931, 252.97892688035535, 63.55847627178868, 63.57441977808183, 62.358374410662954, 60.936368935877304, 107.06825075043098, 64.46124599168444, 60.53444876700739, 59.26931551780758, 4841.620200821586, 475.42720470520146, 414.8526381913446, 233.21196810156604, 105.65564424069049, 1020.0247904138727, 2753.731068497613, 430.1732939493762, 247.87606870727612, 423.4012107112484, 188.15788065096714, 195.5376386592813, 391.76771090599516, 197.11684939531048, 239.74098467376984, 60907.09553722447, 523.2675911788616, 169.80186240087912, 10582.935984595793, 779.5106529734695, 374.98682901224595, 235.2778146269944, 3004.5052015146025, 3867.865599077825, 213.61380576197647, 1346.749346098778, 3087.0963557449277, 3007.4651182203456, 5975.006568967594, 39614.78781769186, 19349.1236379805, 459.7625855919676, 3921.201056226147, 3335.5523546191953, 4859.493672700251, 1093.5221110526538, 7730.248413037671, 860.0131352918479, 1646.2923439726842, 1453.317069218705, 3124.9219456900582, 1421.0406831195983, 3669.296541884378, 7874.267338909584, 1124.2800768065847, 1986.1470225139692, 5227.35077330586, 211.1536547087099, 155.71892172833316, 145.87987140114652, 89.30735058118891, 92.38846830985206, 76.18941597948195, 69.4729906609618, 85.43648132205662, 138.4786583477284, 63.15779790060957, 59.12920189078266, 68.0801782664174, 59.48982638026429, 56.775322943615215, 63.927933541676154, 54.8424739996447, 64.53433248441148, 56.62817299408096, 51.48278200934955, 51.150898140895045, 55.05048876790772, 69.6683460852984, 81.40442990534093, 51.962961471884036, 46.48165368424658, 49.50605510929286, 48.18698911009361, 44.64915192742669, 46.896882916804294, 46.97728782968435, 80.30029256062116, 92.69256561055332, 58.18778541757713, 5935.924476353173, 233.62297493211915, 125.50656898954203, 341.0977756595498, 1713.9652258108538, 693.1938868502841, 167.59432177452308, 446.00709681146054, 577.0598531310999, 1833.6645161604417, 1650.1777877570032, 1017.5890331931428, 470.1632219615523, 253.76980173570124, 1138.8479099896792, 298.0788494162373, 163.11671217343508, 4353.288978543, 920.1403444114566, 574.37369648246, 581.6573006928925, 2058.881684065099, 738.5508469700716, 215.47077911509766, 384.9048249098422, 637.047443445951, 1848.2281037729178, 613.1819658793094, 330.7101977120966, 546.7066459843115, 322.8482248684728, 627.874168975977, 640.9269562209562, 784.7130099746165, 2450.0652180483294, 3366.964277763472, 1872.814283904608, 1460.1364602503836, 1701.1059206811533, 7874.267338909584, 2033.9051601067056, 1444.0902500395862, 4555.836399454309, 2089.37023036134, 3063.7581824023937, 3063.063970256582, 91.55943841401472, 87.35516621831326, 106.48133038934375, 82.65561494307086, 77.94320163348567, 122.21930156677257, 65.28267541196333, 63.80169792391457, 59.7291541130481, 62.89078880631375, 53.87137760174264, 54.00247856493052, 69.1967842709258, 50.45449195521609, 50.241122655960474, 50.8466735370179, 48.791562223577316, 48.16837204277542, 46.92888237691151, 49.56700988987836, 46.18926350915967, 47.38348156431047, 52.23654631637479, 46.96691296055758, 47.654648039434996, 55.90462602842697, 45.507419172925744, 44.77047096929429, 45.09231484296096, 43.7157543459971, 112.14721884299011, 191.85129434191526, 84.99653665566447, 82.97110183959869, 133.94541881573483, 401.36761252009126, 279.86800141190236, 66.63821543023357, 84.10050008684917, 65.58727508651381, 75.17884537533459, 129.51594302777204, 78.27231634419206, 111.2184556405897, 68.36918172869527, 373.634606816409, 173.93016623674364, 250.22408161165313, 73.83452317958682, 754.9412243975086, 200.42783006476043, 140.42123068404567, 670.1299305256849, 181.45657226080317, 7874.267338909584, 481.31347065344534, 282.8393942629577, 325.7271915833331, 989.3234768066825, 234.80095118127286, 316.80468710563116, 405.9832149949135, 1257.4472150750596, 1338.795424329581, 454.3977839479527, 1965.4025769859177, 581.2024764326723, 3561.407142316418, 1112.667883705373, 761.0269781231101, 3063.7581824023937, 599.846450058242, 2100.2990917456445, 1437.4578199722314, 806.6202838388681, 2593.5348441788774, 4555.836399454309, 4295.234625410636, 3793.292325654376, 2468.127813144527, 1782.9270878721225, 729.487789322434, 1561.439319112635, 4859.493672700251, 2033.9051601067056, 60907.09553722447, 3061.9486511438063, 3366.964277763472, 4353.288978543, 39614.78781769186, 1301.6534721668884, 2168.9327526017773, 1444.9251096867301, 203.81119170645857, 195.1184559233633, 163.5313450594555, 403.5853678095911, 363.228362718609, 139.25340249162224, 131.14340327249448, 173.57539349109527, 122.48348804971515, 124.03702243791884, 76.6889782381931, 74.34739473943334, 67.81613033324854, 64.58537030692585, 66.92684794587095, 58.441182018848785, 58.46345992044077, 54.52843900179559, 128.44693642209688, 49.760006949726375, 48.65128425886451, 47.31739115672024, 71.06290977121706, 125.94556387096559, 44.94115148332415, 44.31488430986884, 62.46364376275545, 42.19726169092268, 41.757310049789254, 47.944899305571056, 2783.239680036369, 3311.7447141420907, 1824.755112776676, 3426.089150914299, 3190.0368360935636, 125.78512563848903, 174.28590768834306, 3575.224382681006, 123.45289177683732, 501.11390168367274, 5227.35077330586, 125.89028373249597, 451.9508978582157, 118.94470199692931, 2550.146595747534, 127.07768690273082, 148.36045832282696, 5478.994146594652, 740.2682459116668, 1488.932829922176, 7730.248413037671, 3669.296541884378, 39614.78781769186, 19349.1236379805, 1986.1470225139692, 685.6392254158494, 60907.09553722447, 937.2801248296767, 351.36468597347346, 3124.9219456900582, 826.3068208269558, 5975.006568967594, 4859.493672700251, 3921.201056226147, 3335.5523546191953, 1646.2923439726842, 10582.935984595793, 1421.0406831195983, 2450.0652180483294, 1234.1254633541537, 1453.317069218705, 3867.865599077825], \"Category\": [\"Default\", \"Default\", \"Default\", \"Default\", \"Default\", \"Default\", \"Default\", \"Default\", \"Default\", \"Default\", \"Default\", \"Default\", \"Default\", \"Default\", \"Default\", \"Default\", \"Default\", \"Default\", \"Default\", \"Default\", \"Default\", \"Default\", \"Default\", \"Default\", \"Default\", \"Default\", \"Default\", \"Default\", \"Default\", \"Default\", \"Topic1\", \"Topic1\", \"Topic1\", \"Topic1\", \"Topic1\", \"Topic1\", \"Topic1\", \"Topic1\", \"Topic1\", \"Topic1\", \"Topic1\", \"Topic1\", \"Topic1\", \"Topic1\", \"Topic1\", \"Topic1\", \"Topic1\", \"Topic1\", \"Topic1\", \"Topic1\", \"Topic1\", \"Topic1\", \"Topic1\", \"Topic1\", \"Topic1\", \"Topic1\", \"Topic1\", \"Topic1\", \"Topic1\", \"Topic1\", \"Topic1\", \"Topic1\", \"Topic1\", \"Topic1\", \"Topic1\", \"Topic1\", \"Topic1\", \"Topic1\", \"Topic1\", \"Topic1\", \"Topic1\", \"Topic1\", \"Topic1\", \"Topic1\", \"Topic1\", \"Topic1\", \"Topic1\", \"Topic1\", \"Topic1\", \"Topic1\", \"Topic1\", \"Topic1\", \"Topic1\", \"Topic1\", \"Topic1\", \"Topic1\", \"Topic1\", \"Topic1\", \"Topic1\", \"Topic1\", \"Topic1\", \"Topic1\", \"Topic1\", \"Topic1\", \"Topic1\", \"Topic1\", \"Topic1\", \"Topic1\", \"Topic1\", \"Topic1\", \"Topic1\", \"Topic1\", \"Topic1\", \"Topic1\", \"Topic1\", \"Topic1\", \"Topic1\", \"Topic1\", \"Topic1\", \"Topic1\", \"Topic1\", \"Topic1\", \"Topic1\", \"Topic2\", \"Topic2\", \"Topic2\", \"Topic2\", \"Topic2\", \"Topic2\", \"Topic2\", \"Topic2\", \"Topic2\", \"Topic2\", \"Topic2\", \"Topic2\", \"Topic2\", \"Topic2\", \"Topic2\", \"Topic2\", \"Topic2\", \"Topic2\", \"Topic2\", \"Topic2\", \"Topic2\", \"Topic2\", \"Topic2\", \"Topic2\", \"Topic2\", \"Topic2\", \"Topic2\", \"Topic2\", \"Topic2\", \"Topic2\", \"Topic2\", \"Topic2\", \"Topic2\", \"Topic2\", \"Topic2\", \"Topic2\", \"Topic2\", \"Topic2\", \"Topic2\", \"Topic2\", \"Topic2\", \"Topic2\", \"Topic2\", \"Topic2\", \"Topic2\", \"Topic2\", \"Topic2\", \"Topic2\", \"Topic2\", \"Topic2\", \"Topic2\", \"Topic2\", \"Topic2\", \"Topic2\", \"Topic2\", \"Topic2\", \"Topic2\", \"Topic2\", \"Topic2\", \"Topic2\", \"Topic2\", \"Topic2\", \"Topic2\", \"Topic2\", \"Topic2\", \"Topic2\", \"Topic2\", \"Topic2\", \"Topic2\", \"Topic2\", \"Topic2\", \"Topic2\", \"Topic2\", \"Topic2\", \"Topic2\", \"Topic2\", \"Topic2\", \"Topic3\", \"Topic3\", \"Topic3\", \"Topic3\", \"Topic3\", \"Topic3\", \"Topic3\", \"Topic3\", \"Topic3\", \"Topic3\", \"Topic3\", \"Topic3\", \"Topic3\", \"Topic3\", \"Topic3\", \"Topic3\", \"Topic3\", \"Topic3\", \"Topic3\", \"Topic3\", \"Topic3\", \"Topic3\", \"Topic3\", \"Topic3\", \"Topic3\", \"Topic3\", \"Topic3\", \"Topic3\", \"Topic3\", \"Topic3\", \"Topic3\", \"Topic3\", \"Topic3\", \"Topic3\", \"Topic3\", \"Topic3\", \"Topic3\", \"Topic3\", \"Topic3\", \"Topic3\", \"Topic3\", \"Topic3\", \"Topic3\", \"Topic3\", \"Topic3\", \"Topic3\", \"Topic3\", \"Topic3\", \"Topic3\", \"Topic3\", \"Topic3\", \"Topic3\", \"Topic3\", \"Topic3\", \"Topic3\", \"Topic3\", \"Topic3\", \"Topic3\", \"Topic3\", \"Topic3\", \"Topic3\", \"Topic3\", \"Topic3\", \"Topic3\", \"Topic3\", \"Topic3\", \"Topic3\", \"Topic3\", \"Topic3\", \"Topic3\", \"Topic3\", \"Topic3\", \"Topic3\", \"Topic3\", \"Topic3\", \"Topic3\", \"Topic3\", \"Topic3\", \"Topic3\", \"Topic4\", \"Topic4\", \"Topic4\", \"Topic4\", \"Topic4\", \"Topic4\", \"Topic4\", \"Topic4\", \"Topic4\", \"Topic4\", \"Topic4\", \"Topic4\", \"Topic4\", \"Topic4\", \"Topic4\", \"Topic4\", \"Topic4\", \"Topic4\", \"Topic4\", \"Topic4\", \"Topic4\", \"Topic4\", \"Topic4\", \"Topic4\", \"Topic4\", \"Topic4\", \"Topic4\", \"Topic4\", \"Topic4\", \"Topic4\", \"Topic4\", \"Topic4\", \"Topic4\", \"Topic4\", \"Topic4\", \"Topic4\", \"Topic4\", \"Topic4\", \"Topic4\", \"Topic4\", \"Topic4\", \"Topic4\", \"Topic4\", \"Topic4\", \"Topic4\", \"Topic4\", \"Topic4\", \"Topic4\", \"Topic4\", \"Topic4\", \"Topic4\", \"Topic4\", \"Topic4\", \"Topic4\", \"Topic4\", \"Topic4\", \"Topic4\", \"Topic4\", \"Topic4\", \"Topic4\", \"Topic4\", \"Topic4\", \"Topic4\", \"Topic4\", \"Topic4\", \"Topic4\", \"Topic4\", \"Topic4\", \"Topic4\", \"Topic4\", \"Topic4\", \"Topic4\", \"Topic4\", \"Topic4\", \"Topic4\", \"Topic4\", \"Topic4\", \"Topic4\", \"Topic4\", \"Topic4\", \"Topic4\", \"Topic4\", \"Topic4\", \"Topic4\", \"Topic4\", \"Topic4\", \"Topic4\", \"Topic4\", \"Topic4\", \"Topic4\", \"Topic4\", \"Topic4\", \"Topic4\", \"Topic5\", \"Topic5\", \"Topic5\", \"Topic5\", \"Topic5\", \"Topic5\", \"Topic5\", \"Topic5\", \"Topic5\", \"Topic5\", \"Topic5\", \"Topic5\", \"Topic5\", \"Topic5\", \"Topic5\", \"Topic5\", \"Topic5\", \"Topic5\", \"Topic5\", \"Topic5\", \"Topic5\", \"Topic5\", \"Topic5\", \"Topic5\", \"Topic5\", \"Topic5\", \"Topic5\", \"Topic5\", \"Topic5\", \"Topic5\", \"Topic5\", \"Topic5\", \"Topic5\", \"Topic5\", \"Topic5\", \"Topic5\", \"Topic5\", \"Topic5\", \"Topic5\", \"Topic5\", \"Topic5\", \"Topic5\", \"Topic5\", \"Topic5\", \"Topic5\", \"Topic5\", \"Topic5\", \"Topic5\", \"Topic5\", \"Topic5\", \"Topic5\", \"Topic5\", \"Topic5\", \"Topic5\", \"Topic5\", \"Topic5\", \"Topic5\", \"Topic5\", \"Topic5\", \"Topic5\", \"Topic5\", \"Topic5\", \"Topic5\", \"Topic5\", \"Topic5\", \"Topic5\", \"Topic5\", \"Topic5\", \"Topic5\", \"Topic5\", \"Topic5\", \"Topic5\"], \"logprob\": [30.0, 29.0, 28.0, 27.0, 26.0, 25.0, 24.0, 23.0, 22.0, 21.0, 20.0, 19.0, 18.0, 17.0, 16.0, 15.0, 14.0, 13.0, 12.0, 11.0, 10.0, 9.0, 8.0, 7.0, 6.0, 5.0, 4.0, 3.0, 2.0, 1.0, -7.284, -7.1577, -8.1808, -8.3442, -8.3325, -8.5688, -8.5473, -8.6032, -8.5426, -8.69, -8.6738, -8.5758, -8.6733, -8.6186, -8.611, -8.7499, -8.7634, -8.8257, -8.8718, -8.8365, -8.9026, -8.8981, -8.9693, -8.9171, -8.9692, -9.0106, -9.0338, -8.9168, -8.973, -9.0753, -8.4121, -7.8099, -5.9797, -8.2593, -7.4871, -4.3587, -7.9941, -6.2748, -6.6124, -7.787, -5.2879, -6.444, -5.7139, -7.0367, -6.6103, -6.4539, -6.2778, -5.9026, -6.0709, -5.4636, -6.904, -5.3894, -6.2093, -6.7474, -7.8548, -5.4486, -5.4347, -5.8463, -5.2516, -6.8275, -6.8345, -5.1008, -6.1897, -5.3096, -5.2042, -6.2569, -5.056, -5.1936, -5.0521, -6.0998, -6.0296, -5.6973, -5.9365, -5.4528, -5.88, -5.6796, -5.823, -5.8773, -5.392, -5.8218, -5.7713, -5.5576, -6.0596, -4.6716, -8.1925, -8.1977, -8.2226, -8.0477, -8.2742, -8.1382, -8.3566, -8.4111, -8.4126, -8.4267, -5.794, -8.4916, -8.1721, -8.2784, -8.5083, -6.7202, -8.5524, -8.5673, -8.5684, -8.4329, -7.2373, -8.6187, -8.6185, -8.638, -8.6616, -8.098, -8.6055, -8.6684, -8.6895, -4.2882, -6.6092, -6.7494, -7.3205, -8.1124, -5.8743, -4.9024, -6.728, -7.2752, -6.7511, -7.5494, -7.5124, -6.8348, -7.5071, -7.3202, -1.9715, -6.5757, -7.6608, -3.711, -6.2092, -6.9058, -7.3508, -4.933, -4.7189, -7.4437, -5.7172, -4.9458, -4.9701, -4.3362, -2.5782, -3.2612, -6.7396, -4.818, -4.9975, -4.7186, -6.0494, -4.4764, -6.2688, -5.8013, -5.9243, -5.3972, -5.9775, -5.5045, -5.1554, -6.1949, -6.0477, -6.2311, -6.9858, -7.291, -7.358, -7.8501, -7.8164, -8.0106, -8.1035, -7.8967, -7.4145, -8.2007, -8.2668, -8.126, -8.2609, -8.3079, -8.1898, -8.3433, -8.1809, -8.312, -8.4072, -8.4139, -8.3407, -8.1058, -7.9502, -8.3994, -8.5112, -8.4483, -8.4759, -8.5522, -8.5034, -8.5019, -7.9701, -7.8305, -8.2905, -3.7845, -6.9363, -7.5498, -6.5916, -5.0516, -5.9194, -7.2764, -6.3524, -6.1112, -5.0281, -5.1445, -5.5994, -6.3239, -6.9066, -5.5195, -6.7613, -7.3226, -4.3223, -5.7373, -6.175, -6.1713, -5.0529, -5.9746, -7.0792, -6.5756, -6.1628, -5.2725, -6.2265, -6.7436, -6.377, -6.7866, -6.3562, -6.3544, -6.2215, -5.4878, -5.5591, -5.9481, -6.0784, -6.0766, -5.6164, -6.0793, -6.1961, -6.0854, -6.2547, -6.2535, -6.3062, -7.7819, -7.8293, -7.6315, -7.8854, -7.9443, -7.495, -8.1234, -8.1469, -8.2133, -8.1627, -8.3182, -8.3159, -8.0683, -8.3844, -8.3887, -8.3773, -8.4186, -8.4315, -8.4582, -8.4037, -8.4744, -8.4489, -8.3514, -8.4578, -8.4434, -8.2838, -8.4896, -8.5061, -8.4991, -8.5302, -7.5919, -7.0604, -7.8673, -7.8923, -7.4225, -6.3685, -6.7233, -8.117, -7.8918, -8.1339, -8.0036, -7.4906, -7.9736, -7.6516, -8.1032, -6.5471, -7.2636, -6.9471, -8.0404, -6.0271, -7.1785, -7.4906, -6.1794, -7.304, -4.2584, -6.5332, -6.9772, -6.8818, -6.0781, -7.1601, -6.944, -6.7876, -6.0005, -5.967, -6.7178, -5.7338, -6.5553, -5.4093, -6.165, -6.4139, -5.6213, -6.5984, -5.8836, -6.1051, -6.4527, -5.8343, -5.545, -5.615, -5.6789, -5.9014, -6.1055, -6.5259, -6.2748, -5.8773, -6.2224, -5.2135, -6.1527, -6.146, -6.109, -5.7856, -6.3798, -6.3563, -6.409, -6.953, -6.9968, -7.1743, -6.2719, -6.3773, -7.3361, -7.3963, -7.116, -7.4651, -7.4527, -7.9375, -7.9689, -8.0621, -8.1115, -8.0761, -8.2128, -8.213, -8.2831, -7.4279, -8.3763, -8.3994, -8.4274, -8.0207, -7.4491, -8.4802, -8.4947, -8.1519, -8.5445, -8.5552, -8.4183, -4.3606, -4.2029, -4.7975, -4.1744, -4.2454, -7.4551, -7.1356, -4.1768, -7.4786, -6.1229, -3.8672, -7.4691, -6.27, -7.5346, -4.6822, -7.4922, -7.3538, -4.1481, -5.9561, -5.3842, -4.0946, -4.7667, -2.8645, -3.5892, -5.3952, -6.2073, -2.9629, -5.9807, -6.7263, -5.2752, -6.181, -5.0885, -5.2874, -5.4468, -5.5795, -5.9415, -5.3456, -6.0241, -5.904, -6.1005, -6.1004, -6.017], \"loglift\": [30.0, 29.0, 28.0, 27.0, 26.0, 25.0, 24.0, 23.0, 22.0, 21.0, 20.0, 19.0, 18.0, 17.0, 16.0, 15.0, 14.0, 13.0, 12.0, 11.0, 10.0, 9.0, 8.0, 7.0, 6.0, 5.0, 4.0, 3.0, 2.0, 1.0, 1.2731, 1.2727, 1.2686, 1.2685, 1.2676, 1.2661, 1.2658, 1.2657, 1.2657, 1.2651, 1.2651, 1.2648, 1.2648, 1.2648, 1.2645, 1.2643, 1.2637, 1.2626, 1.2625, 1.2624, 1.2619, 1.2613, 1.2612, 1.2612, 1.2611, 1.2602, 1.26, 1.26, 1.2599, 1.259, 1.2533, 1.2446, 1.2066, 1.2471, 1.2286, 1.0869, 1.2223, 1.1412, 1.1577, 1.2076, 1.0689, 1.1032, 1.0469, 1.1458, 1.1116, 1.0971, 1.0672, 1.026, 1.0337, 0.9727, 1.1122, 0.9379, 1.0236, 1.0677, 1.1895, 0.9181, 0.9109, 0.9518, 0.8679, 1.0719, 1.0691, 0.826, 0.9755, 0.8095, 0.7641, 0.9634, 0.7249, 0.7116, 0.67, 0.9137, 0.8793, 0.767, 0.8287, 0.5717, 0.7722, 0.6554, 0.7139, 0.7401, 0.1455, 0.4637, 0.3475, -0.3828, 0.7333, 1.382, 1.38, 1.3799, 1.3799, 1.3798, 1.3795, 1.3793, 1.3787, 1.3781, 1.378, 1.3778, 1.3774, 1.377, 1.3766, 1.3765, 1.3764, 1.3763, 1.3762, 1.3761, 1.376, 1.376, 1.3757, 1.3756, 1.3755, 1.3753, 1.3748, 1.3747, 1.3747, 1.3746, 1.3746, 1.373, 1.3728, 1.3689, 1.3738, 1.3736, 1.3444, 1.3231, 1.3541, 1.3581, 1.3468, 1.3595, 1.3581, 1.3408, 1.3554, 1.3465, 1.1577, 1.3104, 1.3508, 1.1683, 1.2784, 1.3135, 1.3347, 1.2053, 1.1668, 1.3384, 1.2236, 1.1655, 1.1672, 1.1147, 0.9811, 1.0146, 1.2759, 1.0541, 1.0363, 0.9389, 1.0996, 0.7169, 1.1205, 0.9386, 0.9403, 0.7018, 0.9096, 0.434, 0.0195, 0.9264, 0.5046, -0.6466, 1.8078, 1.8072, 1.8055, 1.8041, 1.8039, 1.8024, 1.8018, 1.8017, 1.801, 1.7999, 1.7997, 1.7995, 1.7995, 1.7992, 1.7987, 1.7985, 1.7982, 1.7977, 1.7977, 1.7976, 1.7973, 1.7967, 1.7966, 1.7962, 1.7959, 1.7959, 1.7952, 1.7951, 1.7948, 1.7947, 1.7904, 1.7864, 1.7921, 1.6729, 1.7562, 1.7641, 1.7225, 1.6481, 1.6855, 1.7483, 1.6934, 1.677, 1.6041, 1.5931, 1.6216, 1.6692, 1.7032, 1.589, 1.6876, 1.7291, 1.4452, 1.5844, 1.618, 1.6091, 1.4634, 1.567, 1.6942, 1.6176, 1.5266, 1.3517, 1.5011, 1.6014, 1.4653, 1.5824, 1.3477, 1.3289, 1.2594, 0.8545, 0.4653, 0.6629, 0.7815, 0.6306, -0.4416, 0.4492, 0.6749, -0.3633, 0.2469, -0.1347, -0.1871, 1.8473, 1.8469, 1.8468, 1.8462, 1.8459, 1.8454, 1.8441, 1.8436, 1.8431, 1.8421, 1.8414, 1.8413, 1.8409, 1.8407, 1.8407, 1.8401, 1.8401, 1.84, 1.8394, 1.8392, 1.8391, 1.8391, 1.839, 1.839, 1.8389, 1.8388, 1.8388, 1.8386, 1.8384, 1.8383, 1.8345, 1.8291, 1.8363, 1.8354, 1.8263, 1.7828, 1.7886, 1.83, 1.8224, 1.8289, 1.8228, 1.7918, 1.8124, 1.7832, 1.8181, 1.6758, 1.724, 1.6767, 1.8039, 1.4925, 1.6673, 1.711, 1.4593, 1.6412, 0.9165, 1.4365, 1.5241, 1.4783, 1.1711, 1.5274, 1.444, 1.3523, 1.0089, 0.9797, 1.3094, 0.8289, 1.2258, 0.559, 0.9667, 1.0977, 0.4975, 1.1512, 0.6127, 0.7705, 1.0006, 0.4511, 0.177, 0.1659, 0.2263, 0.4336, 0.5547, 1.028, 0.5181, -0.2198, 0.3061, -2.0844, -0.0333, -0.1216, -0.3414, -2.2263, 0.595, 0.1079, 0.4614, 1.876, 1.8758, 1.8749, 1.8739, 1.8739, 1.8738, 1.8736, 1.8736, 1.8731, 1.8729, 1.8689, 1.8686, 1.8673, 1.8668, 1.8666, 1.8654, 1.8648, 1.8644, 1.8628, 1.8627, 1.8622, 1.8619, 1.8619, 1.8613, 1.8606, 1.8602, 1.8597, 1.8594, 1.8592, 1.8579, 1.8543, 1.8381, 1.8396, 1.8326, 1.8331, 1.8565, 1.8499, 1.7876, 1.8517, 1.8065, 1.7173, 1.8417, 1.7626, 1.833, 1.6201, 1.8092, 1.7928, 1.3894, 1.5831, 1.4563, 1.0987, 1.1718, 0.6947, 0.6866, 1.1571, 1.4086, 0.1662, 1.3226, 1.5581, 0.8238, 1.2483, 0.3624, 0.3702, 0.4253, 0.4543, 0.7985, -0.4663, 0.863, 0.4383, 0.9276, 0.7642, -0.1312]}, \"token.table\": {\"Topic\": [1, 2, 3, 4, 5, 1, 4, 1, 2, 3, 4, 5, 3, 4, 5, 1, 3, 1, 1, 1, 2, 3, 4, 5, 2, 4, 5, 2, 3, 4, 1, 2, 3, 4, 5, 2, 4, 1, 2, 3, 4, 5, 1, 2, 3, 4, 5, 1, 2, 3, 4, 5, 5, 1, 2, 3, 4, 5, 2, 1, 2, 4, 5, 1, 2, 3, 4, 5, 1, 1, 2, 3, 4, 1, 2, 3, 4, 5, 1, 1, 2, 3, 4, 5, 1, 2, 3, 4, 5, 1, 2, 3, 4, 5, 5, 1, 4, 1, 2, 3, 4, 5, 1, 2, 3, 4, 5, 1, 4, 3, 4, 1, 1, 2, 4, 5, 1, 1, 2, 3, 2, 1, 2, 3, 4, 5, 1, 2, 3, 4, 5, 4, 4, 1, 2, 3, 4, 5, 1, 1, 2, 3, 4, 5, 1, 2, 4, 5, 1, 2, 4, 5, 5, 4, 3, 1, 2, 3, 4, 5, 1, 2, 3, 4, 5, 2, 3, 1, 2, 3, 4, 5, 2, 3, 4, 5, 3, 2, 4, 5, 1, 2, 3, 4, 5, 1, 2, 3, 4, 5, 1, 2, 3, 4, 5, 1, 1, 2, 4, 5, 4, 5, 2, 3, 4, 2, 4, 5, 2, 3, 5, 5, 1, 2, 3, 4, 5, 1, 1, 2, 3, 4, 5, 1, 2, 3, 4, 5, 4, 5, 1, 2, 3, 4, 1, 2, 3, 4, 5, 2, 1, 3, 4, 5, 2, 1, 2, 3, 4, 5, 2, 4, 5, 2, 4, 5, 4, 1, 2, 4, 5, 1, 2, 3, 4, 5, 1, 2, 3, 4, 5, 1, 2, 3, 4, 5, 3, 1, 2, 4, 5, 2, 1, 2, 3, 4, 5, 1, 2, 3, 4, 5, 1, 3, 4, 1, 3, 4, 5, 1, 2, 5, 5, 5, 1, 2, 3, 4, 5, 5, 4, 3, 1, 2, 3, 4, 5, 1, 2, 3, 4, 5, 4, 1, 2, 3, 4, 5, 1, 2, 3, 4, 5, 1, 2, 3, 4, 5, 1, 3, 1, 1, 2, 3, 4, 5, 1, 2, 3, 4, 5, 3, 1, 2, 3, 4, 5, 1, 2, 3, 4, 5, 1, 2, 1, 2, 3, 4, 5, 1, 2, 3, 4, 5, 3, 1, 2, 3, 4, 5, 1, 2, 3, 4, 5, 1, 2, 3, 4, 5, 1, 2, 3, 4, 5, 1, 2, 3, 4, 5, 1, 2, 3, 4, 5, 2, 5, 1, 2, 3, 4, 5, 4, 1, 2, 3, 4, 5, 5, 1, 2, 3, 4, 5, 1, 2, 3, 4, 5, 1, 2, 3, 4, 5, 1, 2, 3, 4, 5, 1, 2, 3, 4, 5, 4, 3, 2, 2, 1, 2, 3, 4, 5, 1, 2, 3, 4, 5, 1, 2, 3, 4, 5, 1, 2, 3, 4, 5, 1, 2, 3, 4, 5, 1, 2, 3, 4, 5, 1, 2, 3, 4, 5, 3, 4, 3, 4, 4, 1, 2, 3, 4, 5, 2, 4, 1, 2, 3, 4, 5, 3, 1, 2, 3, 4, 5, 1, 2, 3, 4, 5, 1, 2, 3, 4, 5, 5, 3, 4, 5, 5, 3, 5, 2, 1, 2, 3, 4, 5, 1, 2, 3, 4, 5, 3, 2, 1, 2, 1, 2, 3, 4, 5, 4, 1, 2, 3, 4, 5, 4, 1, 2, 3, 4, 5, 1, 2, 3, 4, 5, 1, 2, 3, 4, 5, 1, 2, 3, 4, 5, 1, 2, 3, 4, 5, 5, 1, 2, 3, 4, 5, 3, 1, 2, 3, 4, 5, 4, 5, 1, 2, 3, 4, 5, 1, 2, 3, 4, 5, 3, 4, 5, 1, 2, 3, 4, 5, 5, 1, 2, 3, 4, 5, 3, 2, 4, 5, 1, 2, 3, 4, 5, 1, 2, 3, 4, 5, 1, 2, 3, 4, 5, 2, 3, 4, 5, 1, 2, 3, 4, 5, 2, 2, 4, 5, 3, 1, 4, 1, 2, 3, 4, 5, 2, 3, 1, 2, 3, 4, 5, 1, 2, 3, 4, 5, 1, 2, 3, 4, 5, 1, 4, 5, 3, 4, 4, 5, 3, 5, 1, 2, 3, 4, 5, 1, 2, 3, 4, 5, 2, 1, 2, 3, 4, 5, 1, 4, 1, 2, 3, 4, 5, 1, 2, 3, 4, 5, 1, 3, 4, 2, 4, 5, 1, 4, 2, 4, 1, 2, 3, 4, 5, 1, 2, 3, 4, 5, 2, 3, 2, 1, 2, 3, 4, 5, 5, 2, 5, 3, 1, 2, 3, 4, 5, 1, 2, 4, 5, 1, 2, 3, 4, 5, 1, 1, 2, 3, 4, 5, 1, 1, 2, 3, 4, 5, 1, 2, 3, 4, 5, 1, 2, 3, 4, 5, 1, 2, 3, 4, 5, 1, 2, 3, 4, 5, 1, 2, 4, 5, 5, 3, 5, 3, 1, 2, 4, 5, 3, 1, 5, 1, 2, 3, 4, 5, 1, 2, 4, 5, 1, 2, 3, 4, 5, 1, 2, 3, 4, 5, 2, 5, 1, 2, 3, 4, 5, 2, 1, 2, 3, 5, 1, 2, 3, 4, 5, 3, 4, 5, 2, 3, 4, 5, 4, 2, 5, 2, 4, 3, 1, 2, 3, 4, 5, 1, 2, 3, 4, 5, 2, 4, 4, 5, 4, 1, 1, 2, 3, 4, 5, 3, 1, 3, 1, 2, 3, 4, 5, 2, 5, 1, 2, 1, 1, 2, 3, 4, 5, 1, 2, 3, 4, 5, 1, 2, 3, 4, 5, 5, 3, 4, 2, 2, 1, 2, 5, 5, 1, 2, 3, 4, 5, 1, 2, 2, 4, 5, 4, 1, 2, 3, 4, 5, 1, 2, 3, 4, 5, 4, 1, 2, 3, 4, 5, 1, 4, 4, 1, 4, 4, 4, 1, 2, 3, 4, 5, 1, 2, 3, 4, 4, 1, 2, 3, 4, 5, 3, 1, 2, 3, 4, 1, 2, 3, 4, 5, 1, 2, 3, 4, 5, 4, 1, 2, 3, 4, 5, 1, 2, 3, 4, 5, 1, 2, 3, 4, 5, 1, 2, 3, 4, 5, 1, 2, 3, 4, 5, 1, 2, 3, 4, 1, 2, 3, 4, 5, 1, 2, 3, 4, 5, 4, 1, 2, 3, 4, 5, 2, 3, 4, 1, 2, 3, 4, 5, 1, 3, 1, 3, 4, 5, 1, 4, 1, 3, 4, 5, 1, 2, 3, 4, 5, 1, 2, 3, 4, 5, 1, 2, 3, 4, 5, 1, 2, 3, 4, 5, 1, 2, 3, 4, 5, 1, 2, 3, 4, 5, 3, 2, 1, 2, 3, 4, 5, 5, 5, 2, 1, 1, 2, 3, 4, 5, 1, 4, 1, 2, 3, 4, 5, 1, 2, 3, 4, 5, 1, 2, 3, 4, 5, 1, 2, 3, 4, 5, 1, 2, 3, 4, 5, 1, 4], \"Freq\": [0.11663789277209743, 0.08582788336059999, 0.0924300282344923, 0.5787880339445589, 0.12764146756191794, 0.02606185179594908, 0.9747132571684957, 0.15245818712444192, 0.18200955379173464, 0.007387841666823177, 0.0033581098485559895, 0.6541597984987068, 0.9897779148797928, 0.01407203846872359, 0.9850426928106513, 0.9927004372149988, 0.9939685208610651, 0.9727315800160347, 0.9928574117199938, 0.01172684281586288, 0.01172684281586288, 0.9117620289333389, 0.0586342140793144, 0.008795132111897159, 0.9558591214282116, 0.003921473318679842, 0.039214733186798426, 0.015935420879576848, 0.9481575423348223, 0.031870841759153695, 0.020704785516502736, 0.2245672890636066, 0.6275142687309291, 0.04937295007781422, 0.07804111463912569, 0.026603228474910572, 0.9710178393342358, 0.022965511913647672, 0.8320837649872345, 0.0053253360959183, 0.05125635992321364, 0.08820087908864685, 0.9321301947278918, 0.008542944758198601, 0.024679618190351513, 0.023730402106107225, 0.011390593010931468, 0.19023992144613172, 0.25424587632520407, 0.10489864827403525, 0.3903855263854532, 0.060323072554681285, 0.9903089284881567, 0.0394057919090582, 0.01576231676362328, 0.8945114763356212, 0.03546521271815238, 0.01182173757271746, 0.9911711632319566, 0.015225249333821163, 0.893939639457214, 0.015225249333821163, 0.07612624666910582, 0.01600375341654216, 0.3787554975248311, 0.002133833788872288, 0.03200750683308432, 0.5729343723122093, 0.9852401069498192, 0.017982626970321738, 0.035965253940643475, 0.017982626970321738, 0.9261052889715695, 0.17409475779979908, 0.19465713076827929, 0.058945469176309925, 0.43592230693178036, 0.13571166159196937, 0.9883475860064684, 0.1470313137139717, 0.07550256650176926, 0.04901043790465724, 0.694093769244335, 0.033115160746390024, 0.569695035927386, 0.09073471851585, 0.12643362416143034, 0.11056744387450573, 0.10263435373104345, 0.24096438909518225, 0.09861248926667525, 0.14314716183872214, 0.42785096149573615, 0.08906934514409377, 0.9960526267057409, 0.1928836170766818, 0.8046002312341584, 0.5808743182638999, 0.05763912750137926, 0.04034738925096549, 0.261937812756268, 0.058919997001409916, 0.09469556866119597, 0.07575645492895677, 0.09785208761656916, 0.6628689806283717, 0.07259993597358358, 0.03832772735136521, 0.9581931837841301, 0.9904067467816717, 0.9874345362270669, 0.9787016822587481, 0.09824172137564148, 0.09210161378966389, 0.6846219958365015, 0.12587220551254064, 0.9835611602693994, 0.010629371425106556, 0.9725874853972499, 0.015944057137659836, 0.9909646084055985, 0.005336748488012395, 0.6297363215854626, 0.0026683742440061975, 0.008005122732018592, 0.3540043163714889, 0.18121966579880722, 0.16489356978089667, 0.38325510402045043, 0.033876649237164415, 0.23632023985925538, 0.9920681136602466, 0.9827906440871995, 0.4464700035460503, 0.055910036741701405, 0.09075252340681966, 0.021877840464144028, 0.3856982244789836, 0.9820280756160281, 0.0020672770895671876, 0.6876797238445249, 0.0032559614160683203, 0.003927826470177656, 0.3031145032577889, 0.004171168318845278, 0.9593687133344139, 0.020855841594226387, 0.01668467327538111, 0.004681345367322702, 0.9503131095665085, 0.02340672683661351, 0.02340672683661351, 0.9703286078628888, 0.9794128909138741, 0.9846382933116737, 0.34157313787117666, 0.1553624945653792, 0.06954855352385206, 0.2720245843473246, 0.16153212431346287, 0.012841202800673485, 0.008560801867115657, 0.9459686063162801, 0.021402004667789142, 0.008560801867115657, 0.9870898703567967, 0.9957952727547207, 0.1701862946717304, 0.01529323846128453, 0.004705611834241394, 0.0388212976324915, 0.7709360721765484, 0.005737698550982066, 0.011475397101964132, 0.011475397101964132, 0.9696710551159691, 0.9774999426652314, 0.027087599592610954, 0.9480659857413833, 0.013543799796305477, 0.38989035258575994, 0.0929246868079554, 0.25566580497426883, 0.2119076191229036, 0.04965816596615606, 0.003354817028978799, 0.05367707246366078, 0.8823168786214242, 0.04696743840570319, 0.013419268115915196, 0.01226115934628136, 0.01226115934628136, 0.919586950971102, 0.05517521705826612, 0.00613057967314068, 0.9772923258053787, 0.005131424419591786, 0.8954335612187667, 0.007697136629387679, 0.09236563955265215, 0.06295361675982855, 0.9285658472074712, 0.9862272587135528, 0.008575889206204806, 0.008575889206204806, 0.9682257801313721, 0.016137096335522867, 0.01210282225164215, 0.9957653238445712, 0.9713538707360923, 0.012453254753026824, 0.9879655425746342, 0.6642828576632691, 0.08393347808233047, 0.03951731847456026, 0.15088430690286644, 0.06107221946068404, 0.9951006265845673, 0.03600129537961883, 0.03600129537961883, 0.7990531413525155, 0.06673410850856173, 0.06234370663299846, 0.05303363076097667, 0.1308162892104091, 0.06717593229723712, 0.7177218029652176, 0.03535575384065111, 0.9909920417864974, 0.9920726566461947, 0.009298578168989564, 0.9647274850326673, 0.004649289084494782, 0.020921800880226517, 0.0035929352659521325, 0.0025150546861664926, 0.008263751111689905, 0.010778805797856398, 0.9744040441262184, 0.986126556941115, 0.9651919884255753, 0.01229543934300096, 0.00614771967150048, 0.01229543934300096, 0.9868797468834262, 0.0036445531815578643, 0.6371893812423666, 0.0036445531815578643, 0.015793063786750744, 0.3389434458848814, 0.959942356905245, 0.01177843382705822, 0.02355686765411644, 0.9879144535929779, 0.015900131194749305, 0.9778580684770822, 0.9844867078047049, 0.0057332042927431175, 0.9249569592292229, 0.028666021463715587, 0.04204349814678286, 0.545015181031832, 0.1310407020040289, 0.11348080893816237, 0.1863543651615084, 0.02414485296556646, 0.031166164720757634, 0.02425906875561675, 0.8689463655657723, 0.04177950730133996, 0.03386161680471505, 0.02668561058504951, 0.010988192593843916, 0.7503365799796274, 0.17424133970238212, 0.036104061379772866, 0.9843886980338284, 0.040001404954706145, 0.9280325949491824, 0.026667603303137426, 0.0053335206606274855, 0.984633660452223, 0.06977276452872688, 0.04520488969466813, 0.8254805944243745, 0.05601475462165398, 0.003930859973449402, 0.01856400211865075, 0.01856400211865075, 0.8864311011655732, 0.04176900476696418, 0.03248700370763881, 0.9765252503677515, 0.011765185257502565, 0.9765103763727129, 0.07522941133898654, 0.0221262974526431, 0.01106314872632155, 0.8894771575962527, 0.9762354941609463, 0.016009312613880198, 0.976568069446692, 0.9967508060350001, 0.972158415235597, 0.4939167341284234, 0.08256695856145622, 0.2598780170549432, 0.13840360679726116, 0.02554229653340013, 0.9716270287941402, 0.9752966774954573, 0.9931917331258984, 0.9468139857025086, 0.014455175354236773, 0.007227587677118386, 0.014455175354236773, 0.02168276303135516, 0.04908562010769693, 0.02484580770883425, 0.8023377904023549, 0.025451803018805817, 0.09877723552536544, 0.9919068512559593, 0.030339005259222517, 0.007584751314805629, 0.8477418200317368, 0.0770143979657187, 0.037340314165196946, 0.0495588910439831, 0.034071737592738384, 0.7929422567037296, 0.08363062863672148, 0.04026659897323627, 0.025459000505575147, 0.6385392559236145, 0.0006880810947452742, 0.00825697313694329, 0.32752660109875054, 0.9849772414207285, 0.985461046864186, 0.9917503384535611, 0.09328586066148446, 0.00365826904554841, 0.7060459257908432, 0.15547643443580744, 0.042070094023806716, 0.8116590169953868, 0.017799539846390062, 0.003559907969278012, 0.07297811337019926, 0.09433756118586732, 0.9896377678918549, 0.978295488842784, 0.03088422866320235, 0.023163171497401765, 0.9342479170618712, 0.007721057165800588, 0.008517853057826603, 0.2384998856191449, 0.008517853057826603, 0.7197585833863479, 0.02555355917347981, 0.9834745524682452, 0.9928446001223132, 0.19212616955353007, 0.09606308477676503, 0.07882099263734567, 0.6034732248796777, 0.029557872239004624, 0.6037034491195616, 0.15412521235586965, 0.09458948050721241, 0.1235227333682421, 0.024481983190102037, 0.9841337332844465, 0.2727381880559444, 0.024794380732358585, 0.04667177549620439, 0.03208684565364052, 0.6242349972617337, 0.10609633334965765, 0.07333128922696926, 0.6162948775458055, 0.09361441177910969, 0.11077705393861313, 0.26452640338062555, 0.16203973400802718, 0.32061708053725035, 0.15580743654617998, 0.09763932690227278, 0.7305676973897531, 0.13649047034566625, 0.09623069132284383, 0.012765295787724182, 0.024548645745623425, 0.918897935050568, 0.012170833576828716, 0.012170833576828716, 0.05476875109572922, 0.006085416788414358, 0.7783342878730503, 0.04694947636557513, 0.043281548524514574, 0.10930424966360461, 0.022741152614575454, 0.9478156720961581, 0.05100353392445694, 0.8269254206458871, 0.0943963586684554, 0.02746983982415369, 0.017980258793991507, 0.03329677554442872, 0.9877923248056043, 0.8109130219105477, 0.03225854270974744, 0.03337090625146287, 0.10122508229610404, 0.02224727083430858, 0.9802919743443644, 0.5681080747258896, 0.14525640332898618, 0.08040508714217928, 0.19587206474307936, 0.010544929461269415, 0.8480642169863067, 0.03891690479478272, 0.04378151789413056, 0.02918767859608704, 0.04215998019434795, 0.7375692254581271, 0.08922569961469136, 0.049769108830305234, 0.10402192115883616, 0.019279925042370496, 0.32174900756895486, 0.023339306248525222, 0.06835082544210958, 0.4934596178259618, 0.09335722499410089, 0.6936128384095142, 0.06346516526179144, 0.10563879120994962, 0.08148108314255804, 0.05568556435873313, 0.9827046258935959, 0.9808754258061164, 0.9942529866429348, 0.9785839349295976, 0.02662967400536286, 0.8007000038311531, 0.010858702021604272, 0.027922376626982413, 0.1336654510754621, 0.8883219065835279, 0.0374388543004552, 0.013614128836529163, 0.023824725463926038, 0.0374388543004552, 0.1288141799061368, 0.043630609323046333, 0.1350471240951434, 0.6565367879086972, 0.03532001707103751, 0.008734112160143321, 0.6649789498111431, 0.0038369510067681645, 0.016862389950796933, 0.3055929532101013, 0.008422153701686485, 0.7997806726716896, 0.008422153701686485, 0.08519332398244406, 0.09847441251202659, 0.006192461811199839, 0.7599991644502289, 0.002677821323762092, 0.011882832124194284, 0.21924662088302133, 0.014522450617060834, 0.41510004680432216, 0.001210204218088403, 0.037516330760740485, 0.5312796517408088, 0.9831865580156357, 0.9837766575304528, 0.9795870317274812, 0.01718573739872774, 0.97425238207308, 0.010870403097880635, 0.0033215120576857494, 0.008454757965018272, 0.018721249779683317, 0.9587091621047504, 0.988224604645571, 0.011858695255746853, 0.0725710914451252, 0.012095181907520867, 0.8103771878038981, 0.08466627335264608, 0.02116656833816152, 0.9906224568582584, 0.004777768459212607, 0.7934215147472482, 0.0022493274189420175, 0.01942302435480589, 0.18012679644680932, 0.03824407248832839, 0.0028212840360242256, 0.0009404280120080752, 0.004075188052034992, 0.9539074801801909, 0.12502223142075755, 0.8010067965228854, 0.010307683973519903, 0.007980142431112183, 0.05586099701778528, 0.9909364875645362, 0.00939131767365743, 0.9860883557340302, 0.9960198863484058, 0.9910159418729878, 0.004955581048080976, 0.9935940001402358, 0.9906654469305975, 0.7945264479202734, 0.11784545285312407, 0.031011961277137914, 0.021088133668453784, 0.034733396630394466, 0.10176213942688167, 0.046861120639015486, 0.6918906635525227, 0.1109505944541396, 0.04846910026878562, 0.9816681717999164, 0.9933586360226192, 0.9886700181007424, 0.9907671756625251, 0.055015212500350935, 0.0051576761719079, 0.8149128351614482, 0.0670497902348027, 0.05845366328162287, 0.9888497484114057, 0.04195540865256611, 0.04083659775516434, 0.001118810897401763, 0.004475243589607052, 0.9115511786580863, 0.9836270846356187, 0.7223632461923314, 0.12811968448509264, 0.10880515918583246, 0.016739255259358838, 0.02382124786908758, 0.58462782591515, 0.1273499951671788, 0.11230442611789185, 0.13326075443654153, 0.0424499983890596, 0.671719331450358, 0.10284353789871649, 0.09061738304362432, 0.08989819746391302, 0.04458950594210086, 0.06412065328766536, 0.018475442472717138, 0.7955308170605262, 0.10107153823309964, 0.021735814673784867, 0.5757543453784144, 0.11570962784192154, 0.06076501582845377, 0.18439039285875627, 0.06332599350704761, 0.9924508368310125, 0.6984061616451082, 0.09911512593406625, 0.04600280106644425, 0.10580644245282178, 0.050603081173088676, 0.9854846936187729, 0.02718831958957872, 0.412859667841751, 0.0030209243988420804, 0.0714952107725959, 0.4853618534139609, 0.015879876500049264, 0.9845523430030544, 0.004925967344321882, 0.6192644661433223, 0.002111128861852235, 0.012666773171113409, 0.3617067449973496, 0.022421167895064403, 0.01569481752654508, 0.8878782486445503, 0.02017905110555796, 0.05605291973766101, 0.015886849570136773, 0.02383027435520516, 0.9611543989932747, 0.8764921207914622, 0.005140716250976318, 0.09767360876855004, 0.017992506878417112, 0.005140716250976318, 0.9861513282887525, 0.7766818829360578, 0.06861850182149551, 0.12530335115229613, 0.01193365249069487, 0.017900478736042304, 0.9917662160058549, 0.014626473137681117, 0.9653472270869538, 0.014626473137681117, 0.19910962248045885, 0.04977740562011471, 0.6303334516025396, 0.06222175702514339, 0.05843434572796075, 0.055514119533142246, 0.014894032069867431, 0.7812596822103189, 0.12727627405159442, 0.020310043731637407, 0.07054135199277033, 0.17875041621468984, 0.3561310974392288, 0.23422468331580049, 0.15957412635257753, 0.02386715705906488, 0.9367859145682966, 0.029833946323831104, 0.00596678926476622, 0.007794810944578413, 0.7027321866958385, 0.005696207997961148, 0.04347106103707192, 0.2401401371772042, 0.9890152474602235, 0.10976519574597779, 0.828228295174196, 0.05987192495235152, 0.9917201826711302, 0.015006404261334748, 0.9754162769867586, 0.007588827626701291, 0.0037944138133506455, 0.014593899282117868, 0.020431458994965013, 0.9535653790935814, 0.007221329350902134, 0.9893221210735924, 0.8729710148181085, 0.035826443836584475, 0.009553718356422528, 0.06448759890585205, 0.016719007123739422, 0.3949397857017551, 0.09237021434181544, 0.14263527797658426, 0.25687405896469523, 0.1135859879538932, 0.6007562928988766, 0.1429274372975071, 0.05348252492422846, 0.1738182060037425, 0.029046543708848217, 0.03362907244160622, 0.008407268110401555, 0.9500212964753758, 0.012052389058701655, 0.9762435137548341, 0.9757990389992557, 0.01524685998436337, 0.9709516551535956, 0.02157670344785768, 0.014610575665293082, 0.6375149776208164, 0.0014404792909443883, 0.12532169831216178, 0.22080489702618983, 0.21058977179162044, 0.3101413002749319, 0.20867531932078753, 0.09907291536560325, 0.17182210925725394, 0.990022712214464, 0.3693824599585819, 0.062013113715674334, 0.09706400407670765, 0.41072453576903145, 0.0611143729371863, 0.9865456914294342, 0.9885607404776267, 0.6264968732726964, 0.10055291139551355, 0.1351587834991643, 0.11622349498961955, 0.021220581950351883, 0.07748322404988253, 0.8018568771796379, 0.005858487672064289, 0.019181822539178234, 0.09572012922259879, 0.9506900282147668, 0.017524240151424272, 0.02628636022713641, 0.27037435403275584, 0.0056920916638474916, 0.7257416871405552, 0.9919793418644384, 0.9862626613275317, 0.00818201370144196, 0.9900236578744772, 0.04904832637011312, 0.005770391337660367, 0.879984678993206, 0.040392739363622567, 0.02452416318505656, 0.3866892253522498, 0.12262118856564763, 0.05037135961825359, 0.35768753345083104, 0.08293466280581147, 0.004735887718256723, 0.9945364208339118, 0.9864434944406398, 0.010806893371669232, 0.21748872910484326, 0.002701723342917308, 0.025666371757714423, 0.7429739193022596, 0.9818770416346723, 0.9912131897341194, 0.9909238662266027, 0.9863440152619615, 0.7837330995439432, 0.032363978440988726, 0.08484610564259207, 0.0586050420417904, 0.04023629752122923, 0.010228209840893815, 0.9716799348849124, 0.015342314761340724, 0.0051141049204469075, 0.4383776902258066, 0.07048216213131117, 0.3166357738171782, 0.15271135128450752, 0.021892186722604227, 0.9763908452975685, 0.0011627729379512875, 0.7639418202339958, 0.002325545875902575, 0.06976637627707724, 0.16395098425113153, 0.9750880710192956, 0.3042483141829015, 0.12432738420098632, 0.05660433752240028, 0.5033742872527739, 0.011118709156185768, 0.0276499721644818, 0.042538418714587384, 0.8656568208418532, 0.023396130293023062, 0.042538418714587384, 0.4102474363710947, 0.1766983340175127, 0.03533966680350254, 0.28271733442802033, 0.09449519601806114, 0.050489777261040696, 0.02089232162525822, 0.82176465059349, 0.08531031330313774, 0.02089232162525822, 0.04517015267063762, 0.009714011327018842, 0.704751521775217, 0.0738264860853432, 0.16708099482472408, 0.07193552228892156, 0.047957014859281034, 0.8352513421324781, 0.04396059695434095, 0.9790581359787061, 0.9827475002653536, 0.01228434375331692, 0.980917721324209, 0.014248487272594385, 0.011508393566326235, 0.014248487272594385, 0.9601288346763601, 0.9791965889297931, 0.9844464320588343, 0.9818640125792041, 0.07471377604386864, 0.014179256767449524, 0.8109444158922093, 0.05998916324690183, 0.04035634618427941, 0.007146226041956303, 0.04645046927271597, 0.9325824984752975, 0.014292452083912607, 0.10307773502371004, 0.3981190780263584, 0.02016738293942153, 0.4160456406391775, 0.06348990925373445, 0.08480211813466003, 0.5030525649346625, 0.009600239788829438, 0.054721366796327796, 0.3478486883485866, 0.0077853160834746755, 0.9809498265178092, 0.8402231865045101, 0.05719509535362954, 0.027235759692204542, 0.044939003492137496, 0.029959335661424995, 0.9889132349846654, 0.004206742862432834, 0.9843778298092831, 0.004206742862432834, 0.008413485724865668, 0.04442268378676499, 0.3848149049503814, 0.012808994711521193, 0.06540763256946992, 0.49246496688763397, 0.016200511557196647, 0.008100255778598324, 0.9720306934317988, 0.9589013676129621, 0.00472365205720671, 0.00944730411441342, 0.025980086314636903, 0.9833484969985009, 0.9882247886334833, 0.01179265857557856, 0.984329807909563, 0.009464709691438106, 0.9889070587859753, 0.04589774884057938, 0.01197332578449897, 0.0039911085948329894, 0.009977771487082473, 0.9279327482986701, 0.009960870063390649, 0.5105916122104271, 0.0016817053353776418, 0.0200511020756565, 0.457682575120469, 0.9689684092756405, 0.03043879819714054, 0.00550617794555154, 0.993865119172053, 0.9757439997818931, 0.9825220489533298, 0.005486857503250884, 0.7489560491937457, 0.001828952501083628, 0.18746763136107186, 0.056697527533592466, 0.985361220854935, 0.9943598926881049, 0.995383208923143, 0.009947677562704363, 0.13065891875629, 0.004782537289761713, 0.00516514027294265, 0.8495699241532707, 0.9849182427367477, 0.9942678107098049, 0.994529522639793, 0.9869095749575869, 0.9858018185263591, 0.17893936143964037, 0.04129369879376316, 0.2064684939688158, 0.5316563719697007, 0.04129369879376316, 0.06523349058813167, 0.06686432785283496, 0.732245931851778, 0.10600442220571396, 0.030985908029362543, 0.32250445113146176, 0.02226686080251179, 0.02190183029755258, 0.021171769287634163, 0.6121561568165946, 0.9866132154826758, 0.023781071431616146, 0.963133392980454, 0.988237274504051, 0.9871379831239878, 0.994542189109147, 0.003293186056652805, 0.991639412027664, 0.9912812749710431, 0.4007128093479746, 0.08858590603893049, 0.14395209731326203, 0.2477637059526337, 0.1183452338488837, 0.011222426454782128, 0.9885087302253924, 0.9810712588798273, 0.007231483480686688, 0.012052472467811147, 0.9802065949610488, 0.5356678918167316, 0.012522106561949568, 0.03965333744617364, 0.33740120458586337, 0.07443696678492244, 0.3961340569397146, 0.20663723643249535, 0.0752273810053785, 0.2880542120775569, 0.03380470918596122, 0.9938898881021414, 0.6955077698241158, 0.12137449025633248, 0.06787389257755436, 0.1006130642914335, 0.014373294898776215, 0.9834721541902754, 0.9763279465513368, 0.9838184047959292, 0.017833701277960957, 0.9808535702878527, 0.9814364341865313, 0.9838248502166678, 0.13271540024650927, 0.18658996866340904, 0.12483131706354832, 0.46778893552234946, 0.08803892887639723, 0.0331829286541671, 0.952094799077256, 0.005105065946794939, 0.007657598920192408, 0.9757760308654575, 0.6385370432785711, 0.06105037096712192, 0.10465777880078042, 0.0841000008220557, 0.11151037146035533, 0.9809028051339437, 0.5278918785024419, 0.012932763170438445, 0.3062713459908377, 0.15284174655972707, 0.021062332725048486, 0.9361843752616378, 0.0036314366767324973, 0.0018157183383662487, 0.03740379777034472, 0.8152797952178445, 0.08714392110404513, 0.036794100021707944, 0.05034982108233719, 0.013555721060629243, 0.9858359415866585, 0.1257913457226786, 0.010705646444483286, 0.01873488127784575, 0.8350404226696964, 0.010705646444483286, 0.7124918717678368, 0.051466681482101075, 0.08041668981578293, 0.12223336851999006, 0.032970842824471, 0.7398132124051542, 0.026952993919283255, 0.01765885808504765, 0.17658858085047652, 0.039035370503789545, 0.9322123537094418, 0.028950694214578937, 0.011580277685831575, 0.005790138842915788, 0.02316055537166315, 0.637046453537152, 0.10235841536749164, 0.09885668010491956, 0.08942893132107164, 0.0724589835101454, 0.01724830180359038, 0.09774037688701215, 0.005749433934530127, 0.8739139580485793, 0.5989205712135035, 0.03453691057630611, 0.06233491177186956, 0.2732066178109418, 0.03116745588593478, 0.4434102755862893, 0.11798569072122134, 0.10371944707192333, 0.2452251611068522, 0.08983877757530906, 0.9878988595064273, 0.09848836321670658, 0.008953487565155143, 0.007461239637629286, 0.6715115673866358, 0.2118992057086717, 0.9875774951603977, 0.010077321379187732, 0.9803519784710253, 0.011137930041289077, 0.8472252118073891, 0.042324134156898494, 0.003712643347096359, 0.09504366968566678, 0.9855155111326832, 0.9814683104155818, 0.014242860500917368, 0.09970002350642158, 0.8616930603055007, 0.014242860500917368, 0.9659774685181289, 0.01931954937036258, 0.013480680921381848, 0.033701702303454616, 0.04044204276414554, 0.9166863026539656, 0.05025475233227082, 0.024260914919027293, 0.8733929370849826, 0.031192604895892234, 0.020795069930594823, 0.08313743535819663, 0.028578493404380092, 0.8209821741621918, 0.04156871767909832, 0.023382403694492803, 0.5372493243413538, 0.1312735905630457, 0.05429216399829668, 0.24107341476855615, 0.036464886267512694, 0.023972246934582775, 0.7153420494840924, 0.001020095614237565, 0.026267462066617297, 0.233346871756843, 0.004280839316286404, 0.9928489471415681, 0.0015288711843880014, 0.00030577423687760025, 0.0006115484737552005, 0.8129653699255384, 0.09529976824485976, 0.01555914583589547, 0.056401903655121086, 0.021393825524356272, 0.9753670206000694, 0.9851115123828736, 0.003717763734740188, 0.984174677557611, 0.0030981364456168234, 0.004543933453571341, 0.004543933453571341, 0.9909991248386362, 0.9847265505711399, 0.9957226068323227, 0.9817358597239912, 0.007474444639824617, 0.032389260105906675, 0.014948889279649234, 0.9293226168848607, 0.019931852372865645, 0.022397182572753912, 0.9705445781526695, 0.812056360069297, 0.07660909057257519, 0.009524373422536375, 0.07785140014942776, 0.02360388196019884, 0.48845783808569104, 0.018596110587018697, 0.019835851292819943, 0.4252310620898275, 0.04834988752624861, 0.1975244427322721, 0.03440748357271836, 0.57473241078874, 0.13762993429087345, 0.0560714547110966, 0.8350932197683162, 0.06697146934312191, 0.021868234887550013, 0.04236970509462815, 0.03280235233132502, 0.8488336493567357, 0.03482394458899428, 0.07400088225161285, 0.03700044112580642, 0.006529489610436428, 0.9738856591396311, 0.022648503700921654], \"Term\": [\"accident\", \"accident\", \"accident\", \"accident\", \"accident\", \"accident_clear\", \"accident_clear\", \"account\", \"account\", \"account\", \"account\", \"account\", \"account_clerk\", \"account_executive\", \"account_executive\", \"accountant\", \"accountemps\", \"administration\", \"administrative\", \"aeropuerto_internacional_de\", \"aeropuerto_internacional_de\", \"aeropuerto_internacional_de\", \"aeropuerto_internacional_de\", \"aeropuerto_internacional_de\", \"aerotek\", \"aerotek\", \"aerotek\", \"aicm_venustiano_carranza_df\", \"aicm_venustiano_carranza_df\", \"aicm_venustiano_carranza_df\", \"al\", \"al\", \"al\", \"al\", \"al\", \"albany_ny\", \"albany_ny\", \"alert\", \"alert\", \"alert\", \"alert\", \"alert\", \"always\", \"always\", \"always\", \"always\", \"always\", \"amp\", \"amp\", \"amp\", \"amp\", \"amp\", \"applications_sales\", \"aqui\", \"aqui\", \"aqui\", \"aqui\", \"aqui\", \"assembler\", \"assistant_manager\", \"assistant_manager\", \"assistant_manager\", \"assistant_manager\", \"associate\", \"associate\", \"associate\", \"associate\", \"associate\", \"aurora_il\", \"available_tap\", \"available_tap\", \"available_tap\", \"available_tap\", \"ave\", \"ave\", \"ave\", \"ave\", \"ave\", \"ave_traffic\", \"avenue\", \"avenue\", \"avenue\", \"avenue\", \"avenue\", \"back\", \"back\", \"back\", \"back\", \"back\", \"bar\", \"bar\", \"bar\", \"bar\", \"bar\", \"barista_us\", \"barista_us_hospitality\", \"barista_us_hospitality\", \"beautiful\", \"beautiful\", \"beautiful\", \"beautiful\", \"beautiful\", \"beauty\", \"beauty\", \"beauty\", \"beauty\", \"beauty\", \"bill_mt\", \"bill_mt\", \"boise_id\", \"boulder_co\", \"boyntonbeach_fl\", \"bridge\", \"bridge\", \"bridge\", \"bridge\", \"brookfield_wi\", \"burlington\", \"burlington\", \"burlington\", \"business_analyst\", \"businessmgmt\", \"businessmgmt\", \"businessmgmt\", \"businessmgmt\", \"businessmgmt\", \"ca\", \"ca\", \"ca\", \"ca\", \"ca\", \"ca_click_detail\", \"cable\", \"california\", \"california\", \"california\", \"california\", \"california\", \"canton\", \"careerarc\", \"careerarc\", \"careerarc\", \"careerarc\", \"careerarc\", \"carhop_server\", \"carhop_server\", \"carhop_server\", \"carhop_server\", \"carhop_skate\", \"carhop_skate\", \"carhop_skate\", \"carhop_skate\", \"cater\", \"cath_lab\", \"cdl_owner_operator_truck\", \"center\", \"center\", \"center\", \"center\", \"center\", \"centro\", \"centro\", \"centro\", \"centro\", \"centro\", \"cfgjobs\", \"chattanooga_tn\", \"check\", \"check\", \"check\", \"check\", \"check\", \"check_list\", \"check_list\", \"check_list\", \"check_list\", \"chic\", \"chicago_hare_international_airport\", \"chicago_hare_international_airport\", \"chicago_hare_international_airport\", \"city\", \"city\", \"city\", \"city\", \"city\", \"ciudad_de_mexico\", \"ciudad_de_mexico\", \"ciudad_de_mexico\", \"ciudad_de_mexico\", \"ciudad_de_mexico\", \"ciudad_de_mexico_mex\", \"ciudad_de_mexico_mex\", \"ciudad_de_mexico_mex\", \"ciudad_de_mexico_mex\", \"ciudad_de_mexico_mex\", \"civil\", \"clerical\", \"clerical\", \"clerical\", \"clerical\", \"clerk\", \"clerk\", \"click_detail_hospitality\", \"click_detail_hospitality\", \"click_detail_hospitality\", \"click_detail_retail\", \"click_detail_retail\", \"click_detail_retail\", \"click_detail_sales\", \"co_port_huron\", \"co_port_huron\", \"cognizant\", \"come\", \"come\", \"come\", \"come\", \"come\", \"common\", \"con\", \"con\", \"con\", \"con\", \"con\", \"concert\", \"concert\", \"concert\", \"concert\", \"concert\", \"contest\", \"corporativo\", \"cosmetology\", \"cosmetology\", \"cosmetology\", \"cosmetology\", \"could_great_fit\", \"could_great_fit\", \"could_great_fit\", \"could_great_fit\", \"could_great_fit\", \"creative_group\", \"crossfit\", \"crossfit\", \"crossfit\", \"crossfit\", \"customer_service_associate_fedex\", \"customerservice\", \"customerservice\", \"customerservice\", \"customerservice\", \"customerservice\", \"cvs_health\", \"cvs_health\", \"cvs_health\", \"cvs_health_healthcare\", \"cvs_health_job\", \"cvs_health_job\", \"cvs_health_pharmacy_technician\", \"dallas_tx\", \"dallas_tx\", \"dallas_tx\", \"dallas_tx\", \"day\", \"day\", \"day\", \"day\", \"day\", \"de\", \"de\", \"de\", \"de\", \"de\", \"del\", \"del\", \"del\", \"del\", \"del\", \"delay_mins\", \"department_veterans_affairs\", \"department_veterans_affairs\", \"department_veterans_affairs\", \"department_veterans_affairs\", \"desmoines_ia\", \"df\", \"df\", \"df\", \"df\", \"df\", \"dia\", \"dia\", \"dia\", \"dia\", \"dia\", \"diabetes\", \"diesel_mechanic_tire_care\", \"diesel_mechanic_tire_care\", \"director\", \"director\", \"director\", \"director\", \"discovery\", \"district_manager_trainee\", \"district_manager_trainee\", \"dressbarn\", \"dressbarn_dressbarn\", \"drink\", \"drink\", \"drink\", \"drink\", \"drink\", \"drivers\", \"drug\", \"edificio\", \"egg\", \"egg\", \"egg\", \"egg\", \"egg\", \"el\", \"el\", \"el\", \"el\", \"el\", \"emerson_electric_co\", \"en\", \"en\", \"en\", \"en\", \"en\", \"en_el\", \"en_el\", \"en_el\", \"en_el\", \"en_el\", \"engineer\", \"engineer\", \"engineer\", \"engineer\", \"engineer\", \"englewood_co\", \"equinox\", \"erie_pa\", \"es\", \"es\", \"es\", \"es\", \"es\", \"excite\", \"excite\", \"excite\", \"excite\", \"excite\", \"facultad_de\", \"familypractice\", \"father\", \"father\", \"father\", \"father\", \"favorite_health_care_staff\", \"favorite_health_care_staff\", \"favorite_health_care_staff\", \"favorite_health_care_staff\", \"favorite_health_care_staff\", \"fayetteville_nc\", \"fedex_office\", \"fire\", \"fire\", \"fire\", \"fire\", \"fire\", \"first\", \"first\", \"first\", \"first\", \"first\", \"fiserv\", \"fit\", \"fit\", \"fit\", \"fit\", \"fit\", \"florida\", \"florida\", \"florida\", \"florida\", \"florida\", \"friday\", \"friday\", \"friday\", \"friday\", \"friday\", \"friends\", \"friends\", \"friends\", \"friends\", \"friends\", \"gallery\", \"gallery\", \"gallery\", \"gallery\", \"gallery\", \"game\", \"game\", \"game\", \"game\", \"game\", \"genuine_part_napa\", \"genuine_part_napa\", \"get\", \"get\", \"get\", \"get\", \"get\", \"gilbert_az\", \"give\", \"give\", \"give\", \"give\", \"give\", \"glendale_ca\", \"go\", \"go\", \"go\", \"go\", \"go\", \"god\", \"god\", \"god\", \"god\", \"god\", \"good\", \"good\", \"good\", \"good\", \"good\", \"good_morning\", \"good_morning\", \"good_morning\", \"good_morning\", \"good_morning\", \"great\", \"great\", \"great\", \"great\", \"great\", \"great_clip\", \"greenville\", \"hair_cuttery_salon\", \"hair_stylist_great_clip\", \"healthcare\", \"healthcare\", \"healthcare\", \"healthcare\", \"healthcare\", \"help\", \"help\", \"help\", \"help\", \"help\", \"high\", \"high\", \"high\", \"high\", \"high\", \"hire\", \"hire\", \"hire\", \"hire\", \"hire\", \"hire_click_apply\", \"hire_click_apply\", \"hire_click_apply\", \"hire_click_apply\", \"hire_click_apply\", \"hospitality\", \"hospitality\", \"hospitality\", \"hospitality\", \"hospitality\", \"houston_tx\", \"houston_tx\", \"houston_tx\", \"houston_tx\", \"houston_tx\", \"huntsville_al\", \"incident_sb\", \"instituto\", \"instituto\", \"interchange\", \"interest\", \"interest\", \"interest\", \"interest\", \"interest\", \"interpreter_bilingual\", \"interpreter_bilingual\", \"ipa\", \"ipa\", \"ipa\", \"ipa\", \"ipa\", \"jfk_queen_ny\", \"job\", \"job\", \"job\", \"job\", \"job\", \"job_click_apply\", \"job_click_apply\", \"job_click_apply\", \"job_click_apply\", \"job_click_apply\", \"join\", \"join\", \"join\", \"join\", \"join\", \"join_robert_half\", \"jueves\", \"jueves\", \"kelly_service\", \"kellyjobs\", \"kellyjobs_kellyservices\", \"kellyjobs_kellyservices\", \"kindred_healthcare\", \"know\", \"know\", \"know\", \"know\", \"know\", \"la\", \"la\", \"la\", \"la\", \"la\", \"lakeland_fl\", \"lakers\", \"lane_block\", \"languageline_solutions\", \"las\", \"las\", \"las\", \"las\", \"las\", \"lash\", \"latest\", \"latest\", \"latest\", \"latest\", \"latest\", \"latte\", \"life\", \"life\", \"life\", \"life\", \"life\", \"like\", \"like\", \"like\", \"like\", \"like\", \"little\", \"little\", \"little\", \"little\", \"little\", \"los\", \"los\", \"los\", \"los\", \"los\", \"love\", \"love\", \"love\", \"love\", \"love\", \"macy_beauty\", \"make\", \"make\", \"make\", \"make\", \"make\", \"mambaday\", \"manager\", \"manager\", \"manager\", \"manager\", \"manager\", \"manager_trainee\", \"manager_trainee\", \"manufacture\", \"manufacture\", \"manufacture\", \"manufacture\", \"manufacture\", \"mas\", \"mas\", \"mas\", \"mas\", \"mas\", \"mcdonald_corporation\", \"mcdonald_corporation\", \"mcdonald_corporation\", \"mean\", \"mean\", \"mean\", \"mean\", \"mean\", \"mechanic\", \"meet\", \"meet\", \"meet\", \"meet\", \"meet\", \"mental_health\", \"mercado\", \"mercado\", \"mercado\", \"mexico\", \"mexico\", \"mexico\", \"mexico\", \"mexico\", \"mexico_city\", \"mexico_city\", \"mexico_city\", \"mexico_city\", \"mexico_city\", \"mi\", \"mi\", \"mi\", \"mi\", \"mi\", \"miami_beach\", \"miami_beach\", \"miami_beach\", \"miami_beach\", \"might_great_fit\", \"might_great_fit\", \"might_great_fit\", \"might_great_fit\", \"might_great_fit\", \"montgomery_al\", \"nail\", \"nail\", \"nail\", \"napa\", \"nashua_nh\", \"nashua_nh\", \"near\", \"near\", \"near\", \"near\", \"near\", \"nettempsjobs\", \"nettempsjobs\", \"never\", \"never\", \"never\", \"never\", \"never\", \"new\", \"new\", \"new\", \"new\", \"new\", \"night\", \"night\", \"night\", \"night\", \"night\", \"nordstrom\", \"nordstrom\", \"nordstrom\", \"norfolk_va\", \"norfolk_va\", \"north_exit\", \"north_exit\", \"nowplaying_thumb_coast_brew\", \"nowplaying_thumb_coast_brew\", \"nurse\", \"nurse\", \"nurse\", \"nurse\", \"nurse\", \"ny\", \"ny\", \"ny\", \"ny\", \"ny\", \"ny_directions\", \"nyc\", \"nyc\", \"nyc\", \"nyc\", \"nyc\", \"occupational_therapist\", \"oh_click_detail\", \"one\", \"one\", \"one\", \"one\", \"one\", \"open\", \"open\", \"open\", \"open\", \"open\", \"operations\", \"operations\", \"operations\", \"oracle\", \"oracle\", \"oracle\", \"outpatient\", \"package_handler_part_time\", \"paloalto_ca\", \"paloalto_ca\", \"para\", \"para\", \"para\", \"para\", \"para\", \"park\", \"park\", \"park\", \"park\", \"park\", \"part_delivery\", \"part_delivery\", \"part_delivery_reilly_auto\", \"part_time\", \"part_time\", \"part_time\", \"part_time\", \"part_time\", \"part_time_opportunities\", \"part_time_opportunities_mcdonald\", \"parttime\", \"paseo\", \"people\", \"people\", \"people\", \"people\", \"people\", \"pharmacy_technician_cvs_health\", \"pharmacy_technician_cvs_health\", \"pharmacy_technician_cvs_health\", \"pharmacy_technician_cvs_health\", \"photo\", \"photo\", \"photo\", \"photo\", \"photo\", \"physical\", \"physician\", \"physician\", \"physician\", \"physician\", \"physician\", \"pike\", \"place\", \"place\", \"place\", \"place\", \"place\", \"plaza\", \"plaza\", \"plaza\", \"plaza\", \"plaza\", \"pm\", \"pm\", \"pm\", \"pm\", \"pm\", \"por\", \"por\", \"por\", \"por\", \"por\", \"post_photo\", \"post_photo\", \"post_photo\", \"post_photo\", \"post_photo\", \"power\", \"power\", \"power\", \"power\", \"princeton_nj\", \"principal_sales_consultant\", \"principal_sales_consultant\", \"processor\", \"professional\", \"professional\", \"professional\", \"professional\", \"protection\", \"pueblo_co\", \"quality_control\", \"que\", \"que\", \"que\", \"que\", \"que\", \"rain_today_humidity\", \"rain_today_humidity\", \"rain_today_humidity\", \"rain_today_humidity\", \"rd\", \"rd\", \"rd\", \"rd\", \"rd\", \"read_latest_job\", \"read_latest_job\", \"read_latest_job\", \"read_latest_job\", \"read_latest_job\", \"realestate_realtor\", \"realestate_realtor\", \"really\", \"really\", \"really\", \"really\", \"really\", \"recommend_anyone_businessmgmt\", \"recommend_anyone_hospitality\", \"recommend_anyone_hospitality\", \"recommend_anyone_hospitality\", \"recommend_anyone_hospitality\", \"recommend_anyone_job\", \"recommend_anyone_job\", \"recommend_anyone_job\", \"recommend_anyone_job\", \"recommend_anyone_job\", \"recommend_anyone_manufacture\", \"recommend_anyone_manufacture\", \"recommend_anyone_manufacture\", \"recommend_anyone_nurse\", \"recommend_anyone_nurse\", \"recommend_anyone_nurse\", \"recommend_anyone_nurse\", \"recommend_anyone_physician\", \"recommend_anyone_retail\", \"recommend_anyone_retail\", \"recommend_anyone_transportation\", \"recommend_anyone_transportation\", \"recruiter\", \"representative\", \"representative\", \"representative\", \"representative\", \"representative\", \"retail\", \"retail\", \"retail\", \"retail\", \"retail\", \"retail_sales_consultant\", \"retail_sales_consultant\", \"retail_store_position\", \"retail_store_position\", \"right_lane\", \"risk\", \"rn\", \"rn\", \"rn\", \"rn\", \"rn\", \"road_cr\", \"robert_half_finance\", \"robert_half_technology\", \"sales\", \"sales\", \"sales\", \"sales\", \"sales\", \"sales_reilly_auto\", \"sales_speedway\", \"saltlakecity_ut\", \"santamonica_ca\", \"santander\", \"sb\", \"sb\", \"sb\", \"sb\", \"sb\", \"se\", \"se\", \"se\", \"se\", \"se\", \"see\", \"see\", \"see\", \"see\", \"see\", \"senior_accountant\", \"service_technician\", \"service_technician\", \"shift_supervisor\", \"shift_supervisor_trainee\", \"shift_supervisor_us\", \"shift_supervisor_us\", \"shift_supervisor_us_starbucks\", \"shift_team_leader\", \"show\", \"show\", \"show\", \"show\", \"show\", \"sonic\", \"sonic\", \"sonic_drive\", \"sonic_drive\", \"sonic_drive\", \"specials\", \"spring\", \"spring\", \"spring\", \"spring\", \"spring\", \"st\", \"st\", \"st\", \"st\", \"st\", \"staff_accountant\", \"start\", \"start\", \"start\", \"start\", \"start\", \"staten_island\", \"stockton_ca\", \"store_position\", \"store_seasonal_employee\", \"store_seasonal_employee\", \"store_team_member\", \"strategy\", \"street\", \"street\", \"street\", \"street\", \"street\", \"supplemental_health_care\", \"supplemental_health_care\", \"supplemental_health_care\", \"supplemental_health_care\", \"surgeon\", \"take\", \"take\", \"take\", \"take\", \"take\", \"tambien\", \"tbt\", \"tbt\", \"tbt\", \"tbt\", \"team_see_latest\", \"team_see_latest\", \"team_see_latest\", \"team_see_latest\", \"team_see_latest\", \"tell\", \"tell\", \"tell\", \"tell\", \"tell\", \"temp_wind_kts_baro\", \"temperature_rain_today_humidity\", \"temperature_rain_today_humidity\", \"temperature_rain_today_humidity\", \"temperature_rain_today_humidity\", \"temperature_rain_today_humidity\", \"thank\", \"thank\", \"thank\", \"thank\", \"thank\", \"think\", \"think\", \"think\", \"think\", \"think\", \"though\", \"though\", \"though\", \"though\", \"though\", \"time\", \"time\", \"time\", \"time\", \"time\", \"tire\", \"tire\", \"tire\", \"tire\", \"today\", \"today\", \"today\", \"today\", \"today\", \"tonight\", \"tonight\", \"tonight\", \"tonight\", \"tonight\", \"tractor_supply_company\", \"traffic\", \"traffic\", \"traffic\", \"traffic\", \"traffic\", \"traffic_area\", \"traffic_area\", \"trainer\", \"transportation\", \"transportation\", \"transportation\", \"transportation\", \"transportation\", \"travelnurse_nurse\", \"truck_driver_class\", \"tune\", \"tune\", \"tune\", \"tune\", \"tx_bed_bath\", \"tx_bed_bath\", \"type_diabetes_diabetes\", \"type_diabetes_diabetes\", \"type_diabetes_diabetes\", \"type_diabetes_diabetes\", \"un\", \"un\", \"un\", \"un\", \"un\", \"una\", \"una\", \"una\", \"una\", \"una\", \"us\", \"us\", \"us\", \"us\", \"us\", \"veterans\", \"veterans\", \"veterans\", \"veterans\", \"veterans\", \"view_latest\", \"view_latest\", \"view_latest\", \"view_latest\", \"view_latest\", \"visit\", \"visit\", \"visit\", \"visit\", \"visit\", \"vp\", \"waltham\", \"want_work\", \"want_work\", \"want_work\", \"want_work\", \"want_work\", \"want_work_aerotek\", \"want_work_robert_half\", \"want_work_starbucks\", \"westminster\", \"wind_mph\", \"wind_mph\", \"wind_mph\", \"wind_mph\", \"wind_mph\", \"wind_mph_barometer_steady\", \"wind_mph_barometer_steady\", \"work\", \"work\", \"work\", \"work\", \"work\", \"world\", \"world\", \"world\", \"world\", \"world\", \"ya\", \"ya\", \"ya\", \"ya\", \"ya\", \"year\", \"year\", \"year\", \"year\", \"year\", \"yesterday\", \"yesterday\", \"yesterday\", \"yesterday\", \"yesterday\", \"ymca\", \"ymca\"]}, \"R\": 30, \"lambda.step\": 0.01, \"plot.opts\": {\"xlab\": \"PC1\", \"ylab\": \"PC2\"}, \"topic.order\": [2, 1, 5, 4, 3]};\n",
       "\n",
       "function LDAvis_load_lib(url, callback){\n",
       "  var s = document.createElement('script');\n",
       "  s.src = url;\n",
       "  s.async = true;\n",
       "  s.onreadystatechange = s.onload = callback;\n",
       "  s.onerror = function(){console.warn(\"failed to load library \" + url);};\n",
       "  document.getElementsByTagName(\"head\")[0].appendChild(s);\n",
       "}\n",
       "\n",
       "if(typeof(LDAvis) !== \"undefined\"){\n",
       "   // already loaded: just create the visualization\n",
       "   !function(LDAvis){\n",
       "       new LDAvis(\"#\" + \"ldavis_el2872823550506059205429139926\", ldavis_el2872823550506059205429139926_data);\n",
       "   }(LDAvis);\n",
       "}else if(typeof define === \"function\" && define.amd){\n",
       "   // require.js is available: use it to load d3/LDAvis\n",
       "   require.config({paths: {d3: \"https://d3js.org/d3.v5\"}});\n",
       "   require([\"d3\"], function(d3){\n",
       "      window.d3 = d3;\n",
       "      LDAvis_load_lib(\"https://cdn.jsdelivr.net/gh/bmabey/pyLDAvis@3.3.1/pyLDAvis/js/ldavis.v3.0.0.js\", function(){\n",
       "        new LDAvis(\"#\" + \"ldavis_el2872823550506059205429139926\", ldavis_el2872823550506059205429139926_data);\n",
       "      });\n",
       "    });\n",
       "}else{\n",
       "    // require.js not available: dynamically load d3 & LDAvis\n",
       "    LDAvis_load_lib(\"https://d3js.org/d3.v5.js\", function(){\n",
       "         LDAvis_load_lib(\"https://cdn.jsdelivr.net/gh/bmabey/pyLDAvis@3.3.1/pyLDAvis/js/ldavis.v3.0.0.js\", function(){\n",
       "                 new LDAvis(\"#\" + \"ldavis_el2872823550506059205429139926\", ldavis_el2872823550506059205429139926_data);\n",
       "            })\n",
       "         });\n",
       "}\n",
       "</script>"
      ],
      "text/plain": [
       "PreparedData(topic_coordinates=              x         y  topics  cluster       Freq\n",
       "topic                                                \n",
       "1      0.125403 -0.114384       1        1  27.890019\n",
       "0     -0.217705 -0.006728       2        1  24.931425\n",
       "4      0.166282  0.154159       3        1  16.310223\n",
       "3      0.088550 -0.072190       4        1  15.613064\n",
       "2     -0.162531  0.039143       5        1  15.255269, topic_info=             Term          Freq         Total Category  logprob  loglift\n",
       "60            job  60907.000000  60907.000000  Default  30.0000  30.0000\n",
       "46           hire  39614.000000  39614.000000  Default  29.0000  29.0000\n",
       "62      careerarc  19349.000000  19349.000000  Default  28.0000  28.0000\n",
       "268            de   5935.000000   5935.000000  Default  27.0000  27.0000\n",
       "120         sales   5227.000000   5227.000000  Default  26.0000  26.0000\n",
       "...           ...           ...           ...      ...      ...      ...\n",
       "125   manufacture    513.809802   1421.040683   Topic5  -6.0241   0.8630\n",
       "103            ca    579.380857   2450.065218   Topic5  -5.9040   0.4383\n",
       "4826   california    476.042831   1234.125463   Topic5  -6.1005   0.9276\n",
       "91       engineer    476.054005   1453.317069   Topic5  -6.1004   0.7642\n",
       "82     healthcare    517.476736   3867.865599   Topic5  -6.0170  -0.1312\n",
       "\n",
       "[434 rows x 6 columns], token_table=      Topic      Freq       Term\n",
       "term                            \n",
       "5812      1  0.116638   accident\n",
       "5812      2  0.085828   accident\n",
       "5812      3  0.092430   accident\n",
       "5812      4  0.578788   accident\n",
       "5812      5  0.127641   accident\n",
       "...     ...       ...        ...\n",
       "1783      3  0.074001  yesterday\n",
       "1783      4  0.037000  yesterday\n",
       "1783      5  0.006529  yesterday\n",
       "9196      1  0.973886       ymca\n",
       "9196      4  0.022649       ymca\n",
       "\n",
       "[1112 rows x 3 columns], R=30, lambda_step=0.01, plot_opts={'xlab': 'PC1', 'ylab': 'PC2'}, topic_order=[2, 1, 5, 4, 3])"
      ]
     },
     "execution_count": 95,
     "metadata": {},
     "output_type": "execute_result"
    }
   ],
   "source": [
    "LDAvis_prepared_5 = pyLDAvis.gensim_models.prepare(lda_model_5, corpus, id2word)\n",
    "LDAvis_prepared_5"
   ]
  },
  {
   "cell_type": "markdown",
   "id": "258bdf21-a4b5-4f42-8fb1-a8d85ad31ad6",
   "metadata": {
    "tags": []
   },
   "source": [
    "#### Evaluation for LDA (K=10,5):"
   ]
  },
  {
   "cell_type": "code",
   "execution_count": 97,
   "id": "657eb191-82bc-4f21-a814-44227a1b05df",
   "metadata": {},
   "outputs": [
    {
     "name": "stdout",
     "output_type": "stream",
     "text": [
      "Coherence Score for LDA with 1O Topics:  0.358526780018442\n"
     ]
    }
   ],
   "source": [
    "from gensim.models import CoherenceModel\n",
    "# Compute Coherence Score\n",
    "coherence_model_lda_10 = CoherenceModel(model=lda_model_10, texts=data_bigrams_trigrams, dictionary=id2word, coherence='c_v')\n",
    "coherence_lda_10 = coherence_model_lda_10.get_coherence()\n",
    "print('Coherence Score for LDA with 1O Topics: ', coherence_lda_10)"
   ]
  },
  {
   "cell_type": "code",
   "execution_count": null,
   "id": "e366b23a-5ffd-43c7-8f10-707341f6d1a9",
   "metadata": {},
   "outputs": [],
   "source": []
  },
  {
   "cell_type": "code",
   "execution_count": 98,
   "id": "67391af8-b603-48ae-af5c-4c3c579f6e83",
   "metadata": {},
   "outputs": [
    {
     "name": "stdout",
     "output_type": "stream",
     "text": [
      "Coherence Score for LDA with 5 Topics:  0.32861859195774823\n"
     ]
    }
   ],
   "source": [
    "# Compute Coherence Score for model lda_model_5\n",
    "coherence_model_lda_5 = CoherenceModel(model=lda_model_5, texts=data_bigrams_trigrams, dictionary=id2word, coherence='c_v')\n",
    "coherence_lda_5 = coherence_model_lda_5.get_coherence()\n",
    "print('Coherence Score for LDA with 5 Topics: ', coherence_lda_5)"
   ]
  },
  {
   "cell_type": "code",
   "execution_count": null,
   "id": "961d762b-4c19-421c-a1a8-617f586a0d22",
   "metadata": {},
   "outputs": [],
   "source": []
  },
  {
   "cell_type": "markdown",
   "id": "e9d7084d",
   "metadata": {
    "jp-MarkdownHeadingCollapsed": true,
    "tags": []
   },
   "source": [
    "### Text modelling [GSDMM]:[Real]"
   ]
  },
  {
   "cell_type": "code",
   "execution_count": 167,
   "id": "db5fc391",
   "metadata": {},
   "outputs": [],
   "source": [
    "# Install the gsdmm liberary from Github\n",
    "# pip install https://github.com/rwalk/gsdmm/tarball/master"
   ]
  },
  {
   "cell_type": "code",
   "execution_count": 100,
   "id": "c968d66a",
   "metadata": {},
   "outputs": [],
   "source": [
    "# Import relevent liberaries\n",
    "#import pickle\n",
    "import gsdmm\n",
    "from gsdmm import MovieGroupProcess\n"
   ]
  },
  {
   "cell_type": "code",
   "execution_count": null,
   "id": "352aa2f1-cb64-45a4-91dc-08831aad2086",
   "metadata": {},
   "outputs": [],
   "source": []
  },
  {
   "cell_type": "markdown",
   "id": "83c37bdb-f499-4009-8bad-3ce4aecad59f",
   "metadata": {
    "tags": []
   },
   "source": [
    "#### STTM (Number of topics K=10):"
   ]
  },
  {
   "cell_type": "markdown",
   "id": "7301d878-25e7-472b-842e-273733ecb7e0",
   "metadata": {
    "tags": []
   },
   "source": [
    "##### STTM_10_a: alpha=0.1, beta=0.1, n_iters=5:"
   ]
  },
  {
   "cell_type": "code",
   "execution_count": 125,
   "id": "637a087c",
   "metadata": {},
   "outputs": [
    {
     "name": "stdout",
     "output_type": "stream",
     "text": [
      "The execution time: 0.22452616691589355 seconds (0.003742102781931559 minutes)\n"
     ]
    }
   ],
   "source": [
    "# Calculate running time\n",
    "start_time = time.time()\n",
    "\n",
    "# train STTM model\n",
    "STTM_10_a = MovieGroupProcess(K=10, alpha=0.1, beta=0.1, n_iters=5)\n",
    "vocab = set(x for doc in data_bigrams_trigrams for x in doc)\n",
    "n_terms = len(vocab)\n",
    "\n",
    "print(\"The execution time: %s seconds (%s minutes)\" % ((time.time() - start_time),(time.time() - start_time)/60))\n",
    "\n"
   ]
  },
  {
   "cell_type": "code",
   "execution_count": 126,
   "id": "a40204be-115f-423f-b6a0-91e86fbc5431",
   "metadata": {},
   "outputs": [
    {
     "name": "stdout",
     "output_type": "stream",
     "text": [
      "In stage 0: transferred 169936 clusters with 10 clusters populated\n",
      "In stage 1: transferred 124607 clusters with 10 clusters populated\n",
      "In stage 2: transferred 71495 clusters with 10 clusters populated\n",
      "In stage 3: transferred 50967 clusters with 10 clusters populated\n",
      "In stage 4: transferred 41423 clusters with 10 clusters populated\n",
      "The execution time: 194.0260956287384 seconds (3.2337682604789735 minutes)\n"
     ]
    }
   ],
   "source": [
    "# Calculate running time\n",
    "start_time = time.time()\n",
    "\n",
    "# Fit STTM model\n",
    "y_10_a = STTM_10_a.fit(data_bigrams_trigrams, n_terms)\n",
    "\n",
    "print(\"The execution time: %s seconds (%s minutes)\" % ((time.time() - start_time),(time.time() - start_time)/60))\n",
    "\n"
   ]
  },
  {
   "cell_type": "code",
   "execution_count": 127,
   "id": "21c0852f-162e-47a2-ad94-6d15c91732b1",
   "metadata": {},
   "outputs": [],
   "source": [
    "# helper function\n",
    "def top_words(cluster_word_distribution, top_cluster, values):\n",
    "    '''prints the top words in each cluster'''\n",
    "    for cluster in top_cluster:\n",
    "        sort_dicts =sorted(STTM_10_a.cluster_word_distribution[cluster].items(), key=lambda k: k[1], reverse=True)[:values]\n",
    "        print('Cluster %s : %s'%(cluster,sort_dicts))\n",
    "        print(' — — — — — — — — —')"
   ]
  },
  {
   "cell_type": "code",
   "execution_count": 128,
   "id": "d221e6fd",
   "metadata": {
    "tags": []
   },
   "outputs": [
    {
     "name": "stdout",
     "output_type": "stream",
     "text": [
      "Number of tweets per topic : [26401 13845  8748 33586 20057  5089 15250 13743 29887 38214]\n",
      "********************\n",
      "Most important clusters (by number of tweets inside): [9 3 8 0 4 6 1 7 2 5]\n",
      "********************\n",
      "Cluster 0 : [('job', 34058), ('hire', 22705), ('careerarc', 12624), ('open', 6075), ('hospitality', 5981), ('want_work', 5099), ('near', 3683), ('view_latest', 3682), ('interest', 3681), ('could_great_fit', 3174)]\n",
      " — — — — — — — — —\n",
      "Cluster 1 : [('amp', 500), ('get', 478), ('love', 422), ('new', 381), ('today', 333), ('go', 320), ('tonight', 313), ('thank', 281), ('time', 280), ('day', 280)]\n",
      " — — — — — — — — —\n",
      "Cluster 2 : [('rd', 523), ('realestate', 515), ('traffic', 503), ('st', 479), ('accident', 377), ('sb', 330), ('stop_go', 322), ('dr', 313), ('nb', 301), ('amp', 284)]\n",
      " — — — — — — — — —\n",
      "Cluster 3 : [('job', 34043), ('hire', 21942), ('careerarc', 9224), ('retail', 5623), ('sales', 5052), ('open', 4528), ('nurse', 4039), ('latest', 3782), ('see', 3610), ('job_click_apply', 3565)]\n",
      " — — — — — — — — —\n",
      "Cluster 4 : [('de', 5172), ('la', 2894), ('que', 1675), ('el', 1599), ('en', 1581), ('mexico', 1555), ('con', 1086), ('df', 917), ('mi', 803), ('los', 752)]\n",
      " — — — — — — — — —\n",
      "Cluster 5 : [('la', 217), ('post_photo', 144), ('amp', 139), ('co', 121), ('aeropuerto_internacional_de', 112), ('pm', 80), ('ciudad_de_mexico_mex', 73), ('aicm_venustiano_carranza_df', 72), ('california', 65), ('center', 64)]\n",
      " — — — — — — — — —\n",
      "Cluster 6 : [('drink', 3194), ('photo', 1424), ('amp', 964), ('ny', 677), ('st', 581), ('post_photo', 514), ('nj', 470), ('beer', 437), ('rd', 382), ('park', 380)]\n",
      " — — — — — — — — —\n",
      "Cluster 7 : [('amp', 1215), ('bar', 551), ('dinner', 423), ('ca', 412), ('restaurant', 381), ('try', 368), ('grill', 360), ('lunch', 343), ('new_york_ny', 301), ('post_photo', 299)]\n",
      " — — — — — — — — —\n",
      "Cluster 8 : [('get', 1638), ('day', 1473), ('amp', 1313), ('tonight', 1139), ('go', 1126), ('come', 1043), ('love', 1016), ('today', 975), ('time', 964), ('new', 956)]\n",
      " — — — — — — — — —\n",
      "Cluster 9 : [('get', 2780), ('love', 1812), ('day', 1764), ('amp', 1672), ('go', 1657), ('time', 1600), ('one', 1588), ('today', 1467), ('come', 1368), ('thank', 1220)]\n",
      " — — — — — — — — —\n"
     ]
    }
   ],
   "source": [
    "doc_count = np.array(STTM_10_a.cluster_doc_count)\n",
    "print(\"Number of tweets per topic :\", doc_count)\n",
    "print(\"*\"*20)\n",
    "# topics sorted by the number of documents they are allocated to\n",
    "top_index = doc_count.argsort()[-10:][::-1]\n",
    "print(\"Most important clusters (by number of tweets inside):\",   \n",
    "       top_index)\n",
    "print(\"*\"*20)\n",
    "# show the top 5 words in term frequency for each cluster \n",
    "topic_indices = np.arange(start=0, stop=len(doc_count), step=1)\n",
    "top_words(STTM_10_a.cluster_word_distribution, topic_indices, 10)"
   ]
  },
  {
   "cell_type": "code",
   "execution_count": null,
   "id": "d5f9a9b0",
   "metadata": {},
   "outputs": [],
   "source": []
  },
  {
   "cell_type": "code",
   "execution_count": null,
   "id": "01b45ebc-23aa-49ba-8315-a5cb97be2fb1",
   "metadata": {},
   "outputs": [],
   "source": []
  },
  {
   "cell_type": "markdown",
   "id": "1387c8d3-b803-4d00-8f5a-2286d68e179a",
   "metadata": {
    "tags": []
   },
   "source": [
    "##### STTM_10_b: alpha=0.1, beta=0.5, n_iters=10:"
   ]
  },
  {
   "cell_type": "code",
   "execution_count": null,
   "id": "d870aaed-ea75-4887-be56-f18f2eaace40",
   "metadata": {},
   "outputs": [],
   "source": []
  },
  {
   "cell_type": "code",
   "execution_count": 129,
   "id": "282f66ed-355e-4936-a8cd-653d4de546ab",
   "metadata": {},
   "outputs": [
    {
     "name": "stdout",
     "output_type": "stream",
     "text": [
      "The execution time: 0.23997259140014648 seconds (0.003999543190002441 minutes)\n"
     ]
    }
   ],
   "source": [
    "# Calculate running time\n",
    "start_time = time.time()\n",
    "\n",
    "# train STTM model\n",
    "STTM_10_b = MovieGroupProcess(K=10, alpha=0.1, beta=0.5, n_iters=10)\n",
    "vocab = set(x for doc in data_bigrams_trigrams for x in doc)\n",
    "n_terms = len(vocab)\n",
    "\n",
    "print(\"The execution time: %s seconds (%s minutes)\" % ((time.time() - start_time),(time.time() - start_time)/60))\n",
    "\n"
   ]
  },
  {
   "cell_type": "code",
   "execution_count": 130,
   "id": "48fe7e6c-7c95-4443-92e5-a24db430a6e5",
   "metadata": {},
   "outputs": [
    {
     "name": "stdout",
     "output_type": "stream",
     "text": [
      "In stage 0: transferred 176347 clusters with 10 clusters populated\n",
      "In stage 1: transferred 134541 clusters with 10 clusters populated\n",
      "In stage 2: transferred 64578 clusters with 10 clusters populated\n",
      "In stage 3: transferred 42098 clusters with 10 clusters populated\n",
      "In stage 4: transferred 31519 clusters with 10 clusters populated\n",
      "In stage 5: transferred 25551 clusters with 10 clusters populated\n",
      "In stage 6: transferred 22128 clusters with 10 clusters populated\n",
      "In stage 7: transferred 19904 clusters with 10 clusters populated\n",
      "In stage 8: transferred 18911 clusters with 10 clusters populated\n",
      "In stage 9: transferred 17869 clusters with 10 clusters populated\n",
      "The execution time: 369.9842879772186 seconds (6.16640479962031 minutes)\n"
     ]
    }
   ],
   "source": [
    "# Calculate running time\n",
    "start_time = time.time()\n",
    "\n",
    "# Fit STTM model\n",
    "y_10_b = STTM_10_b.fit(data_bigrams_trigrams, n_terms)\n",
    "\n",
    "print(\"The execution time: %s seconds (%s minutes)\" % ((time.time() - start_time),(time.time() - start_time)/60))\n",
    "\n"
   ]
  },
  {
   "cell_type": "code",
   "execution_count": null,
   "id": "21a48e15-47f7-4e94-8bf6-128bc68e94c6",
   "metadata": {},
   "outputs": [],
   "source": []
  },
  {
   "cell_type": "code",
   "execution_count": 131,
   "id": "64d771ff-d4e9-4cd6-a436-5b3942fb8345",
   "metadata": {
    "scrolled": true,
    "tags": []
   },
   "outputs": [
    {
     "name": "stdout",
     "output_type": "stream",
     "text": [
      "Number of tweets per topic : [ 9301 87437   292 10620 15410 60079   381 20761   446    93]\n",
      "********************\n",
      "Most important clusters (by number of tweets inside): [1 5 7 4 3 0 8 6 2 9]\n",
      "********************\n",
      "Cluster 0 : [('job', 34058), ('hire', 22705), ('careerarc', 12624), ('open', 6075), ('hospitality', 5981), ('want_work', 5099), ('near', 3683), ('view_latest', 3682), ('interest', 3681), ('could_great_fit', 3174)]\n",
      " — — — — — — — — —\n",
      "Cluster 1 : [('amp', 500), ('get', 478), ('love', 422), ('new', 381), ('today', 333), ('go', 320), ('tonight', 313), ('thank', 281), ('time', 280), ('day', 280)]\n",
      " — — — — — — — — —\n",
      "Cluster 2 : [('rd', 523), ('realestate', 515), ('traffic', 503), ('st', 479), ('accident', 377), ('sb', 330), ('stop_go', 322), ('dr', 313), ('nb', 301), ('amp', 284)]\n",
      " — — — — — — — — —\n",
      "Cluster 3 : [('job', 34043), ('hire', 21942), ('careerarc', 9224), ('retail', 5623), ('sales', 5052), ('open', 4528), ('nurse', 4039), ('latest', 3782), ('see', 3610), ('job_click_apply', 3565)]\n",
      " — — — — — — — — —\n",
      "Cluster 4 : [('de', 5172), ('la', 2894), ('que', 1675), ('el', 1599), ('en', 1581), ('mexico', 1555), ('con', 1086), ('df', 917), ('mi', 803), ('los', 752)]\n",
      " — — — — — — — — —\n",
      "Cluster 5 : [('la', 217), ('post_photo', 144), ('amp', 139), ('co', 121), ('aeropuerto_internacional_de', 112), ('pm', 80), ('ciudad_de_mexico_mex', 73), ('aicm_venustiano_carranza_df', 72), ('california', 65), ('center', 64)]\n",
      " — — — — — — — — —\n",
      "Cluster 6 : [('drink', 3194), ('photo', 1424), ('amp', 964), ('ny', 677), ('st', 581), ('post_photo', 514), ('nj', 470), ('beer', 437), ('rd', 382), ('park', 380)]\n",
      " — — — — — — — — —\n",
      "Cluster 7 : [('amp', 1215), ('bar', 551), ('dinner', 423), ('ca', 412), ('restaurant', 381), ('try', 368), ('grill', 360), ('lunch', 343), ('new_york_ny', 301), ('post_photo', 299)]\n",
      " — — — — — — — — —\n",
      "Cluster 8 : [('get', 1638), ('day', 1473), ('amp', 1313), ('tonight', 1139), ('go', 1126), ('come', 1043), ('love', 1016), ('today', 975), ('time', 964), ('new', 956)]\n",
      " — — — — — — — — —\n",
      "Cluster 9 : [('get', 2780), ('love', 1812), ('day', 1764), ('amp', 1672), ('go', 1657), ('time', 1600), ('one', 1588), ('today', 1467), ('come', 1368), ('thank', 1220)]\n",
      " — — — — — — — — —\n"
     ]
    }
   ],
   "source": [
    "doc_count = np.array(STTM_10_b.cluster_doc_count)\n",
    "print(\"Number of tweets per topic :\", doc_count)\n",
    "print(\"*\"*20)\n",
    "# topics sorted by the number of documents they are allocated to\n",
    "top_index = doc_count.argsort()[-10:][::-1]\n",
    "print(\"Most important clusters (by number of tweets inside):\",   \n",
    "       top_index)\n",
    "print(\"*\"*20)\n",
    "# show the top 5 words in term frequency for each cluster \n",
    "topic_indices = np.arange(start=0, stop=len(doc_count), step=1)\n",
    "top_words(STTM_10_b.cluster_word_distribution, topic_indices, 10)"
   ]
  },
  {
   "cell_type": "code",
   "execution_count": null,
   "id": "0cc5fcf7-8de0-42d3-a2f9-3ae31d281e75",
   "metadata": {},
   "outputs": [],
   "source": []
  },
  {
   "cell_type": "code",
   "execution_count": null,
   "id": "c468eb89-0573-4cea-a623-cd31fb414823",
   "metadata": {},
   "outputs": [],
   "source": []
  },
  {
   "cell_type": "markdown",
   "id": "9d1188bd-4ed1-4ebd-a437-9c74e2485a93",
   "metadata": {
    "tags": []
   },
   "source": [
    "#### STTM (Number of topics K=5):"
   ]
  },
  {
   "cell_type": "markdown",
   "id": "db1df87a-da7a-4720-8f91-1bb3e26218af",
   "metadata": {
    "tags": []
   },
   "source": [
    "##### STTM_5_a: alpha=0.1, beta=0.1, n_iters=5:"
   ]
  },
  {
   "cell_type": "code",
   "execution_count": 132,
   "id": "630b388d-9841-4de2-9690-bfbb33817154",
   "metadata": {},
   "outputs": [
    {
     "name": "stdout",
     "output_type": "stream",
     "text": [
      "The execution time: 0.22640109062194824 seconds (0.003773351510365804 minutes)\n"
     ]
    }
   ],
   "source": [
    "start_time = time.time()\n",
    "\n",
    "# train STTM model\n",
    "STTM_5_a = MovieGroupProcess(K=5, alpha=0.1, beta=0.1, n_iters=5)\n",
    "vocab = set(x for doc in data_bigrams_trigrams for x in doc)\n",
    "n_terms = len(vocab)\n",
    "\n",
    "print(\"The execution time: %s seconds (%s minutes)\" % ((time.time() - start_time),(time.time() - start_time)/60))\n",
    "\n"
   ]
  },
  {
   "cell_type": "code",
   "execution_count": 133,
   "id": "fc386bca-9bd6-47f1-87ff-4a1b03ca5aaa",
   "metadata": {},
   "outputs": [
    {
     "name": "stdout",
     "output_type": "stream",
     "text": [
      "In stage 0: transferred 151679 clusters with 5 clusters populated\n",
      "In stage 1: transferred 102634 clusters with 5 clusters populated\n",
      "In stage 2: transferred 48251 clusters with 5 clusters populated\n",
      "In stage 3: transferred 30708 clusters with 5 clusters populated\n",
      "In stage 4: transferred 23301 clusters with 5 clusters populated\n",
      "The execution time: 124.50878548622131 seconds (2.075146424770355 minutes)\n"
     ]
    }
   ],
   "source": [
    "# Calculate running time\n",
    "start_time = time.time()\n",
    "\n",
    "# Fit STTM model\n",
    "y_5 = STTM_5_a.fit(tweets_Copy, n_terms)\n",
    "\n",
    "print(\"The execution time: %s seconds (%s minutes)\" % ((time.time() - start_time),(time.time() - start_time)/60))\n",
    "\n"
   ]
  },
  {
   "cell_type": "code",
   "execution_count": 134,
   "id": "014c10e6-f69d-41b2-a4bf-c2ccae3695e5",
   "metadata": {
    "tags": []
   },
   "outputs": [
    {
     "name": "stdout",
     "output_type": "stream",
     "text": [
      "Number of tweets per topic : [23893 22564 59420 36524 62419]\n",
      "********************\n",
      "Most important clusters (by number of tweets inside): [4 2 3 0 1]\n",
      "********************\n",
      "Cluster 0 : [('job', 34058), ('hire', 22705), ('careerarc', 12624), ('open', 6075), ('hospitality', 5981), ('want_work', 5099), ('near', 3683), ('view_latest', 3682), ('interest', 3681), ('could_great_fit', 3174)]\n",
      " — — — — — — — — —\n",
      "Cluster 1 : [('amp', 500), ('get', 478), ('love', 422), ('new', 381), ('today', 333), ('go', 320), ('tonight', 313), ('thank', 281), ('time', 280), ('day', 280)]\n",
      " — — — — — — — — —\n",
      "Cluster 2 : [('rd', 523), ('realestate', 515), ('traffic', 503), ('st', 479), ('accident', 377), ('sb', 330), ('stop_go', 322), ('dr', 313), ('nb', 301), ('amp', 284)]\n",
      " — — — — — — — — —\n",
      "Cluster 3 : [('job', 34043), ('hire', 21942), ('careerarc', 9224), ('retail', 5623), ('sales', 5052), ('open', 4528), ('nurse', 4039), ('latest', 3782), ('see', 3610), ('job_click_apply', 3565)]\n",
      " — — — — — — — — —\n",
      "Cluster 4 : [('de', 5172), ('la', 2894), ('que', 1675), ('el', 1599), ('en', 1581), ('mexico', 1555), ('con', 1086), ('df', 917), ('mi', 803), ('los', 752)]\n",
      " — — — — — — — — —\n"
     ]
    }
   ],
   "source": [
    "doc_count = np.array(STTM_5_a.cluster_doc_count)\n",
    "print(\"Number of tweets per topic :\", doc_count)\n",
    "print(\"*\"*20)\n",
    "# topics sorted by the number of documents they are allocated to\n",
    "top_index = doc_count.argsort()[-10:][::-1]\n",
    "print(\"Most important clusters (by number of tweets inside):\",   \n",
    "       top_index)\n",
    "print(\"*\"*20)\n",
    "# show the top 10 words in term frequency for each cluster \n",
    "topic_indices = np.arange(start=0, stop=len(doc_count), step=1)\n",
    "top_words(STTM_5_a.cluster_word_distribution, topic_indices, 10)"
   ]
  },
  {
   "cell_type": "code",
   "execution_count": null,
   "id": "8899dbb6",
   "metadata": {},
   "outputs": [],
   "source": []
  },
  {
   "cell_type": "code",
   "execution_count": null,
   "id": "bcd9d727",
   "metadata": {},
   "outputs": [],
   "source": []
  },
  {
   "cell_type": "markdown",
   "id": "fe306a49-9516-4d25-a067-b4cc7c10c149",
   "metadata": {
    "tags": []
   },
   "source": [
    "##### STTM_5_b: alpha=0.1, beta=0.5, n_iters=10:"
   ]
  },
  {
   "cell_type": "code",
   "execution_count": 135,
   "id": "fdfd45e8-6026-4754-81f4-f03e0e54d04c",
   "metadata": {},
   "outputs": [
    {
     "name": "stdout",
     "output_type": "stream",
     "text": [
      "The execution time: 0.2382984161376953 seconds (0.0039716402689615885 minutes)\n"
     ]
    }
   ],
   "source": [
    "# Calculate running time\n",
    "start_time = time.time()\n",
    "\n",
    "# train STTM model\n",
    "STTM_5_b = MovieGroupProcess(K=5, alpha=0.1, beta=0.5, n_iters=10)\n",
    "vocab = set(x for doc in data_bigrams_trigrams for x in doc)\n",
    "n_terms = len(vocab)\n",
    "\n",
    "print(\"The execution time: %s seconds (%s minutes)\" % ((time.time() - start_time),(time.time() - start_time)/60))\n",
    "\n"
   ]
  },
  {
   "cell_type": "code",
   "execution_count": 136,
   "id": "ab809dee-2f36-4106-adc5-9a483d71dea6",
   "metadata": {},
   "outputs": [
    {
     "name": "stdout",
     "output_type": "stream",
     "text": [
      "In stage 0: transferred 154741 clusters with 5 clusters populated\n",
      "In stage 1: transferred 113262 clusters with 5 clusters populated\n",
      "In stage 2: transferred 50581 clusters with 5 clusters populated\n",
      "In stage 3: transferred 25865 clusters with 5 clusters populated\n",
      "In stage 4: transferred 16915 clusters with 5 clusters populated\n",
      "In stage 5: transferred 13768 clusters with 5 clusters populated\n",
      "In stage 6: transferred 12404 clusters with 5 clusters populated\n",
      "In stage 7: transferred 11808 clusters with 5 clusters populated\n",
      "In stage 8: transferred 11526 clusters with 5 clusters populated\n",
      "In stage 9: transferred 11260 clusters with 5 clusters populated\n",
      "The execution time: 216.73075675964355 seconds (3.6121792793273926 minutes)\n"
     ]
    }
   ],
   "source": [
    "# Calculate running time\n",
    "start_time = time.time()\n",
    "\n",
    "# Fit STTM model\n",
    "y_5_b = STTM_5_b.fit(data_bigrams_trigrams, n_terms)\n",
    "\n",
    "print(\"The execution time: %s seconds (%s minutes)\" % ((time.time() - start_time),(time.time() - start_time)/60))\n",
    "\n"
   ]
  },
  {
   "cell_type": "code",
   "execution_count": 137,
   "id": "aa1fe2a2-66fb-4887-b827-1271aebc4976",
   "metadata": {},
   "outputs": [
    {
     "name": "stdout",
     "output_type": "stream",
     "text": [
      "Number of tweets per topic : [ 19418 100512  60055   2195  22640]\n",
      "********************\n",
      "Most important clusters (by number of tweets inside): [1 2 4 0 3]\n",
      "********************\n",
      "Cluster 0 : [('job', 34058), ('hire', 22705), ('careerarc', 12624), ('open', 6075), ('hospitality', 5981), ('want_work', 5099), ('near', 3683), ('view_latest', 3682), ('interest', 3681), ('could_great_fit', 3174)]\n",
      " — — — — — — — — —\n",
      "Cluster 1 : [('amp', 500), ('get', 478), ('love', 422), ('new', 381), ('today', 333), ('go', 320), ('tonight', 313), ('thank', 281), ('time', 280), ('day', 280)]\n",
      " — — — — — — — — —\n",
      "Cluster 2 : [('rd', 523), ('realestate', 515), ('traffic', 503), ('st', 479), ('accident', 377), ('sb', 330), ('stop_go', 322), ('dr', 313), ('nb', 301), ('amp', 284)]\n",
      " — — — — — — — — —\n",
      "Cluster 3 : [('job', 34043), ('hire', 21942), ('careerarc', 9224), ('retail', 5623), ('sales', 5052), ('open', 4528), ('nurse', 4039), ('latest', 3782), ('see', 3610), ('job_click_apply', 3565)]\n",
      " — — — — — — — — —\n",
      "Cluster 4 : [('de', 5172), ('la', 2894), ('que', 1675), ('el', 1599), ('en', 1581), ('mexico', 1555), ('con', 1086), ('df', 917), ('mi', 803), ('los', 752)]\n",
      " — — — — — — — — —\n"
     ]
    }
   ],
   "source": [
    "doc_count = np.array(STTM_5_b.cluster_doc_count)\n",
    "print(\"Number of tweets per topic :\", doc_count)\n",
    "print(\"*\"*20)\n",
    "# topics sorted by the number of documents they are allocated to\n",
    "top_index = doc_count.argsort()[-10:][::-1]\n",
    "print(\"Most important clusters (by number of tweets inside):\",   \n",
    "       top_index)\n",
    "print(\"*\"*20)\n",
    "# show the top 10 words in term frequency for each cluster \n",
    "topic_indices = np.arange(start=0, stop=len(doc_count), step=1)\n",
    "top_words(STTM_5_b.cluster_word_distribution, topic_indices, 10)"
   ]
  },
  {
   "cell_type": "code",
   "execution_count": null,
   "id": "e4b9afbd",
   "metadata": {},
   "outputs": [],
   "source": []
  },
  {
   "cell_type": "code",
   "execution_count": 138,
   "id": "7bb65bd2",
   "metadata": {},
   "outputs": [],
   "source": [
    "# define function to get words in topics. Credit to: https://towardsdatascience.com/short-text-topic-modelling-lda-vs-gsdmm-20f1db742e14\n",
    "def get_topics_lists(model, top_clusters, n_words):\n",
    "    '''\n",
    "    Gets lists of words in topics as a list of lists.\n",
    "    \n",
    "    model: gsdmm instance\n",
    "    top_clusters:  numpy array containing indices of top_clusters\n",
    "    n_words: top n number of words to include\n",
    "    \n",
    "    '''\n",
    "    # create empty list to contain topics\n",
    "    topics = []\n",
    "    \n",
    "    # iterate over top n clusters\n",
    "    for cluster in top_clusters:\n",
    "        #create sorted dictionary of word distributions\n",
    "        sorted_dict = sorted(model.cluster_word_distribution[cluster].items(), key=lambda k: k[1], reverse=True)[:n_words]\n",
    "         \n",
    "        #create empty list to contain words\n",
    "        topic = []\n",
    "        \n",
    "        #iterate over top n words in topic\n",
    "        for k,v in sorted_dict:\n",
    "            #append words to topic list\n",
    "            topic.append(k)\n",
    "            \n",
    "        #append topics to topics list    \n",
    "        topics.append(topic)\n",
    "    \n",
    "    return topics\n",
    "\n"
   ]
  },
  {
   "cell_type": "code",
   "execution_count": 139,
   "id": "f3ecea8a-e1b0-463f-a071-9203234ec13b",
   "metadata": {},
   "outputs": [
    {
     "name": "stdout",
     "output_type": "stream",
     "text": [
      "Coherence Score for STTM_10_a:  0.4615009029653324\n"
     ]
    }
   ],
   "source": [
    "# get topics to feed to coherence model\n",
    "topics = get_topics_lists(STTM_10_a, top_index, 20) \n",
    "\n",
    "# evaluate model using Topic Coherence score\n",
    "cm_STTM_10_a = CoherenceModel(topics=topics, \n",
    "                          dictionary=id2word, \n",
    "                          corpus=corpus, \n",
    "                          texts=data_bigrams_trigrams, \n",
    "                          coherence='c_v')\n",
    "\n",
    "# get coherence value\n",
    "coherence_STTM_10_a = cm_STTM_10_a.get_coherence()  \n",
    "\n",
    "print('Coherence Score for STTM_10_a: ', coherence_STTM_10_a)"
   ]
  },
  {
   "cell_type": "code",
   "execution_count": 140,
   "id": "3a13c7a7-30c7-496f-9018-fed7a831ff04",
   "metadata": {},
   "outputs": [
    {
     "name": "stdout",
     "output_type": "stream",
     "text": [
      "Coherence Score for STTM_10_b:  0.4062248973937187\n"
     ]
    }
   ],
   "source": [
    "# get topics to feed to coherence model\n",
    "topics = get_topics_lists(STTM_10_b, top_index, 20) \n",
    "\n",
    "# evaluate model using Topic Coherence score\n",
    "cm_STTM_10_b = CoherenceModel(topics=topics, \n",
    "                          dictionary=id2word, \n",
    "                          corpus=corpus, \n",
    "                          texts=data_bigrams_trigrams, \n",
    "                          coherence='c_v')\n",
    "\n",
    "# get coherence value\n",
    "coherence_STTM_10_b = cm_STTM_10_b.get_coherence()  \n",
    "\n",
    "print('Coherence Score for STTM_10_b: ', coherence_STTM_10_b)"
   ]
  },
  {
   "cell_type": "code",
   "execution_count": 141,
   "id": "7adce64a-c361-413d-8c37-81687d6bc985",
   "metadata": {},
   "outputs": [
    {
     "name": "stdout",
     "output_type": "stream",
     "text": [
      "Coherence Score for STTM_5_a:  0.4053044747527451\n"
     ]
    }
   ],
   "source": [
    "# get topics to feed to coherence model\n",
    "topics = get_topics_lists(STTM_5_a, top_index, 20) \n",
    "\n",
    "# evaluate model using Topic Coherence score\n",
    "cm_STTM_5_a = CoherenceModel(topics=topics, \n",
    "                          dictionary=id2word, \n",
    "                          corpus=corpus, \n",
    "                          texts=data_bigrams_trigrams, \n",
    "                          coherence='c_v')\n",
    "\n",
    "# get coherence value\n",
    "coherence_STTM_5_a = cm_STTM_5_a.get_coherence()  \n",
    "\n",
    "print('Coherence Score for STTM_5_a: ', coherence_STTM_5_a)"
   ]
  },
  {
   "cell_type": "code",
   "execution_count": 142,
   "id": "b3c339d2-3424-4a22-aa75-2816d63ead60",
   "metadata": {},
   "outputs": [
    {
     "name": "stdout",
     "output_type": "stream",
     "text": [
      "Coherence Score for STTM_5_b:  0.4429893487321637\n"
     ]
    }
   ],
   "source": [
    "# get topics to feed to coherence model\n",
    "topics = get_topics_lists(STTM_5_b, top_index, 20) \n",
    "\n",
    "# evaluate model using Topic Coherence score\n",
    "cm_STTM_5_b = CoherenceModel(topics=topics, \n",
    "                          dictionary=id2word, \n",
    "                          corpus=corpus, \n",
    "                          texts=data_bigrams_trigrams, \n",
    "                          coherence='c_v')\n",
    "\n",
    "# get coherence value\n",
    "coherence_STTM_5_b = cm_STTM_5_b.get_coherence()  \n",
    "\n",
    "print('Coherence Score for STTM_5_b: ', coherence_STTM_5_b)"
   ]
  },
  {
   "cell_type": "code",
   "execution_count": null,
   "id": "615ef2ea-e7a4-4e00-a1c6-2c8f5c4c8d35",
   "metadata": {},
   "outputs": [],
   "source": []
  },
  {
   "cell_type": "markdown",
   "id": "ea4de66f-1973-4f98-8bee-b639d152b087",
   "metadata": {
    "tags": []
   },
   "source": [
    "### End"
   ]
  }
 ],
 "metadata": {
  "kernelspec": {
   "display_name": "Python 3 (ipykernel)",
   "language": "python",
   "name": "python3"
  },
  "language_info": {
   "codemirror_mode": {
    "name": "ipython",
    "version": 3
   },
   "file_extension": ".py",
   "mimetype": "text/x-python",
   "name": "python",
   "nbconvert_exporter": "python",
   "pygments_lexer": "ipython3",
   "version": "3.9.12"
  }
 },
 "nbformat": 4,
 "nbformat_minor": 5
}
